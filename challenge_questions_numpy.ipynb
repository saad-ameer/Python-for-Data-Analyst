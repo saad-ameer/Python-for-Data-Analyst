{
  "cells": [
    {
      "cell_type": "markdown",
      "metadata": {
        "id": "view-in-github",
        "colab_type": "text"
      },
      "source": [
        "<a href=\"https://colab.research.google.com/github/saad-ameer/Python-for-Data-Analyst/blob/main/challenge_questions_numpy.ipynb\" target=\"_parent\"><img src=\"https://colab.research.google.com/assets/colab-badge.svg\" alt=\"Open In Colab\"/></a>"
      ]
    },
    {
      "cell_type": "markdown",
      "id": "fad1607b",
      "metadata": {
        "id": "fad1607b"
      },
      "source": [
        "# Challenge Questions - NumPy"
      ]
    },
    {
      "cell_type": "markdown",
      "id": "357a4035",
      "metadata": {
        "id": "357a4035"
      },
      "source": [
        "# Instructions:\n",
        "• Please ensure you don't overwrite any existing cells. Add new cells below by pressing ALT+ENTER\n",
        "\n",
        "• Attempt all of the questions\n",
        "\n",
        "• You are encouraged to look online for help should you need it"
      ]
    },
    {
      "cell_type": "markdown",
      "id": "a216156e",
      "metadata": {
        "id": "a216156e"
      },
      "source": [
        "#"
      ]
    },
    {
      "cell_type": "markdown",
      "id": "620b8fa0",
      "metadata": {
        "id": "620b8fa0"
      },
      "source": [
        "## Q1: Import the NumPy library"
      ]
    },
    {
      "cell_type": "code",
      "execution_count": 83,
      "id": "3261afef",
      "metadata": {
        "id": "3261afef"
      },
      "outputs": [],
      "source": [
        "#Type your code here\n",
        "import numpy as np"
      ]
    },
    {
      "cell_type": "code",
      "execution_count": 83,
      "id": "07f42443",
      "metadata": {
        "id": "07f42443"
      },
      "outputs": [],
      "source": []
    },
    {
      "cell_type": "code",
      "execution_count": 83,
      "id": "651723ec",
      "metadata": {
        "id": "651723ec"
      },
      "outputs": [],
      "source": []
    },
    {
      "cell_type": "markdown",
      "id": "fabc79f4",
      "metadata": {
        "id": "fabc79f4"
      },
      "source": [
        "## Q2: Create a 5 row by 3 column array that contains only the value 7"
      ]
    },
    {
      "cell_type": "code",
      "execution_count": 84,
      "id": "4c307107",
      "metadata": {
        "colab": {
          "base_uri": "https://localhost:8080/"
        },
        "id": "4c307107",
        "outputId": "249a1d69-1b8e-4a6b-c986-7a35dc81d43a"
      },
      "outputs": [
        {
          "output_type": "execute_result",
          "data": {
            "text/plain": [
              "array([[7, 7, 7],\n",
              "       [7, 7, 7],\n",
              "       [7, 7, 7],\n",
              "       [7, 7, 7],\n",
              "       [7, 7, 7]])"
            ]
          },
          "metadata": {},
          "execution_count": 84
        }
      ],
      "source": [
        "# Type your code here\n",
        "np.full((5,3),7)"
      ]
    },
    {
      "cell_type": "code",
      "execution_count": 84,
      "id": "fd6880b7",
      "metadata": {
        "id": "fd6880b7"
      },
      "outputs": [],
      "source": []
    },
    {
      "cell_type": "code",
      "execution_count": 84,
      "id": "2ec961e8",
      "metadata": {
        "id": "2ec961e8"
      },
      "outputs": [],
      "source": []
    },
    {
      "cell_type": "markdown",
      "id": "e39771ee",
      "metadata": {
        "id": "e39771ee"
      },
      "source": [
        "## Q3: Create a 3 row by 4 column array that contains evenly spaced values between 0-100"
      ]
    },
    {
      "cell_type": "code",
      "execution_count": 85,
      "id": "553c0f5a",
      "metadata": {
        "colab": {
          "base_uri": "https://localhost:8080/"
        },
        "id": "553c0f5a",
        "outputId": "8639cfb5-f7ec-4015-cdc1-c7991790fc9d"
      },
      "outputs": [
        {
          "output_type": "execute_result",
          "data": {
            "text/plain": [
              "array([[  0.        ,   9.09090909,  18.18181818,  27.27272727],\n",
              "       [ 36.36363636,  45.45454545,  54.54545455,  63.63636364],\n",
              "       [ 72.72727273,  81.81818182,  90.90909091, 100.        ]])"
            ]
          },
          "metadata": {},
          "execution_count": 85
        }
      ],
      "source": [
        "# Type your code here\n",
        "np.linspace(0,100,num=12).reshape(3,4)"
      ]
    },
    {
      "cell_type": "code",
      "execution_count": 85,
      "id": "459f6c1e",
      "metadata": {
        "id": "459f6c1e"
      },
      "outputs": [],
      "source": []
    },
    {
      "cell_type": "code",
      "execution_count": 85,
      "id": "042f1a58",
      "metadata": {
        "id": "042f1a58"
      },
      "outputs": [],
      "source": []
    },
    {
      "cell_type": "markdown",
      "id": "d42cbb9e",
      "metadata": {
        "id": "d42cbb9e"
      },
      "source": [
        "## Q4 Take the shape from Q3 and transform it so that the numbers increment down the columns rather than along the rows"
      ]
    },
    {
      "cell_type": "code",
      "execution_count": 86,
      "id": "8fd5940d",
      "metadata": {
        "colab": {
          "base_uri": "https://localhost:8080/"
        },
        "id": "8fd5940d",
        "outputId": "fce8910e-637b-4433-f263-2ec7974b2ca4"
      },
      "outputs": [
        {
          "output_type": "execute_result",
          "data": {
            "text/plain": [
              "array([[  0.        ,  36.36363636,  72.72727273],\n",
              "       [  9.09090909,  45.45454545,  81.81818182],\n",
              "       [ 18.18181818,  54.54545455,  90.90909091],\n",
              "       [ 27.27272727,  63.63636364, 100.        ]])"
            ]
          },
          "metadata": {},
          "execution_count": 86
        }
      ],
      "source": [
        "# Type your code here\n",
        "np.linspace(0,100,num=12).reshape(3,4).T"
      ]
    },
    {
      "cell_type": "code",
      "execution_count": 87,
      "id": "927fbc1c",
      "metadata": {
        "id": "927fbc1c",
        "colab": {
          "base_uri": "https://localhost:8080/"
        },
        "outputId": "63cb304a-77e4-4a91-fcfa-ceed7f62278e"
      },
      "outputs": [
        {
          "output_type": "execute_result",
          "data": {
            "text/plain": [
              "array([[  0.        ,   9.09090909,  18.18181818,  27.27272727],\n",
              "       [ 36.36363636,  54.54545455,  72.72727273,  90.90909091],\n",
              "       [109.09090909, 136.36363636, 163.63636364, 190.90909091]])"
            ]
          },
          "metadata": {},
          "execution_count": 87
        }
      ],
      "source": [
        "np.cumsum(np.linspace(0,100,num=12).reshape(3,4),axis=0)"
      ]
    },
    {
      "cell_type": "code",
      "execution_count": 87,
      "id": "89c4ddea",
      "metadata": {
        "id": "89c4ddea"
      },
      "outputs": [],
      "source": []
    },
    {
      "cell_type": "markdown",
      "id": "4cc166eb",
      "metadata": {
        "id": "4cc166eb"
      },
      "source": [
        "## Q5 From the 2D array stored in the variable \"a\" below use slicing to return the below segment"
      ]
    },
    {
      "cell_type": "code",
      "execution_count": 88,
      "id": "9f4ad168",
      "metadata": {
        "colab": {
          "base_uri": "https://localhost:8080/"
        },
        "id": "9f4ad168",
        "outputId": "912e84f6-a233-4c98-dfc5-483d58a170a0"
      },
      "outputs": [
        {
          "output_type": "execute_result",
          "data": {
            "text/plain": [
              "array([[ 0.,  1.,  2.,  3.,  4.],\n",
              "       [ 5.,  6.,  7.,  8.,  9.],\n",
              "       [10., 11., 12., 13., 14.],\n",
              "       [15., 16., 17., 18., 19.],\n",
              "       [20., 21., 22., 23., 24.]])"
            ]
          },
          "metadata": {},
          "execution_count": 88
        }
      ],
      "source": [
        "# Run this cell first\n",
        "a = np.linspace(0,24,num=25).reshape(5,5)\n",
        "a"
      ]
    },
    {
      "cell_type": "raw",
      "id": "d71e4696",
      "metadata": {
        "id": "d71e4696"
      },
      "source": [
        "Return this segment:\n",
        "([[11., 12., 13.],\n",
        "  [16., 17., 18.]])"
      ]
    },
    {
      "cell_type": "code",
      "source": [
        "a[2:4,1:4]"
      ],
      "metadata": {
        "colab": {
          "base_uri": "https://localhost:8080/"
        },
        "id": "OgCJcoulpMVN",
        "outputId": "06406ea8-2e7d-4ed4-b34f-5383578b7c77"
      },
      "id": "OgCJcoulpMVN",
      "execution_count": 89,
      "outputs": [
        {
          "output_type": "execute_result",
          "data": {
            "text/plain": [
              "array([[11., 12., 13.],\n",
              "       [16., 17., 18.]])"
            ]
          },
          "metadata": {},
          "execution_count": 89
        }
      ]
    },
    {
      "cell_type": "code",
      "execution_count": 90,
      "id": "3225328a",
      "metadata": {
        "colab": {
          "base_uri": "https://localhost:8080/"
        },
        "id": "3225328a",
        "outputId": "e6c39e7f-f15c-4527-9927-52641238a448"
      },
      "outputs": [
        {
          "output_type": "execute_result",
          "data": {
            "text/plain": [
              "array([[11., 12., 13.],\n",
              "       [16., 17., 18.]])"
            ]
          },
          "metadata": {},
          "execution_count": 90
        }
      ],
      "source": [
        "# Type your code here\n",
        "np.reshape(a[2:4,1:4],(2,3))"
      ]
    },
    {
      "cell_type": "code",
      "execution_count": 90,
      "id": "7f718930",
      "metadata": {
        "id": "7f718930"
      },
      "outputs": [],
      "source": []
    },
    {
      "cell_type": "markdown",
      "id": "37bd42b4",
      "metadata": {
        "id": "37bd42b4"
      },
      "source": [
        "## Q6: Return only elements that are greater than 12 from the same array \"a\" as Q5"
      ]
    },
    {
      "cell_type": "code",
      "execution_count": 91,
      "id": "7cc51171",
      "metadata": {
        "id": "7cc51171",
        "colab": {
          "base_uri": "https://localhost:8080/"
        },
        "outputId": "066d283e-df5a-405c-d3a7-c718da359840"
      },
      "outputs": [
        {
          "output_type": "execute_result",
          "data": {
            "text/plain": [
              "array([13., 14., 15., 16., 17., 18., 19., 20., 21., 22., 23., 24.])"
            ]
          },
          "metadata": {},
          "execution_count": 91
        }
      ],
      "source": [
        "# Type your code here\n",
        "a[a>12]"
      ]
    },
    {
      "cell_type": "code",
      "execution_count": 91,
      "id": "8b5a5f86",
      "metadata": {
        "id": "8b5a5f86"
      },
      "outputs": [],
      "source": []
    },
    {
      "cell_type": "markdown",
      "id": "6506be8c",
      "metadata": {
        "id": "6506be8c"
      },
      "source": [
        "## Q7: There is a file called 'tfl-daily-cycle-hires-2018.csv' saved in the same directory as this notebook. We will be needing only the \"Number of Bicycle Hires\" data.\n",
        "1. Load and store it in a variable called tfl_18 and check the shape of the array.\n",
        "2. Check the shape of the array\n",
        "3. Change the array to be a 2D array of shape (365,1)\n",
        "\n",
        "### This file contains the daily cycle hire numbers for the year 2018.\n",
        "\n",
        "### Hint: Consider the use of appropriate optional arguments in whatever function you choose to use."
      ]
    },
    {
      "cell_type": "code",
      "execution_count": 92,
      "id": "dca9999e",
      "metadata": {
        "id": "dca9999e"
      },
      "outputs": [],
      "source": [
        "# Load the data here\n",
        "tfl_18 = np.loadtxt('tfl-daily-cycle-hires-2018.csv',delimiter=',',skiprows=1,usecols=(1))"
      ]
    },
    {
      "cell_type": "code",
      "execution_count": 93,
      "id": "2c525120",
      "metadata": {
        "id": "2c525120",
        "colab": {
          "base_uri": "https://localhost:8080/"
        },
        "outputId": "733724ee-ff3b-4f2e-aede-8613362bc43c"
      },
      "outputs": [
        {
          "output_type": "execute_result",
          "data": {
            "text/plain": [
              "(365,)"
            ]
          },
          "metadata": {},
          "execution_count": 93
        }
      ],
      "source": [
        "# Check the shape here\n",
        "tfl_18\n",
        "tfl_18.shape"
      ]
    },
    {
      "cell_type": "code",
      "execution_count": 94,
      "id": "98e5fd80",
      "metadata": {
        "id": "98e5fd80",
        "colab": {
          "base_uri": "https://localhost:8080/"
        },
        "outputId": "8946b262-9fef-4273-e4ff-5167b6d99551"
      },
      "outputs": [
        {
          "output_type": "execute_result",
          "data": {
            "text/plain": [
              "array([[10235., 14394., 20265., 17543., 21759., 13920., 12259., 23374.,\n",
              "        24683., 26787., 25222., 24696., 17512., 15070., 19161., 26921.,\n",
              "        26934., 26471., 25799.,  9398.,  5859., 26337., 26003., 20206.,\n",
              "        28189., 26430., 14472., 17512., 26371., 28002., 24117., 25525.,\n",
              "        25331.,  8975., 13833., 23898., 25349., 25388., 25791., 21037.,\n",
              "         9956., 14621., 24719., 20931., 18866., 25264., 25411., 23169.,\n",
              "        18624., 19879., 25055., 26434., 26179., 23067., 16522., 14037.,\n",
              "        19204., 18741., 10619.,  8744.,  8234.,  7924., 10853., 24818.,\n",
              "        26301., 22044., 25967., 18912., 18717., 16259., 19996., 28069.,\n",
              "        28769.],\n",
              "       [25318., 28308.,  8106.,  6624., 20488., 24582., 27719., 27228.,\n",
              "        26894., 18804., 19723., 29486., 22603., 15800., 20237.,  6362.,\n",
              "        11032., 13504.,  7998., 22708., 23173., 30508., 30690., 25909.,\n",
              "         9759., 16324., 26751., 24883., 26473., 27363., 34235., 21324.,\n",
              "        30730., 33025., 40544., 43585., 45048., 42328., 38395., 35940.,\n",
              "        33430., 33426., 34995., 21387., 17368., 15822., 17112., 34598.,\n",
              "        23727., 35477., 36447., 39070., 40606., 45435., 41579., 41130.,\n",
              "        38054., 38386., 16717., 29190., 38095., 42106., 34627., 37549.,\n",
              "        37305., 36895., 39964., 38800., 41242., 38229., 31970., 35108.,\n",
              "        33573.],\n",
              "       [33192., 36742., 24312., 34884., 37677., 37293., 38293., 39871.,\n",
              "        35255., 37048., 41592., 37841., 39576., 36466., 38562., 41027.,\n",
              "        38487., 40569., 37871., 39862., 31329., 26769., 39768., 41862.,\n",
              "        41134., 41533., 41765., 38772., 38982., 44565., 46084., 44788.,\n",
              "        43075., 43081., 38522., 37334., 42556., 44655., 43511., 44052.,\n",
              "        43143., 36308., 38196., 41893., 43535., 44003., 41826., 38879.,\n",
              "        37733., 37299., 41828., 43392., 43183., 42857., 40297., 38763.,\n",
              "        37683., 42509., 44195., 44870., 43343., 34606., 41145., 18974.,\n",
              "        38274., 42260., 43691., 43292., 40908., 39318., 40220., 41963.,\n",
              "        40954.],\n",
              "       [42676., 20574., 29253., 33214., 23113., 36510., 40735., 40930.,\n",
              "        28400., 36869., 31691., 32209., 37839., 40293., 38401., 34492.,\n",
              "        27839., 25490.,  8177., 25059., 34791., 27070., 37001., 35209.,\n",
              "        35326., 35048., 36068., 36581., 36059., 34778., 35451., 28318.,\n",
              "        30598., 36965., 37221., 33403., 38708., 35332., 33465., 32055.,\n",
              "        39190., 38360., 37027., 35317., 32942., 12376., 13192., 34563.,\n",
              "        36730., 39281., 39835., 35817., 32941., 25254., 34411., 37515.,\n",
              "        38434., 36930., 39569., 10043., 25713., 35156., 39132., 39398.,\n",
              "        35875., 35747., 36393., 10292., 28044., 37920., 30482., 35206.,\n",
              "        34707.],\n",
              "       [32588., 32484., 34430., 34889., 35656., 34640., 27636., 18756.,\n",
              "        13675., 29409., 30269., 32891., 23475., 31083., 25142., 21829.,\n",
              "        31421., 33038., 27656., 32933., 27403., 14732., 18455., 26077.,\n",
              "        32062., 33339., 33043., 28581., 20518.,  9585., 18246., 15237.,\n",
              "        25022., 26112., 25881., 15813., 14529., 27509., 22128., 22846.,\n",
              "        25714., 28615., 14046., 15990., 25801., 28982., 23816., 16600.,\n",
              "        18608., 16515., 15441., 27880., 28904., 27494., 25997., 24076.,\n",
              "         8076., 12123., 24973., 20180., 22425., 23694., 19169., 13310.,\n",
              "         6748., 10043., 35267., 10841., 12310., 13794., 13100., 12922.,\n",
              "        16305.]])"
            ]
          },
          "metadata": {},
          "execution_count": 94
        }
      ],
      "source": [
        "# Change the shape here\n",
        "tfl_18.reshape(5,73)\n",
        "#tfl_18.reshape(365,1)"
      ]
    },
    {
      "cell_type": "code",
      "execution_count": 94,
      "id": "1415c211",
      "metadata": {
        "id": "1415c211"
      },
      "outputs": [],
      "source": []
    },
    {
      "cell_type": "code",
      "execution_count": 94,
      "id": "04496890",
      "metadata": {
        "id": "04496890"
      },
      "outputs": [],
      "source": []
    },
    {
      "cell_type": "markdown",
      "id": "ca7ba377",
      "metadata": {
        "id": "ca7ba377"
      },
      "source": [
        "## Q8: There is a file called 'tfl-daily-cycle-hires-2019.csv' saved in the same directory as this notebook. We will be needing only the \"Number of Bicycle Hires\" data.\n",
        "1. Load and store it in a variable called tfl_19 and check the shape of the array.\n",
        "2. Check the shape of the array\n",
        "3. Change the array to be a 2D array of shape (365,1)"
      ]
    },
    {
      "cell_type": "code",
      "execution_count": 95,
      "id": "77084567",
      "metadata": {
        "id": "77084567"
      },
      "outputs": [],
      "source": [
        "# Load the data here\n",
        "tfl_19 = np.loadtxt('tfl-daily-cycle-hires-2019.csv',delimiter=',',skiprows=1,usecols=(1))"
      ]
    },
    {
      "cell_type": "code",
      "execution_count": 96,
      "id": "9a6a0e53",
      "metadata": {
        "id": "9a6a0e53",
        "colab": {
          "base_uri": "https://localhost:8080/"
        },
        "outputId": "28af888a-7519-4592-c8bd-a5d81d73ff42"
      },
      "outputs": [
        {
          "output_type": "execute_result",
          "data": {
            "text/plain": [
              "(365,)"
            ]
          },
          "metadata": {},
          "execution_count": 96
        }
      ],
      "source": [
        "# Check the shape here\n",
        "tfl_19\n",
        "tfl_19.shape"
      ]
    },
    {
      "cell_type": "code",
      "execution_count": 97,
      "id": "ceabb442",
      "metadata": {
        "id": "ceabb442",
        "colab": {
          "base_uri": "https://localhost:8080/"
        },
        "outputId": "74302043-efd3-4dcb-bb68-bab371ddc65d"
      },
      "outputs": [
        {
          "output_type": "execute_result",
          "data": {
            "text/plain": [
              "array([[14148., 19746., 21552., 20863., 13907., 14262., 25668., 27757.,\n",
              "        26568., 26022., 26378., 16750., 16304., 28097., 29413., 24500.,\n",
              "        26053., 25525., 16653., 16803., 26567., 23083., 25406., 24357.,\n",
              "        24198., 15062., 10596., 25859., 24732., 25482., 23487., 12841.,\n",
              "        14136., 14637., 18254., 25682., 26197., 26703., 17468., 17439.,\n",
              "        10800., 27439., 28786., 29145., 29270., 28838., 20560., 24383.,\n",
              "        23815., 28927., 28971., 30474., 29703., 29242., 26092., 31480.,\n",
              "        34996., 35420., 27219., 28255., 22795.,  9641., 26532., 29701.,\n",
              "        25449., 24884., 23635., 19951., 12111., 27725., 21718., 26816.,\n",
              "        23699.],\n",
              "       [26123., 14594., 14390., 27824., 27683., 30485., 31307., 28229.,\n",
              "        25897., 27408., 31215., 31955., 31263., 32315., 35321., 33026.,\n",
              "        20325., 31834., 24529., 27059., 25493., 27536., 20423., 16897.,\n",
              "        26527., 25534., 31699., 30961., 27403., 19856., 20896., 30837.,\n",
              "        31842., 37203., 36574., 36505., 38712., 36686., 35435., 34948.,\n",
              "        34593., 34494., 32006., 18379., 22631., 33748., 38908., 37952.,\n",
              "        32563., 28182., 19806., 22896., 22472., 34646., 20276., 28404.,\n",
              "        34078., 25475., 31836., 37537., 39647., 39054., 38408., 29846.,\n",
              "        28138., 26727., 36072., 41251., 40312., 41314., 37280., 33151.,\n",
              "        26802.],\n",
              "       [28309., 34443., 31203., 39450., 39017., 40800., 33865., 37306.,\n",
              "        31948., 38033., 38141., 25122., 26656., 29311., 13358., 34285.,\n",
              "        25449., 26617., 33837., 28235., 26102., 38894., 29854., 33190.,\n",
              "        38345., 38656., 36858., 30851., 38617., 38200., 39620., 41692.,\n",
              "        39986., 38616., 33990., 39257., 42658., 43924., 44668., 42466.,\n",
              "        34018., 29889., 39670., 41447., 42343., 41916., 41305., 36204.,\n",
              "        27858., 39489., 43693., 41959., 34240., 25620., 31351., 33251.,\n",
              "        40842., 44457., 42296., 39323., 31517., 19950., 29319., 41472.,\n",
              "        27449., 38299., 39898., 38278., 39388., 34341., 34041., 39369.,\n",
              "        37776.],\n",
              "       [40667., 30719., 25956., 29952., 29570., 39534., 19154., 38018.,\n",
              "        23388., 29360., 24122., 33048., 39255., 38251., 38056., 35995.,\n",
              "        30776., 31355., 33150., 37597., 36576., 38337., 37147., 30847.,\n",
              "        29486., 35280., 37229., 33933., 36722., 31798., 28038., 27969.,\n",
              "        29440., 36814., 35787., 38252., 37354., 34966., 33698., 32747.,\n",
              "        39025., 38751., 38271., 37699., 36479., 24154., 30941., 21563.,\n",
              "        32427., 28976., 29557., 24960., 15478., 27787., 24631., 33923.,\n",
              "        32707., 32314., 26578., 21690., 28418., 32894., 34874., 35641.,\n",
              "        25222., 10047., 16040., 22519., 34372., 30763., 30259., 29675.,\n",
              "        25400.],\n",
              "       [20545., 24215., 33916., 31786., 23489., 28988., 14397., 22155.,\n",
              "        30208., 31225., 32157., 30951., 25128., 14557., 18356., 29198.,\n",
              "        31016., 30745., 30244., 26194., 12350., 18491., 28080., 27391.,\n",
              "        29661., 28649., 21318., 18553., 18082., 28521., 28760., 29437.,\n",
              "        27064., 24865., 14904., 15599., 25722., 26982., 26575., 26030.,\n",
              "        28463., 18176., 14242., 27306., 29645., 29458., 28547., 21917.,\n",
              "        19235., 15139., 27089., 24198., 27414., 19740., 23189., 14862.,\n",
              "        14077., 24344., 19747., 24745., 21679., 14451.,  9370., 10407.,\n",
              "        15878., 10478., 34674.,  5649., 11718., 11414., 12256., 16166.,\n",
              "        13043.]])"
            ]
          },
          "metadata": {},
          "execution_count": 97
        }
      ],
      "source": [
        "# Change the shape here\n",
        "#tfl_19.reshape(365,1)\n",
        "tfl_19.reshape(5,73)"
      ]
    },
    {
      "cell_type": "code",
      "execution_count": 97,
      "id": "44fdb488",
      "metadata": {
        "id": "44fdb488"
      },
      "outputs": [],
      "source": []
    },
    {
      "cell_type": "code",
      "execution_count": 97,
      "id": "f5e07a02",
      "metadata": {
        "id": "f5e07a02"
      },
      "outputs": [],
      "source": []
    },
    {
      "cell_type": "markdown",
      "id": "7b97429d",
      "metadata": {
        "id": "7b97429d"
      },
      "source": [
        "## Q9: Create a new array called tfl_1819 that contains the two arrays tfl_18 and tfl_19 concatenated together on the 1 axis. The shape of tfl_1819 should be (365, 2)"
      ]
    },
    {
      "cell_type": "code",
      "execution_count": 98,
      "id": "276a211f",
      "metadata": {
        "id": "276a211f"
      },
      "outputs": [],
      "source": [
        "# Concatenate the arrays here\n",
        "tfl_1819 = np.concatenate((tfl_18,tfl_19),axis=0).reshape(365,2)"
      ]
    },
    {
      "cell_type": "code",
      "execution_count": 99,
      "id": "a433b64e",
      "metadata": {
        "id": "a433b64e",
        "colab": {
          "base_uri": "https://localhost:8080/"
        },
        "outputId": "db1c95cd-ec71-48a7-fdf7-b37148ad1eb9"
      },
      "outputs": [
        {
          "output_type": "execute_result",
          "data": {
            "text/plain": [
              "(365, 2)"
            ]
          },
          "metadata": {},
          "execution_count": 99
        }
      ],
      "source": [
        "# Check the shape here\n",
        "tfl_1819.shape"
      ]
    },
    {
      "cell_type": "code",
      "execution_count": 99,
      "id": "df6a39ff",
      "metadata": {
        "id": "df6a39ff"
      },
      "outputs": [],
      "source": []
    },
    {
      "cell_type": "code",
      "execution_count": 99,
      "id": "0802d65d",
      "metadata": {
        "id": "0802d65d"
      },
      "outputs": [],
      "source": []
    },
    {
      "cell_type": "markdown",
      "id": "3edda601",
      "metadata": {
        "id": "3edda601"
      },
      "source": [
        "## Q10 Perform the following operations on the concatenated array tfl_1819:\n",
        "1. Find the sum of the columns, this shoe the total bike hires for 2018 and 2019\n",
        "2. Find the average number of bike hires for both columns, this will show the average bike hires for 2018 and 2019\n",
        "3. Find the maximum number of bike hires in both columns,  this will show the maximum bike figure for a single day in 2018 and 2019"
      ]
    },
    {
      "cell_type": "code",
      "execution_count": 103,
      "id": "ff2ddad9",
      "metadata": {
        "id": "ff2ddad9",
        "colab": {
          "base_uri": "https://localhost:8080/"
        },
        "outputId": "a72eb4d3-82c0-4723-eed6-ecf361c25d87"
      },
      "outputs": [
        {
          "output_type": "execute_result",
          "data": {
            "text/plain": [
              "array([10514065., 10478430.])"
            ]
          },
          "metadata": {},
          "execution_count": 103
        }
      ],
      "source": [
        "# Sum the columns here\n",
        "np.sum(tfl_1819,axis=0)"
      ]
    },
    {
      "cell_type": "code",
      "execution_count": 104,
      "id": "0108bec5",
      "metadata": {
        "id": "0108bec5",
        "colab": {
          "base_uri": "https://localhost:8080/"
        },
        "outputId": "4cffacfb-a293-4292-b03b-1e447ea49e48"
      },
      "outputs": [
        {
          "output_type": "execute_result",
          "data": {
            "text/plain": [
              "array([28805.65753425, 28708.02739726])"
            ]
          },
          "metadata": {},
          "execution_count": 104
        }
      ],
      "source": [
        "# Find the average of the columns here\n",
        "np.mean(tfl_1819,axis=0)"
      ]
    },
    {
      "cell_type": "code",
      "execution_count": 105,
      "id": "bd1e274e",
      "metadata": {
        "id": "bd1e274e",
        "colab": {
          "base_uri": "https://localhost:8080/"
        },
        "outputId": "7b82229e-9a57-4b0b-b1b6-d85430a97df9"
      },
      "outputs": [
        {
          "output_type": "execute_result",
          "data": {
            "text/plain": [
              "array([46084., 45048.])"
            ]
          },
          "metadata": {},
          "execution_count": 105
        }
      ],
      "source": [
        "# Find the maximum of both columns here\n",
        "np.amax(tfl_1819,axis=0)"
      ]
    },
    {
      "cell_type": "code",
      "execution_count": 102,
      "id": "924a56f9",
      "metadata": {
        "id": "924a56f9"
      },
      "outputs": [],
      "source": []
    },
    {
      "cell_type": "code",
      "execution_count": 102,
      "id": "4d70b6c8",
      "metadata": {
        "id": "4d70b6c8"
      },
      "outputs": [],
      "source": []
    }
  ],
  "metadata": {
    "kernelspec": {
      "display_name": "Python 3 (ipykernel)",
      "language": "python",
      "name": "python3"
    },
    "language_info": {
      "codemirror_mode": {
        "name": "ipython",
        "version": 3
      },
      "file_extension": ".py",
      "mimetype": "text/x-python",
      "name": "python",
      "nbconvert_exporter": "python",
      "pygments_lexer": "ipython3",
      "version": "3.9.7"
    },
    "colab": {
      "provenance": [],
      "include_colab_link": true
    }
  },
  "nbformat": 4,
  "nbformat_minor": 5
}