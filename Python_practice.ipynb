{
  "nbformat": 4,
  "nbformat_minor": 0,
  "metadata": {
    "colab": {
      "provenance": [],
      "authorship_tag": "ABX9TyOsj3k8pXwTOsSQrFAAY9qf",
      "include_colab_link": true
    },
    "kernelspec": {
      "name": "python3",
      "display_name": "Python 3"
    },
    "language_info": {
      "name": "python"
    }
  },
  "cells": [
    {
      "cell_type": "markdown",
      "metadata": {
        "id": "view-in-github",
        "colab_type": "text"
      },
      "source": [
        "<a href=\"https://colab.research.google.com/github/saad-ameer/Python-for-Data-Analyst/blob/main/Python_practice.ipynb\" target=\"_parent\"><img src=\"https://colab.research.google.com/assets/colab-badge.svg\" alt=\"Open In Colab\"/></a>"
      ]
    },
    {
      "cell_type": "markdown",
      "source": [
        "## Python - Core Notes\n",
        "\n",
        "* Released in 1991 by Guido van Rossum  \n",
        "* Named after Monty Python’s Flying Circus (comedy show)  \n",
        "* Designed to be easy to learn, open-source, and readable like English  \n",
        "* Focuses on reducing developer time, not execution time  \n",
        "\n",
        "* High-level language – human-readable and beginner-friendly  \n",
        "* Interpreted – code runs line-by-line using an interpreter  \n",
        "* Dynamically typed – no need to declare variable types  \n",
        "* Object-oriented – organizes code around data (objects)\n",
        "\n",
        "* Used for web development, automation, data analysis, machine learning, and visualization  \n",
        "\n",
        "* Comes with a standard library – good starting point for beginners  \n",
        "* Popular external libraries:\n",
        "  * NumPy – numerical operations  \n",
        "  * Pandas – data manipulation  \n",
        "  * Seaborn – statistical visualization  \n",
        "  * Matplotlib – general plotting"
      ],
      "metadata": {
        "id": "QNfXUWzOS-J7"
      }
    },
    {
      "cell_type": "markdown",
      "source": [
        "## Python Notes – Objects, Methods & Variables\n",
        "\n",
        "* Python is an object-oriented language; everything in Python is an object.\n",
        "* Objects have associated methods, which are actions specific to their type.\n",
        "* Common object types:\n",
        "  * `int` – integer (e.g., 1)\n",
        "  * `str` – string (e.g., \"Hello\")\n",
        "\n",
        "* Use `type()` to check the type of an object:\n",
        "  * `type(1)` returns `<class 'int'>`\n",
        "  * `type(\"Hello\")` returns `<class 'str'>`\n",
        "\n",
        "* Functions vs Methods:\n",
        "  * **Function**: General-purpose (e.g., `print()`, `type()`)\n",
        "  * **Method**: Belongs to an object, called using dot notation (e.g., `\"hello\".upper()`)\n",
        "\n",
        "* To see available methods on an object, type the object followed by a dot and wait for suggestions.\n",
        "* To run a method, include `()` after it. Without `()`, you're just referencing it.\n",
        "  * `\"hello\".upper()` → `\"HELLO\"`\n",
        "\n",
        "* Use `help()` to get more info:\n",
        "  * `help(str)` → shows all methods for string objects\n",
        "  * `help(str.upper)` → shows what `.upper()` does\n",
        "\n",
        "## Variables in Python\n",
        "\n",
        "* A variable stores a value in memory.\n",
        "* Assign with `=`, e.g., `x = 1`\n",
        "* Variables are dynamically typed – they can change types:\n",
        "  * `x = 1` → integer\n",
        "  * `x = \"Hi\"` → now a string\n",
        "\n",
        "* Use `type(x)` to check variable type.\n",
        "* Variable naming rules:\n",
        "  * Cannot start with a number (e.g., `1x = 2` is invalid)\n",
        "  * No spaces (e.g., `my var = 2` is invalid)\n",
        "  * Use lowercase with underscores for readability (e.g., `my_variable = 10`)\n",
        "\n",
        "* Follow **PEP 8** for Python naming conventions:\n",
        "  * Search: “PEP 8 variable naming conventions”"
      ],
      "metadata": {
        "id": "lu1-QCN6YwLp"
      }
    },
    {
      "cell_type": "code",
      "execution_count": 290,
      "metadata": {
        "colab": {
          "base_uri": "https://localhost:8080/"
        },
        "id": "abhfLKdlOu6O",
        "outputId": "4210fe82-ae61-4542-e505-7f188283a282"
      },
      "outputs": [
        {
          "output_type": "execute_result",
          "data": {
            "text/plain": [
              "1"
            ]
          },
          "metadata": {},
          "execution_count": 290
        }
      ],
      "source": [
        "1"
      ]
    },
    {
      "cell_type": "code",
      "source": [
        "type(1)"
      ],
      "metadata": {
        "colab": {
          "base_uri": "https://localhost:8080/"
        },
        "id": "E3Hj8yO3WjRk",
        "outputId": "9cf69f63-13fe-423e-a168-8de320454f6e"
      },
      "execution_count": 291,
      "outputs": [
        {
          "output_type": "execute_result",
          "data": {
            "text/plain": [
              "int"
            ]
          },
          "metadata": {},
          "execution_count": 291
        }
      ]
    },
    {
      "cell_type": "code",
      "source": [
        "type('hello world')"
      ],
      "metadata": {
        "colab": {
          "base_uri": "https://localhost:8080/"
        },
        "id": "xx__2k-kWtAj",
        "outputId": "65250ea5-69b6-4636-95be-9a559de62d56"
      },
      "execution_count": 292,
      "outputs": [
        {
          "output_type": "execute_result",
          "data": {
            "text/plain": [
              "str"
            ]
          },
          "metadata": {},
          "execution_count": 292
        }
      ]
    },
    {
      "cell_type": "code",
      "source": [
        "print('hello world')"
      ],
      "metadata": {
        "colab": {
          "base_uri": "https://localhost:8080/"
        },
        "id": "PCBoU3FDW35d",
        "outputId": "753143aa-73dc-4ba9-b240-13163592ce02"
      },
      "execution_count": 293,
      "outputs": [
        {
          "output_type": "stream",
          "name": "stdout",
          "text": [
            "hello world\n"
          ]
        }
      ]
    },
    {
      "cell_type": "code",
      "source": [
        "print(1)"
      ],
      "metadata": {
        "colab": {
          "base_uri": "https://localhost:8080/"
        },
        "id": "T8_HhmkGW7NQ",
        "outputId": "0025f6de-df9c-4610-9c5b-8941b394233c"
      },
      "execution_count": 294,
      "outputs": [
        {
          "output_type": "stream",
          "name": "stdout",
          "text": [
            "1\n"
          ]
        }
      ]
    },
    {
      "cell_type": "code",
      "source": [
        "'hello'.upper()"
      ],
      "metadata": {
        "colab": {
          "base_uri": "https://localhost:8080/",
          "height": 35
        },
        "id": "3_zod6UTXQpz",
        "outputId": "65bae674-9111-4161-ad2a-a7c19c618699"
      },
      "execution_count": 295,
      "outputs": [
        {
          "output_type": "execute_result",
          "data": {
            "text/plain": [
              "'HELLO'"
            ],
            "application/vnd.google.colaboratory.intrinsic+json": {
              "type": "string"
            }
          },
          "metadata": {},
          "execution_count": 295
        }
      ]
    },
    {
      "cell_type": "code",
      "source": [
        "#help(str)"
      ],
      "metadata": {
        "id": "hiaGozaAXcQH"
      },
      "execution_count": 296,
      "outputs": []
    },
    {
      "cell_type": "code",
      "source": [
        "help(str.upper)"
      ],
      "metadata": {
        "colab": {
          "base_uri": "https://localhost:8080/"
        },
        "id": "LOKiQZ8MXynE",
        "outputId": "4ddbbd2a-8bfe-4523-c765-727efdea4cc7"
      },
      "execution_count": 297,
      "outputs": [
        {
          "output_type": "stream",
          "name": "stdout",
          "text": [
            "Help on method_descriptor:\n",
            "\n",
            "upper(self, /) unbound builtins.str method\n",
            "    Return a copy of the string converted to uppercase.\n",
            "\n"
          ]
        }
      ]
    },
    {
      "cell_type": "code",
      "source": [
        "x=1"
      ],
      "metadata": {
        "id": "OLTE65uIX5qd"
      },
      "execution_count": 298,
      "outputs": []
    },
    {
      "cell_type": "code",
      "source": [
        "x"
      ],
      "metadata": {
        "colab": {
          "base_uri": "https://localhost:8080/"
        },
        "id": "Le5M55xMYBgx",
        "outputId": "6c7726b1-3aee-420b-f6e7-fcb16fdfd7a0"
      },
      "execution_count": 299,
      "outputs": [
        {
          "output_type": "execute_result",
          "data": {
            "text/plain": [
              "1"
            ]
          },
          "metadata": {},
          "execution_count": 299
        }
      ]
    },
    {
      "cell_type": "code",
      "source": [
        "type(x)"
      ],
      "metadata": {
        "colab": {
          "base_uri": "https://localhost:8080/"
        },
        "id": "Su89jwTRYDHx",
        "outputId": "012a70f8-f7c2-4e53-87c8-1dc1c37a2bba"
      },
      "execution_count": 300,
      "outputs": [
        {
          "output_type": "execute_result",
          "data": {
            "text/plain": [
              "int"
            ]
          },
          "metadata": {},
          "execution_count": 300
        }
      ]
    },
    {
      "cell_type": "code",
      "source": [
        "x='hello'"
      ],
      "metadata": {
        "id": "XYwmXHiwYF-9"
      },
      "execution_count": 301,
      "outputs": []
    },
    {
      "cell_type": "code",
      "source": [
        "x"
      ],
      "metadata": {
        "colab": {
          "base_uri": "https://localhost:8080/",
          "height": 35
        },
        "id": "IL-KzChgYKWN",
        "outputId": "99f71014-5796-4f2a-d863-087c06a9ac35"
      },
      "execution_count": 302,
      "outputs": [
        {
          "output_type": "execute_result",
          "data": {
            "text/plain": [
              "'hello'"
            ],
            "application/vnd.google.colaboratory.intrinsic+json": {
              "type": "string"
            }
          },
          "metadata": {},
          "execution_count": 302
        }
      ]
    },
    {
      "cell_type": "code",
      "source": [
        "type(x)"
      ],
      "metadata": {
        "colab": {
          "base_uri": "https://localhost:8080/"
        },
        "id": "GtWB5_miYLoL",
        "outputId": "a0e1b2ed-d9fc-4d47-d8ae-a6b24862ca4a"
      },
      "execution_count": 303,
      "outputs": [
        {
          "output_type": "execute_result",
          "data": {
            "text/plain": [
              "str"
            ]
          },
          "metadata": {},
          "execution_count": 303
        }
      ]
    },
    {
      "cell_type": "markdown",
      "source": [
        "## Python Notes – Numeric Data Types & Operations\n",
        "\n",
        "* Python has three built-in numeric types: `int`, `float`, and `complex`\n",
        "* This section focuses on `int` and `float`\n",
        "\n",
        "* `int`: Whole numbers (positive or negative)\n",
        "  * Example: `3000`, `-3000`\n",
        "  * `type(3000)` → `<class 'int'>`\n",
        "  * `type(-3000)` → `<class 'int'>`\n",
        "\n",
        "* `float`: Numbers with decimals (floating-point numbers)\n",
        "  * Example: `7.3`, `-7.3`, `7/5` → `1.4`\n",
        "  * `type(7.3)` → `<class 'float'>`\n",
        "  * `type(-7.3)` → `<class 'float'>`\n",
        "  * `type(7/5)` → `<class 'float'>`\n",
        "  * Floats are precise up to ~16 decimal digits\n",
        "\n",
        "## Basic Arithmetic Operations\n",
        "\n",
        "* Addition: `7 + 4` → `11`\n",
        "* Variable assignment:\n",
        "  * `x = 7`, `y = 4`, `z = 10`\n",
        "* `x + y + z` → `21`\n",
        "* `z - y` → `6`\n",
        "* `y * 99` → `396`\n",
        "* `z / y` → `2.5`\n",
        "* `z % y` → `2` (Modulo returns remainder)\n",
        "* Exponentiation:\n",
        "  * `10 ** 4` → `10000`\n",
        "  * `pow(10, 4)` → `10000`\n",
        "\n",
        "## Operator Precedence (PEDMAS/BODMAS)\n",
        "\n",
        "* Order: Parentheses → Exponents → Division → Multiplication → Addition → Subtraction\n",
        "* Example:  \n",
        "  `4 ** (7 + 2) * 4 / 2 + 4 - 1`\n",
        "  * `7 + 2` = `9`\n",
        "  * `4 ** 9` = `262144`\n",
        "  * `4 / 2` = `2.0`\n",
        "  * `262144 * 2.0` = `524288.0`\n",
        "  * `524288.0 + 4` = `524292.0`\n",
        "  * `524292.0 - 1` = `524291.0`"
      ],
      "metadata": {
        "id": "tF4Gc3TvZFUu"
      }
    },
    {
      "cell_type": "code",
      "source": [
        "3000"
      ],
      "metadata": {
        "colab": {
          "base_uri": "https://localhost:8080/"
        },
        "id": "bBKj9pB_ZRHX",
        "outputId": "b8d58441-afb2-422d-b40e-47e9a77c53d7"
      },
      "execution_count": 304,
      "outputs": [
        {
          "output_type": "execute_result",
          "data": {
            "text/plain": [
              "3000"
            ]
          },
          "metadata": {},
          "execution_count": 304
        }
      ]
    },
    {
      "cell_type": "code",
      "source": [
        "type(3000)"
      ],
      "metadata": {
        "colab": {
          "base_uri": "https://localhost:8080/"
        },
        "id": "RePXUZKUZUg-",
        "outputId": "9ff7a778-5e52-4777-8435-3c07aa3b5f63"
      },
      "execution_count": 305,
      "outputs": [
        {
          "output_type": "execute_result",
          "data": {
            "text/plain": [
              "int"
            ]
          },
          "metadata": {},
          "execution_count": 305
        }
      ]
    },
    {
      "cell_type": "code",
      "source": [
        "type(-3000)"
      ],
      "metadata": {
        "colab": {
          "base_uri": "https://localhost:8080/"
        },
        "id": "sgO8zmGaZXT_",
        "outputId": "574e7ec9-a977-49aa-ee79-e302058b2f48"
      },
      "execution_count": 306,
      "outputs": [
        {
          "output_type": "execute_result",
          "data": {
            "text/plain": [
              "int"
            ]
          },
          "metadata": {},
          "execution_count": 306
        }
      ]
    },
    {
      "cell_type": "code",
      "source": [
        "type(7.3)"
      ],
      "metadata": {
        "colab": {
          "base_uri": "https://localhost:8080/"
        },
        "id": "yTR8iLhfZc9A",
        "outputId": "2cde2949-cbde-45b0-e35c-d652e4271b4b"
      },
      "execution_count": 307,
      "outputs": [
        {
          "output_type": "execute_result",
          "data": {
            "text/plain": [
              "float"
            ]
          },
          "metadata": {},
          "execution_count": 307
        }
      ]
    },
    {
      "cell_type": "code",
      "source": [
        "type(-7.3)"
      ],
      "metadata": {
        "colab": {
          "base_uri": "https://localhost:8080/"
        },
        "id": "6OeHxRCBZdln",
        "outputId": "e2756ebd-ab02-4233-86ff-95ce9e3b235c"
      },
      "execution_count": 308,
      "outputs": [
        {
          "output_type": "execute_result",
          "data": {
            "text/plain": [
              "float"
            ]
          },
          "metadata": {},
          "execution_count": 308
        }
      ]
    },
    {
      "cell_type": "code",
      "source": [
        "7/5"
      ],
      "metadata": {
        "colab": {
          "base_uri": "https://localhost:8080/"
        },
        "id": "sROpjurfZd-T",
        "outputId": "17f1ea90-f93e-496a-aaf4-e9a328e0bf1e"
      },
      "execution_count": 309,
      "outputs": [
        {
          "output_type": "execute_result",
          "data": {
            "text/plain": [
              "1.4"
            ]
          },
          "metadata": {},
          "execution_count": 309
        }
      ]
    },
    {
      "cell_type": "code",
      "source": [
        "type(7/5)"
      ],
      "metadata": {
        "colab": {
          "base_uri": "https://localhost:8080/"
        },
        "id": "dvdCqxOBZeLX",
        "outputId": "6ffb1072-5f2b-42cc-c712-2fe69f37600a"
      },
      "execution_count": 310,
      "outputs": [
        {
          "output_type": "execute_result",
          "data": {
            "text/plain": [
              "float"
            ]
          },
          "metadata": {},
          "execution_count": 310
        }
      ]
    },
    {
      "cell_type": "code",
      "source": [
        "7+4"
      ],
      "metadata": {
        "colab": {
          "base_uri": "https://localhost:8080/"
        },
        "id": "oUunJAzgZera",
        "outputId": "1d9e7941-cc63-4b23-d2d6-e3df8e375859"
      },
      "execution_count": 311,
      "outputs": [
        {
          "output_type": "execute_result",
          "data": {
            "text/plain": [
              "11"
            ]
          },
          "metadata": {},
          "execution_count": 311
        }
      ]
    },
    {
      "cell_type": "code",
      "source": [
        "x=7\n",
        "y=4\n",
        "z=10"
      ],
      "metadata": {
        "id": "q4NgMsbPaN-w"
      },
      "execution_count": 312,
      "outputs": []
    },
    {
      "cell_type": "code",
      "source": [
        "x+y+z"
      ],
      "metadata": {
        "colab": {
          "base_uri": "https://localhost:8080/"
        },
        "id": "i2NLTORjaTTT",
        "outputId": "8f16df1f-9e20-4e1a-8d6b-ec9d55261de7"
      },
      "execution_count": 313,
      "outputs": [
        {
          "output_type": "execute_result",
          "data": {
            "text/plain": [
              "21"
            ]
          },
          "metadata": {},
          "execution_count": 313
        }
      ]
    },
    {
      "cell_type": "code",
      "source": [
        "z-y"
      ],
      "metadata": {
        "colab": {
          "base_uri": "https://localhost:8080/"
        },
        "id": "NZDWtvrCaWxY",
        "outputId": "39ce5fad-a7cb-4833-b580-0d10310e771e"
      },
      "execution_count": 314,
      "outputs": [
        {
          "output_type": "execute_result",
          "data": {
            "text/plain": [
              "6"
            ]
          },
          "metadata": {},
          "execution_count": 314
        }
      ]
    },
    {
      "cell_type": "code",
      "source": [
        "y*99"
      ],
      "metadata": {
        "colab": {
          "base_uri": "https://localhost:8080/"
        },
        "id": "DNzb70-vaZ3L",
        "outputId": "4428f9c2-45d5-4ae1-acef-4cb62ec27c81"
      },
      "execution_count": 315,
      "outputs": [
        {
          "output_type": "execute_result",
          "data": {
            "text/plain": [
              "396"
            ]
          },
          "metadata": {},
          "execution_count": 315
        }
      ]
    },
    {
      "cell_type": "code",
      "source": [
        "z/y"
      ],
      "metadata": {
        "colab": {
          "base_uri": "https://localhost:8080/"
        },
        "id": "9unzaAuTahD8",
        "outputId": "cef90ad1-900b-480e-b6d6-af4379b8091a"
      },
      "execution_count": 316,
      "outputs": [
        {
          "output_type": "execute_result",
          "data": {
            "text/plain": [
              "2.5"
            ]
          },
          "metadata": {},
          "execution_count": 316
        }
      ]
    },
    {
      "cell_type": "code",
      "source": [
        "z%y #Modulo"
      ],
      "metadata": {
        "colab": {
          "base_uri": "https://localhost:8080/"
        },
        "id": "ADwKc2ykat4p",
        "outputId": "518e3f43-5931-4931-eded-e18967f1eba9"
      },
      "execution_count": 317,
      "outputs": [
        {
          "output_type": "execute_result",
          "data": {
            "text/plain": [
              "2"
            ]
          },
          "metadata": {},
          "execution_count": 317
        }
      ]
    },
    {
      "cell_type": "code",
      "source": [
        "10**4"
      ],
      "metadata": {
        "colab": {
          "base_uri": "https://localhost:8080/"
        },
        "id": "kxSJ58M1a4ii",
        "outputId": "b369971a-0fe3-47c5-db6c-bb2b404b4e57"
      },
      "execution_count": 318,
      "outputs": [
        {
          "output_type": "execute_result",
          "data": {
            "text/plain": [
              "10000"
            ]
          },
          "metadata": {},
          "execution_count": 318
        }
      ]
    },
    {
      "cell_type": "code",
      "source": [
        "pow(10,4)"
      ],
      "metadata": {
        "colab": {
          "base_uri": "https://localhost:8080/"
        },
        "id": "svqmMavZa_YG",
        "outputId": "c8de8a74-7153-4b15-a1b6-2ad3de5720c7"
      },
      "execution_count": 319,
      "outputs": [
        {
          "output_type": "execute_result",
          "data": {
            "text/plain": [
              "10000"
            ]
          },
          "metadata": {},
          "execution_count": 319
        }
      ]
    },
    {
      "cell_type": "code",
      "source": [
        "4**(7+2)*4/2+4-1"
      ],
      "metadata": {
        "colab": {
          "base_uri": "https://localhost:8080/"
        },
        "id": "PLUyCQHJbMNd",
        "outputId": "89c2e2e8-93f5-4fc0-829e-d82e8e7ac0ce"
      },
      "execution_count": 320,
      "outputs": [
        {
          "output_type": "execute_result",
          "data": {
            "text/plain": [
              "524291.0"
            ]
          },
          "metadata": {},
          "execution_count": 320
        }
      ]
    },
    {
      "cell_type": "code",
      "source": [
        "7+2"
      ],
      "metadata": {
        "colab": {
          "base_uri": "https://localhost:8080/"
        },
        "id": "dG3zxOmLbkTM",
        "outputId": "1b94b355-beb0-4260-80c9-20bb322be2fa"
      },
      "execution_count": 321,
      "outputs": [
        {
          "output_type": "execute_result",
          "data": {
            "text/plain": [
              "9"
            ]
          },
          "metadata": {},
          "execution_count": 321
        }
      ]
    },
    {
      "cell_type": "code",
      "source": [
        "4**9"
      ],
      "metadata": {
        "colab": {
          "base_uri": "https://localhost:8080/"
        },
        "id": "KtjO4FrzbxlM",
        "outputId": "63861c92-99dc-4195-dd1b-4eb848449ed6"
      },
      "execution_count": 322,
      "outputs": [
        {
          "output_type": "execute_result",
          "data": {
            "text/plain": [
              "262144"
            ]
          },
          "metadata": {},
          "execution_count": 322
        }
      ]
    },
    {
      "cell_type": "code",
      "source": [
        "4/2"
      ],
      "metadata": {
        "colab": {
          "base_uri": "https://localhost:8080/"
        },
        "id": "dz6CB23cb5qV",
        "outputId": "ef67acba-2637-4f65-c7b7-a346cdbdd142"
      },
      "execution_count": 323,
      "outputs": [
        {
          "output_type": "execute_result",
          "data": {
            "text/plain": [
              "2.0"
            ]
          },
          "metadata": {},
          "execution_count": 323
        }
      ]
    },
    {
      "cell_type": "code",
      "source": [
        "262144*2.0"
      ],
      "metadata": {
        "colab": {
          "base_uri": "https://localhost:8080/"
        },
        "id": "aXxvGGpFb8Yc",
        "outputId": "d2a6f234-4636-42b0-c262-5d2b3992be3a"
      },
      "execution_count": 324,
      "outputs": [
        {
          "output_type": "execute_result",
          "data": {
            "text/plain": [
              "524288.0"
            ]
          },
          "metadata": {},
          "execution_count": 324
        }
      ]
    },
    {
      "cell_type": "code",
      "source": [
        "524288.0+4"
      ],
      "metadata": {
        "colab": {
          "base_uri": "https://localhost:8080/"
        },
        "id": "WLVHXKMZcerP",
        "outputId": "28c1a5cd-d442-4e59-ed32-8c117cda1454"
      },
      "execution_count": 325,
      "outputs": [
        {
          "output_type": "execute_result",
          "data": {
            "text/plain": [
              "524292.0"
            ]
          },
          "metadata": {},
          "execution_count": 325
        }
      ]
    },
    {
      "cell_type": "code",
      "source": [
        "524292.0-1"
      ],
      "metadata": {
        "colab": {
          "base_uri": "https://localhost:8080/"
        },
        "id": "uXE7MnMVcjvQ",
        "outputId": "ceb685c7-42ed-452b-97b9-66653d4b73a1"
      },
      "execution_count": 326,
      "outputs": [
        {
          "output_type": "execute_result",
          "data": {
            "text/plain": [
              "524291.0"
            ]
          },
          "metadata": {},
          "execution_count": 326
        }
      ]
    },
    {
      "cell_type": "markdown",
      "source": [
        "## Python Notes – Strings & Escape Sequences\n",
        "\n",
        "* Strings are immutable sequences of characters.\n",
        "* Strings can be enclosed in:\n",
        "  * Single quotes: 'Hello'\n",
        "  * Double quotes: \"Hello\"\n",
        "  * Triple quotes: '''Hello''' or \"\"\"Hello\"\"\"\n",
        "\n",
        "* Example:\n",
        "  * type('2') returns <class 'str'>\n",
        "  * type(2) returns <class 'int'>\n",
        "\n",
        "## Why Different String Quotes?\n",
        "\n",
        "* Single quote inside single quotes causes error:\n",
        "  * 'Don't do this' → Error\n",
        "  * \"Don't do this\" → Works\n",
        "\n",
        "* Double quote inside double quotes causes error:\n",
        "  * \"He said \"Hello\"\" → Error\n",
        "  * 'He said \"Hello\"' → Works\n",
        "\n",
        "* If string contains both single and double quotes:\n",
        "  * Use triple quotes: '''He said \"Don't do this\"''' → Works\n",
        "\n",
        "## Escape Characters\n",
        "\n",
        "* Backslash \\ is used to escape special characters.\n",
        "* Common escape sequences:\n",
        "  * \\' – Single quote\n",
        "    * Example: 'Don\\'t' → Don't\n",
        "  * \\\\ – Backslash\n",
        "    * Example: 'Path\\\\to\\\\file' → Path\\to\\file\n",
        "  * \\n – New line\n",
        "    * print(\"Hello\\nWorld\") → prints on two lines\n",
        "  * \\r – Carriage return\n",
        "    * Moves cursor to the beginning of the line\n",
        "  * \\t – Tab space\n",
        "    * print(\"A\\tB\") → A    B (with tab space)\n",
        "  * \\b – Backspace\n",
        "    * Removes one character before it\n",
        "\n",
        "* Avoid putting a space after escape sequences to prevent unwanted whitespace.\n",
        "* Refer to Python documentation for more escape sequences."
      ],
      "metadata": {
        "id": "Knz9jue5dtMX"
      }
    },
    {
      "cell_type": "code",
      "source": [
        "'This is a string'"
      ],
      "metadata": {
        "colab": {
          "base_uri": "https://localhost:8080/",
          "height": 35
        },
        "id": "xwJ1wp9ieLpW",
        "outputId": "ba934ca4-8c28-4bc6-b4b8-83ae3ff724d6"
      },
      "execution_count": 327,
      "outputs": [
        {
          "output_type": "execute_result",
          "data": {
            "text/plain": [
              "'This is a string'"
            ],
            "application/vnd.google.colaboratory.intrinsic+json": {
              "type": "string"
            }
          },
          "metadata": {},
          "execution_count": 327
        }
      ]
    },
    {
      "cell_type": "code",
      "source": [
        "type('This is a string')"
      ],
      "metadata": {
        "colab": {
          "base_uri": "https://localhost:8080/"
        },
        "id": "Xl3wxrtteXnn",
        "outputId": "30e6bcd9-a63e-4f9a-fe2a-9fc074bf43f7"
      },
      "execution_count": 328,
      "outputs": [
        {
          "output_type": "execute_result",
          "data": {
            "text/plain": [
              "str"
            ]
          },
          "metadata": {},
          "execution_count": 328
        }
      ]
    },
    {
      "cell_type": "code",
      "source": [
        "type(\"This is a string\")"
      ],
      "metadata": {
        "colab": {
          "base_uri": "https://localhost:8080/"
        },
        "id": "ufqZj-1Seaix",
        "outputId": "e6fa6c07-970b-4ef5-9de5-8d672bfda596"
      },
      "execution_count": 329,
      "outputs": [
        {
          "output_type": "execute_result",
          "data": {
            "text/plain": [
              "str"
            ]
          },
          "metadata": {},
          "execution_count": 329
        }
      ]
    },
    {
      "cell_type": "code",
      "source": [
        "type(\"\"\"This is a string\"\"\")"
      ],
      "metadata": {
        "colab": {
          "base_uri": "https://localhost:8080/"
        },
        "id": "m3b6A62pegip",
        "outputId": "fbecf09b-2745-49be-8c2f-0b0cf08e3c7b"
      },
      "execution_count": 330,
      "outputs": [
        {
          "output_type": "execute_result",
          "data": {
            "text/plain": [
              "str"
            ]
          },
          "metadata": {},
          "execution_count": 330
        }
      ]
    },
    {
      "cell_type": "code",
      "source": [
        "type('''This is a string''')"
      ],
      "metadata": {
        "colab": {
          "base_uri": "https://localhost:8080/"
        },
        "id": "02Zj3mywekMg",
        "outputId": "3c582d32-d2a6-4de1-9c1d-6c359ccf355a"
      },
      "execution_count": 331,
      "outputs": [
        {
          "output_type": "execute_result",
          "data": {
            "text/plain": [
              "str"
            ]
          },
          "metadata": {},
          "execution_count": 331
        }
      ]
    },
    {
      "cell_type": "code",
      "source": [
        "type(3)"
      ],
      "metadata": {
        "colab": {
          "base_uri": "https://localhost:8080/"
        },
        "id": "E05uYPEveoFZ",
        "outputId": "09f1670e-25b6-4cb9-979a-c0eadcb4bb2a"
      },
      "execution_count": 332,
      "outputs": [
        {
          "output_type": "execute_result",
          "data": {
            "text/plain": [
              "int"
            ]
          },
          "metadata": {},
          "execution_count": 332
        }
      ]
    },
    {
      "cell_type": "code",
      "source": [
        "type('7')"
      ],
      "metadata": {
        "colab": {
          "base_uri": "https://localhost:8080/"
        },
        "id": "7E1PKTbheu9K",
        "outputId": "32770c58-1ee1-4bdb-8145-c80e59971951"
      },
      "execution_count": 333,
      "outputs": [
        {
          "output_type": "execute_result",
          "data": {
            "text/plain": [
              "str"
            ]
          },
          "metadata": {},
          "execution_count": 333
        }
      ]
    },
    {
      "cell_type": "code",
      "source": [
        "'I don't think this will work'"
      ],
      "metadata": {
        "colab": {
          "base_uri": "https://localhost:8080/",
          "height": 108
        },
        "id": "Yg0mazpJeyrL",
        "outputId": "43a94280-6ef5-4f5f-fcb1-038ef7bfc46c"
      },
      "execution_count": 334,
      "outputs": [
        {
          "output_type": "error",
          "ename": "SyntaxError",
          "evalue": "unterminated string literal (detected at line 1) (ipython-input-334-2827259016.py, line 1)",
          "traceback": [
            "\u001b[0;36m  File \u001b[0;32m\"/tmp/ipython-input-334-2827259016.py\"\u001b[0;36m, line \u001b[0;32m1\u001b[0m\n\u001b[0;31m    'I don't think this will work'\u001b[0m\n\u001b[0m                                 ^\u001b[0m\n\u001b[0;31mSyntaxError\u001b[0m\u001b[0;31m:\u001b[0m unterminated string literal (detected at line 1)\n"
          ]
        }
      ]
    },
    {
      "cell_type": "code",
      "source": [
        "\"I don't think this will work. But this will work\""
      ],
      "metadata": {
        "colab": {
          "base_uri": "https://localhost:8080/",
          "height": 35
        },
        "id": "q-cUKDLBe6A1",
        "outputId": "6985fea8-3d57-4149-f2fc-7ace2a96ef93"
      },
      "execution_count": 335,
      "outputs": [
        {
          "output_type": "execute_result",
          "data": {
            "text/plain": [
              "\"I don't think this will work. But this will work\""
            ],
            "application/vnd.google.colaboratory.intrinsic+json": {
              "type": "string"
            }
          },
          "metadata": {},
          "execution_count": 335
        }
      ]
    },
    {
      "cell_type": "code",
      "source": [
        "'The student said \"It is fun to learn Python\"'"
      ],
      "metadata": {
        "colab": {
          "base_uri": "https://localhost:8080/",
          "height": 35
        },
        "id": "zBBfEkdofN6V",
        "outputId": "3bd9a711-e198-47d3-f5ae-1fa17750470f"
      },
      "execution_count": 336,
      "outputs": [
        {
          "output_type": "execute_result",
          "data": {
            "text/plain": [
              "'The student said \"It is fun to learn Python\"'"
            ],
            "application/vnd.google.colaboratory.intrinsic+json": {
              "type": "string"
            }
          },
          "metadata": {},
          "execution_count": 336
        }
      ]
    },
    {
      "cell_type": "code",
      "source": [
        "'''The student said \"It's fun to learn Python\"'''"
      ],
      "metadata": {
        "colab": {
          "base_uri": "https://localhost:8080/",
          "height": 35
        },
        "id": "tw2V9YZkf6_s",
        "outputId": "a8e1af7b-0f80-45d8-a167-c911054790e3"
      },
      "execution_count": 337,
      "outputs": [
        {
          "output_type": "execute_result",
          "data": {
            "text/plain": [
              "'The student said \"It\\'s fun to learn Python\"'"
            ],
            "application/vnd.google.colaboratory.intrinsic+json": {
              "type": "string"
            }
          },
          "metadata": {},
          "execution_count": 337
        }
      ]
    },
    {
      "cell_type": "code",
      "source": [
        "'this isn\\'t what I expected'"
      ],
      "metadata": {
        "colab": {
          "base_uri": "https://localhost:8080/",
          "height": 35
        },
        "id": "UzMg5O-MgJK4",
        "outputId": "8f642630-8b79-4ba6-d34e-0750327b6668"
      },
      "execution_count": 338,
      "outputs": [
        {
          "output_type": "execute_result",
          "data": {
            "text/plain": [
              "\"this isn't what I expected\""
            ],
            "application/vnd.google.colaboratory.intrinsic+json": {
              "type": "string"
            }
          },
          "metadata": {},
          "execution_count": 338
        }
      ]
    },
    {
      "cell_type": "code",
      "source": [
        "print('hello I would like this \\nstring in two lines.')"
      ],
      "metadata": {
        "colab": {
          "base_uri": "https://localhost:8080/"
        },
        "id": "4X1-vtG1gQEG",
        "outputId": "172a811d-93db-402d-95a7-87def0824a93"
      },
      "execution_count": 339,
      "outputs": [
        {
          "output_type": "stream",
          "name": "stdout",
          "text": [
            "hello I would like this \n",
            "string in two lines.\n"
          ]
        }
      ]
    },
    {
      "cell_type": "code",
      "source": [
        "print('hello I would like this \\tstring in two lines.')"
      ],
      "metadata": {
        "colab": {
          "base_uri": "https://localhost:8080/"
        },
        "id": "AdMZ5iFdgt-q",
        "outputId": "6eb2371a-29d2-475d-cf43-fa2126d29fce"
      },
      "execution_count": 340,
      "outputs": [
        {
          "output_type": "stream",
          "name": "stdout",
          "text": [
            "hello I would like this \tstring in two lines.\n"
          ]
        }
      ]
    },
    {
      "cell_type": "markdown",
      "source": [
        "## Python Notes – String Indexing & Slicing\n",
        "\n",
        "* Strings are sequences of characters, and each character has an index.\n",
        "* Indexing starts from 0 (left to right) and -1 (right to left).\n",
        "  * Example: `x = \"This is a string\"`\n",
        "\n",
        "## String Indexing\n",
        "\n",
        "* Use square brackets to access a character at a specific index:\n",
        "  * `x[3]` → returns `'s'` (0:T, 1:h, 2:i, 3:s)\n",
        "  * `x[-1]` → returns `'g'` (last character)\n",
        "\n",
        "## String Slicing\n",
        "\n",
        "* Syntax: `x[start : stop : step]`\n",
        "  * `start`: Starting index (inclusive)\n",
        "  * `stop`: Ending index (exclusive)\n",
        "  * `step`: Number of steps to skip (default is 1)\n",
        "\n",
        "* Examples:\n",
        "  * `x[0:4]` → `'This'` (includes index 0 to 3)\n",
        "  * `x[:4]` → `'This'` (start defaults to 0)\n",
        "  * `x[3:]` → `'s is a string'` (up to end)\n",
        "  * `x[5:7]` → `'is'`\n",
        "  * `x[::2]` → skips every other character → `'Ti sasrn'`\n",
        "  * `x[::-1]` → reverses the string → `'gnirts a si sihT'`\n",
        "\n",
        "* Indexing vs Slicing:\n",
        "  * `x[3]` returns a single character\n",
        "  * `x[3:]` returns a substring\n",
        "\n",
        "* Negative Indexing:\n",
        "  * `x[-1]` → last character\n",
        "  * `x[-2]` → second last character\n",
        "\n",
        "* Negative Step:\n",
        "  * `x[::-1]` → reverses the string"
      ],
      "metadata": {
        "id": "ZGBFPYHlhzCR"
      }
    },
    {
      "cell_type": "code",
      "source": [
        "x = 'This is a string'"
      ],
      "metadata": {
        "id": "QhPXEO4iiGmW"
      },
      "execution_count": 341,
      "outputs": []
    },
    {
      "cell_type": "code",
      "source": [
        "x"
      ],
      "metadata": {
        "colab": {
          "base_uri": "https://localhost:8080/",
          "height": 35
        },
        "id": "jp0Gy14Ai-n1",
        "outputId": "cbb3fc17-617f-4701-f3e8-c7a13d322d58"
      },
      "execution_count": 342,
      "outputs": [
        {
          "output_type": "execute_result",
          "data": {
            "text/plain": [
              "'This is a string'"
            ],
            "application/vnd.google.colaboratory.intrinsic+json": {
              "type": "string"
            }
          },
          "metadata": {},
          "execution_count": 342
        }
      ]
    },
    {
      "cell_type": "code",
      "source": [
        "x[8]"
      ],
      "metadata": {
        "colab": {
          "base_uri": "https://localhost:8080/",
          "height": 35
        },
        "id": "sEMlLCiSi_PY",
        "outputId": "4936b54a-bdde-42dd-f315-05e7995564d6"
      },
      "execution_count": 343,
      "outputs": [
        {
          "output_type": "execute_result",
          "data": {
            "text/plain": [
              "'a'"
            ],
            "application/vnd.google.colaboratory.intrinsic+json": {
              "type": "string"
            }
          },
          "metadata": {},
          "execution_count": 343
        }
      ]
    },
    {
      "cell_type": "code",
      "source": [
        "x[0:4:1]"
      ],
      "metadata": {
        "colab": {
          "base_uri": "https://localhost:8080/",
          "height": 35
        },
        "id": "AbrBUmSLjXde",
        "outputId": "ebc86079-57a9-4562-f018-b9a86aa18b44"
      },
      "execution_count": 344,
      "outputs": [
        {
          "output_type": "execute_result",
          "data": {
            "text/plain": [
              "'This'"
            ],
            "application/vnd.google.colaboratory.intrinsic+json": {
              "type": "string"
            }
          },
          "metadata": {},
          "execution_count": 344
        }
      ]
    },
    {
      "cell_type": "code",
      "source": [
        "x[0:4]"
      ],
      "metadata": {
        "colab": {
          "base_uri": "https://localhost:8080/",
          "height": 35
        },
        "id": "MOTbFb3ej1RN",
        "outputId": "1ef97344-df5b-4adb-8aa9-424b46bef011"
      },
      "execution_count": 345,
      "outputs": [
        {
          "output_type": "execute_result",
          "data": {
            "text/plain": [
              "'This'"
            ],
            "application/vnd.google.colaboratory.intrinsic+json": {
              "type": "string"
            }
          },
          "metadata": {},
          "execution_count": 345
        }
      ]
    },
    {
      "cell_type": "code",
      "source": [
        "x[:4]"
      ],
      "metadata": {
        "colab": {
          "base_uri": "https://localhost:8080/",
          "height": 35
        },
        "id": "xwemKzEUj9bi",
        "outputId": "a6a4fb9f-f288-440b-caa7-2cddc105b42c"
      },
      "execution_count": 346,
      "outputs": [
        {
          "output_type": "execute_result",
          "data": {
            "text/plain": [
              "'This'"
            ],
            "application/vnd.google.colaboratory.intrinsic+json": {
              "type": "string"
            }
          },
          "metadata": {},
          "execution_count": 346
        }
      ]
    },
    {
      "cell_type": "code",
      "source": [
        "x[:4:1]"
      ],
      "metadata": {
        "colab": {
          "base_uri": "https://localhost:8080/",
          "height": 35
        },
        "id": "PitNGL0KkAPW",
        "outputId": "4fc5a60a-9333-4e4d-d732-ac1e73f96630"
      },
      "execution_count": 347,
      "outputs": [
        {
          "output_type": "execute_result",
          "data": {
            "text/plain": [
              "'This'"
            ],
            "application/vnd.google.colaboratory.intrinsic+json": {
              "type": "string"
            }
          },
          "metadata": {},
          "execution_count": 347
        }
      ]
    },
    {
      "cell_type": "code",
      "source": [
        "x[8::]"
      ],
      "metadata": {
        "colab": {
          "base_uri": "https://localhost:8080/",
          "height": 35
        },
        "id": "9n4IJT1akCet",
        "outputId": "1b768a3d-4d95-4d4e-f792-357db112b92b"
      },
      "execution_count": 348,
      "outputs": [
        {
          "output_type": "execute_result",
          "data": {
            "text/plain": [
              "'a string'"
            ],
            "application/vnd.google.colaboratory.intrinsic+json": {
              "type": "string"
            }
          },
          "metadata": {},
          "execution_count": 348
        }
      ]
    },
    {
      "cell_type": "code",
      "source": [
        "x[8]"
      ],
      "metadata": {
        "colab": {
          "base_uri": "https://localhost:8080/",
          "height": 35
        },
        "id": "4xZx_SR4kJvI",
        "outputId": "d3b35098-cd5a-4123-a21d-80694d40e3f6"
      },
      "execution_count": 349,
      "outputs": [
        {
          "output_type": "execute_result",
          "data": {
            "text/plain": [
              "'a'"
            ],
            "application/vnd.google.colaboratory.intrinsic+json": {
              "type": "string"
            }
          },
          "metadata": {},
          "execution_count": 349
        }
      ]
    },
    {
      "cell_type": "code",
      "source": [
        "x"
      ],
      "metadata": {
        "colab": {
          "base_uri": "https://localhost:8080/",
          "height": 35
        },
        "id": "JFk9mP-BkMyB",
        "outputId": "31b1a10f-d606-4d42-c8aa-25066d16092e"
      },
      "execution_count": 350,
      "outputs": [
        {
          "output_type": "execute_result",
          "data": {
            "text/plain": [
              "'This is a string'"
            ],
            "application/vnd.google.colaboratory.intrinsic+json": {
              "type": "string"
            }
          },
          "metadata": {},
          "execution_count": 350
        }
      ]
    },
    {
      "cell_type": "code",
      "source": [
        "x[5:7]"
      ],
      "metadata": {
        "colab": {
          "base_uri": "https://localhost:8080/",
          "height": 35
        },
        "id": "VHuWxKc-kPGd",
        "outputId": "30423424-b1cc-4773-c7f0-76eb48d53241"
      },
      "execution_count": 351,
      "outputs": [
        {
          "output_type": "execute_result",
          "data": {
            "text/plain": [
              "'is'"
            ],
            "application/vnd.google.colaboratory.intrinsic+json": {
              "type": "string"
            }
          },
          "metadata": {},
          "execution_count": 351
        }
      ]
    },
    {
      "cell_type": "code",
      "source": [
        "x[::2]"
      ],
      "metadata": {
        "colab": {
          "base_uri": "https://localhost:8080/",
          "height": 35
        },
        "id": "g83XDmYfkVhn",
        "outputId": "aba75ae2-2ed3-4a86-a161-cf9aac0cf3fb"
      },
      "execution_count": 352,
      "outputs": [
        {
          "output_type": "execute_result",
          "data": {
            "text/plain": [
              "'Ti sasrn'"
            ],
            "application/vnd.google.colaboratory.intrinsic+json": {
              "type": "string"
            }
          },
          "metadata": {},
          "execution_count": 352
        }
      ]
    },
    {
      "cell_type": "code",
      "source": [
        "x[-1]"
      ],
      "metadata": {
        "colab": {
          "base_uri": "https://localhost:8080/",
          "height": 35
        },
        "id": "lDJfRbkxkicU",
        "outputId": "d62d954b-2727-4faa-efad-d15727877461"
      },
      "execution_count": 353,
      "outputs": [
        {
          "output_type": "execute_result",
          "data": {
            "text/plain": [
              "'g'"
            ],
            "application/vnd.google.colaboratory.intrinsic+json": {
              "type": "string"
            }
          },
          "metadata": {},
          "execution_count": 353
        }
      ]
    },
    {
      "cell_type": "code",
      "source": [
        "x[::-1] #reversed"
      ],
      "metadata": {
        "colab": {
          "base_uri": "https://localhost:8080/",
          "height": 35
        },
        "id": "rINMgnDvkkmz",
        "outputId": "549d0fc7-15fc-4bd3-ee4a-408a6d6b773a"
      },
      "execution_count": 354,
      "outputs": [
        {
          "output_type": "execute_result",
          "data": {
            "text/plain": [
              "'gnirts a si sihT'"
            ],
            "application/vnd.google.colaboratory.intrinsic+json": {
              "type": "string"
            }
          },
          "metadata": {},
          "execution_count": 354
        }
      ]
    },
    {
      "cell_type": "markdown",
      "source": [
        "## Python Notes – String Methods & Immutability\n",
        "\n",
        "* Strings have many built-in methods (accessed via dot notation).\n",
        "* Methods do not change the original string unless explicitly reassigned.\n",
        "\n",
        "## Common String Methods\n",
        "\n",
        "* `.upper()` – Converts string to uppercase  \n",
        "  * Example: `x.upper()`  \n",
        "  * Reassign to apply: `x = x.upper()`\n",
        "\n",
        "* `.lower()` – Converts string to lowercase  \n",
        "  * Example: `x.lower()`  \n",
        "  * Reassign to apply: `x = x.lower()`\n",
        "\n",
        "* `.find(substring, start, end)` – Returns index of first match  \n",
        "  * Returns -1 if not found  \n",
        "  * Case-sensitive  \n",
        "  * Example:\n",
        "    * `y = \"Red Flag\"`\n",
        "    * `y.find(\"Red\")` → `0`\n",
        "    * `y.find(\"red\")` → `-1`\n",
        "\n",
        "* `.replace(old, new, count)` – Replaces text  \n",
        "  * Replaces all occurrences if `count` not provided  \n",
        "  * Example:\n",
        "    * `y.replace(\"Red\", \"Green\")` → `\"Green Flag\"`\n",
        "    * `y = y.replace(\"Red\", \"Green\")` to apply change\n",
        "\n",
        "* `.split(separator)` – Splits string into a list  \n",
        "  * Default is whitespace  \n",
        "  * Example:\n",
        "    * `x = \"This is a string\"`\n",
        "    * `x.split()` → `['This', 'is', 'a', 'string']`\n",
        "    * `x.split(\",\")` → Splits by comma, if present\n",
        "\n",
        "## String Immutability\n",
        "\n",
        "* Strings are **immutable** – you cannot change individual characters.\n",
        "  * Example:\n",
        "    * `a = \"Hello\"`\n",
        "    * `a[0] = \"Y\"` → Error (not allowed)\n",
        "\n",
        "* You can **reassign** the entire string:\n",
        "  * `a = \"Goodbye\"` → Allowed\n",
        "\n",
        "* Use `help(str)` or check Python documentation for more methods."
      ],
      "metadata": {
        "id": "USbcutWzo0eq"
      }
    },
    {
      "cell_type": "code",
      "source": [
        "x.upper()"
      ],
      "metadata": {
        "colab": {
          "base_uri": "https://localhost:8080/",
          "height": 35
        },
        "id": "9hW2Ub9fo1Oz",
        "outputId": "9b5174de-0925-4632-f5cf-113a630db696"
      },
      "execution_count": 355,
      "outputs": [
        {
          "output_type": "execute_result",
          "data": {
            "text/plain": [
              "'THIS IS A STRING'"
            ],
            "application/vnd.google.colaboratory.intrinsic+json": {
              "type": "string"
            }
          },
          "metadata": {},
          "execution_count": 355
        }
      ]
    },
    {
      "cell_type": "code",
      "source": [
        "x"
      ],
      "metadata": {
        "colab": {
          "base_uri": "https://localhost:8080/",
          "height": 35
        },
        "id": "wISBk6qmpGGJ",
        "outputId": "499b5df6-bf28-4916-e59b-4c7e71478fb1"
      },
      "execution_count": 356,
      "outputs": [
        {
          "output_type": "execute_result",
          "data": {
            "text/plain": [
              "'This is a string'"
            ],
            "application/vnd.google.colaboratory.intrinsic+json": {
              "type": "string"
            }
          },
          "metadata": {},
          "execution_count": 356
        }
      ]
    },
    {
      "cell_type": "code",
      "source": [
        "x = x.upper()"
      ],
      "metadata": {
        "id": "UJ_IGM83pHFa"
      },
      "execution_count": 357,
      "outputs": []
    },
    {
      "cell_type": "code",
      "source": [
        "x"
      ],
      "metadata": {
        "colab": {
          "base_uri": "https://localhost:8080/",
          "height": 35
        },
        "id": "_R5gzXqOpLLx",
        "outputId": "37810ed7-feb7-4272-fc9f-751b6606bf13"
      },
      "execution_count": 358,
      "outputs": [
        {
          "output_type": "execute_result",
          "data": {
            "text/plain": [
              "'THIS IS A STRING'"
            ],
            "application/vnd.google.colaboratory.intrinsic+json": {
              "type": "string"
            }
          },
          "metadata": {},
          "execution_count": 358
        }
      ]
    },
    {
      "cell_type": "code",
      "source": [
        "x.lower()"
      ],
      "metadata": {
        "colab": {
          "base_uri": "https://localhost:8080/",
          "height": 35
        },
        "id": "9faAhtTdpMLS",
        "outputId": "5d3144e2-6fce-4b34-f0c1-fbe6819df457"
      },
      "execution_count": 359,
      "outputs": [
        {
          "output_type": "execute_result",
          "data": {
            "text/plain": [
              "'this is a string'"
            ],
            "application/vnd.google.colaboratory.intrinsic+json": {
              "type": "string"
            }
          },
          "metadata": {},
          "execution_count": 359
        }
      ]
    },
    {
      "cell_type": "code",
      "source": [
        "x"
      ],
      "metadata": {
        "colab": {
          "base_uri": "https://localhost:8080/",
          "height": 35
        },
        "id": "meEkdD7RpRkd",
        "outputId": "b52ecb8f-e1dc-45aa-e281-bb54c5e7dbdd"
      },
      "execution_count": 360,
      "outputs": [
        {
          "output_type": "execute_result",
          "data": {
            "text/plain": [
              "'THIS IS A STRING'"
            ],
            "application/vnd.google.colaboratory.intrinsic+json": {
              "type": "string"
            }
          },
          "metadata": {},
          "execution_count": 360
        }
      ]
    },
    {
      "cell_type": "code",
      "source": [
        "y = 'Even Odd'"
      ],
      "metadata": {
        "id": "0zodwsnWrFlz"
      },
      "execution_count": 361,
      "outputs": []
    },
    {
      "cell_type": "code",
      "source": [
        "y.find('Even')"
      ],
      "metadata": {
        "colab": {
          "base_uri": "https://localhost:8080/"
        },
        "id": "08JpXOQJrXQ-",
        "outputId": "2865d6ce-2e3d-40c0-80f5-eac84d2b32cf"
      },
      "execution_count": 362,
      "outputs": [
        {
          "output_type": "execute_result",
          "data": {
            "text/plain": [
              "0"
            ]
          },
          "metadata": {},
          "execution_count": 362
        }
      ]
    },
    {
      "cell_type": "code",
      "source": [
        "y.find('even')"
      ],
      "metadata": {
        "colab": {
          "base_uri": "https://localhost:8080/"
        },
        "id": "jGBDa4gKrai5",
        "outputId": "5396e5ef-2c8b-48ae-aa0b-ea5d826bd73b"
      },
      "execution_count": 363,
      "outputs": [
        {
          "output_type": "execute_result",
          "data": {
            "text/plain": [
              "-1"
            ]
          },
          "metadata": {},
          "execution_count": 363
        }
      ]
    },
    {
      "cell_type": "code",
      "source": [
        "y"
      ],
      "metadata": {
        "colab": {
          "base_uri": "https://localhost:8080/",
          "height": 35
        },
        "id": "l--NPw7AreSD",
        "outputId": "266175fc-9c9a-4992-870a-35a66b8b9f2f"
      },
      "execution_count": 364,
      "outputs": [
        {
          "output_type": "execute_result",
          "data": {
            "text/plain": [
              "'Even Odd'"
            ],
            "application/vnd.google.colaboratory.intrinsic+json": {
              "type": "string"
            }
          },
          "metadata": {},
          "execution_count": 364
        }
      ]
    },
    {
      "cell_type": "code",
      "source": [
        "y.replace('Even', 'Prime')"
      ],
      "metadata": {
        "colab": {
          "base_uri": "https://localhost:8080/",
          "height": 35
        },
        "id": "j4F8Me_7rkrY",
        "outputId": "7d1c543c-4754-45cd-ae8a-c4d5787ee09a"
      },
      "execution_count": 365,
      "outputs": [
        {
          "output_type": "execute_result",
          "data": {
            "text/plain": [
              "'Prime Odd'"
            ],
            "application/vnd.google.colaboratory.intrinsic+json": {
              "type": "string"
            }
          },
          "metadata": {},
          "execution_count": 365
        }
      ]
    },
    {
      "cell_type": "code",
      "source": [
        "y = y.replace('Even', 'Prime')"
      ],
      "metadata": {
        "id": "Jap0zYlBrqCa"
      },
      "execution_count": 366,
      "outputs": []
    },
    {
      "cell_type": "code",
      "source": [
        "y"
      ],
      "metadata": {
        "colab": {
          "base_uri": "https://localhost:8080/",
          "height": 35
        },
        "id": "80YIQ4bkr0ua",
        "outputId": "50883de1-9b3e-41d2-9fb0-9823b621929f"
      },
      "execution_count": 367,
      "outputs": [
        {
          "output_type": "execute_result",
          "data": {
            "text/plain": [
              "'Prime Odd'"
            ],
            "application/vnd.google.colaboratory.intrinsic+json": {
              "type": "string"
            }
          },
          "metadata": {},
          "execution_count": 367
        }
      ]
    },
    {
      "cell_type": "code",
      "source": [
        "x"
      ],
      "metadata": {
        "colab": {
          "base_uri": "https://localhost:8080/",
          "height": 35
        },
        "id": "dm3RTFyvr1qe",
        "outputId": "a6800075-c2c0-45e8-964a-ba2e733e59ba"
      },
      "execution_count": 368,
      "outputs": [
        {
          "output_type": "execute_result",
          "data": {
            "text/plain": [
              "'THIS IS A STRING'"
            ],
            "application/vnd.google.colaboratory.intrinsic+json": {
              "type": "string"
            }
          },
          "metadata": {},
          "execution_count": 368
        }
      ]
    },
    {
      "cell_type": "code",
      "source": [
        "x.split()"
      ],
      "metadata": {
        "colab": {
          "base_uri": "https://localhost:8080/"
        },
        "id": "WcrS4WUasAQ3",
        "outputId": "74e73ee1-3d14-4712-a45a-1f3580eef10d"
      },
      "execution_count": 369,
      "outputs": [
        {
          "output_type": "execute_result",
          "data": {
            "text/plain": [
              "['THIS', 'IS', 'A', 'STRING']"
            ]
          },
          "metadata": {},
          "execution_count": 369
        }
      ]
    },
    {
      "cell_type": "code",
      "source": [
        "x.split(',')"
      ],
      "metadata": {
        "colab": {
          "base_uri": "https://localhost:8080/"
        },
        "id": "XQ1wWx0WsDgu",
        "outputId": "e7131ce2-f4a4-49c5-bebc-0d56e94fda18"
      },
      "execution_count": 370,
      "outputs": [
        {
          "output_type": "execute_result",
          "data": {
            "text/plain": [
              "['THIS IS A STRING']"
            ]
          },
          "metadata": {},
          "execution_count": 370
        }
      ]
    },
    {
      "cell_type": "code",
      "source": [
        "x = 'THIS, IS A, STRING'"
      ],
      "metadata": {
        "id": "h5Ui9KFjsJmi"
      },
      "execution_count": 371,
      "outputs": []
    },
    {
      "cell_type": "code",
      "source": [
        "x.split(',')"
      ],
      "metadata": {
        "colab": {
          "base_uri": "https://localhost:8080/"
        },
        "id": "K-Kqu9EFsOy4",
        "outputId": "e4a85195-7685-48d1-e197-8a339060ff75"
      },
      "execution_count": 372,
      "outputs": [
        {
          "output_type": "execute_result",
          "data": {
            "text/plain": [
              "['THIS', ' IS A', ' STRING']"
            ]
          },
          "metadata": {},
          "execution_count": 372
        }
      ]
    },
    {
      "cell_type": "code",
      "source": [
        "x.split()"
      ],
      "metadata": {
        "colab": {
          "base_uri": "https://localhost:8080/"
        },
        "id": "_j95jb1asSOK",
        "outputId": "7eb8e916-bddd-4a02-f5d2-a4472f97eccc"
      },
      "execution_count": 373,
      "outputs": [
        {
          "output_type": "execute_result",
          "data": {
            "text/plain": [
              "['THIS,', 'IS', 'A,', 'STRING']"
            ]
          },
          "metadata": {},
          "execution_count": 373
        }
      ]
    },
    {
      "cell_type": "code",
      "source": [
        "x.split(' ')"
      ],
      "metadata": {
        "colab": {
          "base_uri": "https://localhost:8080/"
        },
        "id": "0qJSQ16YsgXG",
        "outputId": "28d3c3e2-e194-4a65-cd37-4dffd26b55d3"
      },
      "execution_count": 374,
      "outputs": [
        {
          "output_type": "execute_result",
          "data": {
            "text/plain": [
              "['THIS,', 'IS', 'A,', 'STRING']"
            ]
          },
          "metadata": {},
          "execution_count": 374
        }
      ]
    },
    {
      "cell_type": "code",
      "source": [
        "a = 'Hello'"
      ],
      "metadata": {
        "id": "bNAJ0mcGslEU"
      },
      "execution_count": 375,
      "outputs": []
    },
    {
      "cell_type": "code",
      "source": [
        "a = 'Goodbye'"
      ],
      "metadata": {
        "id": "XB1dK6DWLcje"
      },
      "execution_count": 376,
      "outputs": []
    },
    {
      "cell_type": "code",
      "source": [
        "a[0]"
      ],
      "metadata": {
        "colab": {
          "base_uri": "https://localhost:8080/",
          "height": 35
        },
        "id": "td_79PshLnk_",
        "outputId": "172dbb30-4018-4a1c-bc28-9523d19e808f"
      },
      "execution_count": 377,
      "outputs": [
        {
          "output_type": "execute_result",
          "data": {
            "text/plain": [
              "'G'"
            ],
            "application/vnd.google.colaboratory.intrinsic+json": {
              "type": "string"
            }
          },
          "metadata": {},
          "execution_count": 377
        }
      ]
    },
    {
      "cell_type": "code",
      "source": [
        "a[0] = 'P'"
      ],
      "metadata": {
        "colab": {
          "base_uri": "https://localhost:8080/",
          "height": 144
        },
        "id": "MU4Y0L2oLpl7",
        "outputId": "63c0c7b6-0bb4-4e49-8c3a-10d6969879cc"
      },
      "execution_count": 378,
      "outputs": [
        {
          "output_type": "error",
          "ename": "TypeError",
          "evalue": "'str' object does not support item assignment",
          "traceback": [
            "\u001b[0;31m---------------------------------------------------------------------------\u001b[0m",
            "\u001b[0;31mTypeError\u001b[0m                                 Traceback (most recent call last)",
            "\u001b[0;32m/tmp/ipython-input-378-1998715799.py\u001b[0m in \u001b[0;36m<cell line: 0>\u001b[0;34m()\u001b[0m\n\u001b[0;32m----> 1\u001b[0;31m \u001b[0ma\u001b[0m\u001b[0;34m[\u001b[0m\u001b[0;36m0\u001b[0m\u001b[0;34m]\u001b[0m \u001b[0;34m=\u001b[0m \u001b[0;34m'P'\u001b[0m\u001b[0;34m\u001b[0m\u001b[0;34m\u001b[0m\u001b[0m\n\u001b[0m",
            "\u001b[0;31mTypeError\u001b[0m: 'str' object does not support item assignment"
          ]
        }
      ]
    },
    {
      "cell_type": "markdown",
      "source": [
        "## Python Notes – String Concatenation & f-Strings\n",
        "\n",
        "### String Concatenation\n",
        "\n",
        "* Strings can be joined using the `+` operator.\n",
        "  * Example:\n",
        "    * `\"Hello\" + \" \" + \"World\"` → `\"Hello World\"`\n",
        "* Concatenating numerical values adds them:\n",
        "  * `5 + 5` → `10`\n",
        "* Concatenating strings merges them:\n",
        "  * `\"5\" + \"5\"` → `\"55\"`\n",
        "\n",
        "* Example with variables:\n",
        "  * `x = \"My name is\"`\n",
        "  * `y = \"John\"`\n",
        "  * `z = x + \" \" + y` → `\"My name is John\"`\n",
        "\n",
        "### f-Strings (String Interpolation)\n",
        "\n",
        "* f-Strings embed variable values directly into a string.\n",
        "* Syntax: prefix the string with `f`, then use `{}` to include variables.\n",
        "\n",
        "* Example:\n",
        "  * `name = \"John\"`\n",
        "  * `f\"Hi, my name is {name}\"` → `\"Hi, my name is John\"`\n",
        "\n",
        "* If `name = \"Ben\"`, the output becomes:\n",
        "  * `f\"Hi, my name is {name}\"` → `\"Hi, my name is Ben\"`\n",
        "\n",
        "* f-Strings can use:\n",
        "  * Variables multiple times → `f\"{name} is {name}\"`\n",
        "  * Multiple variables → `f\"{first} {last}\"`\n",
        "\n",
        "* f-Strings make dynamic and readable string formatting easy."
      ],
      "metadata": {
        "id": "QESdn7tLNUi2"
      }
    },
    {
      "cell_type": "code",
      "source": [
        "10+10"
      ],
      "metadata": {
        "colab": {
          "base_uri": "https://localhost:8080/"
        },
        "id": "3WfaBkwSNVZQ",
        "outputId": "d425fbca-9444-47f2-883d-88d19894dce9"
      },
      "execution_count": 379,
      "outputs": [
        {
          "output_type": "execute_result",
          "data": {
            "text/plain": [
              "20"
            ]
          },
          "metadata": {},
          "execution_count": 379
        }
      ]
    },
    {
      "cell_type": "code",
      "source": [
        "'This string' + ' ' + 'that string'"
      ],
      "metadata": {
        "colab": {
          "base_uri": "https://localhost:8080/",
          "height": 35
        },
        "id": "cnMEZOfuOBYA",
        "outputId": "0146f64a-c806-44b8-e752-0e3948186788"
      },
      "execution_count": 380,
      "outputs": [
        {
          "output_type": "execute_result",
          "data": {
            "text/plain": [
              "'This string that string'"
            ],
            "application/vnd.google.colaboratory.intrinsic+json": {
              "type": "string"
            }
          },
          "metadata": {},
          "execution_count": 380
        }
      ]
    },
    {
      "cell_type": "code",
      "source": [
        "x = 'My name is'"
      ],
      "metadata": {
        "id": "goex5IgFOQsY"
      },
      "execution_count": 381,
      "outputs": []
    },
    {
      "cell_type": "code",
      "source": [
        "y = 'John'"
      ],
      "metadata": {
        "id": "oGOS5VVIOUoO"
      },
      "execution_count": 382,
      "outputs": []
    },
    {
      "cell_type": "code",
      "source": [
        "z = x + ' ' + y"
      ],
      "metadata": {
        "id": "TTnd-bipOaQG"
      },
      "execution_count": 383,
      "outputs": []
    },
    {
      "cell_type": "code",
      "source": [
        "z"
      ],
      "metadata": {
        "colab": {
          "base_uri": "https://localhost:8080/",
          "height": 35
        },
        "id": "7pPGqnLpOh7q",
        "outputId": "6847d8e7-91b7-4afc-e093-84690a79e5af"
      },
      "execution_count": 384,
      "outputs": [
        {
          "output_type": "execute_result",
          "data": {
            "text/plain": [
              "'My name is John'"
            ],
            "application/vnd.google.colaboratory.intrinsic+json": {
              "type": "string"
            }
          },
          "metadata": {},
          "execution_count": 384
        }
      ]
    },
    {
      "cell_type": "code",
      "source": [
        "f'Hi, my name is {y}'"
      ],
      "metadata": {
        "colab": {
          "base_uri": "https://localhost:8080/",
          "height": 35
        },
        "id": "Fh3NEnxxOkI0",
        "outputId": "77ef8e76-fccc-414d-b8d0-44dc1903c640"
      },
      "execution_count": 385,
      "outputs": [
        {
          "output_type": "execute_result",
          "data": {
            "text/plain": [
              "'Hi, my name is John'"
            ],
            "application/vnd.google.colaboratory.intrinsic+json": {
              "type": "string"
            }
          },
          "metadata": {},
          "execution_count": 385
        }
      ]
    },
    {
      "cell_type": "markdown",
      "source": [
        "## Python Notes – Lists and List Methods\n",
        "\n",
        "### What is a List?\n",
        "\n",
        "* Lists are mutable sequences enclosed in square brackets.\n",
        "* Can store items of same or different types.\n",
        "\n",
        "* Example:\n",
        "  * `list1 = [2, 17, 18, 19, 20]`\n",
        "  * `list2 = ['John', 'Mark', 'Luke', 'Jane']`\n",
        "  * `list3 = ['John', 17, 'Mark', 18, 'Luke', 19, 'Jane', 20]` (mixed types)\n",
        "\n",
        "### Indexing and Slicing\n",
        "\n",
        "* Indexing:\n",
        "  * `x = 'Hello'`\n",
        "  * `x[3]` → `'l'`\n",
        "  * `x[2:5]` → `'llo'`\n",
        "\n",
        "* Lists:\n",
        "  * `list1 = [2, 17, 18, 19, 20]`\n",
        "  * `list1[4]` → `20`\n",
        "  * `list1[-3]` → `18`\n",
        "  * `list1[2:5]` → `[18, 19, 20]`\n",
        "\n",
        "* Type checking:\n",
        "  * `type(list1)` → `<class 'list'>`\n",
        "  * `type(list1[4])` → `<class 'int'>`\n",
        "\n",
        "### Nested Lists (Lists Inside Lists)\n",
        "\n",
        "* `list4 = ['x', 'y', list3]`\n",
        "* `list4[1]` → `'y'`\n",
        "* `list4[2]` → the nested list `list3`\n",
        "* `list4[2][2]` → `'Mark'`\n",
        "* `list4[2][3]` → `18`\n",
        "\n",
        "* Assigning nested list to variable:\n",
        "  * `element = list4[2]`\n",
        "  * `element[3]` → `18`\n",
        "\n",
        "### Mutability\n",
        "\n",
        "* Strings are immutable:\n",
        "  * `x = 'Hello'`\n",
        "  * `x[0] = 'P'` → Error\n",
        "\n",
        "* Lists are mutable:\n",
        "  * `list1[4] = 'HEY!'`\n",
        "  * `list1` now → `[2, 17, 18, 19, 'HEY!']`\n",
        "\n",
        "### List Methods\n",
        "\n",
        "* `.append(value)` – Adds a value to the end\n",
        "  * `list1.append('HOLA!')` → `[2, 17, 18, 19, 'HEY!', 'HOLA!']`\n",
        "* `.append(list2)` – Appends `list2` as a single nested list\n",
        "  * `list1.append(list2)` → `['John', ..., 'HOLA!', ['John', 'Mark', 'Luke', 'Jane']]`\n",
        "\n",
        "* `.extend(list2)` – Adds each element of `list2` individually\n",
        "  * `list1.extend(list2)` → Adds `'John', 'Mark', 'Luke', 'Jane'` to the end\n",
        "\n",
        "* `.remove(value)` – Removes the first occurrence of value\n",
        "  * `list1.remove(19)` → removes number 19\n",
        "  * `list1.remove(['John', 'Mark', 'Luke', 'Jane'])` → removes the nested list\n",
        "\n",
        "* `.pop()` – Removes and returns last element\n",
        "  * `list1.pop()` → returns `'Jane'`\n",
        "  * `list1.pop()` again → returns `'Luke'`\n",
        "  * `type(list1.pop())` → shows type of removed item\n",
        "  * `removed_item = list1.pop()` → stores removed item in a variable\n",
        "  * `removed_item` → shows removed item\n",
        "\n",
        "* `.insert(index, value)` – Inserts value at specified index\n",
        "  * `list1.insert(2, 3000)` → inserts 3000 at index 2\n",
        "\n",
        "* Example: final state of `list1` reflects all above operations"
      ],
      "metadata": {
        "id": "D-xQL9QyPfSa"
      }
    },
    {
      "cell_type": "code",
      "source": [
        "list1 = [2,17,18,19,20]"
      ],
      "metadata": {
        "id": "X3lW5_r0zJdI"
      },
      "execution_count": 386,
      "outputs": []
    },
    {
      "cell_type": "code",
      "source": [
        "list2 = ['John', 'Mark', 'Luke', 'Jane']"
      ],
      "metadata": {
        "id": "5JN3Pbo-zLvd"
      },
      "execution_count": 387,
      "outputs": []
    },
    {
      "cell_type": "code",
      "source": [
        "list3 = ['John', 17, 'Mark', 18, 'Luke', 19, 'Jane', 20]"
      ],
      "metadata": {
        "id": "oobcftDzzhYc"
      },
      "execution_count": 388,
      "outputs": []
    },
    {
      "cell_type": "code",
      "source": [
        "x = 'Hello'"
      ],
      "metadata": {
        "id": "bJI7J_qjztHf"
      },
      "execution_count": 389,
      "outputs": []
    },
    {
      "cell_type": "code",
      "source": [
        "x[3]"
      ],
      "metadata": {
        "colab": {
          "base_uri": "https://localhost:8080/",
          "height": 35
        },
        "id": "L4S1EaI0zvRE",
        "outputId": "3075bde5-b627-462c-da92-b5d9906131ca"
      },
      "execution_count": 390,
      "outputs": [
        {
          "output_type": "execute_result",
          "data": {
            "text/plain": [
              "'l'"
            ],
            "application/vnd.google.colaboratory.intrinsic+json": {
              "type": "string"
            }
          },
          "metadata": {},
          "execution_count": 390
        }
      ]
    },
    {
      "cell_type": "code",
      "source": [
        "x[2:5]"
      ],
      "metadata": {
        "colab": {
          "base_uri": "https://localhost:8080/",
          "height": 35
        },
        "id": "HKl1Az-Rz4FY",
        "outputId": "f589c17c-161c-403f-bca8-e2188d07c4c3"
      },
      "execution_count": 391,
      "outputs": [
        {
          "output_type": "execute_result",
          "data": {
            "text/plain": [
              "'llo'"
            ],
            "application/vnd.google.colaboratory.intrinsic+json": {
              "type": "string"
            }
          },
          "metadata": {},
          "execution_count": 391
        }
      ]
    },
    {
      "cell_type": "code",
      "source": [
        "list1"
      ],
      "metadata": {
        "colab": {
          "base_uri": "https://localhost:8080/"
        },
        "id": "Kwzyc9BZz-FF",
        "outputId": "658e8f8a-96f8-423a-e73c-4487d89a4eef"
      },
      "execution_count": 392,
      "outputs": [
        {
          "output_type": "execute_result",
          "data": {
            "text/plain": [
              "[2, 17, 18, 19, 20]"
            ]
          },
          "metadata": {},
          "execution_count": 392
        }
      ]
    },
    {
      "cell_type": "code",
      "source": [
        "list1[4]"
      ],
      "metadata": {
        "colab": {
          "base_uri": "https://localhost:8080/"
        },
        "id": "jMT28ruM0A9g",
        "outputId": "ee34d4af-311b-4d06-e22f-44ddf7763dbc"
      },
      "execution_count": 393,
      "outputs": [
        {
          "output_type": "execute_result",
          "data": {
            "text/plain": [
              "20"
            ]
          },
          "metadata": {},
          "execution_count": 393
        }
      ]
    },
    {
      "cell_type": "code",
      "source": [
        "list1[-3]"
      ],
      "metadata": {
        "colab": {
          "base_uri": "https://localhost:8080/"
        },
        "id": "Gg2RuLqm0Fb9",
        "outputId": "4f66f758-6994-4fe7-bae1-002a4a751653"
      },
      "execution_count": 394,
      "outputs": [
        {
          "output_type": "execute_result",
          "data": {
            "text/plain": [
              "18"
            ]
          },
          "metadata": {},
          "execution_count": 394
        }
      ]
    },
    {
      "cell_type": "code",
      "source": [
        "list1[2:5]"
      ],
      "metadata": {
        "colab": {
          "base_uri": "https://localhost:8080/"
        },
        "id": "A2KVyo-N0K0W",
        "outputId": "63513f9d-31f6-46d1-cc9f-2dfd0df996f9"
      },
      "execution_count": 395,
      "outputs": [
        {
          "output_type": "execute_result",
          "data": {
            "text/plain": [
              "[18, 19, 20]"
            ]
          },
          "metadata": {},
          "execution_count": 395
        }
      ]
    },
    {
      "cell_type": "code",
      "source": [
        "type(list1)"
      ],
      "metadata": {
        "colab": {
          "base_uri": "https://localhost:8080/"
        },
        "id": "HIX2JnsS0U2T",
        "outputId": "1675c687-6029-4658-9d43-d2aaac40645d"
      },
      "execution_count": 396,
      "outputs": [
        {
          "output_type": "execute_result",
          "data": {
            "text/plain": [
              "list"
            ]
          },
          "metadata": {},
          "execution_count": 396
        }
      ]
    },
    {
      "cell_type": "code",
      "source": [
        "type(list1[4])"
      ],
      "metadata": {
        "colab": {
          "base_uri": "https://localhost:8080/"
        },
        "id": "emHUcGM20Xtm",
        "outputId": "1f18061e-4ac7-43e9-eb84-c6685cb6d3f4"
      },
      "execution_count": 397,
      "outputs": [
        {
          "output_type": "execute_result",
          "data": {
            "text/plain": [
              "int"
            ]
          },
          "metadata": {},
          "execution_count": 397
        }
      ]
    },
    {
      "cell_type": "code",
      "source": [
        "list4 = ['x','y',list3]"
      ],
      "metadata": {
        "id": "mdFVDUPJ0bO5"
      },
      "execution_count": 398,
      "outputs": []
    },
    {
      "cell_type": "code",
      "source": [
        "list4"
      ],
      "metadata": {
        "colab": {
          "base_uri": "https://localhost:8080/"
        },
        "id": "7QWs3L8J0rWY",
        "outputId": "3303700b-71c4-404f-bbce-44001bf2930f"
      },
      "execution_count": 399,
      "outputs": [
        {
          "output_type": "execute_result",
          "data": {
            "text/plain": [
              "['x', 'y', ['John', 17, 'Mark', 18, 'Luke', 19, 'Jane', 20]]"
            ]
          },
          "metadata": {},
          "execution_count": 399
        }
      ]
    },
    {
      "cell_type": "code",
      "source": [
        "list4[1]"
      ],
      "metadata": {
        "colab": {
          "base_uri": "https://localhost:8080/",
          "height": 35
        },
        "id": "AS6pdeZx0uBO",
        "outputId": "205d82b3-5f54-435b-81ae-c6206ffa4987"
      },
      "execution_count": 400,
      "outputs": [
        {
          "output_type": "execute_result",
          "data": {
            "text/plain": [
              "'y'"
            ],
            "application/vnd.google.colaboratory.intrinsic+json": {
              "type": "string"
            }
          },
          "metadata": {},
          "execution_count": 400
        }
      ]
    },
    {
      "cell_type": "code",
      "source": [
        "list4[2]"
      ],
      "metadata": {
        "colab": {
          "base_uri": "https://localhost:8080/"
        },
        "id": "jeDABHPv02f6",
        "outputId": "b88a5b36-b449-435a-9610-8080e1060b25"
      },
      "execution_count": 401,
      "outputs": [
        {
          "output_type": "execute_result",
          "data": {
            "text/plain": [
              "['John', 17, 'Mark', 18, 'Luke', 19, 'Jane', 20]"
            ]
          },
          "metadata": {},
          "execution_count": 401
        }
      ]
    },
    {
      "cell_type": "code",
      "source": [
        "list4[2][2]"
      ],
      "metadata": {
        "colab": {
          "base_uri": "https://localhost:8080/",
          "height": 35
        },
        "id": "uJ_1aOp005UK",
        "outputId": "5a598086-89c2-4625-ad7d-30247d300966"
      },
      "execution_count": 402,
      "outputs": [
        {
          "output_type": "execute_result",
          "data": {
            "text/plain": [
              "'Mark'"
            ],
            "application/vnd.google.colaboratory.intrinsic+json": {
              "type": "string"
            }
          },
          "metadata": {},
          "execution_count": 402
        }
      ]
    },
    {
      "cell_type": "code",
      "source": [
        "list4[2][3]"
      ],
      "metadata": {
        "colab": {
          "base_uri": "https://localhost:8080/"
        },
        "id": "FZ78uDu10-FJ",
        "outputId": "5a72db9a-ff21-470e-a2c1-df4734059a13"
      },
      "execution_count": 403,
      "outputs": [
        {
          "output_type": "execute_result",
          "data": {
            "text/plain": [
              "18"
            ]
          },
          "metadata": {},
          "execution_count": 403
        }
      ]
    },
    {
      "cell_type": "code",
      "source": [
        "element = list4[2]"
      ],
      "metadata": {
        "id": "B-tDEBHP1FVu"
      },
      "execution_count": 404,
      "outputs": []
    },
    {
      "cell_type": "code",
      "source": [
        "element"
      ],
      "metadata": {
        "colab": {
          "base_uri": "https://localhost:8080/"
        },
        "id": "Gqfr3jkN1Qem",
        "outputId": "1f0ecb5d-8d67-4dd0-fa57-4b3c5f306ede"
      },
      "execution_count": 405,
      "outputs": [
        {
          "output_type": "execute_result",
          "data": {
            "text/plain": [
              "['John', 17, 'Mark', 18, 'Luke', 19, 'Jane', 20]"
            ]
          },
          "metadata": {},
          "execution_count": 405
        }
      ]
    },
    {
      "cell_type": "code",
      "source": [
        "element[3]"
      ],
      "metadata": {
        "colab": {
          "base_uri": "https://localhost:8080/"
        },
        "id": "mBedUrgF1TQ0",
        "outputId": "ae13e2cd-7045-45fb-cc15-52907310d866"
      },
      "execution_count": 406,
      "outputs": [
        {
          "output_type": "execute_result",
          "data": {
            "text/plain": [
              "18"
            ]
          },
          "metadata": {},
          "execution_count": 406
        }
      ]
    },
    {
      "cell_type": "code",
      "source": [
        "x"
      ],
      "metadata": {
        "colab": {
          "base_uri": "https://localhost:8080/",
          "height": 35
        },
        "id": "EGRdnJxK1ZrB",
        "outputId": "432a61b8-07ae-4d84-805c-1a677b1b45c7"
      },
      "execution_count": 407,
      "outputs": [
        {
          "output_type": "execute_result",
          "data": {
            "text/plain": [
              "'Hello'"
            ],
            "application/vnd.google.colaboratory.intrinsic+json": {
              "type": "string"
            }
          },
          "metadata": {},
          "execution_count": 407
        }
      ]
    },
    {
      "cell_type": "code",
      "source": [
        "x[0] = 'P'"
      ],
      "metadata": {
        "colab": {
          "base_uri": "https://localhost:8080/",
          "height": 144
        },
        "id": "0aKPRVC61upx",
        "outputId": "4cee04d7-14c5-44c5-de2b-73bdc3e1f112"
      },
      "execution_count": 408,
      "outputs": [
        {
          "output_type": "error",
          "ename": "TypeError",
          "evalue": "'str' object does not support item assignment",
          "traceback": [
            "\u001b[0;31m---------------------------------------------------------------------------\u001b[0m",
            "\u001b[0;31mTypeError\u001b[0m                                 Traceback (most recent call last)",
            "\u001b[0;32m/tmp/ipython-input-408-929670219.py\u001b[0m in \u001b[0;36m<cell line: 0>\u001b[0;34m()\u001b[0m\n\u001b[0;32m----> 1\u001b[0;31m \u001b[0mx\u001b[0m\u001b[0;34m[\u001b[0m\u001b[0;36m0\u001b[0m\u001b[0;34m]\u001b[0m \u001b[0;34m=\u001b[0m \u001b[0;34m'P'\u001b[0m\u001b[0;34m\u001b[0m\u001b[0;34m\u001b[0m\u001b[0m\n\u001b[0m",
            "\u001b[0;31mTypeError\u001b[0m: 'str' object does not support item assignment"
          ]
        }
      ]
    },
    {
      "cell_type": "code",
      "source": [
        "list1"
      ],
      "metadata": {
        "colab": {
          "base_uri": "https://localhost:8080/"
        },
        "id": "pzJPn95R12m5",
        "outputId": "22221945-dfad-4d35-af0a-dd6a9eb0afea"
      },
      "execution_count": 409,
      "outputs": [
        {
          "output_type": "execute_result",
          "data": {
            "text/plain": [
              "[2, 17, 18, 19, 20]"
            ]
          },
          "metadata": {},
          "execution_count": 409
        }
      ]
    },
    {
      "cell_type": "code",
      "source": [
        "list1[4] = 'HEY!'"
      ],
      "metadata": {
        "id": "IqNGKwmv14Ic"
      },
      "execution_count": 410,
      "outputs": []
    },
    {
      "cell_type": "code",
      "source": [
        "list1"
      ],
      "metadata": {
        "colab": {
          "base_uri": "https://localhost:8080/"
        },
        "id": "acKhc3iK1--8",
        "outputId": "45f139ad-88a0-45d3-b6b9-ea3025120f72"
      },
      "execution_count": 411,
      "outputs": [
        {
          "output_type": "execute_result",
          "data": {
            "text/plain": [
              "[2, 17, 18, 19, 'HEY!']"
            ]
          },
          "metadata": {},
          "execution_count": 411
        }
      ]
    },
    {
      "cell_type": "code",
      "source": [
        "list1.append('HOLA!')"
      ],
      "metadata": {
        "id": "6qev4Hr92Ewf"
      },
      "execution_count": 412,
      "outputs": []
    },
    {
      "cell_type": "code",
      "source": [
        "list1"
      ],
      "metadata": {
        "colab": {
          "base_uri": "https://localhost:8080/"
        },
        "id": "M1tyCVoi2O3x",
        "outputId": "42a4e57a-de96-4945-b684-57d2194d2abc"
      },
      "execution_count": 413,
      "outputs": [
        {
          "output_type": "execute_result",
          "data": {
            "text/plain": [
              "[2, 17, 18, 19, 'HEY!', 'HOLA!']"
            ]
          },
          "metadata": {},
          "execution_count": 413
        }
      ]
    },
    {
      "cell_type": "code",
      "source": [
        "list2"
      ],
      "metadata": {
        "colab": {
          "base_uri": "https://localhost:8080/"
        },
        "id": "v8SB3uVo2Qm1",
        "outputId": "68bc1a4e-ab43-488e-8952-55132a94416b"
      },
      "execution_count": 414,
      "outputs": [
        {
          "output_type": "execute_result",
          "data": {
            "text/plain": [
              "['John', 'Mark', 'Luke', 'Jane']"
            ]
          },
          "metadata": {},
          "execution_count": 414
        }
      ]
    },
    {
      "cell_type": "code",
      "source": [
        "list1.append(list2)"
      ],
      "metadata": {
        "id": "49cPkB6_2Wfr"
      },
      "execution_count": 415,
      "outputs": []
    },
    {
      "cell_type": "code",
      "source": [
        "list1"
      ],
      "metadata": {
        "colab": {
          "base_uri": "https://localhost:8080/"
        },
        "id": "0ikoav4d2dFh",
        "outputId": "70cc08a2-b5ee-4025-89da-d2c32bcf820b"
      },
      "execution_count": 416,
      "outputs": [
        {
          "output_type": "execute_result",
          "data": {
            "text/plain": [
              "[2, 17, 18, 19, 'HEY!', 'HOLA!', ['John', 'Mark', 'Luke', 'Jane']]"
            ]
          },
          "metadata": {},
          "execution_count": 416
        }
      ]
    },
    {
      "cell_type": "code",
      "source": [
        "list2"
      ],
      "metadata": {
        "colab": {
          "base_uri": "https://localhost:8080/"
        },
        "id": "FoUkZOvu2esz",
        "outputId": "d558c0e9-dfc1-4d03-9603-e2c0ae030522"
      },
      "execution_count": 417,
      "outputs": [
        {
          "output_type": "execute_result",
          "data": {
            "text/plain": [
              "['John', 'Mark', 'Luke', 'Jane']"
            ]
          },
          "metadata": {},
          "execution_count": 417
        }
      ]
    },
    {
      "cell_type": "code",
      "source": [
        "list1.extend(list2)"
      ],
      "metadata": {
        "id": "afVOUkur2h12"
      },
      "execution_count": 418,
      "outputs": []
    },
    {
      "cell_type": "code",
      "source": [
        "list1"
      ],
      "metadata": {
        "colab": {
          "base_uri": "https://localhost:8080/"
        },
        "id": "fDOPfCDh2lZw",
        "outputId": "e01b14fb-3a58-430e-f41d-c172065c5bab"
      },
      "execution_count": 419,
      "outputs": [
        {
          "output_type": "execute_result",
          "data": {
            "text/plain": [
              "[2,\n",
              " 17,\n",
              " 18,\n",
              " 19,\n",
              " 'HEY!',\n",
              " 'HOLA!',\n",
              " ['John', 'Mark', 'Luke', 'Jane'],\n",
              " 'John',\n",
              " 'Mark',\n",
              " 'Luke',\n",
              " 'Jane']"
            ]
          },
          "metadata": {},
          "execution_count": 419
        }
      ]
    },
    {
      "cell_type": "code",
      "source": [
        "list1.remove(19)"
      ],
      "metadata": {
        "id": "vx8XtCg52rx9"
      },
      "execution_count": 420,
      "outputs": []
    },
    {
      "cell_type": "code",
      "source": [
        "list1"
      ],
      "metadata": {
        "colab": {
          "base_uri": "https://localhost:8080/"
        },
        "id": "aUfoAVoe2uze",
        "outputId": "2665d403-f290-44d3-a537-bdea7333c415"
      },
      "execution_count": 421,
      "outputs": [
        {
          "output_type": "execute_result",
          "data": {
            "text/plain": [
              "[2,\n",
              " 17,\n",
              " 18,\n",
              " 'HEY!',\n",
              " 'HOLA!',\n",
              " ['John', 'Mark', 'Luke', 'Jane'],\n",
              " 'John',\n",
              " 'Mark',\n",
              " 'Luke',\n",
              " 'Jane']"
            ]
          },
          "metadata": {},
          "execution_count": 421
        }
      ]
    },
    {
      "cell_type": "code",
      "source": [
        "list1.remove(['John', 'Mark', 'Luke', 'Jane'])"
      ],
      "metadata": {
        "id": "_aPJci2U2xL9"
      },
      "execution_count": 422,
      "outputs": []
    },
    {
      "cell_type": "code",
      "source": [
        "list1"
      ],
      "metadata": {
        "colab": {
          "base_uri": "https://localhost:8080/"
        },
        "id": "OASB8NBl29rp",
        "outputId": "2d076ff9-adfa-4dc9-a902-421454766054"
      },
      "execution_count": 423,
      "outputs": [
        {
          "output_type": "execute_result",
          "data": {
            "text/plain": [
              "[2, 17, 18, 'HEY!', 'HOLA!', 'John', 'Mark', 'Luke', 'Jane']"
            ]
          },
          "metadata": {},
          "execution_count": 423
        }
      ]
    },
    {
      "cell_type": "code",
      "source": [
        " list1.pop()"
      ],
      "metadata": {
        "colab": {
          "base_uri": "https://localhost:8080/",
          "height": 35
        },
        "id": "SzkiWIW_2-3n",
        "outputId": "aae6760c-4117-4e6c-c676-7c2e70c53ede"
      },
      "execution_count": 424,
      "outputs": [
        {
          "output_type": "execute_result",
          "data": {
            "text/plain": [
              "'Jane'"
            ],
            "application/vnd.google.colaboratory.intrinsic+json": {
              "type": "string"
            }
          },
          "metadata": {},
          "execution_count": 424
        }
      ]
    },
    {
      "cell_type": "code",
      "source": [
        "list1.pop()"
      ],
      "metadata": {
        "colab": {
          "base_uri": "https://localhost:8080/",
          "height": 35
        },
        "id": "4FG0in0U3HDs",
        "outputId": "dc62db76-6615-4438-d2ac-a9327b928733"
      },
      "execution_count": 425,
      "outputs": [
        {
          "output_type": "execute_result",
          "data": {
            "text/plain": [
              "'Luke'"
            ],
            "application/vnd.google.colaboratory.intrinsic+json": {
              "type": "string"
            }
          },
          "metadata": {},
          "execution_count": 425
        }
      ]
    },
    {
      "cell_type": "code",
      "source": [
        "list1"
      ],
      "metadata": {
        "colab": {
          "base_uri": "https://localhost:8080/"
        },
        "id": "6Xhk22H13JJ-",
        "outputId": "1bc36b79-7981-4c3f-99b6-2763952f2105"
      },
      "execution_count": 426,
      "outputs": [
        {
          "output_type": "execute_result",
          "data": {
            "text/plain": [
              "[2, 17, 18, 'HEY!', 'HOLA!', 'John', 'Mark']"
            ]
          },
          "metadata": {},
          "execution_count": 426
        }
      ]
    },
    {
      "cell_type": "code",
      "source": [
        "type(list1.remove('HOLA!'))"
      ],
      "metadata": {
        "colab": {
          "base_uri": "https://localhost:8080/"
        },
        "id": "q3FWLmB13SAH",
        "outputId": "a2fc0746-bc1f-4056-e741-8a74757e28ff"
      },
      "execution_count": 427,
      "outputs": [
        {
          "output_type": "execute_result",
          "data": {
            "text/plain": [
              "NoneType"
            ]
          },
          "metadata": {},
          "execution_count": 427
        }
      ]
    },
    {
      "cell_type": "code",
      "source": [
        "type(list1.pop())"
      ],
      "metadata": {
        "colab": {
          "base_uri": "https://localhost:8080/"
        },
        "id": "slKu9ZGH3gU9",
        "outputId": "8c1f0b05-6db7-4478-cdcd-57f7a3ee34cb"
      },
      "execution_count": 428,
      "outputs": [
        {
          "output_type": "execute_result",
          "data": {
            "text/plain": [
              "str"
            ]
          },
          "metadata": {},
          "execution_count": 428
        }
      ]
    },
    {
      "cell_type": "code",
      "source": [
        "removed_item = list1.pop()"
      ],
      "metadata": {
        "id": "rlpUj65c3jlL"
      },
      "execution_count": 429,
      "outputs": []
    },
    {
      "cell_type": "code",
      "source": [
        "removed_item"
      ],
      "metadata": {
        "colab": {
          "base_uri": "https://localhost:8080/",
          "height": 35
        },
        "id": "KCwV9-3G3rK_",
        "outputId": "9681a43c-11ac-4015-d238-eb963ff07a70"
      },
      "execution_count": 430,
      "outputs": [
        {
          "output_type": "execute_result",
          "data": {
            "text/plain": [
              "'John'"
            ],
            "application/vnd.google.colaboratory.intrinsic+json": {
              "type": "string"
            }
          },
          "metadata": {},
          "execution_count": 430
        }
      ]
    },
    {
      "cell_type": "code",
      "source": [
        "list1.insert(2,3000)"
      ],
      "metadata": {
        "id": "OkjcOC9b3zbV"
      },
      "execution_count": 431,
      "outputs": []
    },
    {
      "cell_type": "code",
      "source": [
        "list1"
      ],
      "metadata": {
        "colab": {
          "base_uri": "https://localhost:8080/"
        },
        "id": "Wr4BWKy736rU",
        "outputId": "e4280674-2e6e-47be-ad1c-825666d59593"
      },
      "execution_count": 432,
      "outputs": [
        {
          "output_type": "execute_result",
          "data": {
            "text/plain": [
              "[2, 17, 3000, 18, 'HEY!']"
            ]
          },
          "metadata": {},
          "execution_count": 432
        }
      ]
    },
    {
      "cell_type": "markdown",
      "source": [
        "## Python Notes – Dictionaries\n",
        "\n",
        "### What is a Dictionary?\n",
        "\n",
        "* Stores data in **key-value pairs**, separated by a colon `:`\n",
        "* Enclosed in **curly braces `{}`**\n",
        "* Keys must be unique and immutable (strings, numbers, tuples)\n",
        "* Values can be any data type (strings, lists, dictionaries)\n",
        "* Dictionaries are **ordered** (since Python 3.7), **mutable**, and **do not allow duplicates**\n",
        "\n",
        "### Creating a Dictionary\n",
        "\n",
        "* `dict1 = {'brand': 'Ford', 'cost': 25000}`\n",
        "* Access a value:\n",
        "  * `dict1['brand']` → `'Ford'`\n",
        "\n",
        "### Modifying Dictionary\n",
        "\n",
        "* Update a value:\n",
        "  * `dict1['brand'] = 'Audi'`\n",
        "* Add a new key-value pair:\n",
        "  * `dict1['transmission'] = 'Manual'`\n",
        "\n",
        "### Embedded Dictionary\n",
        "\n",
        "* Add a nested dictionary:\n",
        "  * `dict1['other_attributes'] = {'color': 'Black', 'year': 2021}`\n",
        "* Access nested value:\n",
        "  * `dict1['other_attributes']['year']` → `2021`\n",
        "\n",
        "### Dictionary with List as Value\n",
        "\n",
        "* Add a list as value:\n",
        "  * `dict1['previous_owners'] = ['Mike', 'Shelley', 'Richard']`\n",
        "* Access list:\n",
        "  * `x = dict1['previous_owners']`\n",
        "  * `x[1]` → `'Shelley'`\n",
        "  * Or directly: `dict1['previous_owners'][1]` → `'Shelley'`\n",
        "\n",
        "### Dictionary Methods\n",
        "\n",
        "* `.pop(key)` – Removes key and returns its value\n",
        "  * `dict1.pop('previous_owners')`\n",
        "* `.items()` – Returns all key-value pairs as tuples\n",
        "  * `dict1.items()`\n",
        "* `.keys()` – Returns list of all keys\n",
        "  * `dict1.keys()`\n",
        "* `.values()` – Returns list of all values\n",
        "  * `dict1.values()`\n",
        "\n",
        "### Summary\n",
        "\n",
        "* Use square brackets to access, add, or update values\n",
        "* Dictionaries can store:\n",
        "  * Strings, numbers\n",
        "  * Lists (e.g., previous owners)\n",
        "  * Other dictionaries (e.g., other attributes)\n",
        "* Use built-in methods to manage or inspect contents"
      ],
      "metadata": {
        "id": "MeQa7IOvBJQC"
      }
    },
    {
      "cell_type": "code",
      "source": [
        "dict1 = {'brand': 'Ford', 'model': 'Mustang', 'year': 1964}"
      ],
      "metadata": {
        "id": "kVeYO9WeBJ6f"
      },
      "execution_count": 433,
      "outputs": []
    },
    {
      "cell_type": "code",
      "source": [
        "dict1['brand']"
      ],
      "metadata": {
        "colab": {
          "base_uri": "https://localhost:8080/",
          "height": 35
        },
        "id": "Ciwgqe9qCyS-",
        "outputId": "9f154056-02b5-4b16-bb44-16a58c560d86"
      },
      "execution_count": 434,
      "outputs": [
        {
          "output_type": "execute_result",
          "data": {
            "text/plain": [
              "'Ford'"
            ],
            "application/vnd.google.colaboratory.intrinsic+json": {
              "type": "string"
            }
          },
          "metadata": {},
          "execution_count": 434
        }
      ]
    },
    {
      "cell_type": "code",
      "source": [
        "dict1['brand'] = 'BMW'"
      ],
      "metadata": {
        "id": "I-qbj8G2C2Eo"
      },
      "execution_count": 435,
      "outputs": []
    },
    {
      "cell_type": "code",
      "source": [
        "dict1['model'] = 'M8'"
      ],
      "metadata": {
        "id": "HH-uFDusDRMz"
      },
      "execution_count": 436,
      "outputs": []
    },
    {
      "cell_type": "code",
      "source": [
        "dict1"
      ],
      "metadata": {
        "colab": {
          "base_uri": "https://localhost:8080/"
        },
        "id": "jzyvTUGNDYC0",
        "outputId": "7ec65525-95b2-474c-e8ee-bb6305ac24db"
      },
      "execution_count": 437,
      "outputs": [
        {
          "output_type": "execute_result",
          "data": {
            "text/plain": [
              "{'brand': 'BMW', 'model': 'M8', 'year': 1964}"
            ]
          },
          "metadata": {},
          "execution_count": 437
        }
      ]
    },
    {
      "cell_type": "code",
      "source": [
        "dict1['transmission'] = 'Manual'"
      ],
      "metadata": {
        "id": "ajkT2VudDZs6"
      },
      "execution_count": 438,
      "outputs": []
    },
    {
      "cell_type": "code",
      "source": [
        "dict1"
      ],
      "metadata": {
        "colab": {
          "base_uri": "https://localhost:8080/"
        },
        "id": "5T9ZkQuEDszu",
        "outputId": "cefe8685-488a-4ca4-e81b-76700d8f863f"
      },
      "execution_count": 439,
      "outputs": [
        {
          "output_type": "execute_result",
          "data": {
            "text/plain": [
              "{'brand': 'BMW', 'model': 'M8', 'year': 1964, 'transmission': 'Manual'}"
            ]
          },
          "metadata": {},
          "execution_count": 439
        }
      ]
    },
    {
      "cell_type": "code",
      "source": [
        "dict1['other_attributes'] = {'color': 'red', 'price': 20000}"
      ],
      "metadata": {
        "id": "yc5UZ--HDutO"
      },
      "execution_count": 440,
      "outputs": []
    },
    {
      "cell_type": "code",
      "source": [
        "dict1"
      ],
      "metadata": {
        "colab": {
          "base_uri": "https://localhost:8080/"
        },
        "id": "dDDvuXHyD4Jh",
        "outputId": "94d91ff9-a122-49cb-9afd-eab258be549a"
      },
      "execution_count": 441,
      "outputs": [
        {
          "output_type": "execute_result",
          "data": {
            "text/plain": [
              "{'brand': 'BMW',\n",
              " 'model': 'M8',\n",
              " 'year': 1964,\n",
              " 'transmission': 'Manual',\n",
              " 'other_attributes': {'color': 'red', 'price': 20000}}"
            ]
          },
          "metadata": {},
          "execution_count": 441
        }
      ]
    },
    {
      "cell_type": "code",
      "source": [
        "dict1['other_attributes']"
      ],
      "metadata": {
        "colab": {
          "base_uri": "https://localhost:8080/"
        },
        "id": "I8ESInxWEBG7",
        "outputId": "8aa3b1fc-e73e-4010-8eb2-a1314b8a9f51"
      },
      "execution_count": 442,
      "outputs": [
        {
          "output_type": "execute_result",
          "data": {
            "text/plain": [
              "{'color': 'red', 'price': 20000}"
            ]
          },
          "metadata": {},
          "execution_count": 442
        }
      ]
    },
    {
      "cell_type": "code",
      "source": [
        "dict1['other_attributes']['color']"
      ],
      "metadata": {
        "colab": {
          "base_uri": "https://localhost:8080/",
          "height": 35
        },
        "id": "30vBfL0xED5Q",
        "outputId": "ba3f4bb1-df91-40fc-a7da-da9665a5b904"
      },
      "execution_count": 443,
      "outputs": [
        {
          "output_type": "execute_result",
          "data": {
            "text/plain": [
              "'red'"
            ],
            "application/vnd.google.colaboratory.intrinsic+json": {
              "type": "string"
            }
          },
          "metadata": {},
          "execution_count": 443
        }
      ]
    },
    {
      "cell_type": "code",
      "source": [
        "dict1['previous_owners'] = ['Mike','John','Pam']"
      ],
      "metadata": {
        "id": "Z5NWedpMEKIJ"
      },
      "execution_count": 444,
      "outputs": []
    },
    {
      "cell_type": "code",
      "source": [
        "dict1['previous_owners']"
      ],
      "metadata": {
        "colab": {
          "base_uri": "https://localhost:8080/"
        },
        "id": "WEKeH-QZEfy9",
        "outputId": "66ab20bf-53a3-4a8f-b4d0-24d31f3e91e6"
      },
      "execution_count": 445,
      "outputs": [
        {
          "output_type": "execute_result",
          "data": {
            "text/plain": [
              "['Mike', 'John', 'Pam']"
            ]
          },
          "metadata": {},
          "execution_count": 445
        }
      ]
    },
    {
      "cell_type": "code",
      "source": [
        "x = dict1['previous_owners']"
      ],
      "metadata": {
        "id": "Z9FkPFfpEilm"
      },
      "execution_count": 446,
      "outputs": []
    },
    {
      "cell_type": "code",
      "source": [
        "x[1]"
      ],
      "metadata": {
        "colab": {
          "base_uri": "https://localhost:8080/",
          "height": 35
        },
        "id": "euL0aKdaEmDN",
        "outputId": "aba27ac0-f026-4959-c03e-3861aad92178"
      },
      "execution_count": 447,
      "outputs": [
        {
          "output_type": "execute_result",
          "data": {
            "text/plain": [
              "'John'"
            ],
            "application/vnd.google.colaboratory.intrinsic+json": {
              "type": "string"
            }
          },
          "metadata": {},
          "execution_count": 447
        }
      ]
    },
    {
      "cell_type": "code",
      "source": [
        "dict1['previous_owners'][2]"
      ],
      "metadata": {
        "colab": {
          "base_uri": "https://localhost:8080/",
          "height": 35
        },
        "id": "eCfy9DACEnv1",
        "outputId": "c2669b43-dfa7-4be1-ac3f-622105c9bedd"
      },
      "execution_count": 448,
      "outputs": [
        {
          "output_type": "execute_result",
          "data": {
            "text/plain": [
              "'Pam'"
            ],
            "application/vnd.google.colaboratory.intrinsic+json": {
              "type": "string"
            }
          },
          "metadata": {},
          "execution_count": 448
        }
      ]
    },
    {
      "cell_type": "code",
      "source": [
        "dict1.pop('previous_owners')"
      ],
      "metadata": {
        "colab": {
          "base_uri": "https://localhost:8080/"
        },
        "id": "8UyPQ657Exk5",
        "outputId": "49361d5e-1278-470c-aa64-005a13d3c280"
      },
      "execution_count": 449,
      "outputs": [
        {
          "output_type": "execute_result",
          "data": {
            "text/plain": [
              "['Mike', 'John', 'Pam']"
            ]
          },
          "metadata": {},
          "execution_count": 449
        }
      ]
    },
    {
      "cell_type": "code",
      "source": [
        "dict1"
      ],
      "metadata": {
        "colab": {
          "base_uri": "https://localhost:8080/"
        },
        "id": "vI_MI1m3E6pa",
        "outputId": "46dd8937-abad-48cb-92fa-6352db8cb3f1"
      },
      "execution_count": 450,
      "outputs": [
        {
          "output_type": "execute_result",
          "data": {
            "text/plain": [
              "{'brand': 'BMW',\n",
              " 'model': 'M8',\n",
              " 'year': 1964,\n",
              " 'transmission': 'Manual',\n",
              " 'other_attributes': {'color': 'red', 'price': 20000}}"
            ]
          },
          "metadata": {},
          "execution_count": 450
        }
      ]
    },
    {
      "cell_type": "code",
      "source": [
        "dict1.items()"
      ],
      "metadata": {
        "colab": {
          "base_uri": "https://localhost:8080/"
        },
        "id": "EzjDZaLJE8i6",
        "outputId": "a6291af4-b1f3-45ac-852e-bb22476119d1"
      },
      "execution_count": 451,
      "outputs": [
        {
          "output_type": "execute_result",
          "data": {
            "text/plain": [
              "dict_items([('brand', 'BMW'), ('model', 'M8'), ('year', 1964), ('transmission', 'Manual'), ('other_attributes', {'color': 'red', 'price': 20000})])"
            ]
          },
          "metadata": {},
          "execution_count": 451
        }
      ]
    },
    {
      "cell_type": "code",
      "source": [
        "dict1.keys()"
      ],
      "metadata": {
        "colab": {
          "base_uri": "https://localhost:8080/"
        },
        "id": "ARSmrdmyFMPw",
        "outputId": "b8df179c-bd09-4dea-82cd-45c6c9f9a989"
      },
      "execution_count": 452,
      "outputs": [
        {
          "output_type": "execute_result",
          "data": {
            "text/plain": [
              "dict_keys(['brand', 'model', 'year', 'transmission', 'other_attributes'])"
            ]
          },
          "metadata": {},
          "execution_count": 452
        }
      ]
    },
    {
      "cell_type": "code",
      "source": [
        "dict1.values()"
      ],
      "metadata": {
        "colab": {
          "base_uri": "https://localhost:8080/"
        },
        "id": "pwkqGvDAFQDz",
        "outputId": "6699f84b-040d-43d6-cf19-fe23d300b894"
      },
      "execution_count": 453,
      "outputs": [
        {
          "output_type": "execute_result",
          "data": {
            "text/plain": [
              "dict_values(['BMW', 'M8', 1964, 'Manual', {'color': 'red', 'price': 20000}])"
            ]
          },
          "metadata": {},
          "execution_count": 453
        }
      ]
    },
    {
      "cell_type": "markdown",
      "source": [
        "## Python Notes – Tuples\n",
        "\n",
        "### What is a Tuple?\n",
        "\n",
        "* Tuples are ordered, immutable sequences of elements.\n",
        "* Enclosed in **round brackets `()`**\n",
        "* Allow duplicate values\n",
        "* Can store multiple data types (e.g., int, str, list, dict)\n",
        "\n",
        "* Example:\n",
        "  * `x = (1, \"apple\", [10, 20], {\"brand\": \"Nike\"})`\n",
        "  * `type(x)` → `<class 'tuple'>`\n",
        "\n",
        "### Tuple Indexing & Slicing\n",
        "\n",
        "* You can use indexing and slicing like lists:\n",
        "  * `x[0]` → returns first element\n",
        "\n",
        "### Tuple Immutability\n",
        "\n",
        "* Cannot change values once assigned:\n",
        "  * `x[0] = 2` → Error: `'tuple' object does not support item assignment`\n",
        "\n",
        "### Tuple Methods\n",
        "\n",
        "* `.count(value)` – Counts number of times value appears\n",
        "  * `x = (1, 1, 1, 2, 3)`\n",
        "  * `x.count(1)` → `3`\n",
        "* `.index(value)` – Returns index of first occurrence\n",
        "  * `x.index(3)` → `4`"
      ],
      "metadata": {
        "id": "dNMFkQq6Fyax"
      }
    },
    {
      "cell_type": "code",
      "source": [
        " x = (1,2,3,4,4)"
      ],
      "metadata": {
        "id": "0--TPslEFzCp"
      },
      "execution_count": 454,
      "outputs": []
    },
    {
      "cell_type": "code",
      "source": [
        "x"
      ],
      "metadata": {
        "colab": {
          "base_uri": "https://localhost:8080/"
        },
        "id": "tVqpPJDaHjOc",
        "outputId": "7fcc9a19-a8c7-4f14-8780-dbc3c13e18cc"
      },
      "execution_count": 455,
      "outputs": [
        {
          "output_type": "execute_result",
          "data": {
            "text/plain": [
              "(1, 2, 3, 4, 4)"
            ]
          },
          "metadata": {},
          "execution_count": 455
        }
      ]
    },
    {
      "cell_type": "code",
      "source": [
        "type(x)"
      ],
      "metadata": {
        "colab": {
          "base_uri": "https://localhost:8080/"
        },
        "id": "LFz8dq0qHo5L",
        "outputId": "61e20f15-3a98-47db-ad37-bc5fe97cbdbd"
      },
      "execution_count": 456,
      "outputs": [
        {
          "output_type": "execute_result",
          "data": {
            "text/plain": [
              "tuple"
            ]
          },
          "metadata": {},
          "execution_count": 456
        }
      ]
    },
    {
      "cell_type": "code",
      "source": [
        "x = (1,'John', [1,2,3,4], {'key1','value1'})"
      ],
      "metadata": {
        "id": "Q8AVqPXzHtlP"
      },
      "execution_count": 457,
      "outputs": []
    },
    {
      "cell_type": "code",
      "source": [
        "x"
      ],
      "metadata": {
        "colab": {
          "base_uri": "https://localhost:8080/"
        },
        "id": "b6PDTJ83IDm7",
        "outputId": "e0fb27b6-1969-42b6-8eb0-0af302dbf167"
      },
      "execution_count": 458,
      "outputs": [
        {
          "output_type": "execute_result",
          "data": {
            "text/plain": [
              "(1, 'John', [1, 2, 3, 4], {'key1', 'value1'})"
            ]
          },
          "metadata": {},
          "execution_count": 458
        }
      ]
    },
    {
      "cell_type": "code",
      "source": [
        "type(x)"
      ],
      "metadata": {
        "colab": {
          "base_uri": "https://localhost:8080/"
        },
        "id": "AGeLXfEsIElQ",
        "outputId": "444e6bdc-a813-4aaf-9474-0e55e5f6dfe3"
      },
      "execution_count": 459,
      "outputs": [
        {
          "output_type": "execute_result",
          "data": {
            "text/plain": [
              "tuple"
            ]
          },
          "metadata": {},
          "execution_count": 459
        }
      ]
    },
    {
      "cell_type": "code",
      "source": [
        "x[2]"
      ],
      "metadata": {
        "colab": {
          "base_uri": "https://localhost:8080/"
        },
        "id": "boJkDlSMIGYt",
        "outputId": "79427b11-095e-4292-f46e-c422d3b31ade"
      },
      "execution_count": 460,
      "outputs": [
        {
          "output_type": "execute_result",
          "data": {
            "text/plain": [
              "[1, 2, 3, 4]"
            ]
          },
          "metadata": {},
          "execution_count": 460
        }
      ]
    },
    {
      "cell_type": "code",
      "source": [
        "x[0] = 2"
      ],
      "metadata": {
        "colab": {
          "base_uri": "https://localhost:8080/",
          "height": 144
        },
        "id": "enq_svaSILtp",
        "outputId": "a565d040-4eb8-47bb-b762-3e65d7590b5a"
      },
      "execution_count": 461,
      "outputs": [
        {
          "output_type": "error",
          "ename": "TypeError",
          "evalue": "'tuple' object does not support item assignment",
          "traceback": [
            "\u001b[0;31m---------------------------------------------------------------------------\u001b[0m",
            "\u001b[0;31mTypeError\u001b[0m                                 Traceback (most recent call last)",
            "\u001b[0;32m/tmp/ipython-input-461-3967680939.py\u001b[0m in \u001b[0;36m<cell line: 0>\u001b[0;34m()\u001b[0m\n\u001b[0;32m----> 1\u001b[0;31m \u001b[0mx\u001b[0m\u001b[0;34m[\u001b[0m\u001b[0;36m0\u001b[0m\u001b[0;34m]\u001b[0m \u001b[0;34m=\u001b[0m \u001b[0;36m2\u001b[0m\u001b[0;34m\u001b[0m\u001b[0;34m\u001b[0m\u001b[0m\n\u001b[0m",
            "\u001b[0;31mTypeError\u001b[0m: 'tuple' object does not support item assignment"
          ]
        }
      ]
    },
    {
      "cell_type": "code",
      "source": [
        "y = (1,2,1,3,2,1,4,5,4,6)"
      ],
      "metadata": {
        "id": "bjY41pYXIPnZ"
      },
      "execution_count": 462,
      "outputs": []
    },
    {
      "cell_type": "code",
      "source": [
        "y"
      ],
      "metadata": {
        "colab": {
          "base_uri": "https://localhost:8080/"
        },
        "id": "GbKxozAiIZJH",
        "outputId": "e54bed2c-ffdc-4a5c-8972-f1aeda2bccce"
      },
      "execution_count": 463,
      "outputs": [
        {
          "output_type": "execute_result",
          "data": {
            "text/plain": [
              "(1, 2, 1, 3, 2, 1, 4, 5, 4, 6)"
            ]
          },
          "metadata": {},
          "execution_count": 463
        }
      ]
    },
    {
      "cell_type": "code",
      "source": [
        "y.count(1)"
      ],
      "metadata": {
        "colab": {
          "base_uri": "https://localhost:8080/"
        },
        "id": "e6pzwfu6IaMf",
        "outputId": "ceef89d6-0fd4-44af-fb8b-bba6a9dedfc6"
      },
      "execution_count": 464,
      "outputs": [
        {
          "output_type": "execute_result",
          "data": {
            "text/plain": [
              "3"
            ]
          },
          "metadata": {},
          "execution_count": 464
        }
      ]
    },
    {
      "cell_type": "code",
      "source": [
        "y.index(1)"
      ],
      "metadata": {
        "colab": {
          "base_uri": "https://localhost:8080/"
        },
        "id": "jz7_sYyBIfKy",
        "outputId": "a41c9fbb-3cd4-4cc4-f083-8ecc9c0b9205"
      },
      "execution_count": 465,
      "outputs": [
        {
          "output_type": "execute_result",
          "data": {
            "text/plain": [
              "0"
            ]
          },
          "metadata": {},
          "execution_count": 465
        }
      ]
    },
    {
      "cell_type": "code",
      "source": [
        "y.index(4)"
      ],
      "metadata": {
        "colab": {
          "base_uri": "https://localhost:8080/"
        },
        "id": "Uybx7dvjIjTm",
        "outputId": "419ff742-fd82-4895-ac8b-505365e112fa"
      },
      "execution_count": 466,
      "outputs": [
        {
          "output_type": "execute_result",
          "data": {
            "text/plain": [
              "6"
            ]
          },
          "metadata": {},
          "execution_count": 466
        }
      ]
    },
    {
      "cell_type": "markdown",
      "source": [
        "## Python Notes – Sets\n",
        "\n",
        "### What is a Set?\n",
        "\n",
        "* Sets are **unordered, mutable** collections of **unique elements**\n",
        "* Enclosed in **curly braces `{}`**\n",
        "* Cannot contain duplicates\n",
        "* Do not support indexing or slicing\n",
        "\n",
        "* Example:\n",
        "  * `x = {1, 2, 3}`\n",
        "  * `type(x)` → `<class 'set'>`\n",
        "\n",
        "### Creating a Set\n",
        "\n",
        "* Non-empty: `x = {1, 2, 3}`\n",
        "* Empty: `x = set()`  \n",
        "  * Note: `{}` creates a dictionary, not a set\n",
        "\n",
        "### Set Operations\n",
        "\n",
        "* `.add(value)` – Adds value to set\n",
        "  * `x.add(5)`\n",
        "  * Adding `5` again has no effect\n",
        "\n",
        "* Converting list to set removes duplicates:\n",
        "  * `list1 = [1, 2, 2, 3]`\n",
        "  * `set1 = set(list1)` → `{1, 2, 3}`\n",
        "\n",
        "### Set Methods\n",
        "\n",
        "* `.intersection(other_set)` – Returns common elements\n",
        "  * `x = {1, 2, 3, 4}`\n",
        "  * `y = {3, 4, 5, 6}`\n",
        "  * `x.intersection(y)` → `{3, 4}`\n",
        "\n",
        "* `.pop()` – Removes and returns a random element\n",
        "\n",
        "### Notes\n",
        "\n",
        "* Lists and tuples do not support intersection\n",
        "  * Convert them to sets first: `set(list1).intersection(set(list2))`\n",
        "* Sets are useful for filtering unique values and set-based operations"
      ],
      "metadata": {
        "id": "HX9zZ3DbOcHH"
      }
    },
    {
      "cell_type": "code",
      "source": [
        " p = {1,3,2,4}"
      ],
      "metadata": {
        "id": "MlzGwMplInEu"
      },
      "execution_count": 467,
      "outputs": []
    },
    {
      "cell_type": "code",
      "source": [
        "p"
      ],
      "metadata": {
        "colab": {
          "base_uri": "https://localhost:8080/"
        },
        "id": "eR8Ca_3zKHqj",
        "outputId": "e8725ab5-a822-4ed6-aeb9-fe970018ecc2"
      },
      "execution_count": 468,
      "outputs": [
        {
          "output_type": "execute_result",
          "data": {
            "text/plain": [
              "{1, 2, 3, 4}"
            ]
          },
          "metadata": {},
          "execution_count": 468
        }
      ]
    },
    {
      "cell_type": "code",
      "source": [
        "type(p)"
      ],
      "metadata": {
        "colab": {
          "base_uri": "https://localhost:8080/"
        },
        "id": "SgYz05mHKSJR",
        "outputId": "7cd8e3f8-b461-4f48-e479-d086f7c85095"
      },
      "execution_count": 469,
      "outputs": [
        {
          "output_type": "execute_result",
          "data": {
            "text/plain": [
              "set"
            ]
          },
          "metadata": {},
          "execution_count": 469
        }
      ]
    },
    {
      "cell_type": "code",
      "source": [
        "x=set()"
      ],
      "metadata": {
        "id": "VJZ3_tR7KVyL"
      },
      "execution_count": 470,
      "outputs": []
    },
    {
      "cell_type": "code",
      "source": [
        "type(x)"
      ],
      "metadata": {
        "colab": {
          "base_uri": "https://localhost:8080/"
        },
        "id": "3-DMCKaoKaCN",
        "outputId": "f0e733ae-040d-45b2-c392-bb39957e3a9c"
      },
      "execution_count": 471,
      "outputs": [
        {
          "output_type": "execute_result",
          "data": {
            "text/plain": [
              "set"
            ]
          },
          "metadata": {},
          "execution_count": 471
        }
      ]
    },
    {
      "cell_type": "code",
      "source": [
        "x={}"
      ],
      "metadata": {
        "id": "FxqyeG33Kbq4"
      },
      "execution_count": 472,
      "outputs": []
    },
    {
      "cell_type": "code",
      "source": [
        "type(x)"
      ],
      "metadata": {
        "colab": {
          "base_uri": "https://localhost:8080/"
        },
        "id": "WAKpmcj0KgU2",
        "outputId": "d7c1467d-33c3-4398-c67b-55629033a3ca"
      },
      "execution_count": 473,
      "outputs": [
        {
          "output_type": "execute_result",
          "data": {
            "text/plain": [
              "dict"
            ]
          },
          "metadata": {},
          "execution_count": 473
        }
      ]
    },
    {
      "cell_type": "code",
      "source": [
        "x = {2,3,'John'}"
      ],
      "metadata": {
        "id": "gwEdxTiwKiEx"
      },
      "execution_count": 474,
      "outputs": []
    },
    {
      "cell_type": "code",
      "source": [
        "x"
      ],
      "metadata": {
        "colab": {
          "base_uri": "https://localhost:8080/"
        },
        "id": "3jjWNZcfKo13",
        "outputId": "98b2065f-2fd6-4f50-ee6e-053f056299f8"
      },
      "execution_count": 475,
      "outputs": [
        {
          "output_type": "execute_result",
          "data": {
            "text/plain": [
              "{2, 3, 'John'}"
            ]
          },
          "metadata": {},
          "execution_count": 475
        }
      ]
    },
    {
      "cell_type": "code",
      "source": [
        "type(x)"
      ],
      "metadata": {
        "colab": {
          "base_uri": "https://localhost:8080/"
        },
        "id": "W71JPMDPKriQ",
        "outputId": "7a71d3da-4170-40ed-ed94-b4fbf4ea793c"
      },
      "execution_count": 476,
      "outputs": [
        {
          "output_type": "execute_result",
          "data": {
            "text/plain": [
              "set"
            ]
          },
          "metadata": {},
          "execution_count": 476
        }
      ]
    },
    {
      "cell_type": "code",
      "source": [
        "x.add(5)"
      ],
      "metadata": {
        "id": "2NWdGwCAK8gr"
      },
      "execution_count": 477,
      "outputs": []
    },
    {
      "cell_type": "code",
      "source": [
        "x"
      ],
      "metadata": {
        "colab": {
          "base_uri": "https://localhost:8080/"
        },
        "id": "7pDxnmeWK_4_",
        "outputId": "8ba3db01-60b2-4a79-c613-f1e1bfa506ed"
      },
      "execution_count": 478,
      "outputs": [
        {
          "output_type": "execute_result",
          "data": {
            "text/plain": [
              "{2, 3, 5, 'John'}"
            ]
          },
          "metadata": {},
          "execution_count": 478
        }
      ]
    },
    {
      "cell_type": "code",
      "source": [
        "x.add(5)"
      ],
      "metadata": {
        "id": "Cw0k4DJsLKrv"
      },
      "execution_count": 479,
      "outputs": []
    },
    {
      "cell_type": "code",
      "source": [
        "x"
      ],
      "metadata": {
        "colab": {
          "base_uri": "https://localhost:8080/"
        },
        "id": "XTkvtJeHLRnv",
        "outputId": "828624d6-ddca-4cbb-df98-d787bf402648"
      },
      "execution_count": 480,
      "outputs": [
        {
          "output_type": "execute_result",
          "data": {
            "text/plain": [
              "{2, 3, 5, 'John'}"
            ]
          },
          "metadata": {},
          "execution_count": 480
        }
      ]
    },
    {
      "cell_type": "code",
      "source": [
        "y = {1,2,2,3,2,4,5,5,5,5}"
      ],
      "metadata": {
        "id": "svf4cJWjLSVz"
      },
      "execution_count": 481,
      "outputs": []
    },
    {
      "cell_type": "code",
      "source": [
        "y"
      ],
      "metadata": {
        "colab": {
          "base_uri": "https://localhost:8080/"
        },
        "id": "cW1Z35xSMRfG",
        "outputId": "1e2924c6-74c7-4601-a09a-e24d77d988c2"
      },
      "execution_count": 482,
      "outputs": [
        {
          "output_type": "execute_result",
          "data": {
            "text/plain": [
              "{1, 2, 3, 4, 5}"
            ]
          },
          "metadata": {},
          "execution_count": 482
        }
      ]
    },
    {
      "cell_type": "code",
      "source": [
        "y[1]"
      ],
      "metadata": {
        "colab": {
          "base_uri": "https://localhost:8080/",
          "height": 144
        },
        "id": "K22qhjf5MSg-",
        "outputId": "55955097-22fa-4b51-a287-c49cc80b54ff"
      },
      "execution_count": 483,
      "outputs": [
        {
          "output_type": "error",
          "ename": "TypeError",
          "evalue": "'set' object is not subscriptable",
          "traceback": [
            "\u001b[0;31m---------------------------------------------------------------------------\u001b[0m",
            "\u001b[0;31mTypeError\u001b[0m                                 Traceback (most recent call last)",
            "\u001b[0;32m/tmp/ipython-input-483-1463351067.py\u001b[0m in \u001b[0;36m<cell line: 0>\u001b[0;34m()\u001b[0m\n\u001b[0;32m----> 1\u001b[0;31m \u001b[0my\u001b[0m\u001b[0;34m[\u001b[0m\u001b[0;36m1\u001b[0m\u001b[0;34m]\u001b[0m\u001b[0;34m\u001b[0m\u001b[0;34m\u001b[0m\u001b[0m\n\u001b[0m",
            "\u001b[0;31mTypeError\u001b[0m: 'set' object is not subscriptable"
          ]
        }
      ]
    },
    {
      "cell_type": "code",
      "source": [
        " list1 = [1,2,3,2]"
      ],
      "metadata": {
        "id": "TLOApXZ8MV1C"
      },
      "execution_count": 484,
      "outputs": []
    },
    {
      "cell_type": "code",
      "source": [
        "set1 = set(list1)"
      ],
      "metadata": {
        "id": "tht956eiMov1"
      },
      "execution_count": 485,
      "outputs": []
    },
    {
      "cell_type": "code",
      "source": [
        "set1"
      ],
      "metadata": {
        "colab": {
          "base_uri": "https://localhost:8080/"
        },
        "id": "OSwI_OziMrrN",
        "outputId": "f6e417ad-56fa-40e5-d040-5c1e93a4c418"
      },
      "execution_count": 486,
      "outputs": [
        {
          "output_type": "execute_result",
          "data": {
            "text/plain": [
              "{1, 2, 3}"
            ]
          },
          "metadata": {},
          "execution_count": 486
        }
      ]
    },
    {
      "cell_type": "code",
      "source": [
        "x = {1,2,3,4}\n",
        "y = {3,4,5,6}"
      ],
      "metadata": {
        "id": "zAHGui64NWyq"
      },
      "execution_count": 487,
      "outputs": []
    },
    {
      "cell_type": "code",
      "source": [
        "x.intersection(y)"
      ],
      "metadata": {
        "colab": {
          "base_uri": "https://localhost:8080/"
        },
        "id": "A4sAlPOEN4DA",
        "outputId": "6de987b1-bf57-4995-a5d5-849ad0bb42bf"
      },
      "execution_count": 488,
      "outputs": [
        {
          "output_type": "execute_result",
          "data": {
            "text/plain": [
              "{3, 4}"
            ]
          },
          "metadata": {},
          "execution_count": 488
        }
      ]
    },
    {
      "cell_type": "markdown",
      "source": [
        "## Python Notes – Booleans and Keywords\n",
        "\n",
        "### Boolean Data Type\n",
        "\n",
        "* Booleans have only **two possible values**: `True` or `False`\n",
        "* Case-sensitive:\n",
        "  * Must be written as `True` and `False`\n",
        "  * `true`, `false`, `TRUE`, etc. → Invalid\n",
        "\n",
        "* Example:\n",
        "  * `5 > 7` → `False` (Boolean result)\n",
        "  * `10 == 10` → `True`\n",
        "\n",
        "* Used mainly in **conditional statements**"
      ],
      "metadata": {
        "id": "dpn9BVh-OobO"
      }
    },
    {
      "cell_type": "code",
      "source": [
        "type(True)"
      ],
      "metadata": {
        "colab": {
          "base_uri": "https://localhost:8080/"
        },
        "id": "WfOJNNUhPAKs",
        "outputId": "7924af83-d0da-4e72-8a56-4451f0638d7a"
      },
      "execution_count": 489,
      "outputs": [
        {
          "output_type": "execute_result",
          "data": {
            "text/plain": [
              "bool"
            ]
          },
          "metadata": {},
          "execution_count": 489
        }
      ]
    },
    {
      "cell_type": "code",
      "source": [
        "type(False)"
      ],
      "metadata": {
        "colab": {
          "base_uri": "https://localhost:8080/"
        },
        "id": "HoISSK7-PCvX",
        "outputId": "2e4c3939-02da-4ca9-ca0c-7f8e3a34a616"
      },
      "execution_count": 490,
      "outputs": [
        {
          "output_type": "execute_result",
          "data": {
            "text/plain": [
              "bool"
            ]
          },
          "metadata": {},
          "execution_count": 490
        }
      ]
    },
    {
      "cell_type": "code",
      "source": [
        "type(true)"
      ],
      "metadata": {
        "colab": {
          "base_uri": "https://localhost:8080/",
          "height": 144
        },
        "id": "znfBOCzSPFg1",
        "outputId": "fdce052d-8ff2-4761-a753-19ca7377719b"
      },
      "execution_count": 491,
      "outputs": [
        {
          "output_type": "error",
          "ename": "NameError",
          "evalue": "name 'true' is not defined",
          "traceback": [
            "\u001b[0;31m---------------------------------------------------------------------------\u001b[0m",
            "\u001b[0;31mNameError\u001b[0m                                 Traceback (most recent call last)",
            "\u001b[0;32m/tmp/ipython-input-491-1822790664.py\u001b[0m in \u001b[0;36m<cell line: 0>\u001b[0;34m()\u001b[0m\n\u001b[0;32m----> 1\u001b[0;31m \u001b[0mtype\u001b[0m\u001b[0;34m(\u001b[0m\u001b[0mtrue\u001b[0m\u001b[0;34m)\u001b[0m\u001b[0;34m\u001b[0m\u001b[0;34m\u001b[0m\u001b[0m\n\u001b[0m",
            "\u001b[0;31mNameError\u001b[0m: name 'true' is not defined"
          ]
        }
      ]
    },
    {
      "cell_type": "code",
      "source": [
        "7>5"
      ],
      "metadata": {
        "colab": {
          "base_uri": "https://localhost:8080/"
        },
        "id": "NgX2hbo4PNp2",
        "outputId": "f1fb1d4b-60fa-4dd7-f088-353f2a711bc9"
      },
      "execution_count": 492,
      "outputs": [
        {
          "output_type": "execute_result",
          "data": {
            "text/plain": [
              "True"
            ]
          },
          "metadata": {},
          "execution_count": 492
        }
      ]
    },
    {
      "cell_type": "markdown",
      "source": [
        "## Python Keywords\n",
        "\n",
        "* **Keywords** are reserved words with special meaning in Python\n",
        "  * Examples: `if`, `for`, `while`, `return`, `class`, `def`\n",
        "* View all keywords:\n",
        "  * `help('keywords')`\n",
        "\n",
        "* You **cannot** use keywords as variable names\n",
        "  * Example: `if = 5` → Invalid\n",
        "\n",
        "---\n",
        "\n",
        "## Class Names Should Not Be Used as Variables\n",
        "\n",
        "* Avoid using names like `str`, `list`, `dict`, `tuple`, `set` as variable names\n",
        "  * These are class types in Python\n",
        "\n",
        "* Example:\n",
        "  * Do not write: `list = [1, 2, 3, 4]`\n",
        "  * Instead write: `list_1 = [1, 2, 3, 4]`"
      ],
      "metadata": {
        "id": "TqbTlEFXPl7K"
      }
    }
  ]
}