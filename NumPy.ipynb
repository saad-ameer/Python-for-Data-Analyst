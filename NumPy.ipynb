{
  "nbformat": 4,
  "nbformat_minor": 0,
  "metadata": {
    "colab": {
      "provenance": [],
      "authorship_tag": "ABX9TyND6/JeNnWX33ecAyS5U9nm",
      "include_colab_link": true
    },
    "kernelspec": {
      "name": "python3",
      "display_name": "Python 3"
    },
    "language_info": {
      "name": "python"
    }
  },
  "cells": [
    {
      "cell_type": "markdown",
      "metadata": {
        "id": "view-in-github",
        "colab_type": "text"
      },
      "source": [
        "<a href=\"https://colab.research.google.com/github/saad-ameer/Python-for-Data-Analyst/blob/main/NumPy.ipynb\" target=\"_parent\"><img src=\"https://colab.research.google.com/assets/colab-badge.svg\" alt=\"Open In Colab\"/></a>"
      ]
    },
    {
      "cell_type": "markdown",
      "source": [
        "## Python Notes – NumPy Introduction\n",
        "\n",
        "### * What is NumPy?\n",
        "\n",
        "* NumPy stands for Numerical Python.\n",
        "* Used for working with numerical data and multi-dimensional arrays.\n",
        "* Arrays are more memory-efficient and faster than Python lists.\n",
        "* All elements in a NumPy array must be of the same data type (homogeneous).\n",
        "\n",
        "---\n",
        "\n",
        "### * 1D Array Creation\n",
        "\n",
        "* Import NumPy using alias:\n",
        "  * `import numpy as np`\n",
        "* Convert a list to NumPy array:\n",
        "  * `arr = np.array([1, 2, 3, 4, 5])`\n",
        "* Check type: `type(arr)` → `numpy.ndarray`\n",
        "* Check shape: `arr.shape` → returns a tuple (length, )\n",
        "\n",
        "---\n",
        "\n",
        "### * 2D Array Creation\n",
        "\n",
        "* Use list of lists:\n",
        "  * `arr2d = np.array([[1, 2], [3, 4], [5, 6]])`\n",
        "* Shape: `arr2d.shape` → `(3, 2)` (3 rows, 2 columns)\n",
        "\n",
        "---\n",
        "\n",
        "### * Acceptable Inputs\n",
        "\n",
        "* You can pass:\n",
        "  * Lists → creates normal array\n",
        "  * Tuples → creates array\n",
        "  * Sets → will be treated as single element unless converted to list\n",
        "\n",
        "---\n",
        "\n",
        "### * Data Types in NumPy\n",
        "\n",
        "* Data type can be set using `dtype` parameter:\n",
        "  * `np.array([1, 2, 3], dtype=np.longdouble)`\n",
        "* You can also use character codes, e.g., `'g'` for long double\n",
        "* Useful for higher precision, e.g.:\n",
        "  * `np.longdouble(100) / np.longdouble(3)` gives more precise result\n",
        "\n",
        "---\n",
        "\n",
        "### * Summary\n",
        "\n",
        "* NumPy arrays:\n",
        "  * Are faster and more efficient than lists\n",
        "  * Have fixed type and shape\n",
        "* Use `.shape` to check dimensions\n",
        "* Use `dtype` to control data precision\n",
        "* Essential for later data libraries like pandas"
      ],
      "metadata": {
        "id": "DHBgpFTMQF2X"
      }
    },
    {
      "cell_type": "code",
      "execution_count": 43,
      "metadata": {
        "id": "0rO_-wIE_GlR"
      },
      "outputs": [],
      "source": [
        "import numpy as np"
      ]
    },
    {
      "cell_type": "code",
      "source": [
        "list1 = [2,3,4,6,22,6,7]"
      ],
      "metadata": {
        "id": "U_txzUZVEhoF"
      },
      "execution_count": 44,
      "outputs": []
    },
    {
      "cell_type": "code",
      "source": [
        "x = np.array(list1)"
      ],
      "metadata": {
        "id": "jJIhtzxEEmq2"
      },
      "execution_count": 45,
      "outputs": []
    },
    {
      "cell_type": "code",
      "source": [
        "type(x)"
      ],
      "metadata": {
        "colab": {
          "base_uri": "https://localhost:8080/"
        },
        "id": "lGrvv6GqE4OZ",
        "outputId": "289a07ba-0cca-4b47-d463-aba4dd480af6"
      },
      "execution_count": 46,
      "outputs": [
        {
          "output_type": "execute_result",
          "data": {
            "text/plain": [
              "numpy.ndarray"
            ]
          },
          "metadata": {},
          "execution_count": 46
        }
      ]
    },
    {
      "cell_type": "code",
      "source": [
        "np.shape(x)"
      ],
      "metadata": {
        "colab": {
          "base_uri": "https://localhost:8080/"
        },
        "id": "GONlmgN6E5cB",
        "outputId": "a46e4bce-f2ca-4510-c61e-950cf6b264aa"
      },
      "execution_count": 47,
      "outputs": [
        {
          "output_type": "execute_result",
          "data": {
            "text/plain": [
              "(7,)"
            ]
          },
          "metadata": {},
          "execution_count": 47
        }
      ]
    },
    {
      "cell_type": "code",
      "source": [
        "x.shape"
      ],
      "metadata": {
        "colab": {
          "base_uri": "https://localhost:8080/"
        },
        "id": "MsBLNfUVE8wi",
        "outputId": "495e2372-65a7-48a0-f5c1-c08bd266fc53"
      },
      "execution_count": 48,
      "outputs": [
        {
          "output_type": "execute_result",
          "data": {
            "text/plain": [
              "(7,)"
            ]
          },
          "metadata": {},
          "execution_count": 48
        }
      ]
    },
    {
      "cell_type": "code",
      "source": [
        "np.array([5,3,78,2,378,51,2])"
      ],
      "metadata": {
        "colab": {
          "base_uri": "https://localhost:8080/"
        },
        "id": "x6xwmMVZFAM8",
        "outputId": "a775f422-2201-4b08-98cf-5bce2df56090"
      },
      "execution_count": 49,
      "outputs": [
        {
          "output_type": "execute_result",
          "data": {
            "text/plain": [
              "array([  5,   3,  78,   2, 378,  51,   2])"
            ]
          },
          "metadata": {},
          "execution_count": 49
        }
      ]
    },
    {
      "cell_type": "code",
      "source": [
        "np.array((2,4,6,2,2,6,6,6,5))"
      ],
      "metadata": {
        "colab": {
          "base_uri": "https://localhost:8080/"
        },
        "id": "A7niWxgaFFgq",
        "outputId": "f0b79930-32bf-40d8-bd5a-4d48a072ae36"
      },
      "execution_count": 50,
      "outputs": [
        {
          "output_type": "execute_result",
          "data": {
            "text/plain": [
              "array([2, 4, 6, 2, 2, 6, 6, 6, 5])"
            ]
          },
          "metadata": {},
          "execution_count": 50
        }
      ]
    },
    {
      "cell_type": "code",
      "source": [
        "np.array({2,5,6,3,4,6,2,2})"
      ],
      "metadata": {
        "colab": {
          "base_uri": "https://localhost:8080/"
        },
        "id": "qljT7rN8FS9R",
        "outputId": "141ab306-d64f-4c5c-fd57-1bf7cff820c1"
      },
      "execution_count": 51,
      "outputs": [
        {
          "output_type": "execute_result",
          "data": {
            "text/plain": [
              "array({2, 3, 4, 5, 6}, dtype=object)"
            ]
          },
          "metadata": {},
          "execution_count": 51
        }
      ]
    },
    {
      "cell_type": "code",
      "source": [
        "np.array({2,5,6,3,4,6,2,2}).shape"
      ],
      "metadata": {
        "colab": {
          "base_uri": "https://localhost:8080/"
        },
        "id": "URhZaa9-FWuD",
        "outputId": "0bd0c7e7-6ab2-4188-ac96-0504128525e2"
      },
      "execution_count": 52,
      "outputs": [
        {
          "output_type": "execute_result",
          "data": {
            "text/plain": [
              "()"
            ]
          },
          "metadata": {},
          "execution_count": 52
        }
      ]
    },
    {
      "cell_type": "code",
      "source": [
        "arr2d = np.array([[1,1,1,1],[2,2,2,2],[3,3,3,3]])"
      ],
      "metadata": {
        "id": "aNHWqTKjFd2_"
      },
      "execution_count": 53,
      "outputs": []
    },
    {
      "cell_type": "code",
      "source": [
        "arr2d"
      ],
      "metadata": {
        "colab": {
          "base_uri": "https://localhost:8080/"
        },
        "id": "000UHgXaGGaP",
        "outputId": "75960f19-2e81-4d69-bd33-1c8beafa27b8"
      },
      "execution_count": 54,
      "outputs": [
        {
          "output_type": "execute_result",
          "data": {
            "text/plain": [
              "array([[1, 1, 1, 1],\n",
              "       [2, 2, 2, 2],\n",
              "       [3, 3, 3, 3]])"
            ]
          },
          "metadata": {},
          "execution_count": 54
        }
      ]
    },
    {
      "cell_type": "code",
      "source": [
        "arr2d.shape"
      ],
      "metadata": {
        "colab": {
          "base_uri": "https://localhost:8080/"
        },
        "id": "HAR5gkUsGRyp",
        "outputId": "093e9478-236f-451f-ea06-28c6065b3fd2"
      },
      "execution_count": 55,
      "outputs": [
        {
          "output_type": "execute_result",
          "data": {
            "text/plain": [
              "(3, 4)"
            ]
          },
          "metadata": {},
          "execution_count": 55
        }
      ]
    },
    {
      "cell_type": "code",
      "source": [
        "list1"
      ],
      "metadata": {
        "colab": {
          "base_uri": "https://localhost:8080/"
        },
        "id": "Z4MZVEytGUto",
        "outputId": "3ef17ed3-4b45-4119-eedf-15f70b3a278f"
      },
      "execution_count": 56,
      "outputs": [
        {
          "output_type": "execute_result",
          "data": {
            "text/plain": [
              "[2, 3, 4, 6, 22, 6, 7]"
            ]
          },
          "metadata": {},
          "execution_count": 56
        }
      ]
    },
    {
      "cell_type": "code",
      "source": [
        "list2 = [1,34,45,6,7,3,3]"
      ],
      "metadata": {
        "id": "KQZmdlNXGYeD"
      },
      "execution_count": 57,
      "outputs": []
    },
    {
      "cell_type": "code",
      "source": [
        "arr2d_2 = np.array([list1,list2])"
      ],
      "metadata": {
        "id": "cqV1CVxmGd83"
      },
      "execution_count": 58,
      "outputs": []
    },
    {
      "cell_type": "code",
      "source": [
        "arr2d_2"
      ],
      "metadata": {
        "colab": {
          "base_uri": "https://localhost:8080/"
        },
        "id": "Hm2iQEggGioM",
        "outputId": "bc4f3a9a-17c6-4d0f-c218-1519fa46778e"
      },
      "execution_count": 59,
      "outputs": [
        {
          "output_type": "execute_result",
          "data": {
            "text/plain": [
              "array([[ 2,  3,  4,  6, 22,  6,  7],\n",
              "       [ 1, 34, 45,  6,  7,  3,  3]])"
            ]
          },
          "metadata": {},
          "execution_count": 59
        }
      ]
    },
    {
      "cell_type": "code",
      "source": [
        "arr2d_2.shape"
      ],
      "metadata": {
        "colab": {
          "base_uri": "https://localhost:8080/"
        },
        "id": "iKp_oh30GkN5",
        "outputId": "28b40a46-db37-4d0d-d06d-0fa3da2bbf95"
      },
      "execution_count": 60,
      "outputs": [
        {
          "output_type": "execute_result",
          "data": {
            "text/plain": [
              "(2, 7)"
            ]
          },
          "metadata": {},
          "execution_count": 60
        }
      ]
    },
    {
      "cell_type": "code",
      "source": [
        "100/3"
      ],
      "metadata": {
        "colab": {
          "base_uri": "https://localhost:8080/"
        },
        "id": "epoWIdYlGmN4",
        "outputId": "9821f732-b039-4068-9fae-c6bf6c6eab88"
      },
      "execution_count": 61,
      "outputs": [
        {
          "output_type": "execute_result",
          "data": {
            "text/plain": [
              "33.333333333333336"
            ]
          },
          "metadata": {},
          "execution_count": 61
        }
      ]
    },
    {
      "cell_type": "code",
      "source": [
        "np.longdouble(100)/np.longdouble(3)"
      ],
      "metadata": {
        "colab": {
          "base_uri": "https://localhost:8080/"
        },
        "id": "8vTBcpKrPFB8",
        "outputId": "ad8119c5-bf91-4d54-890c-222c5b3d3b83"
      },
      "execution_count": 62,
      "outputs": [
        {
          "output_type": "execute_result",
          "data": {
            "text/plain": [
              "np.longdouble('33.333333333333333332')"
            ]
          },
          "metadata": {},
          "execution_count": 62
        }
      ]
    },
    {
      "cell_type": "code",
      "source": [
        "np.array([1,2,34,56,5,3.1453,6])"
      ],
      "metadata": {
        "colab": {
          "base_uri": "https://localhost:8080/"
        },
        "id": "MOPtM1g2PM7n",
        "outputId": "1257482b-6174-4788-eeaf-4a1aca8f485c"
      },
      "execution_count": 63,
      "outputs": [
        {
          "output_type": "execute_result",
          "data": {
            "text/plain": [
              "array([ 1.    ,  2.    , 34.    , 56.    ,  5.    ,  3.1453,  6.    ])"
            ]
          },
          "metadata": {},
          "execution_count": 63
        }
      ]
    },
    {
      "cell_type": "code",
      "source": [
        "np.array([1,2,34,56,5,3.145,6],dtype='longdouble')"
      ],
      "metadata": {
        "colab": {
          "base_uri": "https://localhost:8080/"
        },
        "id": "xI8YOxHJPiJO",
        "outputId": "d48e24df-c46d-429f-fd7b-3a5dd771541a"
      },
      "execution_count": 64,
      "outputs": [
        {
          "output_type": "execute_result",
          "data": {
            "text/plain": [
              "array([ 1.   ,  2.   , 34.   , 56.   ,  5.   ,  3.145,  6.   ],\n",
              "      dtype=float128)"
            ]
          },
          "metadata": {},
          "execution_count": 64
        }
      ]
    },
    {
      "cell_type": "code",
      "source": [
        "np.array([1,2,34,56,5,3.145,6],dtype='g')"
      ],
      "metadata": {
        "colab": {
          "base_uri": "https://localhost:8080/"
        },
        "id": "GCcrLm7lPwPq",
        "outputId": "eaa8acc2-412f-4528-be2a-f98d0a05b307"
      },
      "execution_count": 65,
      "outputs": [
        {
          "output_type": "execute_result",
          "data": {
            "text/plain": [
              "array([ 1.   ,  2.   , 34.   , 56.   ,  5.   ,  3.145,  6.   ],\n",
              "      dtype=float128)"
            ]
          },
          "metadata": {},
          "execution_count": 65
        }
      ]
    },
    {
      "cell_type": "markdown",
      "source": [
        "## Python Notes – NumPy Indexing & Slicing\n",
        "\n",
        "### * 1D vs 2D Arrays\n",
        "\n",
        "* 1D array: `arr1 = np.array([1, 2, 3, 4])`\n",
        "* 2D array (matrix): `arr2 = np.array([[1, 2, 3, 4]])` (note the nested list)\n",
        "* Use `.shape` to confirm dimensions  \n",
        "  * 1D → `(4,)`  \n",
        "  * 2D → `(1, 4)`\n",
        "\n",
        "---\n",
        "\n",
        "### * Indexing & Slicing – 1D Arrays\n",
        "\n",
        "* `arr[4]` → 5th element (indexing starts at 0)\n",
        "* `arr[4:]` → From 5th element to end\n",
        "* `arr[2:6]` → From index 2 to 5\n",
        "* `arr[::-1]` → Reverse the array\n",
        "\n",
        "---\n",
        "\n",
        "### * Indexing & Slicing – 2D Arrays\n",
        "\n",
        "* General format: `arr[row_slice, col_slice]`\n",
        "* Example:  \n",
        "  * `arr[1:, 2:]` → From row 1 to end, column 2 to end  \n",
        "  * `arr[2, 6]` → Element at 3rd row, 7th column  \n",
        "  * `arr[::-1, :]` → Flip rows (zero axis)  \n",
        "  * `arr[:, ::-1]` → Flip columns (one axis)\n",
        "\n",
        "---\n",
        "\n",
        "### * Boolean Indexing\n",
        "\n",
        "* Works on both 1D and 2D arrays  \n",
        "* Example for 1D:  \n",
        "  * `arr > 3` → Boolean array  \n",
        "  * `arr[arr > 3]` → Values > 3  \n",
        "* Example for 2D:  \n",
        "  * `arr[arr > 10]` → Flattens and filters values > 10\n",
        "\n",
        "---\n",
        "\n",
        "### * Reassignment in Arrays vs Lists\n",
        "\n",
        "* Lists: Only individual elements can be reassigned  \n",
        "  * `list[0] = 10` → Works  \n",
        "  * `list[:] = 10` → Error\n",
        "* Arrays: Can reassign multiple elements  \n",
        "  * `arr[:] = 10` → Works\n",
        "\n",
        "---\n",
        "\n",
        "### * Summary\n",
        "\n",
        "* Use slicing for extracting subarrays or flipping rows/columns  \n",
        "* Boolean indexing filters values based on conditions  \n",
        "* Arrays support vectorized reassignment, lists don’t"
      ],
      "metadata": {
        "id": "N_Jk2L_lQRxs"
      }
    },
    {
      "cell_type": "code",
      "source": [
        "import numpy as np"
      ],
      "metadata": {
        "id": "T0a7JLCaQSAq"
      },
      "execution_count": 66,
      "outputs": []
    },
    {
      "cell_type": "code",
      "source": [
        "arr1 = np.array([1,1,1,1])"
      ],
      "metadata": {
        "id": "0Pv9KVKHQsQj"
      },
      "execution_count": 67,
      "outputs": []
    },
    {
      "cell_type": "code",
      "source": [
        "arr2 = np.array([[2,2,2,2]])"
      ],
      "metadata": {
        "id": "O8CoBURkQx6_"
      },
      "execution_count": 68,
      "outputs": []
    },
    {
      "cell_type": "code",
      "source": [
        "arr1.shape"
      ],
      "metadata": {
        "colab": {
          "base_uri": "https://localhost:8080/"
        },
        "id": "dvDmQVKxQ2T1",
        "outputId": "8b3ee21c-5a78-4426-ad94-26bed2a65531"
      },
      "execution_count": 69,
      "outputs": [
        {
          "output_type": "execute_result",
          "data": {
            "text/plain": [
              "(4,)"
            ]
          },
          "metadata": {},
          "execution_count": 69
        }
      ]
    },
    {
      "cell_type": "code",
      "source": [
        "arr2.shape"
      ],
      "metadata": {
        "colab": {
          "base_uri": "https://localhost:8080/"
        },
        "id": "0jg0NRT3Q46P",
        "outputId": "8635f325-7bc3-4132-b2e7-78b6dca9d109"
      },
      "execution_count": 70,
      "outputs": [
        {
          "output_type": "execute_result",
          "data": {
            "text/plain": [
              "(1, 4)"
            ]
          },
          "metadata": {},
          "execution_count": 70
        }
      ]
    },
    {
      "cell_type": "code",
      "source": [
        "array_1d = np.array([2,4,7,74,2,2,24,6])\n",
        "array_2d = np.array([[2,4,7,74,2,2,24,6],[5,3,2,25,5,2,1,4],[1,4,5,3,3,4,5,1]])"
      ],
      "metadata": {
        "id": "V2jG0yzbQ6Ls"
      },
      "execution_count": 71,
      "outputs": []
    },
    {
      "cell_type": "code",
      "source": [
        "array_1d"
      ],
      "metadata": {
        "colab": {
          "base_uri": "https://localhost:8080/"
        },
        "id": "mm0p8b_5S8V_",
        "outputId": "c0adb9da-8493-4b91-9053-6f642a522de9"
      },
      "execution_count": 72,
      "outputs": [
        {
          "output_type": "execute_result",
          "data": {
            "text/plain": [
              "array([ 2,  4,  7, 74,  2,  2, 24,  6])"
            ]
          },
          "metadata": {},
          "execution_count": 72
        }
      ]
    },
    {
      "cell_type": "code",
      "source": [
        "array_2d"
      ],
      "metadata": {
        "colab": {
          "base_uri": "https://localhost:8080/"
        },
        "id": "9uIC3tsYS-Dn",
        "outputId": "4b6d2887-9ae2-485a-d18d-2b13fb1dd446"
      },
      "execution_count": 73,
      "outputs": [
        {
          "output_type": "execute_result",
          "data": {
            "text/plain": [
              "array([[ 2,  4,  7, 74,  2,  2, 24,  6],\n",
              "       [ 5,  3,  2, 25,  5,  2,  1,  4],\n",
              "       [ 1,  4,  5,  3,  3,  4,  5,  1]])"
            ]
          },
          "metadata": {},
          "execution_count": 73
        }
      ]
    },
    {
      "cell_type": "code",
      "source": [
        "array_1d[6]"
      ],
      "metadata": {
        "colab": {
          "base_uri": "https://localhost:8080/"
        },
        "id": "hAZzy1vdS_Q2",
        "outputId": "06058184-94c8-435b-f8f9-4959d08355aa"
      },
      "execution_count": 74,
      "outputs": [
        {
          "output_type": "execute_result",
          "data": {
            "text/plain": [
              "np.int64(24)"
            ]
          },
          "metadata": {},
          "execution_count": 74
        }
      ]
    },
    {
      "cell_type": "code",
      "source": [
        "array_1d[5:]"
      ],
      "metadata": {
        "id": "s8JIGo76TJT2",
        "colab": {
          "base_uri": "https://localhost:8080/"
        },
        "outputId": "19018c64-b07f-47e0-f3cd-6253206a057a"
      },
      "execution_count": 75,
      "outputs": [
        {
          "output_type": "execute_result",
          "data": {
            "text/plain": [
              "array([ 2, 24,  6])"
            ]
          },
          "metadata": {},
          "execution_count": 75
        }
      ]
    },
    {
      "cell_type": "code",
      "source": [
        "array_1d[2:6]"
      ],
      "metadata": {
        "colab": {
          "base_uri": "https://localhost:8080/"
        },
        "id": "vRqlAFmO1YlS",
        "outputId": "d8e6afa5-45ae-4692-c7bf-e13373626817"
      },
      "execution_count": 76,
      "outputs": [
        {
          "output_type": "execute_result",
          "data": {
            "text/plain": [
              "array([ 7, 74,  2,  2])"
            ]
          },
          "metadata": {},
          "execution_count": 76
        }
      ]
    },
    {
      "cell_type": "code",
      "source": [
        "array_1d[::-1]"
      ],
      "metadata": {
        "colab": {
          "base_uri": "https://localhost:8080/"
        },
        "id": "kAf-HiAb1_Fr",
        "outputId": "de731d76-eeb7-47c0-8b5e-9e9a921892fb"
      },
      "execution_count": 77,
      "outputs": [
        {
          "output_type": "execute_result",
          "data": {
            "text/plain": [
              "array([ 6, 24,  2,  2, 74,  7,  4,  2])"
            ]
          },
          "metadata": {},
          "execution_count": 77
        }
      ]
    },
    {
      "cell_type": "code",
      "source": [
        "array_2d[1:,2:]"
      ],
      "metadata": {
        "colab": {
          "base_uri": "https://localhost:8080/"
        },
        "id": "OtLVYr1818HP",
        "outputId": "038b81a2-4b51-4cb4-ab50-a8f0a9b313cc"
      },
      "execution_count": 80,
      "outputs": [
        {
          "output_type": "execute_result",
          "data": {
            "text/plain": [
              "array([[ 2, 25,  5,  2,  1,  4],\n",
              "       [ 5,  3,  3,  4,  5,  1]])"
            ]
          },
          "metadata": {},
          "execution_count": 80
        }
      ]
    },
    {
      "cell_type": "code",
      "source": [
        "array_2d[2:,1:]"
      ],
      "metadata": {
        "colab": {
          "base_uri": "https://localhost:8080/"
        },
        "id": "AAR2QAKX2RXz",
        "outputId": "4469e379-b0ad-40dc-94f8-ed96cf5d0a70"
      },
      "execution_count": 81,
      "outputs": [
        {
          "output_type": "execute_result",
          "data": {
            "text/plain": [
              "array([[4, 5, 3, 3, 4, 5, 1]])"
            ]
          },
          "metadata": {},
          "execution_count": 81
        }
      ]
    },
    {
      "cell_type": "code",
      "source": [
        "array_2d[:,5:]"
      ],
      "metadata": {
        "colab": {
          "base_uri": "https://localhost:8080/"
        },
        "id": "12ZkXZsE24cr",
        "outputId": "cd886ad3-2063-4278-e727-00778dc9848a"
      },
      "execution_count": 86,
      "outputs": [
        {
          "output_type": "execute_result",
          "data": {
            "text/plain": [
              "array([[ 2, 24,  6],\n",
              "       [ 2,  1,  4],\n",
              "       [ 4,  5,  1]])"
            ]
          },
          "metadata": {},
          "execution_count": 86
        }
      ]
    },
    {
      "cell_type": "code",
      "source": [
        "array_2d[2,6]"
      ],
      "metadata": {
        "colab": {
          "base_uri": "https://localhost:8080/"
        },
        "id": "Rm0hGXGx28wI",
        "outputId": "d4c62d93-4295-49cd-9994-e3980ce95a4d"
      },
      "execution_count": 92,
      "outputs": [
        {
          "output_type": "execute_result",
          "data": {
            "text/plain": [
              "np.int64(5)"
            ]
          },
          "metadata": {},
          "execution_count": 92
        }
      ]
    },
    {
      "cell_type": "code",
      "source": [
        "array_2d"
      ],
      "metadata": {
        "colab": {
          "base_uri": "https://localhost:8080/"
        },
        "id": "Rk_iO_hk3M4q",
        "outputId": "167a78a2-aece-4089-d45e-49923e783cf3"
      },
      "execution_count": 93,
      "outputs": [
        {
          "output_type": "execute_result",
          "data": {
            "text/plain": [
              "array([[ 2,  4,  7, 74,  2,  2, 24,  6],\n",
              "       [ 5,  3,  2, 25,  5,  2,  1,  4],\n",
              "       [ 1,  4,  5,  3,  3,  4,  5,  1]])"
            ]
          },
          "metadata": {},
          "execution_count": 93
        }
      ]
    },
    {
      "cell_type": "code",
      "source": [
        "array_2d[::-1,]"
      ],
      "metadata": {
        "colab": {
          "base_uri": "https://localhost:8080/"
        },
        "id": "JDyAnSpy7kJx",
        "outputId": "afec4240-a40c-4586-9f53-a265e79b2f69"
      },
      "execution_count": 94,
      "outputs": [
        {
          "output_type": "execute_result",
          "data": {
            "text/plain": [
              "array([[ 1,  4,  5,  3,  3,  4,  5,  1],\n",
              "       [ 5,  3,  2, 25,  5,  2,  1,  4],\n",
              "       [ 2,  4,  7, 74,  2,  2, 24,  6]])"
            ]
          },
          "metadata": {},
          "execution_count": 94
        }
      ]
    },
    {
      "cell_type": "code",
      "source": [
        "array_2d[:,::-1]"
      ],
      "metadata": {
        "colab": {
          "base_uri": "https://localhost:8080/"
        },
        "id": "IAmElbD37n0z",
        "outputId": "195821a4-b38c-4581-a1a3-90c641faef4e"
      },
      "execution_count": 96,
      "outputs": [
        {
          "output_type": "execute_result",
          "data": {
            "text/plain": [
              "array([[ 6, 24,  2,  2, 74,  7,  4,  2],\n",
              "       [ 4,  1,  2,  5, 25,  2,  3,  5],\n",
              "       [ 1,  5,  4,  3,  3,  5,  4,  1]])"
            ]
          },
          "metadata": {},
          "execution_count": 96
        }
      ]
    },
    {
      "cell_type": "code",
      "source": [
        "array_2d[::-1,::-1]"
      ],
      "metadata": {
        "colab": {
          "base_uri": "https://localhost:8080/"
        },
        "id": "Ok9f-p1V77SS",
        "outputId": "0aa3b010-14d4-4f26-bfc0-d5a2cd2d5d5b"
      },
      "execution_count": 100,
      "outputs": [
        {
          "output_type": "execute_result",
          "data": {
            "text/plain": [
              "array([[ 1,  5,  4,  3,  3,  5,  4,  1],\n",
              "       [ 4,  1,  2,  5, 25,  2,  3,  5],\n",
              "       [ 6, 24,  2,  2, 74,  7,  4,  2]])"
            ]
          },
          "metadata": {},
          "execution_count": 100
        }
      ]
    },
    {
      "cell_type": "code",
      "source": [
        "array_1d"
      ],
      "metadata": {
        "colab": {
          "base_uri": "https://localhost:8080/"
        },
        "id": "nfLqO5FF8B24",
        "outputId": "56d6f8f4-ebda-456d-ebf0-53331707dc54"
      },
      "execution_count": 101,
      "outputs": [
        {
          "output_type": "execute_result",
          "data": {
            "text/plain": [
              "array([ 2,  4,  7, 74,  2,  2, 24,  6])"
            ]
          },
          "metadata": {},
          "execution_count": 101
        }
      ]
    },
    {
      "cell_type": "code",
      "source": [
        "array_1d>4"
      ],
      "metadata": {
        "colab": {
          "base_uri": "https://localhost:8080/"
        },
        "id": "1PjbdmEO8VAB",
        "outputId": "9fa8bc77-2572-4123-af50-b93642428f89"
      },
      "execution_count": 102,
      "outputs": [
        {
          "output_type": "execute_result",
          "data": {
            "text/plain": [
              "array([False, False,  True,  True, False, False,  True,  True])"
            ]
          },
          "metadata": {},
          "execution_count": 102
        }
      ]
    },
    {
      "cell_type": "code",
      "source": [
        "array_1d[array_1d>4]"
      ],
      "metadata": {
        "colab": {
          "base_uri": "https://localhost:8080/"
        },
        "id": "L6BpZTQM8ZTU",
        "outputId": "ac411789-84a6-4153-911c-e1aa89d4eed0"
      },
      "execution_count": 103,
      "outputs": [
        {
          "output_type": "execute_result",
          "data": {
            "text/plain": [
              "array([ 7, 74, 24,  6])"
            ]
          },
          "metadata": {},
          "execution_count": 103
        }
      ]
    },
    {
      "cell_type": "code",
      "source": [
        "array_2d"
      ],
      "metadata": {
        "colab": {
          "base_uri": "https://localhost:8080/"
        },
        "id": "hRs0z-f58fAI",
        "outputId": "568fe762-019f-431e-8ae5-bda0e230f6c0"
      },
      "execution_count": 104,
      "outputs": [
        {
          "output_type": "execute_result",
          "data": {
            "text/plain": [
              "array([[ 2,  4,  7, 74,  2,  2, 24,  6],\n",
              "       [ 5,  3,  2, 25,  5,  2,  1,  4],\n",
              "       [ 1,  4,  5,  3,  3,  4,  5,  1]])"
            ]
          },
          "metadata": {},
          "execution_count": 104
        }
      ]
    },
    {
      "cell_type": "code",
      "source": [
        "array_2d>12"
      ],
      "metadata": {
        "colab": {
          "base_uri": "https://localhost:8080/"
        },
        "id": "kejk5gsj8kOy",
        "outputId": "b9606635-8820-4883-8edf-117ed110684c"
      },
      "execution_count": 106,
      "outputs": [
        {
          "output_type": "execute_result",
          "data": {
            "text/plain": [
              "array([[False, False, False,  True, False, False,  True, False],\n",
              "       [False, False, False,  True, False, False, False, False],\n",
              "       [False, False, False, False, False, False, False, False]])"
            ]
          },
          "metadata": {},
          "execution_count": 106
        }
      ]
    },
    {
      "cell_type": "code",
      "source": [
        "array_2d[array_2d>12]"
      ],
      "metadata": {
        "colab": {
          "base_uri": "https://localhost:8080/"
        },
        "id": "zJqSYnf98maT",
        "outputId": "44faf879-ab92-48f0-a126-a0e886e6dbfc"
      },
      "execution_count": 107,
      "outputs": [
        {
          "output_type": "execute_result",
          "data": {
            "text/plain": [
              "array([74, 24, 25])"
            ]
          },
          "metadata": {},
          "execution_count": 107
        }
      ]
    },
    {
      "cell_type": "code",
      "source": [
        "array_2d[array_2d>12].shape"
      ],
      "metadata": {
        "colab": {
          "base_uri": "https://localhost:8080/"
        },
        "id": "nebjxDd88rUW",
        "outputId": "3a381d29-02ee-4619-f655-9e7fab965f23"
      },
      "execution_count": 108,
      "outputs": [
        {
          "output_type": "execute_result",
          "data": {
            "text/plain": [
              "(3,)"
            ]
          },
          "metadata": {},
          "execution_count": 108
        }
      ]
    },
    {
      "cell_type": "code",
      "source": [
        "array_1 = np.array([1,2,34,34,4])"
      ],
      "metadata": {
        "id": "Vg4W9Bm-8x4V"
      },
      "execution_count": 109,
      "outputs": []
    },
    {
      "cell_type": "code",
      "source": [
        "list_1 = [12,4,5,6,3]"
      ],
      "metadata": {
        "id": "cxFC_74s9HQg"
      },
      "execution_count": 110,
      "outputs": []
    },
    {
      "cell_type": "code",
      "source": [
        "list_1[2] = 12"
      ],
      "metadata": {
        "id": "ENXccIUC9K0t"
      },
      "execution_count": 111,
      "outputs": []
    },
    {
      "cell_type": "code",
      "source": [
        "list_1"
      ],
      "metadata": {
        "colab": {
          "base_uri": "https://localhost:8080/"
        },
        "id": "SvmhDSYL9Oc3",
        "outputId": "ea2f2641-795c-40a6-c941-bcd86cd25715"
      },
      "execution_count": 112,
      "outputs": [
        {
          "output_type": "execute_result",
          "data": {
            "text/plain": [
              "[12, 4, 12, 6, 3]"
            ]
          },
          "metadata": {},
          "execution_count": 112
        }
      ]
    },
    {
      "cell_type": "code",
      "source": [
        "#list_1[:] = 4"
      ],
      "metadata": {
        "id": "v-Um3vAy9PwL"
      },
      "execution_count": 114,
      "outputs": []
    },
    {
      "cell_type": "code",
      "source": [
        "array_1[:] = 4"
      ],
      "metadata": {
        "id": "Q6LgVslx9T92"
      },
      "execution_count": 115,
      "outputs": []
    },
    {
      "cell_type": "code",
      "source": [
        "array_1"
      ],
      "metadata": {
        "colab": {
          "base_uri": "https://localhost:8080/"
        },
        "id": "6XdKjMec9YXE",
        "outputId": "0da4b1f7-9a1d-42af-f0c9-76c7dd440e04"
      },
      "execution_count": 116,
      "outputs": [
        {
          "output_type": "execute_result",
          "data": {
            "text/plain": [
              "array([4, 4, 4, 4, 4])"
            ]
          },
          "metadata": {},
          "execution_count": 116
        }
      ]
    },
    {
      "cell_type": "markdown",
      "source": [
        "## NumPy Notes – Array Manipulation & Useful Functions\n",
        "\n",
        "### * Creating Arrays\n",
        "* Use `np.array()` to create 1D or 2D arrays\n",
        "* Example: `np.array([1, 2, 3])` or `np.array([[1, 2], [3, 4]])`\n",
        "\n",
        "---\n",
        "\n",
        "### * Reshape Arrays\n",
        "* Use `np.reshape(array, (rows, cols))` or `array.reshape(rows, cols)`\n",
        "* Reshape only works if total number of elements matches\n",
        "* Example:\n",
        "  * `np.reshape(arr, (2, 5))` converts a 1D array of 10 elements to 2x5\n",
        "\n",
        "---\n",
        "\n",
        "### * Flatten Arrays\n",
        "* Converts any array to 1D\n",
        "* `np.flatten(array)` or `array.ravel()` or `np.ravel(array)`\n",
        "* Example:\n",
        "  * `np.ravel(arr)` → 1D view of the array\n",
        "\n",
        "---\n",
        "\n",
        "### * Concatenate Arrays\n",
        "* Use `np.concatenate((arr1, arr2), axis=0 or 1)`\n",
        "* Axis 0 = row-wise (requires same number of columns)  \n",
        "* Axis 1 = column-wise (requires same number of rows)\n",
        "* Example:\n",
        "  * `np.concatenate((arr1, arr2), axis=0)`\n",
        "\n",
        "---\n",
        "\n",
        "### * Transpose Arrays\n",
        "* Invert rows and columns using `array.T` or `np.transpose(array)`\n",
        "* Example:  \n",
        "  * `array.T` swaps rows with columns in 2D array\n",
        "\n",
        "---\n",
        "\n",
        "### * Sort Arrays\n",
        "* Use `np.sort(array, axis=0 or 1)`\n",
        "* Axis 0 → sort each column  \n",
        "* Axis 1 → sort each row\n",
        "* Example:\n",
        "  * `np.sort(arr, axis=1)` sorts each row in ascending order\n",
        "\n",
        "---\n",
        "\n",
        "### * Notes\n",
        "* `reshape` and `sort` can also be used as methods: `array.reshape()` and `array.sort()`\n",
        "* Reshape doesn’t change the original array unless reassigned\n",
        "* Flattening turns a 2D array into 1D without copying data (`ravel` is a view)"
      ],
      "metadata": {
        "id": "e7aEOKGY9w5f"
      }
    },
    {
      "cell_type": "code",
      "source": [
        "import numpy as np"
      ],
      "metadata": {
        "id": "HzGbIrR_9ZhG"
      },
      "execution_count": 117,
      "outputs": []
    },
    {
      "cell_type": "code",
      "source": [
        "array_1 = np.array([1,2,3,3,4,3,4,5,43,6,2,3])"
      ],
      "metadata": {
        "id": "f6zGPIDSAX3c"
      },
      "execution_count": 137,
      "outputs": []
    },
    {
      "cell_type": "code",
      "source": [
        "array_2 = np.array([[2,34,4,2,1],[12,4,1,1,3]])"
      ],
      "metadata": {
        "id": "nYgn9PQUAgCx"
      },
      "execution_count": 119,
      "outputs": []
    },
    {
      "cell_type": "code",
      "source": [
        "array_1.shape"
      ],
      "metadata": {
        "colab": {
          "base_uri": "https://localhost:8080/"
        },
        "id": "b4SkzI9hAo4y",
        "outputId": "2b3cc82d-213b-47b2-fe31-c09c1348f01d"
      },
      "execution_count": 120,
      "outputs": [
        {
          "output_type": "execute_result",
          "data": {
            "text/plain": [
              "(14,)"
            ]
          },
          "metadata": {},
          "execution_count": 120
        }
      ]
    },
    {
      "cell_type": "code",
      "source": [
        "array_2.shape"
      ],
      "metadata": {
        "colab": {
          "base_uri": "https://localhost:8080/"
        },
        "id": "3vHllbb7ArZI",
        "outputId": "9edd3e4d-6004-4cf8-d0ed-5d84ccf8d83f"
      },
      "execution_count": 121,
      "outputs": [
        {
          "output_type": "execute_result",
          "data": {
            "text/plain": [
              "(2, 5)"
            ]
          },
          "metadata": {},
          "execution_count": 121
        }
      ]
    },
    {
      "cell_type": "code",
      "source": [
        "np.reshape(array_1,(2,6))"
      ],
      "metadata": {
        "colab": {
          "base_uri": "https://localhost:8080/"
        },
        "id": "xnf-CX-fAuXY",
        "outputId": "53c51fed-083d-4982-d11e-5fd6e4c97129"
      },
      "execution_count": 138,
      "outputs": [
        {
          "output_type": "execute_result",
          "data": {
            "text/plain": [
              "array([[ 1,  2,  3,  3,  4,  3],\n",
              "       [ 4,  5, 43,  6,  2,  3]])"
            ]
          },
          "metadata": {},
          "execution_count": 138
        }
      ]
    },
    {
      "cell_type": "code",
      "source": [
        "array_1.reshape(3,4)"
      ],
      "metadata": {
        "colab": {
          "base_uri": "https://localhost:8080/"
        },
        "id": "SIIiwjvkBUzp",
        "outputId": "15eb67f0-bed1-479b-d0d5-3837d4bc7cb0"
      },
      "execution_count": 139,
      "outputs": [
        {
          "output_type": "execute_result",
          "data": {
            "text/plain": [
              "array([[ 1,  2,  3,  3],\n",
              "       [ 4,  3,  4,  5],\n",
              "       [43,  6,  2,  3]])"
            ]
          },
          "metadata": {},
          "execution_count": 139
        }
      ]
    },
    {
      "cell_type": "code",
      "source": [
        "array_1.reshape(4,3)"
      ],
      "metadata": {
        "colab": {
          "base_uri": "https://localhost:8080/"
        },
        "id": "SAyywd2VCM_9",
        "outputId": "00724c7b-2c93-471f-acda-1e45cf0135a2"
      },
      "execution_count": 140,
      "outputs": [
        {
          "output_type": "execute_result",
          "data": {
            "text/plain": [
              "array([[ 1,  2,  3],\n",
              "       [ 3,  4,  3],\n",
              "       [ 4,  5, 43],\n",
              "       [ 6,  2,  3]])"
            ]
          },
          "metadata": {},
          "execution_count": 140
        }
      ]
    },
    {
      "cell_type": "code",
      "source": [
        "array_1.reshape(6,2)"
      ],
      "metadata": {
        "colab": {
          "base_uri": "https://localhost:8080/"
        },
        "id": "N4EOCY1LCRJH",
        "outputId": "48647089-fc66-4c30-fb36-47fb697c16d7"
      },
      "execution_count": 141,
      "outputs": [
        {
          "output_type": "execute_result",
          "data": {
            "text/plain": [
              "array([[ 1,  2],\n",
              "       [ 3,  3],\n",
              "       [ 4,  3],\n",
              "       [ 4,  5],\n",
              "       [43,  6],\n",
              "       [ 2,  3]])"
            ]
          },
          "metadata": {},
          "execution_count": 141
        }
      ]
    },
    {
      "cell_type": "code",
      "source": [
        "array_2"
      ],
      "metadata": {
        "colab": {
          "base_uri": "https://localhost:8080/"
        },
        "id": "a9eZm7CTCVhK",
        "outputId": "24f876c9-f4fe-4e35-a58a-26bcdb85516e"
      },
      "execution_count": 142,
      "outputs": [
        {
          "output_type": "execute_result",
          "data": {
            "text/plain": [
              "array([[ 2, 34,  4,  2,  1],\n",
              "       [12,  4,  1,  1,  3]])"
            ]
          },
          "metadata": {},
          "execution_count": 142
        }
      ]
    },
    {
      "cell_type": "code",
      "source": [
        "np.ndarray.flatten(array_2)"
      ],
      "metadata": {
        "colab": {
          "base_uri": "https://localhost:8080/"
        },
        "id": "698KESm3Ch8s",
        "outputId": "54cd5cb5-1521-4494-bcc8-809ea3be0d98"
      },
      "execution_count": 143,
      "outputs": [
        {
          "output_type": "execute_result",
          "data": {
            "text/plain": [
              "array([ 2, 34,  4,  2,  1, 12,  4,  1,  1,  3])"
            ]
          },
          "metadata": {},
          "execution_count": 143
        }
      ]
    },
    {
      "cell_type": "code",
      "source": [
        "np.ndarray.flatten(array_2).shape"
      ],
      "metadata": {
        "colab": {
          "base_uri": "https://localhost:8080/"
        },
        "id": "-BsvRNIVDFMQ",
        "outputId": "b6001305-9a25-4ec8-cb8b-d9c21a2812f1"
      },
      "execution_count": 145,
      "outputs": [
        {
          "output_type": "execute_result",
          "data": {
            "text/plain": [
              "(10,)"
            ]
          },
          "metadata": {},
          "execution_count": 145
        }
      ]
    },
    {
      "cell_type": "code",
      "source": [
        "np.ravel(array_2)"
      ],
      "metadata": {
        "colab": {
          "base_uri": "https://localhost:8080/"
        },
        "id": "k7orqBUADJKo",
        "outputId": "654a2bb9-4b5d-46d9-d802-5728a242ec8a"
      },
      "execution_count": 146,
      "outputs": [
        {
          "output_type": "execute_result",
          "data": {
            "text/plain": [
              "array([ 2, 34,  4,  2,  1, 12,  4,  1,  1,  3])"
            ]
          },
          "metadata": {},
          "execution_count": 146
        }
      ]
    },
    {
      "cell_type": "code",
      "source": [
        "array_1 = np.array([[1,1,1],[2,2,2]])"
      ],
      "metadata": {
        "id": "Yg2Cl33pDOx0"
      },
      "execution_count": 152,
      "outputs": []
    },
    {
      "cell_type": "code",
      "source": [
        "array_2 = np.array([[3,3,3],[4,4,4],[5,5,5]])"
      ],
      "metadata": {
        "id": "EaAmgg51EWqC"
      },
      "execution_count": 153,
      "outputs": []
    },
    {
      "cell_type": "code",
      "source": [
        "array_3 = np.array([[4,4],[5,5],[6,6]])"
      ],
      "metadata": {
        "id": "RQN_5tBqEfvS"
      },
      "execution_count": 154,
      "outputs": []
    },
    {
      "cell_type": "code",
      "source": [
        "array_1"
      ],
      "metadata": {
        "colab": {
          "base_uri": "https://localhost:8080/"
        },
        "id": "VThj2kfRDUdo",
        "outputId": "5426a08d-fba0-4f43-f445-60963369e469"
      },
      "execution_count": 150,
      "outputs": [
        {
          "output_type": "execute_result",
          "data": {
            "text/plain": [
              "array([[1, 1, 1],\n",
              "       [2, 2, 2]])"
            ]
          },
          "metadata": {},
          "execution_count": 150
        }
      ]
    },
    {
      "cell_type": "code",
      "source": [
        "array_1.shape"
      ],
      "metadata": {
        "colab": {
          "base_uri": "https://localhost:8080/"
        },
        "id": "UrXfYMTPER1e",
        "outputId": "1c84b3e1-f650-46d1-b00a-41aaa299f782"
      },
      "execution_count": 151,
      "outputs": [
        {
          "output_type": "execute_result",
          "data": {
            "text/plain": [
              "(2, 3)"
            ]
          },
          "metadata": {},
          "execution_count": 151
        }
      ]
    },
    {
      "cell_type": "code",
      "source": [
        "array_2"
      ],
      "metadata": {
        "colab": {
          "base_uri": "https://localhost:8080/"
        },
        "id": "L-OjPjRhEUFc",
        "outputId": "3d4cc64c-d0cb-42ac-fac3-55a05c26b84b"
      },
      "execution_count": 155,
      "outputs": [
        {
          "output_type": "execute_result",
          "data": {
            "text/plain": [
              "array([[3, 3, 3],\n",
              "       [4, 4, 4],\n",
              "       [5, 5, 5]])"
            ]
          },
          "metadata": {},
          "execution_count": 155
        }
      ]
    },
    {
      "cell_type": "code",
      "source": [
        "array_2.shape"
      ],
      "metadata": {
        "colab": {
          "base_uri": "https://localhost:8080/"
        },
        "id": "RvRufIZ-En1F",
        "outputId": "d069df0d-cf95-4ea9-fda6-32214e0721c1"
      },
      "execution_count": 156,
      "outputs": [
        {
          "output_type": "execute_result",
          "data": {
            "text/plain": [
              "(3, 3)"
            ]
          },
          "metadata": {},
          "execution_count": 156
        }
      ]
    },
    {
      "cell_type": "code",
      "source": [
        "array_3"
      ],
      "metadata": {
        "colab": {
          "base_uri": "https://localhost:8080/"
        },
        "id": "bIW7okB5EplA",
        "outputId": "d9394ef3-5927-48ad-ac6d-bfb3d96841ac"
      },
      "execution_count": 157,
      "outputs": [
        {
          "output_type": "execute_result",
          "data": {
            "text/plain": [
              "array([[4, 4],\n",
              "       [5, 5],\n",
              "       [6, 6]])"
            ]
          },
          "metadata": {},
          "execution_count": 157
        }
      ]
    },
    {
      "cell_type": "code",
      "source": [
        "array_3.shape"
      ],
      "metadata": {
        "colab": {
          "base_uri": "https://localhost:8080/"
        },
        "id": "haZzDn9bEqlM",
        "outputId": "ee1a547c-6f10-4506-d25c-8f546e1e6489"
      },
      "execution_count": 158,
      "outputs": [
        {
          "output_type": "execute_result",
          "data": {
            "text/plain": [
              "(3, 2)"
            ]
          },
          "metadata": {},
          "execution_count": 158
        }
      ]
    },
    {
      "cell_type": "code",
      "source": [
        "np.concatenate((array_1,array_2),axis=0)"
      ],
      "metadata": {
        "colab": {
          "base_uri": "https://localhost:8080/"
        },
        "id": "pWSd8GQPEs8Z",
        "outputId": "53353cff-120a-4802-f19c-e0c1c0c8d00a"
      },
      "execution_count": 159,
      "outputs": [
        {
          "output_type": "execute_result",
          "data": {
            "text/plain": [
              "array([[1, 1, 1],\n",
              "       [2, 2, 2],\n",
              "       [3, 3, 3],\n",
              "       [4, 4, 4],\n",
              "       [5, 5, 5]])"
            ]
          },
          "metadata": {},
          "execution_count": 159
        }
      ]
    },
    {
      "cell_type": "code",
      "source": [
        "np.concatenate((array_3,array_2),axis=1)"
      ],
      "metadata": {
        "colab": {
          "base_uri": "https://localhost:8080/"
        },
        "id": "kpDZ8-OJE2pt",
        "outputId": "620c36e2-664d-43d2-f116-ef5387453f3a"
      },
      "execution_count": 160,
      "outputs": [
        {
          "output_type": "execute_result",
          "data": {
            "text/plain": [
              "array([[4, 4, 3, 3, 3],\n",
              "       [5, 5, 4, 4, 4],\n",
              "       [6, 6, 5, 5, 5]])"
            ]
          },
          "metadata": {},
          "execution_count": 160
        }
      ]
    },
    {
      "cell_type": "code",
      "source": [
        "array_1"
      ],
      "metadata": {
        "colab": {
          "base_uri": "https://localhost:8080/"
        },
        "id": "shyPUhsbF85g",
        "outputId": "ad1a6dc8-002b-472e-a14b-8cd0c38c985a"
      },
      "execution_count": 161,
      "outputs": [
        {
          "output_type": "execute_result",
          "data": {
            "text/plain": [
              "array([[1, 1, 1],\n",
              "       [2, 2, 2]])"
            ]
          },
          "metadata": {},
          "execution_count": 161
        }
      ]
    },
    {
      "cell_type": "code",
      "source": [
        "np.transpose(array_1)"
      ],
      "metadata": {
        "colab": {
          "base_uri": "https://localhost:8080/"
        },
        "id": "VV8bQDOLGDSN",
        "outputId": "74990614-7236-4895-f73e-729377a06a59"
      },
      "execution_count": 162,
      "outputs": [
        {
          "output_type": "execute_result",
          "data": {
            "text/plain": [
              "array([[1, 2],\n",
              "       [1, 2],\n",
              "       [1, 2]])"
            ]
          },
          "metadata": {},
          "execution_count": 162
        }
      ]
    },
    {
      "cell_type": "code",
      "source": [
        "array_1.transpose()"
      ],
      "metadata": {
        "colab": {
          "base_uri": "https://localhost:8080/"
        },
        "id": "WwQPJVMeGGls",
        "outputId": "c85a60ed-0b0d-4398-edd4-65d38dd0e8f8"
      },
      "execution_count": 164,
      "outputs": [
        {
          "output_type": "execute_result",
          "data": {
            "text/plain": [
              "array([[1, 2],\n",
              "       [1, 2],\n",
              "       [1, 2]])"
            ]
          },
          "metadata": {},
          "execution_count": 164
        }
      ]
    },
    {
      "cell_type": "code",
      "source": [
        "array_unsort = np.array([[10,50,20],[1,5,2]])"
      ],
      "metadata": {
        "id": "ioU7KUZcIXkB"
      },
      "execution_count": 165,
      "outputs": []
    },
    {
      "cell_type": "code",
      "source": [
        "array_unsort"
      ],
      "metadata": {
        "colab": {
          "base_uri": "https://localhost:8080/"
        },
        "id": "LFK5ZMAdJMOs",
        "outputId": "05dcc665-8033-4ba7-b2d4-538601b280ff"
      },
      "execution_count": 166,
      "outputs": [
        {
          "output_type": "execute_result",
          "data": {
            "text/plain": [
              "array([[10, 50, 20],\n",
              "       [ 1,  5,  2]])"
            ]
          },
          "metadata": {},
          "execution_count": 166
        }
      ]
    },
    {
      "cell_type": "code",
      "source": [
        "np.sort(array_unsort,axis=1)"
      ],
      "metadata": {
        "colab": {
          "base_uri": "https://localhost:8080/"
        },
        "id": "inlup_WpJOYv",
        "outputId": "0cc4cd3c-b1a2-49f5-f669-460ee2c54da2"
      },
      "execution_count": 167,
      "outputs": [
        {
          "output_type": "execute_result",
          "data": {
            "text/plain": [
              "array([[10, 20, 50],\n",
              "       [ 1,  2,  5]])"
            ]
          },
          "metadata": {},
          "execution_count": 167
        }
      ]
    },
    {
      "cell_type": "code",
      "source": [
        "np.sort(array_unsort,axis=0)"
      ],
      "metadata": {
        "colab": {
          "base_uri": "https://localhost:8080/"
        },
        "id": "y3Ui0EtwJWkj",
        "outputId": "c84145a3-90fc-43e0-8f5e-99fbff63102f"
      },
      "execution_count": 168,
      "outputs": [
        {
          "output_type": "execute_result",
          "data": {
            "text/plain": [
              "array([[ 1,  5,  2],\n",
              "       [10, 50, 20]])"
            ]
          },
          "metadata": {},
          "execution_count": 168
        }
      ]
    },
    {
      "cell_type": "code",
      "source": [
        "array_unsort"
      ],
      "metadata": {
        "colab": {
          "base_uri": "https://localhost:8080/"
        },
        "id": "XNAnaXg2Jdwn",
        "outputId": "c1eee4a5-2202-4316-8bab-cf84f0fd4563"
      },
      "execution_count": 169,
      "outputs": [
        {
          "output_type": "execute_result",
          "data": {
            "text/plain": [
              "array([[10, 50, 20],\n",
              "       [ 1,  5,  2]])"
            ]
          },
          "metadata": {},
          "execution_count": 169
        }
      ]
    },
    {
      "cell_type": "code",
      "source": [
        "array_unsort.T"
      ],
      "metadata": {
        "colab": {
          "base_uri": "https://localhost:8080/"
        },
        "id": "HnpgUuRmKab8",
        "outputId": "786e8ab2-9e0f-4b21-f6ff-111408dda895"
      },
      "execution_count": 170,
      "outputs": [
        {
          "output_type": "execute_result",
          "data": {
            "text/plain": [
              "array([[10,  1],\n",
              "       [50,  5],\n",
              "       [20,  2]])"
            ]
          },
          "metadata": {},
          "execution_count": 170
        }
      ]
    },
    {
      "cell_type": "markdown",
      "source": [
        "## NumPy Notes – Array Creation Functions\n",
        "\n",
        "### * Create array with a fill value using `np.full()`\n",
        "\n",
        "* Syntax: `np.full(shape, fill_value, dtype)`\n",
        "* Example:  \n",
        "  * `np.full((2, 5), 2)` → 2x5 matrix filled with 2  \n",
        "  * `np.full((5, 5), 0, dtype='longdouble')` → 5x5 matrix of 0 with high precision\n",
        "\n",
        "---\n",
        "\n",
        "### * Create array with evenly spaced values using `np.arange()`\n",
        "\n",
        "* Syntax: `np.arange(start, stop, step)`\n",
        "* Stop is **exclusive**\n",
        "* Example:  \n",
        "  * `np.arange(0, 12, 2)` → array from 0 to 10 with step of 2  \n",
        "  * Can be reshaped: `np.arange(0, 12, 2).reshape(2, 3)`\n",
        "\n",
        "---\n",
        "\n",
        "### * Create evenly spaced numbers over interval using `np.linspace()`\n",
        "\n",
        "* Syntax: `np.linspace(start, stop, num)`\n",
        "* Stop is **inclusive**\n",
        "* Example:  \n",
        "  * `np.linspace(0, 100, 25).reshape(5, 5)` → 5x5 matrix from 0 to 100\n",
        "\n",
        "---\n",
        "\n",
        "### * Create array with random values using `np.random.rand()`\n",
        "\n",
        "* Syntax: `np.random.rand(rows, cols)`\n",
        "* Returns values between 0 and 1\n",
        "* Example:  \n",
        "  * `np.random.rand(2, 5)` → 2x5 matrix with random floats from 0 to 1\n",
        "\n",
        "---\n",
        "\n",
        "### * Create array with random integers using `np.random.randint()`\n",
        "\n",
        "* Syntax: `np.random.randint(low, high, size)`\n",
        "* Returns random integers from `low` (inclusive) to `high` (exclusive)\n",
        "* Example:  \n",
        "  * `np.random.randint(-20, 20, (3, 3))` → 3x3 matrix with values from -20 to 19\n",
        "\n",
        "---\n",
        "\n",
        "### * Summary\n",
        "\n",
        "* Use `np.full()` to create constant-value arrays  \n",
        "* Use `np.arange()` for integer sequences with fixed step  \n",
        "* Use `np.linspace()` for sequences with fixed number of values  \n",
        "* Use `np.random.rand()` and `np.random.randint()` for random values  \n",
        "* Arrays can be reshaped using `.reshape()`  \n",
        "* Practice using `np.identity()`, `np.zeros()`, and `np.ones()` for further learning"
      ],
      "metadata": {
        "id": "ed5v90W6KeJ8"
      }
    },
    {
      "cell_type": "code",
      "source": [
        "import numpy as np"
      ],
      "metadata": {
        "id": "VHiFIAqqKcx-"
      },
      "execution_count": 171,
      "outputs": []
    },
    {
      "cell_type": "code",
      "source": [
        "np.full((3,6),9)"
      ],
      "metadata": {
        "colab": {
          "base_uri": "https://localhost:8080/"
        },
        "id": "D7OJSrndLB0A",
        "outputId": "7d64cbba-cbaf-43a6-f460-bf17bc6c06d3"
      },
      "execution_count": 172,
      "outputs": [
        {
          "output_type": "execute_result",
          "data": {
            "text/plain": [
              "array([[9, 9, 9, 9, 9, 9],\n",
              "       [9, 9, 9, 9, 9, 9],\n",
              "       [9, 9, 9, 9, 9, 9]])"
            ]
          },
          "metadata": {},
          "execution_count": 172
        }
      ]
    },
    {
      "cell_type": "code",
      "source": [
        "np.full((5,7),fill_value=5,dtype=np.longdouble)"
      ],
      "metadata": {
        "colab": {
          "base_uri": "https://localhost:8080/"
        },
        "id": "oUCjzVfMLJDB",
        "outputId": "73b62b3c-7d9d-4570-d1ca-a14ea9fc231e"
      },
      "execution_count": 173,
      "outputs": [
        {
          "output_type": "execute_result",
          "data": {
            "text/plain": [
              "array([[5., 5., 5., 5., 5., 5., 5.],\n",
              "       [5., 5., 5., 5., 5., 5., 5.],\n",
              "       [5., 5., 5., 5., 5., 5., 5.],\n",
              "       [5., 5., 5., 5., 5., 5., 5.],\n",
              "       [5., 5., 5., 5., 5., 5., 5.]], dtype=float128)"
            ]
          },
          "metadata": {},
          "execution_count": 173
        }
      ]
    },
    {
      "cell_type": "code",
      "source": [
        "np.full(dtype=np.longdouble,shape=(5,5),fill_value=10)"
      ],
      "metadata": {
        "colab": {
          "base_uri": "https://localhost:8080/"
        },
        "id": "qtihHi2eLuZh",
        "outputId": "346307ea-fb6f-4f9c-b7b6-32004daf33f5"
      },
      "execution_count": 174,
      "outputs": [
        {
          "output_type": "execute_result",
          "data": {
            "text/plain": [
              "array([[10., 10., 10., 10., 10.],\n",
              "       [10., 10., 10., 10., 10.],\n",
              "       [10., 10., 10., 10., 10.],\n",
              "       [10., 10., 10., 10., 10.],\n",
              "       [10., 10., 10., 10., 10.]], dtype=float128)"
            ]
          },
          "metadata": {},
          "execution_count": 174
        }
      ]
    },
    {
      "cell_type": "code",
      "source": [
        "np.full((6,6),20,np.longdouble)"
      ],
      "metadata": {
        "colab": {
          "base_uri": "https://localhost:8080/"
        },
        "id": "d4xD5zYoMPTt",
        "outputId": "6f6f6a4b-1508-4d36-bb33-f5f45c1fa5e7"
      },
      "execution_count": 178,
      "outputs": [
        {
          "output_type": "execute_result",
          "data": {
            "text/plain": [
              "array([[20., 20., 20., 20., 20., 20.],\n",
              "       [20., 20., 20., 20., 20., 20.],\n",
              "       [20., 20., 20., 20., 20., 20.],\n",
              "       [20., 20., 20., 20., 20., 20.],\n",
              "       [20., 20., 20., 20., 20., 20.],\n",
              "       [20., 20., 20., 20., 20., 20.]], dtype=float128)"
            ]
          },
          "metadata": {},
          "execution_count": 178
        }
      ]
    },
    {
      "cell_type": "code",
      "source": [
        "np.arange(0,18,2)"
      ],
      "metadata": {
        "colab": {
          "base_uri": "https://localhost:8080/"
        },
        "id": "hN-Skef0MiLN",
        "outputId": "781f97d5-5f4c-41bc-d86e-96b0273d5c92"
      },
      "execution_count": 185,
      "outputs": [
        {
          "output_type": "execute_result",
          "data": {
            "text/plain": [
              "array([ 0,  2,  4,  6,  8, 10, 12, 14, 16])"
            ]
          },
          "metadata": {},
          "execution_count": 185
        }
      ]
    },
    {
      "cell_type": "code",
      "source": [
        "np.arange(0,18,2).reshape(3,3)"
      ],
      "metadata": {
        "colab": {
          "base_uri": "https://localhost:8080/"
        },
        "id": "RvW8oZoAN-E2",
        "outputId": "45857d4b-3072-437f-f152-7271a8166256"
      },
      "execution_count": 187,
      "outputs": [
        {
          "output_type": "execute_result",
          "data": {
            "text/plain": [
              "array([[ 0,  2,  4],\n",
              "       [ 6,  8, 10],\n",
              "       [12, 14, 16]])"
            ]
          },
          "metadata": {},
          "execution_count": 187
        }
      ]
    },
    {
      "cell_type": "code",
      "source": [
        "np.arange(0,18,2).reshape(3,3).shape"
      ],
      "metadata": {
        "colab": {
          "base_uri": "https://localhost:8080/"
        },
        "id": "8-SK2g-LOLzF",
        "outputId": "f80ba2f1-feee-4cd2-f359-bb4356cfab0d"
      },
      "execution_count": 188,
      "outputs": [
        {
          "output_type": "execute_result",
          "data": {
            "text/plain": [
              "(3, 3)"
            ]
          },
          "metadata": {},
          "execution_count": 188
        }
      ]
    },
    {
      "cell_type": "code",
      "source": [
        "np.linspace(0,50,num=30)"
      ],
      "metadata": {
        "colab": {
          "base_uri": "https://localhost:8080/"
        },
        "id": "6qMYA-9YOejA",
        "outputId": "52eb41a0-c1e0-454f-b96c-c34b0fef85be"
      },
      "execution_count": 193,
      "outputs": [
        {
          "output_type": "execute_result",
          "data": {
            "text/plain": [
              "array([ 0.        ,  1.72413793,  3.44827586,  5.17241379,  6.89655172,\n",
              "        8.62068966, 10.34482759, 12.06896552, 13.79310345, 15.51724138,\n",
              "       17.24137931, 18.96551724, 20.68965517, 22.4137931 , 24.13793103,\n",
              "       25.86206897, 27.5862069 , 29.31034483, 31.03448276, 32.75862069,\n",
              "       34.48275862, 36.20689655, 37.93103448, 39.65517241, 41.37931034,\n",
              "       43.10344828, 44.82758621, 46.55172414, 48.27586207, 50.        ])"
            ]
          },
          "metadata": {},
          "execution_count": 193
        }
      ]
    },
    {
      "cell_type": "code",
      "source": [
        "np.linspace(0,50,num=30).reshape(10,3)"
      ],
      "metadata": {
        "colab": {
          "base_uri": "https://localhost:8080/"
        },
        "id": "Fy04gPdkO47x",
        "outputId": "930a7ff0-ac61-4d93-a9d5-f4ed2bec122a"
      },
      "execution_count": 199,
      "outputs": [
        {
          "output_type": "execute_result",
          "data": {
            "text/plain": [
              "array([[ 0.        ,  1.72413793,  3.44827586],\n",
              "       [ 5.17241379,  6.89655172,  8.62068966],\n",
              "       [10.34482759, 12.06896552, 13.79310345],\n",
              "       [15.51724138, 17.24137931, 18.96551724],\n",
              "       [20.68965517, 22.4137931 , 24.13793103],\n",
              "       [25.86206897, 27.5862069 , 29.31034483],\n",
              "       [31.03448276, 32.75862069, 34.48275862],\n",
              "       [36.20689655, 37.93103448, 39.65517241],\n",
              "       [41.37931034, 43.10344828, 44.82758621],\n",
              "       [46.55172414, 48.27586207, 50.        ]])"
            ]
          },
          "metadata": {},
          "execution_count": 199
        }
      ]
    },
    {
      "cell_type": "code",
      "source": [
        "np.linspace(0,50,num=30).reshape(5,6)"
      ],
      "metadata": {
        "colab": {
          "base_uri": "https://localhost:8080/"
        },
        "id": "wIzF16ZQPOxz",
        "outputId": "fa70ac5e-4685-4384-a70e-74dd13a12aad"
      },
      "execution_count": 201,
      "outputs": [
        {
          "output_type": "execute_result",
          "data": {
            "text/plain": [
              "array([[ 0.        ,  1.72413793,  3.44827586,  5.17241379,  6.89655172,\n",
              "         8.62068966],\n",
              "       [10.34482759, 12.06896552, 13.79310345, 15.51724138, 17.24137931,\n",
              "        18.96551724],\n",
              "       [20.68965517, 22.4137931 , 24.13793103, 25.86206897, 27.5862069 ,\n",
              "        29.31034483],\n",
              "       [31.03448276, 32.75862069, 34.48275862, 36.20689655, 37.93103448,\n",
              "        39.65517241],\n",
              "       [41.37931034, 43.10344828, 44.82758621, 46.55172414, 48.27586207,\n",
              "        50.        ]])"
            ]
          },
          "metadata": {},
          "execution_count": 201
        }
      ]
    },
    {
      "cell_type": "code",
      "source": [
        "np.random.random((5,5))"
      ],
      "metadata": {
        "colab": {
          "base_uri": "https://localhost:8080/"
        },
        "id": "JBMZ7ea_PdwE",
        "outputId": "19bdc626-7959-4aca-eb28-6568349e1a22"
      },
      "execution_count": 202,
      "outputs": [
        {
          "output_type": "execute_result",
          "data": {
            "text/plain": [
              "array([[0.59536434, 0.68659915, 0.05022622, 0.01350301, 0.01322044],\n",
              "       [0.0478648 , 0.54923599, 0.54009683, 0.63692739, 0.93673604],\n",
              "       [0.64345938, 0.46174079, 0.59132718, 0.82158147, 0.54687981],\n",
              "       [0.65661036, 0.26798634, 0.53740784, 0.22848866, 0.23892052],\n",
              "       [0.94422639, 0.17164212, 0.83152314, 0.67955634, 0.97691097]])"
            ]
          },
          "metadata": {},
          "execution_count": 202
        }
      ]
    },
    {
      "cell_type": "code",
      "source": [
        "np.random.rand(5,3)"
      ],
      "metadata": {
        "colab": {
          "base_uri": "https://localhost:8080/"
        },
        "id": "hd5nbgVKP_ky",
        "outputId": "288e5d48-6f18-4c7d-f439-4f12823cfa5e"
      },
      "execution_count": 206,
      "outputs": [
        {
          "output_type": "execute_result",
          "data": {
            "text/plain": [
              "array([[0.08988026, 0.33270171, 0.8032751 ],\n",
              "       [0.94778205, 0.9164217 , 0.23285399],\n",
              "       [0.38166609, 0.2706406 , 0.6228131 ],\n",
              "       [0.3985176 , 0.57201181, 0.83846633],\n",
              "       [0.74497341, 0.78059738, 0.38656438]])"
            ]
          },
          "metadata": {},
          "execution_count": 206
        }
      ]
    },
    {
      "cell_type": "code",
      "source": [
        "np.random.randint(-10,10,(3,3))"
      ],
      "metadata": {
        "colab": {
          "base_uri": "https://localhost:8080/"
        },
        "id": "4L1a6_WwQD0q",
        "outputId": "a0c79efa-c46c-4463-f92f-e5a8ebc8be8e"
      },
      "execution_count": 218,
      "outputs": [
        {
          "output_type": "execute_result",
          "data": {
            "text/plain": [
              "array([[  6, -10,   6],\n",
              "       [ -5,  -4,   3],\n",
              "       [ -9,  -7,   1]])"
            ]
          },
          "metadata": {},
          "execution_count": 218
        }
      ]
    },
    {
      "cell_type": "code",
      "source": [
        "np.random.randint(-30,30,(5,5))"
      ],
      "metadata": {
        "colab": {
          "base_uri": "https://localhost:8080/"
        },
        "id": "R7g5m6zKQWIP",
        "outputId": "61bb49f9-f541-431b-ad0f-5e4ab222d893"
      },
      "execution_count": 219,
      "outputs": [
        {
          "output_type": "execute_result",
          "data": {
            "text/plain": [
              "array([[-21, -23, -20,  -8, -26],\n",
              "       [-13, -24, -15,   7,  26],\n",
              "       [-25,  -3,  21,  15, -12],\n",
              "       [ -5,   9, -17,   6,  -3],\n",
              "       [-12,   3,   1, -11,   5]])"
            ]
          },
          "metadata": {},
          "execution_count": 219
        }
      ]
    },
    {
      "cell_type": "code",
      "source": [
        "np.identity(5)"
      ],
      "metadata": {
        "colab": {
          "base_uri": "https://localhost:8080/"
        },
        "id": "uIrwozEnQ4ij",
        "outputId": "20058c60-55ff-4138-897e-fb9e661c62c0"
      },
      "execution_count": 226,
      "outputs": [
        {
          "output_type": "execute_result",
          "data": {
            "text/plain": [
              "array([[1., 0., 0., 0., 0.],\n",
              "       [0., 1., 0., 0., 0.],\n",
              "       [0., 0., 1., 0., 0.],\n",
              "       [0., 0., 0., 1., 0.],\n",
              "       [0., 0., 0., 0., 1.]])"
            ]
          },
          "metadata": {},
          "execution_count": 226
        }
      ]
    },
    {
      "cell_type": "code",
      "source": [
        "np.zeros((4,4))"
      ],
      "metadata": {
        "colab": {
          "base_uri": "https://localhost:8080/"
        },
        "id": "Vu79PAh4RBFq",
        "outputId": "5b0bf2e6-f44d-48f3-9fa4-cfe550e92fe7"
      },
      "execution_count": 230,
      "outputs": [
        {
          "output_type": "execute_result",
          "data": {
            "text/plain": [
              "array([[0., 0., 0., 0.],\n",
              "       [0., 0., 0., 0.],\n",
              "       [0., 0., 0., 0.],\n",
              "       [0., 0., 0., 0.]])"
            ]
          },
          "metadata": {},
          "execution_count": 230
        }
      ]
    },
    {
      "cell_type": "code",
      "source": [
        "np.ones((6,6))"
      ],
      "metadata": {
        "colab": {
          "base_uri": "https://localhost:8080/"
        },
        "id": "SiktczIPRWYe",
        "outputId": "fc739fcd-634a-4f4d-ef0b-fe75c1b51d64"
      },
      "execution_count": 231,
      "outputs": [
        {
          "output_type": "execute_result",
          "data": {
            "text/plain": [
              "array([[1., 1., 1., 1., 1., 1.],\n",
              "       [1., 1., 1., 1., 1., 1.],\n",
              "       [1., 1., 1., 1., 1., 1.],\n",
              "       [1., 1., 1., 1., 1., 1.],\n",
              "       [1., 1., 1., 1., 1., 1.],\n",
              "       [1., 1., 1., 1., 1., 1.]])"
            ]
          },
          "metadata": {},
          "execution_count": 231
        }
      ]
    },
    {
      "cell_type": "markdown",
      "source": [
        "## NumPy Notes – Arithmetic and Math Functions\n",
        "\n",
        "### * Array Arithmetic Operations\n",
        "\n",
        "* Use `+`, `-`, `*`, `/` operators for element-wise operations  \n",
        "* Works when arrays have the **same shape**  \n",
        "* Example:\n",
        "  * `a + b` → adds corresponding elements\n",
        "  * `a * 2` → scalar multiplication, each element × 2\n",
        "\n",
        "---\n",
        "\n",
        "### * Broadcasting\n",
        "\n",
        "* Allows operations between arrays of **different shapes**  \n",
        "* Example:\n",
        "  * `array1.shape = (1, 5)` and `array3.shape = (3, 5)`  \n",
        "  * `array1 + array3` → `array1` is **broadcast** to each row of `array3`  \n",
        "* Scalars also broadcast to all elements in an array  \n",
        "  * `array3 + 5` adds 5 to each element\n",
        "\n",
        "---\n",
        "\n",
        "### * NumPy Functions\n",
        "\n",
        "* `np.add(a, b)` → adds arrays element-wise (only 2 arguments allowed)  \n",
        "* `np.subtract(a, b)` → subtracts element-wise  \n",
        "* `np.multiply(a, b)` and `np.divide(a, b)` also available  \n",
        "\n",
        "---\n",
        "\n",
        "### * Sum and Cumulative Sum\n",
        "\n",
        "* `np.sum(array)` → sum of all elements  \n",
        "* `np.sum(array, axis=0)` → sum **down columns**  \n",
        "* `np.sum(array, axis=1)` → sum **across rows**\n",
        "\n",
        "* `np.cumsum(array)` → cumulative sum of flattened array  \n",
        "* `np.cumsum(array, axis=0)` → cumulative sum **down columns**  \n",
        "* `np.cumsum(array, axis=1)` → cumulative sum **across rows**\n",
        "\n",
        "---\n",
        "\n",
        "### * Mean, Max, and Min\n",
        "\n",
        "* `array.mean()` → average of all elements  \n",
        "* `np.mean(array, axis=0)` → column-wise average  \n",
        "* `np.mean(array, axis=1)` → row-wise average\n",
        "\n",
        "* `np.max(array, axis=1)` → max of each row  \n",
        "* `np.min(array, axis=1)` → min of each row\n",
        "\n",
        "---\n",
        "\n",
        "### * Summary\n",
        "\n",
        "* Use vectorized operations (`+`, `-`, `*`, `/`) for fast computation  \n",
        "* Broadcasting enables flexible operations with different shapes  \n",
        "* Built-in functions like `sum`, `mean`, `cumsum`, `max`, and `min` work with optional axis for direction  \n",
        "* Scalar operations are broadcast to all array elements"
      ],
      "metadata": {
        "id": "vngWyJ4sSWdK"
      }
    },
    {
      "cell_type": "code",
      "source": [
        "import numpy as np"
      ],
      "metadata": {
        "id": "3x8XIAlxRmUt"
      },
      "execution_count": 232,
      "outputs": []
    },
    {
      "cell_type": "code",
      "source": [
        "array_1 = np.array([[1,2,3,4,5]])"
      ],
      "metadata": {
        "id": "jqYJyJS3TMG9"
      },
      "execution_count": 259,
      "outputs": []
    },
    {
      "cell_type": "code",
      "source": [
        "array_2 = np.array([1,2,3,4,5,6,7,8,8,9,9,10,1,3,4,6,8,8,10,20]).reshape(5,4)"
      ],
      "metadata": {
        "id": "-6N8VgN9TSTX"
      },
      "execution_count": 260,
      "outputs": []
    },
    {
      "cell_type": "code",
      "source": [
        "array_3 = np.array([1,224,4,4,2,1,1,5,2,3,25,2,45,5,5,25,2,23,5,23,5,3,1,41,12]).reshape(5,5)"
      ],
      "metadata": {
        "id": "NaVUtiq0ThsI"
      },
      "execution_count": 261,
      "outputs": []
    },
    {
      "cell_type": "code",
      "source": [
        "array_1"
      ],
      "metadata": {
        "colab": {
          "base_uri": "https://localhost:8080/"
        },
        "id": "luor3hHZTz71",
        "outputId": "1c90b9d8-854f-437f-af17-da8c1657657c"
      },
      "execution_count": 262,
      "outputs": [
        {
          "output_type": "execute_result",
          "data": {
            "text/plain": [
              "array([[1, 2, 3, 4, 5]])"
            ]
          },
          "metadata": {},
          "execution_count": 262
        }
      ]
    },
    {
      "cell_type": "code",
      "source": [
        "array_2"
      ],
      "metadata": {
        "colab": {
          "base_uri": "https://localhost:8080/"
        },
        "id": "DOI6wwyTT_HY",
        "outputId": "68802b6d-472c-4d50-ee87-7413b14bfd4c"
      },
      "execution_count": 263,
      "outputs": [
        {
          "output_type": "execute_result",
          "data": {
            "text/plain": [
              "array([[ 1,  2,  3,  4],\n",
              "       [ 5,  6,  7,  8],\n",
              "       [ 8,  9,  9, 10],\n",
              "       [ 1,  3,  4,  6],\n",
              "       [ 8,  8, 10, 20]])"
            ]
          },
          "metadata": {},
          "execution_count": 263
        }
      ]
    },
    {
      "cell_type": "code",
      "source": [
        "array_3"
      ],
      "metadata": {
        "colab": {
          "base_uri": "https://localhost:8080/"
        },
        "id": "uYqqx1pNUA3F",
        "outputId": "23ea380f-d1a9-42b8-83dd-edd4c9cfabcc"
      },
      "execution_count": 264,
      "outputs": [
        {
          "output_type": "execute_result",
          "data": {
            "text/plain": [
              "array([[  1, 224,   4,   4,   2],\n",
              "       [  1,   1,   5,   2,   3],\n",
              "       [ 25,   2,  45,   5,   5],\n",
              "       [ 25,   2,  23,   5,  23],\n",
              "       [  5,   3,   1,  41,  12]])"
            ]
          },
          "metadata": {},
          "execution_count": 264
        }
      ]
    },
    {
      "cell_type": "code",
      "source": [
        "np.add(array_1,array_1)"
      ],
      "metadata": {
        "colab": {
          "base_uri": "https://localhost:8080/"
        },
        "id": "mGV62ZiKUCFj",
        "outputId": "915bc771-d861-4737-a956-5a401e5b721c"
      },
      "execution_count": 265,
      "outputs": [
        {
          "output_type": "execute_result",
          "data": {
            "text/plain": [
              "array([[ 2,  4,  6,  8, 10]])"
            ]
          },
          "metadata": {},
          "execution_count": 265
        }
      ]
    },
    {
      "cell_type": "code",
      "source": [
        "array_1+array_1"
      ],
      "metadata": {
        "colab": {
          "base_uri": "https://localhost:8080/"
        },
        "id": "NqieQuzBUJ-R",
        "outputId": "1ecf499d-ccfe-4e41-b28c-9862fb424b9e"
      },
      "execution_count": 266,
      "outputs": [
        {
          "output_type": "execute_result",
          "data": {
            "text/plain": [
              "array([[ 2,  4,  6,  8, 10]])"
            ]
          },
          "metadata": {},
          "execution_count": 266
        }
      ]
    },
    {
      "cell_type": "code",
      "source": [
        "array_1+array_1+array_1"
      ],
      "metadata": {
        "colab": {
          "base_uri": "https://localhost:8080/"
        },
        "id": "4ywMJ2D-UOxH",
        "outputId": "659fad2a-1598-446a-b892-711f19dbc38c"
      },
      "execution_count": 267,
      "outputs": [
        {
          "output_type": "execute_result",
          "data": {
            "text/plain": [
              "array([[ 3,  6,  9, 12, 15]])"
            ]
          },
          "metadata": {},
          "execution_count": 267
        }
      ]
    },
    {
      "cell_type": "code",
      "source": [
        "array_1.shape"
      ],
      "metadata": {
        "colab": {
          "base_uri": "https://localhost:8080/"
        },
        "id": "1gq7hmZoUTj9",
        "outputId": "c7394f8a-f2d0-4869-982f-1e6da9949a7a"
      },
      "execution_count": 268,
      "outputs": [
        {
          "output_type": "execute_result",
          "data": {
            "text/plain": [
              "(1, 5)"
            ]
          },
          "metadata": {},
          "execution_count": 268
        }
      ]
    },
    {
      "cell_type": "code",
      "source": [
        "array_2.shape"
      ],
      "metadata": {
        "colab": {
          "base_uri": "https://localhost:8080/"
        },
        "id": "OOSoDXCoVBed",
        "outputId": "106fd71a-4d1a-4974-b4dc-99bfc7706948"
      },
      "execution_count": 269,
      "outputs": [
        {
          "output_type": "execute_result",
          "data": {
            "text/plain": [
              "(5, 4)"
            ]
          },
          "metadata": {},
          "execution_count": 269
        }
      ]
    },
    {
      "cell_type": "code",
      "source": [
        "array_3.shape"
      ],
      "metadata": {
        "colab": {
          "base_uri": "https://localhost:8080/"
        },
        "id": "OelvAaewVCnO",
        "outputId": "d00b35e4-78a7-4286-c3ca-266704a10fe6"
      },
      "execution_count": 270,
      "outputs": [
        {
          "output_type": "execute_result",
          "data": {
            "text/plain": [
              "(5, 5)"
            ]
          },
          "metadata": {},
          "execution_count": 270
        }
      ]
    },
    {
      "cell_type": "code",
      "source": [
        "array_1+array_3"
      ],
      "metadata": {
        "colab": {
          "base_uri": "https://localhost:8080/"
        },
        "id": "Fg0P46hyVD8C",
        "outputId": "e68ba8cf-b47e-42c6-9360-cb2080e4fe69"
      },
      "execution_count": 273,
      "outputs": [
        {
          "output_type": "execute_result",
          "data": {
            "text/plain": [
              "array([[  2, 226,   7,   8,   7],\n",
              "       [  2,   3,   8,   6,   8],\n",
              "       [ 26,   4,  48,   9,  10],\n",
              "       [ 26,   4,  26,   9,  28],\n",
              "       [  6,   5,   4,  45,  17]])"
            ]
          },
          "metadata": {},
          "execution_count": 273
        }
      ]
    },
    {
      "cell_type": "code",
      "source": [
        "array_2_1 = array_2.T"
      ],
      "metadata": {
        "id": "oNRpD3V3VPKj"
      },
      "execution_count": 277,
      "outputs": []
    },
    {
      "cell_type": "code",
      "source": [
        "array_1+array_2_1"
      ],
      "metadata": {
        "colab": {
          "base_uri": "https://localhost:8080/"
        },
        "id": "Wtbkgw-9VgdY",
        "outputId": "9cf01519-20d7-4c30-e44b-c51198911684"
      },
      "execution_count": 278,
      "outputs": [
        {
          "output_type": "execute_result",
          "data": {
            "text/plain": [
              "array([[ 2,  7, 11,  5, 13],\n",
              "       [ 3,  8, 12,  7, 13],\n",
              "       [ 4,  9, 12,  8, 15],\n",
              "       [ 5, 10, 13, 10, 25]])"
            ]
          },
          "metadata": {},
          "execution_count": 278
        }
      ]
    },
    {
      "cell_type": "code",
      "source": [
        "array_3"
      ],
      "metadata": {
        "colab": {
          "base_uri": "https://localhost:8080/"
        },
        "id": "Up90LyRyVkN7",
        "outputId": "509a1305-7eb6-48c7-91a4-0bb25065b9a6"
      },
      "execution_count": 279,
      "outputs": [
        {
          "output_type": "execute_result",
          "data": {
            "text/plain": [
              "array([[  1, 224,   4,   4,   2],\n",
              "       [  1,   1,   5,   2,   3],\n",
              "       [ 25,   2,  45,   5,   5],\n",
              "       [ 25,   2,  23,   5,  23],\n",
              "       [  5,   3,   1,  41,  12]])"
            ]
          },
          "metadata": {},
          "execution_count": 279
        }
      ]
    },
    {
      "cell_type": "code",
      "source": [
        "array_3+10"
      ],
      "metadata": {
        "colab": {
          "base_uri": "https://localhost:8080/"
        },
        "id": "sP9k2CNOWC1d",
        "outputId": "f9d882da-62c8-448f-fe5e-83ee979b61fb"
      },
      "execution_count": 280,
      "outputs": [
        {
          "output_type": "execute_result",
          "data": {
            "text/plain": [
              "array([[ 11, 234,  14,  14,  12],\n",
              "       [ 11,  11,  15,  12,  13],\n",
              "       [ 35,  12,  55,  15,  15],\n",
              "       [ 35,  12,  33,  15,  33],\n",
              "       [ 15,  13,  11,  51,  22]])"
            ]
          },
          "metadata": {},
          "execution_count": 280
        }
      ]
    },
    {
      "cell_type": "code",
      "source": [
        "array_1-array_1"
      ],
      "metadata": {
        "colab": {
          "base_uri": "https://localhost:8080/"
        },
        "id": "vT2-QDtHWFgE",
        "outputId": "47357d4d-6086-4551-919a-d18507ebd571"
      },
      "execution_count": 283,
      "outputs": [
        {
          "output_type": "execute_result",
          "data": {
            "text/plain": [
              "array([[0, 0, 0, 0, 0]])"
            ]
          },
          "metadata": {},
          "execution_count": 283
        }
      ]
    },
    {
      "cell_type": "code",
      "source": [
        "array_1-array_2_1"
      ],
      "metadata": {
        "colab": {
          "base_uri": "https://localhost:8080/"
        },
        "id": "oztsqpn2WJKa",
        "outputId": "1347fea7-d2ae-4c68-ef4f-3e481bf12752"
      },
      "execution_count": 284,
      "outputs": [
        {
          "output_type": "execute_result",
          "data": {
            "text/plain": [
              "array([[  0,  -3,  -5,   3,  -3],\n",
              "       [ -1,  -4,  -6,   1,  -3],\n",
              "       [ -2,  -5,  -6,   0,  -5],\n",
              "       [ -3,  -6,  -7,  -2, -15]])"
            ]
          },
          "metadata": {},
          "execution_count": 284
        }
      ]
    },
    {
      "cell_type": "code",
      "source": [
        "array_1-array_3"
      ],
      "metadata": {
        "colab": {
          "base_uri": "https://localhost:8080/"
        },
        "id": "vWY4yFbGWO5k",
        "outputId": "c429ef00-861f-4553-d626-d46aff0441e7"
      },
      "execution_count": 285,
      "outputs": [
        {
          "output_type": "execute_result",
          "data": {
            "text/plain": [
              "array([[   0, -222,   -1,    0,    3],\n",
              "       [   0,    1,   -2,    2,    2],\n",
              "       [ -24,    0,  -42,   -1,    0],\n",
              "       [ -24,    0,  -20,   -1,  -18],\n",
              "       [  -4,   -1,    2,  -37,   -7]])"
            ]
          },
          "metadata": {},
          "execution_count": 285
        }
      ]
    },
    {
      "cell_type": "code",
      "source": [
        "np.subtract(array_1,array_3)"
      ],
      "metadata": {
        "colab": {
          "base_uri": "https://localhost:8080/"
        },
        "id": "J6Mjge26WQ_E",
        "outputId": "b5085b99-303f-44e6-c321-480d4b3c9715"
      },
      "execution_count": 289,
      "outputs": [
        {
          "output_type": "execute_result",
          "data": {
            "text/plain": [
              "array([[   0, -222,   -1,    0,    3],\n",
              "       [   0,    1,   -2,    2,    2],\n",
              "       [ -24,    0,  -42,   -1,    0],\n",
              "       [ -24,    0,  -20,   -1,  -18],\n",
              "       [  -4,   -1,    2,  -37,   -7]])"
            ]
          },
          "metadata": {},
          "execution_count": 289
        }
      ]
    },
    {
      "cell_type": "code",
      "source": [
        "array_1+20-5"
      ],
      "metadata": {
        "colab": {
          "base_uri": "https://localhost:8080/"
        },
        "id": "7EYpv3Q-WVWb",
        "outputId": "b4c5e10e-84e5-43d0-fc4c-8e43b0b5fc81"
      },
      "execution_count": 290,
      "outputs": [
        {
          "output_type": "execute_result",
          "data": {
            "text/plain": [
              "array([[16, 17, 18, 19, 20]])"
            ]
          },
          "metadata": {},
          "execution_count": 290
        }
      ]
    },
    {
      "cell_type": "code",
      "source": [
        "array_2"
      ],
      "metadata": {
        "colab": {
          "base_uri": "https://localhost:8080/"
        },
        "id": "IlRJv2tyWqIA",
        "outputId": "521defae-1c39-4c68-f0c8-dcea8701b04e"
      },
      "execution_count": 291,
      "outputs": [
        {
          "output_type": "execute_result",
          "data": {
            "text/plain": [
              "array([[ 1,  2,  3,  4],\n",
              "       [ 5,  6,  7,  8],\n",
              "       [ 8,  9,  9, 10],\n",
              "       [ 1,  3,  4,  6],\n",
              "       [ 8,  8, 10, 20]])"
            ]
          },
          "metadata": {},
          "execution_count": 291
        }
      ]
    },
    {
      "cell_type": "code",
      "source": [
        "array_2*4"
      ],
      "metadata": {
        "colab": {
          "base_uri": "https://localhost:8080/"
        },
        "id": "JqyNhq99Wsjx",
        "outputId": "db612cc9-6aa7-4f26-990d-389ee597c1c0"
      },
      "execution_count": 292,
      "outputs": [
        {
          "output_type": "execute_result",
          "data": {
            "text/plain": [
              "array([[ 4,  8, 12, 16],\n",
              "       [20, 24, 28, 32],\n",
              "       [32, 36, 36, 40],\n",
              "       [ 4, 12, 16, 24],\n",
              "       [32, 32, 40, 80]])"
            ]
          },
          "metadata": {},
          "execution_count": 292
        }
      ]
    },
    {
      "cell_type": "code",
      "source": [
        "array_3/2"
      ],
      "metadata": {
        "colab": {
          "base_uri": "https://localhost:8080/"
        },
        "id": "5xAt15q4WuZV",
        "outputId": "8c78c71c-9d5a-498b-f56d-38c5d4d2089b"
      },
      "execution_count": 293,
      "outputs": [
        {
          "output_type": "execute_result",
          "data": {
            "text/plain": [
              "array([[  0.5, 112. ,   2. ,   2. ,   1. ],\n",
              "       [  0.5,   0.5,   2.5,   1. ,   1.5],\n",
              "       [ 12.5,   1. ,  22.5,   2.5,   2.5],\n",
              "       [ 12.5,   1. ,  11.5,   2.5,  11.5],\n",
              "       [  2.5,   1.5,   0.5,  20.5,   6. ]])"
            ]
          },
          "metadata": {},
          "execution_count": 293
        }
      ]
    },
    {
      "cell_type": "code",
      "source": [
        "array_2"
      ],
      "metadata": {
        "colab": {
          "base_uri": "https://localhost:8080/"
        },
        "id": "dIK1Tt0DWxMM",
        "outputId": "35abe429-58d6-4126-eb74-ddb76c392d0f"
      },
      "execution_count": 295,
      "outputs": [
        {
          "output_type": "execute_result",
          "data": {
            "text/plain": [
              "array([[ 1,  2,  3,  4],\n",
              "       [ 5,  6,  7,  8],\n",
              "       [ 8,  9,  9, 10],\n",
              "       [ 1,  3,  4,  6],\n",
              "       [ 8,  8, 10, 20]])"
            ]
          },
          "metadata": {},
          "execution_count": 295
        }
      ]
    },
    {
      "cell_type": "code",
      "source": [
        "int(np.sum(array_2))"
      ],
      "metadata": {
        "colab": {
          "base_uri": "https://localhost:8080/"
        },
        "id": "0zNHi-cAXGh5",
        "outputId": "13368abd-70cc-4a39-9b93-dec27fb9c2ee"
      },
      "execution_count": 300,
      "outputs": [
        {
          "output_type": "execute_result",
          "data": {
            "text/plain": [
              "132"
            ]
          },
          "metadata": {},
          "execution_count": 300
        }
      ]
    },
    {
      "cell_type": "code",
      "source": [
        "np.sum(array_2,axis=0)"
      ],
      "metadata": {
        "colab": {
          "base_uri": "https://localhost:8080/"
        },
        "id": "_o23kdfGXMFs",
        "outputId": "34ed400a-577d-49bb-976a-987591454cf9"
      },
      "execution_count": 301,
      "outputs": [
        {
          "output_type": "execute_result",
          "data": {
            "text/plain": [
              "array([23, 28, 33, 48])"
            ]
          },
          "metadata": {},
          "execution_count": 301
        }
      ]
    },
    {
      "cell_type": "code",
      "source": [
        "np.sum(array_2,axis=1)"
      ],
      "metadata": {
        "colab": {
          "base_uri": "https://localhost:8080/"
        },
        "id": "6IdZsCnKXZZn",
        "outputId": "ce5f84a6-37c3-4e45-8c92-c5cd197a7ffb"
      },
      "execution_count": 302,
      "outputs": [
        {
          "output_type": "execute_result",
          "data": {
            "text/plain": [
              "array([10, 26, 36, 14, 46])"
            ]
          },
          "metadata": {},
          "execution_count": 302
        }
      ]
    },
    {
      "cell_type": "code",
      "source": [
        "np.cumsum(array_3)"
      ],
      "metadata": {
        "colab": {
          "base_uri": "https://localhost:8080/"
        },
        "id": "BH4X-ANzXfL7",
        "outputId": "cf542cc5-8889-4c43-8f97-6688a186e005"
      },
      "execution_count": 303,
      "outputs": [
        {
          "output_type": "execute_result",
          "data": {
            "text/plain": [
              "array([  1, 225, 229, 233, 235, 236, 237, 242, 244, 247, 272, 274, 319,\n",
              "       324, 329, 354, 356, 379, 384, 407, 412, 415, 416, 457, 469])"
            ]
          },
          "metadata": {},
          "execution_count": 303
        }
      ]
    },
    {
      "cell_type": "code",
      "source": [
        "np.cumsum(array_3,axis=0)"
      ],
      "metadata": {
        "colab": {
          "base_uri": "https://localhost:8080/"
        },
        "id": "rht7585_XwCN",
        "outputId": "7bc0e0e1-258d-446b-9ca3-5b41226b66b3"
      },
      "execution_count": 304,
      "outputs": [
        {
          "output_type": "execute_result",
          "data": {
            "text/plain": [
              "array([[  1, 224,   4,   4,   2],\n",
              "       [  2, 225,   9,   6,   5],\n",
              "       [ 27, 227,  54,  11,  10],\n",
              "       [ 52, 229,  77,  16,  33],\n",
              "       [ 57, 232,  78,  57,  45]])"
            ]
          },
          "metadata": {},
          "execution_count": 304
        }
      ]
    },
    {
      "cell_type": "code",
      "source": [
        "np.cumsum(array_3,axis=1)"
      ],
      "metadata": {
        "colab": {
          "base_uri": "https://localhost:8080/"
        },
        "id": "LC54t5h9X1fG",
        "outputId": "6aece077-889f-4f5b-9171-76156df92fca"
      },
      "execution_count": 305,
      "outputs": [
        {
          "output_type": "execute_result",
          "data": {
            "text/plain": [
              "array([[  1, 225, 229, 233, 235],\n",
              "       [  1,   2,   7,   9,  12],\n",
              "       [ 25,  27,  72,  77,  82],\n",
              "       [ 25,  27,  50,  55,  78],\n",
              "       [  5,   8,   9,  50,  62]])"
            ]
          },
          "metadata": {},
          "execution_count": 305
        }
      ]
    },
    {
      "cell_type": "code",
      "source": [
        "array_2"
      ],
      "metadata": {
        "colab": {
          "base_uri": "https://localhost:8080/"
        },
        "id": "Hl67gXopX8MR",
        "outputId": "42626ea2-5158-486b-c786-365875fdab6d"
      },
      "execution_count": 306,
      "outputs": [
        {
          "output_type": "execute_result",
          "data": {
            "text/plain": [
              "array([[ 1,  2,  3,  4],\n",
              "       [ 5,  6,  7,  8],\n",
              "       [ 8,  9,  9, 10],\n",
              "       [ 1,  3,  4,  6],\n",
              "       [ 8,  8, 10, 20]])"
            ]
          },
          "metadata": {},
          "execution_count": 306
        }
      ]
    },
    {
      "cell_type": "code",
      "source": [
        "float(array_2.mean())"
      ],
      "metadata": {
        "colab": {
          "base_uri": "https://localhost:8080/"
        },
        "id": "NstDQKIdYSI9",
        "outputId": "ea195588-49e4-420f-880e-588707eeeab0"
      },
      "execution_count": 312,
      "outputs": [
        {
          "output_type": "execute_result",
          "data": {
            "text/plain": [
              "6.6"
            ]
          },
          "metadata": {},
          "execution_count": 312
        }
      ]
    },
    {
      "cell_type": "code",
      "source": [
        "np.mean(array_2)"
      ],
      "metadata": {
        "colab": {
          "base_uri": "https://localhost:8080/"
        },
        "id": "8WCsTI7VYU3V",
        "outputId": "a6fc68bd-edc7-41cb-ce4b-e00e740ceb8b"
      },
      "execution_count": 313,
      "outputs": [
        {
          "output_type": "execute_result",
          "data": {
            "text/plain": [
              "np.float64(6.6)"
            ]
          },
          "metadata": {},
          "execution_count": 313
        }
      ]
    },
    {
      "cell_type": "code",
      "source": [
        "np.mean(array_2,axis=0)"
      ],
      "metadata": {
        "colab": {
          "base_uri": "https://localhost:8080/"
        },
        "id": "YBFSoHPWYg27",
        "outputId": "7d757bc4-378e-4728-ea71-b440cd3646b1"
      },
      "execution_count": 314,
      "outputs": [
        {
          "output_type": "execute_result",
          "data": {
            "text/plain": [
              "array([4.6, 5.6, 6.6, 9.6])"
            ]
          },
          "metadata": {},
          "execution_count": 314
        }
      ]
    },
    {
      "cell_type": "code",
      "source": [
        "np.mean(array_2,axis=1)"
      ],
      "metadata": {
        "colab": {
          "base_uri": "https://localhost:8080/"
        },
        "id": "fpFMXVmRYo6c",
        "outputId": "0c1fad75-8ab2-4a69-aed5-15f89a130b09"
      },
      "execution_count": 315,
      "outputs": [
        {
          "output_type": "execute_result",
          "data": {
            "text/plain": [
              "array([ 2.5,  6.5,  9. ,  3.5, 11.5])"
            ]
          },
          "metadata": {},
          "execution_count": 315
        }
      ]
    },
    {
      "cell_type": "code",
      "source": [
        "int(np.amax(array_2))"
      ],
      "metadata": {
        "colab": {
          "base_uri": "https://localhost:8080/"
        },
        "id": "v1EF1-ksYwUm",
        "outputId": "bc936336-3ccc-4694-c841-43a59f10dfb5"
      },
      "execution_count": 317,
      "outputs": [
        {
          "output_type": "execute_result",
          "data": {
            "text/plain": [
              "20"
            ]
          },
          "metadata": {},
          "execution_count": 317
        }
      ]
    },
    {
      "cell_type": "code",
      "source": [
        "np.amax(array_2,axis=0)"
      ],
      "metadata": {
        "colab": {
          "base_uri": "https://localhost:8080/"
        },
        "id": "eMDSq5_uZAQ6",
        "outputId": "7c4f308b-1ada-4910-fafb-bbc04518db90"
      },
      "execution_count": 321,
      "outputs": [
        {
          "output_type": "execute_result",
          "data": {
            "text/plain": [
              "array([ 8,  9, 10, 20])"
            ]
          },
          "metadata": {},
          "execution_count": 321
        }
      ]
    },
    {
      "cell_type": "code",
      "source": [
        "int(np.amin(array_2))"
      ],
      "metadata": {
        "colab": {
          "base_uri": "https://localhost:8080/"
        },
        "id": "DgPveKxtYz8n",
        "outputId": "a2e564d6-4414-4509-dce0-3bba5132ca0e"
      },
      "execution_count": 318,
      "outputs": [
        {
          "output_type": "execute_result",
          "data": {
            "text/plain": [
              "1"
            ]
          },
          "metadata": {},
          "execution_count": 318
        }
      ]
    },
    {
      "cell_type": "code",
      "source": [
        "np.amin(array_2,axis=1)"
      ],
      "metadata": {
        "colab": {
          "base_uri": "https://localhost:8080/"
        },
        "id": "HcsQVB4gY5xV",
        "outputId": "9f6972d4-38bf-48d2-d4b8-84fe9fd26aff"
      },
      "execution_count": 322,
      "outputs": [
        {
          "output_type": "execute_result",
          "data": {
            "text/plain": [
              "array([1, 5, 8, 1, 8])"
            ]
          },
          "metadata": {},
          "execution_count": 322
        }
      ]
    },
    {
      "cell_type": "markdown",
      "source": [
        "## NumPy Notes – Input and Output\n",
        "\n",
        "### * Load data from `.txt` or `.csv` using `np.loadtxt()`\n",
        "\n",
        "* Syntax:\n",
        "  * `np.loadtxt('filename.txt', delimiter=',', skiprows=1, usecols=(1,))`\n",
        "* Only works if all selected columns have the same data type\n",
        "* If file is in same directory, use just the filename\n",
        "* If file is in another location, use full file path\n",
        "* `delimiter=','` for CSV files  \n",
        "* `skiprows=1` to skip headers  \n",
        "* `usecols=(1,)` selects only second column (indexing starts at 0)\n",
        "\n",
        "---\n",
        "\n",
        "### * Example: Load London bike data\n",
        "\n",
        "```python\n",
        "x = np.loadtxt('tfl-daily-cycle-hires.txt', delimiter=',', skiprows=1, usecols=(1,))\n",
        "```\n",
        "\n",
        "---\n",
        "\n",
        "### * Common analysis after loading\n",
        "\n",
        "* Count non-zero days: `np.count_nonzero(x)`\n",
        "* Max value (most bikes hired): `np.max(x)`\n",
        "* Min value (least bikes hired): `np.min(x)`\n",
        "* Mean value (average): `np.mean(x)`\n",
        "* Standard deviation: `np.std(x)`\n",
        "\n",
        "---\n",
        "\n",
        "### * Example output checks\n",
        "\n",
        "```python\n",
        "np.count_nonzero(x)   # Total non-zero values\n",
        "np.max(x)             # Highest bikes hired in a day\n",
        "np.mean(x)            # Average bikes per day\n",
        "np.std(x)             # Spread of bike hires\n",
        "```\n",
        "\n",
        "---\n",
        "\n",
        "### * Save array to file using `np.savetxt()`\n",
        "\n",
        "* Syntax:\n",
        "  * `np.savetxt('output.txt', x, delimiter=',')`\n",
        "* Saves `x` to a text file in current directory\n",
        "* Use full path if saving elsewhere\n",
        "\n",
        "---\n",
        "\n",
        "### * Summary Notes\n",
        "\n",
        "* Use `np.loadtxt()` to read structured numeric data\n",
        "* Use `delimiter`, `skiprows`, and `usecols` to customize load\n",
        "* Use `np.savetxt()` to export processed arrays\n",
        "* Pandas (covered next) is better for mixed/tabular data"
      ],
      "metadata": {
        "id": "ucbEjzzlaApe"
      }
    },
    {
      "cell_type": "code",
      "source": [
        "import numpy as np"
      ],
      "metadata": {
        "id": "A1CTOBbuZREI"
      },
      "execution_count": 323,
      "outputs": []
    },
    {
      "cell_type": "code",
      "source": [
        "x = np.loadtxt('tfl-daily-cycle-hires.txt',delimiter=',',skiprows=1,usecols=1)"
      ],
      "metadata": {
        "id": "PC0wawn3bZxd"
      },
      "execution_count": 326,
      "outputs": []
    },
    {
      "cell_type": "code",
      "source": [
        "x"
      ],
      "metadata": {
        "colab": {
          "base_uri": "https://localhost:8080/"
        },
        "id": "_qSqc7_kbrjY",
        "outputId": "63cffad5-bc53-4e05-8580-f11462880751"
      },
      "execution_count": 330,
      "outputs": [
        {
          "output_type": "execute_result",
          "data": {
            "text/plain": [
              "array([ 6897.,  5564.,  4303., ..., 32539., 39889., 34070.])"
            ]
          },
          "metadata": {},
          "execution_count": 330
        }
      ]
    },
    {
      "cell_type": "code",
      "source": [
        "np.count_nonzero(x)"
      ],
      "metadata": {
        "colab": {
          "base_uri": "https://localhost:8080/"
        },
        "id": "qL8lAOx9cHBt",
        "outputId": "3cd64546-71fe-41b4-a5f4-85c22b3ccad2"
      },
      "execution_count": 331,
      "outputs": [
        {
          "output_type": "execute_result",
          "data": {
            "text/plain": [
              "4081"
            ]
          },
          "metadata": {},
          "execution_count": 331
        }
      ]
    },
    {
      "cell_type": "code",
      "source": [
        "x.max()"
      ],
      "metadata": {
        "colab": {
          "base_uri": "https://localhost:8080/"
        },
        "id": "glwWKJUAcSzA",
        "outputId": "1a27c941-231b-4660-ece7-5292d4b82564"
      },
      "execution_count": 332,
      "outputs": [
        {
          "output_type": "execute_result",
          "data": {
            "text/plain": [
              "np.float64(73094.0)"
            ]
          },
          "metadata": {},
          "execution_count": 332
        }
      ]
    },
    {
      "cell_type": "code",
      "source": [
        "x.min()"
      ],
      "metadata": {
        "colab": {
          "base_uri": "https://localhost:8080/"
        },
        "id": "ZZGy44kYcUTh",
        "outputId": "d45dfa55-d037-4a3d-c1ce-dc0ed6f7baf4"
      },
      "execution_count": 333,
      "outputs": [
        {
          "output_type": "execute_result",
          "data": {
            "text/plain": [
              "np.float64(2764.0)"
            ]
          },
          "metadata": {},
          "execution_count": 333
        }
      ]
    },
    {
      "cell_type": "code",
      "source": [
        "x.mean()"
      ],
      "metadata": {
        "colab": {
          "base_uri": "https://localhost:8080/"
        },
        "id": "ZNW0LIROcYBU",
        "outputId": "f1019357-4553-4754-c6ab-5a661d5d0f5c"
      },
      "execution_count": 334,
      "outputs": [
        {
          "output_type": "execute_result",
          "data": {
            "text/plain": [
              "np.float64(26261.932124479295)"
            ]
          },
          "metadata": {},
          "execution_count": 334
        }
      ]
    },
    {
      "cell_type": "code",
      "source": [
        "x.std()"
      ],
      "metadata": {
        "colab": {
          "base_uri": "https://localhost:8080/"
        },
        "id": "XM1mBYuwcZy3",
        "outputId": "67051ef7-f9db-45b7-a911-c7f821ace950"
      },
      "execution_count": 335,
      "outputs": [
        {
          "output_type": "execute_result",
          "data": {
            "text/plain": [
              "np.float64(9740.107235227775)"
            ]
          },
          "metadata": {},
          "execution_count": 335
        }
      ]
    },
    {
      "cell_type": "code",
      "source": [
        "np.savetxt('test_output.txt',x)"
      ],
      "metadata": {
        "id": "1MxbSEcOcchr"
      },
      "execution_count": 336,
      "outputs": []
    },
    {
      "cell_type": "code",
      "source": [
        "x2 = np.loadtxt('test_output.txt')"
      ],
      "metadata": {
        "id": "Cc2whw1fc513"
      },
      "execution_count": 337,
      "outputs": []
    },
    {
      "cell_type": "code",
      "source": [
        "x2"
      ],
      "metadata": {
        "colab": {
          "base_uri": "https://localhost:8080/"
        },
        "id": "cAnK-A4ydEjH",
        "outputId": "90de6e37-970c-4a32-e3ea-4635429ee09f"
      },
      "execution_count": 338,
      "outputs": [
        {
          "output_type": "execute_result",
          "data": {
            "text/plain": [
              "array([ 6897.,  5564.,  4303., ..., 32539., 39889., 34070.])"
            ]
          },
          "metadata": {},
          "execution_count": 338
        }
      ]
    }
  ]
}