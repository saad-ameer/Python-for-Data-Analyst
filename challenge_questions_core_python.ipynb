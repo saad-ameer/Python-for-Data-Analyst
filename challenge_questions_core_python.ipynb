{
  "cells": [
    {
      "cell_type": "markdown",
      "metadata": {
        "id": "view-in-github",
        "colab_type": "text"
      },
      "source": [
        "<a href=\"https://colab.research.google.com/github/saad-ameer/Python-for-Data-Analyst/blob/main/challenge_questions_core_python.ipynb\" target=\"_parent\"><img src=\"https://colab.research.google.com/assets/colab-badge.svg\" alt=\"Open In Colab\"/></a>"
      ]
    },
    {
      "cell_type": "markdown",
      "id": "fad1607b",
      "metadata": {
        "id": "fad1607b"
      },
      "source": [
        "# Challenge Questions - Core Python"
      ]
    },
    {
      "cell_type": "markdown",
      "id": "357a4035",
      "metadata": {
        "id": "357a4035"
      },
      "source": [
        "# Instructions:\n",
        "• Please ensure you don't overwrite any existing cells. Add new cells below by pressing ALT+ENTER\n",
        "\n",
        "• Attempt all of the questions\n",
        "\n",
        "• You are encouraged to look online for help should you need it"
      ]
    },
    {
      "cell_type": "markdown",
      "id": "a216156e",
      "metadata": {
        "id": "a216156e"
      },
      "source": [
        "#"
      ]
    },
    {
      "cell_type": "markdown",
      "id": "fabc79f4",
      "metadata": {
        "id": "fabc79f4"
      },
      "source": [
        "## Q1: In the cell below variable \"name\" generates a random name. The variable \"score\" generates a random score.\n",
        "### • If the score is greater than or equal to 70 I want you to print:\n",
        "#### f\" {name} perfomed really well in the test and got a score of {score}\"\n",
        "### • If the score is equal to or above 50 but less than 70 print:\n",
        "#### f\" {name} passed the test and got a score of {score}\"\n",
        "### • If the score is less than 50 print:\n",
        "#### f\" {name} failed the test with a score of {score}\""
      ]
    },
    {
      "cell_type": "code",
      "execution_count": 1,
      "id": "0187b52a",
      "metadata": {
        "id": "0187b52a"
      },
      "outputs": [],
      "source": [
        "# run this cell first - DO NOT OVERWRITE\n",
        "import random\n",
        "name = random.choice(['Meera','Ben','John','Anand'])\n",
        "score = random.randint(0,100)"
      ]
    },
    {
      "cell_type": "code",
      "execution_count": 2,
      "id": "d5e40856",
      "metadata": {
        "colab": {
          "base_uri": "https://localhost:8080/"
        },
        "id": "d5e40856",
        "outputId": "3c4d6717-dc16-454e-ef1b-c01761c4d4bd"
      },
      "outputs": [
        {
          "output_type": "stream",
          "name": "stdout",
          "text": [
            "Anand failed the test with a score of 1\n"
          ]
        }
      ],
      "source": [
        "# Write your solution here\n",
        "if score >= 70:\n",
        "  print(f\"{name} performed really well in the test and got a score of {score}\")\n",
        "elif score >= 50 and score <70:\n",
        "  print(f\"{name} passed the test and got a score of {score}\")\n",
        "elif score < 50:\n",
        "  print(f\"{name} failed the test with a score of {score}\")"
      ]
    },
    {
      "cell_type": "markdown",
      "id": "1552d74e",
      "metadata": {
        "id": "1552d74e"
      },
      "source": [
        "## Q2: Use indexing to return 'Ford' from the variable x below"
      ]
    },
    {
      "cell_type": "code",
      "execution_count": 3,
      "id": "d087ea67",
      "metadata": {
        "id": "d087ea67"
      },
      "outputs": [],
      "source": [
        "# Run this cell first\n",
        "x = [1,2,{'car':'Ford'},'Hello']"
      ]
    },
    {
      "cell_type": "code",
      "execution_count": 4,
      "id": "5a6cea6e",
      "metadata": {
        "colab": {
          "base_uri": "https://localhost:8080/",
          "height": 35
        },
        "id": "5a6cea6e",
        "outputId": "70694b20-2299-4438-91b4-d1b2a3a2cb11"
      },
      "outputs": [
        {
          "output_type": "execute_result",
          "data": {
            "text/plain": [
              "'Ford'"
            ],
            "application/vnd.google.colaboratory.intrinsic+json": {
              "type": "string"
            }
          },
          "metadata": {},
          "execution_count": 4
        }
      ],
      "source": [
        "# Write your solution here\n",
        "x[2]['car']"
      ]
    },
    {
      "cell_type": "markdown",
      "id": "35a5b3b9",
      "metadata": {
        "id": "35a5b3b9"
      },
      "source": [
        "## Q3: Use slicing to return [2,3,4] from the variable x below"
      ]
    },
    {
      "cell_type": "code",
      "execution_count": 5,
      "id": "1297038b",
      "metadata": {
        "id": "1297038b"
      },
      "outputs": [],
      "source": [
        "# Run this cell first\n",
        "x = [1,2,3,(1,2,[1,2,3,4,5],3,2,1,[1,2])]"
      ]
    },
    {
      "cell_type": "code",
      "execution_count": 6,
      "id": "b86261c2",
      "metadata": {
        "colab": {
          "base_uri": "https://localhost:8080/"
        },
        "id": "b86261c2",
        "outputId": "4a0b319b-51be-42f5-bb8e-647d5dd34ebb"
      },
      "outputs": [
        {
          "output_type": "execute_result",
          "data": {
            "text/plain": [
              "[2, 3, 4]"
            ]
          },
          "metadata": {},
          "execution_count": 6
        }
      ],
      "source": [
        "# Write your solution here\n",
        "x[3][2][1:4]"
      ]
    },
    {
      "cell_type": "markdown",
      "id": "790fa78c",
      "metadata": {
        "id": "790fa78c"
      },
      "source": [
        "## Q4: The last 3 characters in each element of the object \"codes\" below are 2 digit alpha codes representing a country. Extract these codes into a new list called alpha2"
      ]
    },
    {
      "cell_type": "code",
      "execution_count": 7,
      "id": "a7c3f034",
      "metadata": {
        "id": "a7c3f034"
      },
      "outputs": [],
      "source": [
        "# Run this cell first\n",
        "codes = ['826GBR','840USA','276DEU','818EGY','250FRA']"
      ]
    },
    {
      "cell_type": "code",
      "execution_count": 8,
      "id": "2ec2d387",
      "metadata": {
        "colab": {
          "base_uri": "https://localhost:8080/"
        },
        "id": "2ec2d387",
        "outputId": "e26eacee-7cc7-42ab-86d2-54c145f595d7"
      },
      "outputs": [
        {
          "output_type": "stream",
          "name": "stdout",
          "text": [
            "['GBR', 'USA', 'DEU', 'EGY', 'FRA']\n"
          ]
        }
      ],
      "source": [
        "# Write your solution here\n",
        "alpha2 = map(lambda x: x[-3:], codes)\n",
        "print(list(alpha2))"
      ]
    },
    {
      "cell_type": "markdown",
      "id": "14f98f6d",
      "metadata": {
        "id": "14f98f6d"
      },
      "source": [
        "## Q5: Return the list names with all elements in uppercase"
      ]
    },
    {
      "cell_type": "code",
      "execution_count": 9,
      "id": "a7d1ba19",
      "metadata": {
        "id": "a7d1ba19"
      },
      "outputs": [],
      "source": [
        "# Run this cell first\n",
        "names=['Sophie', 'Mark','Susan','Jerome','Roger','Sunita','Boris','Steve']"
      ]
    },
    {
      "cell_type": "code",
      "execution_count": 10,
      "id": "4a9cd1b4",
      "metadata": {
        "colab": {
          "base_uri": "https://localhost:8080/"
        },
        "id": "4a9cd1b4",
        "outputId": "154a6e25-114a-46ff-82ed-7de35a7526b6"
      },
      "outputs": [
        {
          "output_type": "stream",
          "name": "stdout",
          "text": [
            "['SOPHIE', 'MARK', 'SUSAN', 'JEROME', 'ROGER', 'SUNITA', 'BORIS', 'STEVE']\n"
          ]
        }
      ],
      "source": [
        "# Write your solution here\n",
        "print(list(map(lambda x: x.upper(), names)))"
      ]
    },
    {
      "cell_type": "markdown",
      "id": "5b14b4e3",
      "metadata": {
        "id": "5b14b4e3"
      },
      "source": [
        "## Q6:  Find a way to filter the elements of list_1 to only include integers. Assign this new list to the variable whole_numbers"
      ]
    },
    {
      "cell_type": "code",
      "execution_count": 11,
      "id": "1b8c3528",
      "metadata": {
        "id": "1b8c3528"
      },
      "outputs": [],
      "source": [
        "# Run this cell first\n",
        "list_1 = [1,2,3,4,'Helena',9,2.8724,4,2,'Rick',{'name':'John'}]"
      ]
    },
    {
      "cell_type": "code",
      "execution_count": 12,
      "id": "b9e26c9e",
      "metadata": {
        "colab": {
          "base_uri": "https://localhost:8080/"
        },
        "id": "b9e26c9e",
        "outputId": "03b099f4-9303-4b92-8246-985ff2f10d7d"
      },
      "outputs": [
        {
          "output_type": "stream",
          "name": "stdout",
          "text": [
            "[1, 2, 3, 4, 9, 4, 2]\n"
          ]
        }
      ],
      "source": [
        "# Write your solution here\n",
        "whole_numbers = list(filter(lambda x: isinstance(x, int), list_1))\n",
        "print(whole_numbers)"
      ]
    },
    {
      "cell_type": "markdown",
      "id": "20c942dc",
      "metadata": {
        "id": "20c942dc"
      },
      "source": [
        "## Q7: Create a function called str_tup_list, it should take one argument.\n",
        "#### • If you pass in a list then it sorts and returns the elements in the list in ascending order\n",
        "#### • If you pass in a tuple then it returns the length of the tuple\n",
        "#### • If you pass in a string then it returns the string in uppercase\n",
        "#### • For any other data types it should print 'This is not a string, tuple or list'"
      ]
    },
    {
      "cell_type": "code",
      "execution_count": 13,
      "id": "e76613e1",
      "metadata": {
        "id": "e76613e1"
      },
      "outputs": [],
      "source": [
        "# Create your function here\n",
        "def str_tup_list(x):\n",
        "  if type(x) == list:\n",
        "    return sorted(x)\n",
        "  elif type(x) == tuple:\n",
        "    return len(x)\n",
        "  elif isinstance(x,str):\n",
        "    return x.upper()\n",
        "  else:\n",
        "    print('This is not a string, tuple or list')"
      ]
    },
    {
      "cell_type": "code",
      "execution_count": 14,
      "id": "79c7cc68",
      "metadata": {
        "colab": {
          "base_uri": "https://localhost:8080/"
        },
        "id": "79c7cc68",
        "outputId": "d87562eb-f9fb-4b85-d47a-c5318db20a7e"
      },
      "outputs": [
        {
          "output_type": "execute_result",
          "data": {
            "text/plain": [
              "[2, 4, 4, 5, 7, 7, 23, 74]"
            ]
          },
          "metadata": {},
          "execution_count": 14
        }
      ],
      "source": [
        "# Test your function here\n",
        "list1 = [23,4,5,7,7,74,4,2]\n",
        "str_tup_list(list1)"
      ]
    },
    {
      "cell_type": "code",
      "execution_count": 15,
      "id": "40dde9ab",
      "metadata": {
        "colab": {
          "base_uri": "https://localhost:8080/"
        },
        "id": "40dde9ab",
        "outputId": "98a36b89-b423-4d09-fdfe-49b57f2c743b"
      },
      "outputs": [
        {
          "output_type": "execute_result",
          "data": {
            "text/plain": [
              "8"
            ]
          },
          "metadata": {},
          "execution_count": 15
        }
      ],
      "source": [
        "tuple1 = (23,4,5,7,7,74,4,2)\n",
        "str_tup_list(tuple1)"
      ]
    },
    {
      "cell_type": "code",
      "execution_count": 16,
      "id": "c5feced9",
      "metadata": {
        "colab": {
          "base_uri": "https://localhost:8080/",
          "height": 35
        },
        "id": "c5feced9",
        "outputId": "909bd0d0-6c72-4712-e4be-848f6f9f5454"
      },
      "outputs": [
        {
          "output_type": "execute_result",
          "data": {
            "text/plain": [
              "'HELLO'"
            ],
            "application/vnd.google.colaboratory.intrinsic+json": {
              "type": "string"
            }
          },
          "metadata": {},
          "execution_count": 16
        }
      ],
      "source": [
        "str1 = 'hello'\n",
        "str_tup_list(str1)"
      ]
    },
    {
      "cell_type": "code",
      "source": [
        "str2 = 23\n",
        "str_tup_list(str2)"
      ],
      "metadata": {
        "colab": {
          "base_uri": "https://localhost:8080/"
        },
        "id": "SI9VQET8Hj0o",
        "outputId": "cae359c7-3b28-4033-9db8-72a85f05e354"
      },
      "id": "SI9VQET8Hj0o",
      "execution_count": 17,
      "outputs": [
        {
          "output_type": "stream",
          "name": "stdout",
          "text": [
            "This is not a string, tuple or list\n"
          ]
        }
      ]
    },
    {
      "cell_type": "markdown",
      "id": "44410426",
      "metadata": {
        "id": "44410426"
      },
      "source": [
        "## Q8: I want you to implement a function that can take a string value as an argument and returns True if that string contains any numbers. Call this function num_check. You do not need to add control flow to check the argument.\n",
        "\n",
        "\n",
        "#### Note: Research the method isnumeric() for this solution: https://docs.python.org/3/library/stdtypes.html\n",
        "#### A big part of becoming a better developer is being able to look up and apply functions you haven't used before"
      ]
    },
    {
      "cell_type": "code",
      "execution_count": 18,
      "id": "30b6054d",
      "metadata": {
        "id": "30b6054d"
      },
      "outputs": [],
      "source": [
        "# Create your function here\n",
        "def num_check(x):\n",
        "  for item in x:\n",
        "    if item.isnumeric() == True:\n",
        "      return True\n",
        "  return False\n",
        ""
      ]
    },
    {
      "cell_type": "code",
      "execution_count": 19,
      "id": "11515cbc",
      "metadata": {
        "colab": {
          "base_uri": "https://localhost:8080/"
        },
        "id": "11515cbc",
        "outputId": "5b1e5af8-2f19-4ec0-a6f6-e751964bf22a"
      },
      "outputs": [
        {
          "output_type": "execute_result",
          "data": {
            "text/plain": [
              "True"
            ]
          },
          "metadata": {},
          "execution_count": 19
        }
      ],
      "source": [
        "# Test your function here\n",
        "num_check(\"hello7\")"
      ]
    },
    {
      "cell_type": "markdown",
      "id": "d83df6c6",
      "metadata": {
        "id": "d83df6c6"
      },
      "source": [
        "## Q9: The below list contains information about a person, their age and favourite color. The information for each person is contained in a tuple.\n",
        "## Filter this list so that it only contains the information for people who's favourite color is blue"
      ]
    },
    {
      "cell_type": "code",
      "execution_count": 20,
      "id": "3a44de7e",
      "metadata": {
        "id": "3a44de7e"
      },
      "outputs": [],
      "source": [
        "# Run this cell first\n",
        "person = [('Andrew',39,'Blue'),('Ross',48,'Red'),('Sarah',19,'Yellow'),('Meena',42,'Orange'),('Sophue',28,'Blue')]"
      ]
    },
    {
      "cell_type": "code",
      "execution_count": 21,
      "id": "1c9420f1",
      "metadata": {
        "colab": {
          "base_uri": "https://localhost:8080/"
        },
        "id": "1c9420f1",
        "outputId": "56ab7b96-9887-4f0c-9c3d-6cd8055d84a1"
      },
      "outputs": [
        {
          "output_type": "execute_result",
          "data": {
            "text/plain": [
              "[('Andrew', 39, 'Blue'), ('Sophue', 28, 'Blue')]"
            ]
          },
          "metadata": {},
          "execution_count": 21
        }
      ],
      "source": [
        "# Write your solution here\n",
        "list(filter(lambda x: x[2]=='Blue', person))"
      ]
    },
    {
      "cell_type": "markdown",
      "id": "a995ba7d",
      "metadata": {
        "id": "a995ba7d"
      },
      "source": [
        "## Bonus Question : Add Control Flow to the below Function to ensure that the user inputs an integer before advancing to the next step"
      ]
    },
    {
      "cell_type": "code",
      "execution_count": 22,
      "id": "4f6ca47c",
      "metadata": {
        "id": "4f6ca47c"
      },
      "outputs": [],
      "source": [
        "# Modify this function, you can copy it in the cell below\n",
        "def create_ranged_list():\n",
        "    x = int(input('Please select a start parameter'))\n",
        "    y = int(input('Please select a stop parameter'))\n",
        "    z = int(input('Please select a step parameter'))\n",
        "    return list(range(x,y,z))"
      ]
    },
    {
      "cell_type": "code",
      "execution_count": 35,
      "id": "7d936e93",
      "metadata": {
        "id": "7d936e93"
      },
      "outputs": [],
      "source": [
        "# Create your function here\n",
        "def create_ranged_list():\n",
        "  x = ''\n",
        "  y = ''\n",
        "  z = ''\n",
        "  while type(x)!= int:\n",
        "    try:\n",
        "      x = int(input('Please select a start parameter: '))\n",
        "    except ValueError:\n",
        "      print('Please enter an integer')\n",
        "  while type(y)!= int:\n",
        "    try:\n",
        "      y = int(input('Please select a stop parameter: '))\n",
        "    except ValueError:\n",
        "      print('Please enter an integer')\n",
        "  while type(z)!= int:\n",
        "    try:\n",
        "      z = int(input('Please select a step parameter: '))\n",
        "    except ValueError:\n",
        "      print('Please enter an integer')\n",
        "  return list(range(x,y,z))"
      ]
    },
    {
      "cell_type": "code",
      "execution_count": 38,
      "id": "117281a0",
      "metadata": {
        "colab": {
          "base_uri": "https://localhost:8080/"
        },
        "id": "117281a0",
        "outputId": "b538935c-5ae5-4805-c3c4-345d87d1cb8a"
      },
      "outputs": [
        {
          "name": "stdout",
          "output_type": "stream",
          "text": [
            "Please select a start parameter: 10\n",
            "Please select a stop parameter: 200\n",
            "Please select a step parameter: 5\n"
          ]
        },
        {
          "output_type": "execute_result",
          "data": {
            "text/plain": [
              "[10,\n",
              " 15,\n",
              " 20,\n",
              " 25,\n",
              " 30,\n",
              " 35,\n",
              " 40,\n",
              " 45,\n",
              " 50,\n",
              " 55,\n",
              " 60,\n",
              " 65,\n",
              " 70,\n",
              " 75,\n",
              " 80,\n",
              " 85,\n",
              " 90,\n",
              " 95,\n",
              " 100,\n",
              " 105,\n",
              " 110,\n",
              " 115,\n",
              " 120,\n",
              " 125,\n",
              " 130,\n",
              " 135,\n",
              " 140,\n",
              " 145,\n",
              " 150,\n",
              " 155,\n",
              " 160,\n",
              " 165,\n",
              " 170,\n",
              " 175,\n",
              " 180,\n",
              " 185,\n",
              " 190,\n",
              " 195]"
            ]
          },
          "metadata": {},
          "execution_count": 38
        }
      ],
      "source": [
        "1# Test the function here\n",
        "create_ranged_list()"
      ]
    }
  ],
  "metadata": {
    "kernelspec": {
      "display_name": "Python 3 (ipykernel)",
      "language": "python",
      "name": "python3"
    },
    "language_info": {
      "codemirror_mode": {
        "name": "ipython",
        "version": 3
      },
      "file_extension": ".py",
      "mimetype": "text/x-python",
      "name": "python",
      "nbconvert_exporter": "python",
      "pygments_lexer": "ipython3",
      "version": "3.9.7"
    },
    "colab": {
      "provenance": [],
      "include_colab_link": true
    }
  },
  "nbformat": 4,
  "nbformat_minor": 5
}