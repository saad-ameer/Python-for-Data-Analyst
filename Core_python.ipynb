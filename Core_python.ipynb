{
  "nbformat": 4,
  "nbformat_minor": 0,
  "metadata": {
    "colab": {
      "provenance": [],
      "authorship_tag": "ABX9TyN8AYCr3TGTlOPGwEciWdLa",
      "include_colab_link": true
    },
    "kernelspec": {
      "name": "python3",
      "display_name": "Python 3"
    },
    "language_info": {
      "name": "python"
    }
  },
  "cells": [
    {
      "cell_type": "markdown",
      "metadata": {
        "id": "view-in-github",
        "colab_type": "text"
      },
      "source": [
        "<a href=\"https://colab.research.google.com/github/saad-ameer/Python-for-Data-Analyst/blob/main/Core_python.ipynb\" target=\"_parent\"><img src=\"https://colab.research.google.com/assets/colab-badge.svg\" alt=\"Open In Colab\"/></a>"
      ]
    },
    {
      "cell_type": "markdown",
      "source": [
        "## Python - Core Notes\n",
        "\n",
        "* Released in 1991 by Guido van Rossum  \n",
        "* Named after Monty Python’s Flying Circus (comedy show)  \n",
        "* Designed to be easy to learn, open-source, and readable like English  \n",
        "* Focuses on reducing developer time, not execution time  \n",
        "\n",
        "* High-level language – human-readable and beginner-friendly  \n",
        "* Interpreted – code runs line-by-line using an interpreter  \n",
        "* Dynamically typed – no need to declare variable types  \n",
        "* Object-oriented – organizes code around data (objects)\n",
        "\n",
        "* Used for web development, automation, data analysis, machine learning, and visualization  \n",
        "\n",
        "* Comes with a standard library – good starting point for beginners  \n",
        "* Popular external libraries:\n",
        "  * NumPy – numerical operations  \n",
        "  * Pandas – data manipulation  \n",
        "  * Seaborn – statistical visualization  \n",
        "  * Matplotlib – general plotting"
      ],
      "metadata": {
        "id": "QNfXUWzOS-J7"
      }
    },
    {
      "cell_type": "markdown",
      "source": [
        "## Python Notes – Objects, Methods & Variables\n",
        "\n",
        "* Python is an object-oriented language; everything in Python is an object.\n",
        "* Objects have associated methods, which are actions specific to their type.\n",
        "* Common object types:\n",
        "  * `int` – integer (e.g., 1)\n",
        "  * `str` – string (e.g., \"Hello\")\n",
        "\n",
        "* Use `type()` to check the type of an object:\n",
        "  * `type(1)` returns `<class 'int'>`\n",
        "  * `type(\"Hello\")` returns `<class 'str'>`\n",
        "\n",
        "* Functions vs Methods:\n",
        "  * **Function**: General-purpose (e.g., `print()`, `type()`)\n",
        "  * **Method**: Belongs to an object, called using dot notation (e.g., `\"hello\".upper()`)\n",
        "\n",
        "* To see available methods on an object, type the object followed by a dot and wait for suggestions.\n",
        "* To run a method, include `()` after it. Without `()`, you're just referencing it.\n",
        "  * `\"hello\".upper()` → `\"HELLO\"`\n",
        "\n",
        "* Use `help()` to get more info:\n",
        "  * `help(str)` → shows all methods for string objects\n",
        "  * `help(str.upper)` → shows what `.upper()` does\n",
        "\n",
        "## Variables in Python\n",
        "\n",
        "* A variable stores a value in memory.\n",
        "* Assign with `=`, e.g., `x = 1`\n",
        "* Variables are dynamically typed – they can change types:\n",
        "  * `x = 1` → integer\n",
        "  * `x = \"Hi\"` → now a string\n",
        "\n",
        "* Use `type(x)` to check variable type.\n",
        "* Variable naming rules:\n",
        "  * Cannot start with a number (e.g., `1x = 2` is invalid)\n",
        "  * No spaces (e.g., `my var = 2` is invalid)\n",
        "  * Use lowercase with underscores for readability (e.g., `my_variable = 10`)\n",
        "\n",
        "* Follow **PEP 8** for Python naming conventions:\n",
        "  * Search: “PEP 8 variable naming conventions”"
      ],
      "metadata": {
        "id": "lu1-QCN6YwLp"
      }
    },
    {
      "cell_type": "code",
      "execution_count": 1,
      "metadata": {
        "colab": {
          "base_uri": "https://localhost:8080/"
        },
        "id": "abhfLKdlOu6O",
        "outputId": "19c38c92-c49e-409b-c34d-833f5efbbfae"
      },
      "outputs": [
        {
          "output_type": "execute_result",
          "data": {
            "text/plain": [
              "1"
            ]
          },
          "metadata": {},
          "execution_count": 1
        }
      ],
      "source": [
        "1"
      ]
    },
    {
      "cell_type": "code",
      "source": [
        "type(1)"
      ],
      "metadata": {
        "colab": {
          "base_uri": "https://localhost:8080/"
        },
        "id": "E3Hj8yO3WjRk",
        "outputId": "cfaaaa5b-ffed-43f8-bf5c-8aa0d9f68982"
      },
      "execution_count": 2,
      "outputs": [
        {
          "output_type": "execute_result",
          "data": {
            "text/plain": [
              "int"
            ]
          },
          "metadata": {},
          "execution_count": 2
        }
      ]
    },
    {
      "cell_type": "code",
      "source": [
        "type('hello world')"
      ],
      "metadata": {
        "colab": {
          "base_uri": "https://localhost:8080/"
        },
        "id": "xx__2k-kWtAj",
        "outputId": "13605893-bc8e-41e3-9932-378c4f3a66ff"
      },
      "execution_count": 3,
      "outputs": [
        {
          "output_type": "execute_result",
          "data": {
            "text/plain": [
              "str"
            ]
          },
          "metadata": {},
          "execution_count": 3
        }
      ]
    },
    {
      "cell_type": "code",
      "source": [
        "print('hello world')"
      ],
      "metadata": {
        "colab": {
          "base_uri": "https://localhost:8080/"
        },
        "id": "PCBoU3FDW35d",
        "outputId": "938550c6-a696-4e43-b47d-c9b2c4ab6612"
      },
      "execution_count": 4,
      "outputs": [
        {
          "output_type": "stream",
          "name": "stdout",
          "text": [
            "hello world\n"
          ]
        }
      ]
    },
    {
      "cell_type": "code",
      "source": [
        "print(1)"
      ],
      "metadata": {
        "colab": {
          "base_uri": "https://localhost:8080/"
        },
        "id": "T8_HhmkGW7NQ",
        "outputId": "78d5435e-108a-418b-bb25-f78d82f744f4"
      },
      "execution_count": 5,
      "outputs": [
        {
          "output_type": "stream",
          "name": "stdout",
          "text": [
            "1\n"
          ]
        }
      ]
    },
    {
      "cell_type": "code",
      "source": [
        "'hello'.upper()"
      ],
      "metadata": {
        "colab": {
          "base_uri": "https://localhost:8080/",
          "height": 35
        },
        "id": "3_zod6UTXQpz",
        "outputId": "309f1892-9082-4882-a174-8d054f0e0c89"
      },
      "execution_count": 6,
      "outputs": [
        {
          "output_type": "execute_result",
          "data": {
            "text/plain": [
              "'HELLO'"
            ],
            "application/vnd.google.colaboratory.intrinsic+json": {
              "type": "string"
            }
          },
          "metadata": {},
          "execution_count": 6
        }
      ]
    },
    {
      "cell_type": "code",
      "source": [
        "#help(str)"
      ],
      "metadata": {
        "id": "hiaGozaAXcQH"
      },
      "execution_count": 7,
      "outputs": []
    },
    {
      "cell_type": "code",
      "source": [
        "help(str.upper)"
      ],
      "metadata": {
        "colab": {
          "base_uri": "https://localhost:8080/"
        },
        "id": "LOKiQZ8MXynE",
        "outputId": "9a6ced88-6f8a-47f8-95a3-0fa2144bebaf"
      },
      "execution_count": 8,
      "outputs": [
        {
          "output_type": "stream",
          "name": "stdout",
          "text": [
            "Help on method_descriptor:\n",
            "\n",
            "upper(self, /) unbound builtins.str method\n",
            "    Return a copy of the string converted to uppercase.\n",
            "\n"
          ]
        }
      ]
    },
    {
      "cell_type": "code",
      "source": [
        "x=1"
      ],
      "metadata": {
        "id": "OLTE65uIX5qd"
      },
      "execution_count": 9,
      "outputs": []
    },
    {
      "cell_type": "code",
      "source": [
        "x"
      ],
      "metadata": {
        "colab": {
          "base_uri": "https://localhost:8080/"
        },
        "id": "Le5M55xMYBgx",
        "outputId": "6a5b3884-f2f3-4aee-952c-07dfed1bf337"
      },
      "execution_count": 10,
      "outputs": [
        {
          "output_type": "execute_result",
          "data": {
            "text/plain": [
              "1"
            ]
          },
          "metadata": {},
          "execution_count": 10
        }
      ]
    },
    {
      "cell_type": "code",
      "source": [
        "type(x)"
      ],
      "metadata": {
        "colab": {
          "base_uri": "https://localhost:8080/"
        },
        "id": "Su89jwTRYDHx",
        "outputId": "a8689793-a867-4256-c5ea-2c175edbd860"
      },
      "execution_count": 11,
      "outputs": [
        {
          "output_type": "execute_result",
          "data": {
            "text/plain": [
              "int"
            ]
          },
          "metadata": {},
          "execution_count": 11
        }
      ]
    },
    {
      "cell_type": "code",
      "source": [
        "x='hello'"
      ],
      "metadata": {
        "id": "XYwmXHiwYF-9"
      },
      "execution_count": 12,
      "outputs": []
    },
    {
      "cell_type": "code",
      "source": [
        "x"
      ],
      "metadata": {
        "colab": {
          "base_uri": "https://localhost:8080/",
          "height": 35
        },
        "id": "IL-KzChgYKWN",
        "outputId": "0479a5fa-99a3-4499-a828-f86229907d8e"
      },
      "execution_count": 13,
      "outputs": [
        {
          "output_type": "execute_result",
          "data": {
            "text/plain": [
              "'hello'"
            ],
            "application/vnd.google.colaboratory.intrinsic+json": {
              "type": "string"
            }
          },
          "metadata": {},
          "execution_count": 13
        }
      ]
    },
    {
      "cell_type": "code",
      "source": [
        "type(x)"
      ],
      "metadata": {
        "colab": {
          "base_uri": "https://localhost:8080/"
        },
        "id": "GtWB5_miYLoL",
        "outputId": "3d378512-cc9b-42f2-abf1-29beaca3ff37"
      },
      "execution_count": 14,
      "outputs": [
        {
          "output_type": "execute_result",
          "data": {
            "text/plain": [
              "str"
            ]
          },
          "metadata": {},
          "execution_count": 14
        }
      ]
    },
    {
      "cell_type": "markdown",
      "source": [
        "## Python Notes – Numeric Data Types & Operations\n",
        "\n",
        "* Python has three built-in numeric types: `int`, `float`, and `complex`\n",
        "* This section focuses on `int` and `float`\n",
        "\n",
        "* `int`: Whole numbers (positive or negative)\n",
        "  * Example: `3000`, `-3000`\n",
        "  * `type(3000)` → `<class 'int'>`\n",
        "  * `type(-3000)` → `<class 'int'>`\n",
        "\n",
        "* `float`: Numbers with decimals (floating-point numbers)\n",
        "  * Example: `7.3`, `-7.3`, `7/5` → `1.4`\n",
        "  * `type(7.3)` → `<class 'float'>`\n",
        "  * `type(-7.3)` → `<class 'float'>`\n",
        "  * `type(7/5)` → `<class 'float'>`\n",
        "  * Floats are precise up to ~16 decimal digits\n",
        "\n",
        "## Basic Arithmetic Operations\n",
        "\n",
        "* Addition: `7 + 4` → `11`\n",
        "* Variable assignment:\n",
        "  * `x = 7`, `y = 4`, `z = 10`\n",
        "* `x + y + z` → `21`\n",
        "* `z - y` → `6`\n",
        "* `y * 99` → `396`\n",
        "* `z / y` → `2.5`\n",
        "* `z % y` → `2` (Modulo returns remainder)\n",
        "* Exponentiation:\n",
        "  * `10 ** 4` → `10000`\n",
        "  * `pow(10, 4)` → `10000`\n",
        "\n",
        "## Operator Precedence (PEDMAS/BODMAS)\n",
        "\n",
        "* Order: Parentheses → Exponents → Division → Multiplication → Addition → Subtraction\n",
        "* Example:  \n",
        "  `4 ** (7 + 2) * 4 / 2 + 4 - 1`\n",
        "  * `7 + 2` = `9`\n",
        "  * `4 ** 9` = `262144`\n",
        "  * `4 / 2` = `2.0`\n",
        "  * `262144 * 2.0` = `524288.0`\n",
        "  * `524288.0 + 4` = `524292.0`\n",
        "  * `524292.0 - 1` = `524291.0`"
      ],
      "metadata": {
        "id": "tF4Gc3TvZFUu"
      }
    },
    {
      "cell_type": "code",
      "source": [
        "3000"
      ],
      "metadata": {
        "colab": {
          "base_uri": "https://localhost:8080/"
        },
        "id": "bBKj9pB_ZRHX",
        "outputId": "6e4a61ed-9f23-4e32-d079-50bef40cf337"
      },
      "execution_count": 15,
      "outputs": [
        {
          "output_type": "execute_result",
          "data": {
            "text/plain": [
              "3000"
            ]
          },
          "metadata": {},
          "execution_count": 15
        }
      ]
    },
    {
      "cell_type": "code",
      "source": [
        "type(3000)"
      ],
      "metadata": {
        "colab": {
          "base_uri": "https://localhost:8080/"
        },
        "id": "RePXUZKUZUg-",
        "outputId": "55631caf-4c7a-4356-be55-81ce87458bfd"
      },
      "execution_count": 16,
      "outputs": [
        {
          "output_type": "execute_result",
          "data": {
            "text/plain": [
              "int"
            ]
          },
          "metadata": {},
          "execution_count": 16
        }
      ]
    },
    {
      "cell_type": "code",
      "source": [
        "type(-3000)"
      ],
      "metadata": {
        "colab": {
          "base_uri": "https://localhost:8080/"
        },
        "id": "sgO8zmGaZXT_",
        "outputId": "c9ee942c-2624-4802-fba7-0941fa029459"
      },
      "execution_count": 17,
      "outputs": [
        {
          "output_type": "execute_result",
          "data": {
            "text/plain": [
              "int"
            ]
          },
          "metadata": {},
          "execution_count": 17
        }
      ]
    },
    {
      "cell_type": "code",
      "source": [
        "type(7.3)"
      ],
      "metadata": {
        "colab": {
          "base_uri": "https://localhost:8080/"
        },
        "id": "yTR8iLhfZc9A",
        "outputId": "b7c60f6e-3b94-46bd-d0bd-99a7073f18dc"
      },
      "execution_count": 18,
      "outputs": [
        {
          "output_type": "execute_result",
          "data": {
            "text/plain": [
              "float"
            ]
          },
          "metadata": {},
          "execution_count": 18
        }
      ]
    },
    {
      "cell_type": "code",
      "source": [
        "type(-7.3)"
      ],
      "metadata": {
        "colab": {
          "base_uri": "https://localhost:8080/"
        },
        "id": "6OeHxRCBZdln",
        "outputId": "dc007704-b6a4-428b-b126-8aba6fe4da01"
      },
      "execution_count": 19,
      "outputs": [
        {
          "output_type": "execute_result",
          "data": {
            "text/plain": [
              "float"
            ]
          },
          "metadata": {},
          "execution_count": 19
        }
      ]
    },
    {
      "cell_type": "code",
      "source": [
        "7/5"
      ],
      "metadata": {
        "colab": {
          "base_uri": "https://localhost:8080/"
        },
        "id": "sROpjurfZd-T",
        "outputId": "8347f721-43eb-42bb-98dc-200915cfa5b5"
      },
      "execution_count": 20,
      "outputs": [
        {
          "output_type": "execute_result",
          "data": {
            "text/plain": [
              "1.4"
            ]
          },
          "metadata": {},
          "execution_count": 20
        }
      ]
    },
    {
      "cell_type": "code",
      "source": [
        "type(7/5)"
      ],
      "metadata": {
        "colab": {
          "base_uri": "https://localhost:8080/"
        },
        "id": "dvdCqxOBZeLX",
        "outputId": "9759b9b1-627b-4cc4-cc34-8d27bd2c2f8c"
      },
      "execution_count": 21,
      "outputs": [
        {
          "output_type": "execute_result",
          "data": {
            "text/plain": [
              "float"
            ]
          },
          "metadata": {},
          "execution_count": 21
        }
      ]
    },
    {
      "cell_type": "code",
      "source": [
        "7+4"
      ],
      "metadata": {
        "colab": {
          "base_uri": "https://localhost:8080/"
        },
        "id": "oUunJAzgZera",
        "outputId": "1c3647c3-dcb8-45de-eefc-5a42aad7b22f"
      },
      "execution_count": 22,
      "outputs": [
        {
          "output_type": "execute_result",
          "data": {
            "text/plain": [
              "11"
            ]
          },
          "metadata": {},
          "execution_count": 22
        }
      ]
    },
    {
      "cell_type": "code",
      "source": [
        "x=7\n",
        "y=4\n",
        "z=10"
      ],
      "metadata": {
        "id": "q4NgMsbPaN-w"
      },
      "execution_count": 23,
      "outputs": []
    },
    {
      "cell_type": "code",
      "source": [
        "x+y+z"
      ],
      "metadata": {
        "colab": {
          "base_uri": "https://localhost:8080/"
        },
        "id": "i2NLTORjaTTT",
        "outputId": "0facb1b2-219c-43b0-aca0-f78b939b04c3"
      },
      "execution_count": 24,
      "outputs": [
        {
          "output_type": "execute_result",
          "data": {
            "text/plain": [
              "21"
            ]
          },
          "metadata": {},
          "execution_count": 24
        }
      ]
    },
    {
      "cell_type": "code",
      "source": [
        "z-y"
      ],
      "metadata": {
        "colab": {
          "base_uri": "https://localhost:8080/"
        },
        "id": "NZDWtvrCaWxY",
        "outputId": "12e312a7-4a1c-44bb-cebf-aae05e03b010"
      },
      "execution_count": 25,
      "outputs": [
        {
          "output_type": "execute_result",
          "data": {
            "text/plain": [
              "6"
            ]
          },
          "metadata": {},
          "execution_count": 25
        }
      ]
    },
    {
      "cell_type": "code",
      "source": [
        "y*99"
      ],
      "metadata": {
        "colab": {
          "base_uri": "https://localhost:8080/"
        },
        "id": "DNzb70-vaZ3L",
        "outputId": "2cd6ebc8-fce6-43f0-f80f-f1591436e01b"
      },
      "execution_count": 26,
      "outputs": [
        {
          "output_type": "execute_result",
          "data": {
            "text/plain": [
              "396"
            ]
          },
          "metadata": {},
          "execution_count": 26
        }
      ]
    },
    {
      "cell_type": "code",
      "source": [
        "z/y"
      ],
      "metadata": {
        "colab": {
          "base_uri": "https://localhost:8080/"
        },
        "id": "9unzaAuTahD8",
        "outputId": "0b2310a6-3631-49da-9bc5-2c581e5c89ea"
      },
      "execution_count": 27,
      "outputs": [
        {
          "output_type": "execute_result",
          "data": {
            "text/plain": [
              "2.5"
            ]
          },
          "metadata": {},
          "execution_count": 27
        }
      ]
    },
    {
      "cell_type": "code",
      "source": [
        "z%y #Modulo"
      ],
      "metadata": {
        "colab": {
          "base_uri": "https://localhost:8080/"
        },
        "id": "ADwKc2ykat4p",
        "outputId": "5d9bd6a2-2d7c-4b6b-c3e7-035c70253861"
      },
      "execution_count": 28,
      "outputs": [
        {
          "output_type": "execute_result",
          "data": {
            "text/plain": [
              "2"
            ]
          },
          "metadata": {},
          "execution_count": 28
        }
      ]
    },
    {
      "cell_type": "code",
      "source": [
        "10**4"
      ],
      "metadata": {
        "colab": {
          "base_uri": "https://localhost:8080/"
        },
        "id": "kxSJ58M1a4ii",
        "outputId": "1023577e-8663-4ed1-9c0f-0b3b4c70fd9d"
      },
      "execution_count": 29,
      "outputs": [
        {
          "output_type": "execute_result",
          "data": {
            "text/plain": [
              "10000"
            ]
          },
          "metadata": {},
          "execution_count": 29
        }
      ]
    },
    {
      "cell_type": "code",
      "source": [
        "pow(10,4)"
      ],
      "metadata": {
        "colab": {
          "base_uri": "https://localhost:8080/"
        },
        "id": "svqmMavZa_YG",
        "outputId": "b2438ecd-56b2-4d64-8fe0-a69fdf1c04e7"
      },
      "execution_count": 30,
      "outputs": [
        {
          "output_type": "execute_result",
          "data": {
            "text/plain": [
              "10000"
            ]
          },
          "metadata": {},
          "execution_count": 30
        }
      ]
    },
    {
      "cell_type": "code",
      "source": [
        "4**(7+2)*4/2+4-1"
      ],
      "metadata": {
        "colab": {
          "base_uri": "https://localhost:8080/"
        },
        "id": "PLUyCQHJbMNd",
        "outputId": "e0864368-6720-4ce3-8d9a-a359b7e1ed02"
      },
      "execution_count": 31,
      "outputs": [
        {
          "output_type": "execute_result",
          "data": {
            "text/plain": [
              "524291.0"
            ]
          },
          "metadata": {},
          "execution_count": 31
        }
      ]
    },
    {
      "cell_type": "code",
      "source": [
        "7+2"
      ],
      "metadata": {
        "colab": {
          "base_uri": "https://localhost:8080/"
        },
        "id": "dG3zxOmLbkTM",
        "outputId": "ffbd4d7d-7549-4730-8b40-c2f75de2b4b0"
      },
      "execution_count": 32,
      "outputs": [
        {
          "output_type": "execute_result",
          "data": {
            "text/plain": [
              "9"
            ]
          },
          "metadata": {},
          "execution_count": 32
        }
      ]
    },
    {
      "cell_type": "code",
      "source": [
        "4**9"
      ],
      "metadata": {
        "colab": {
          "base_uri": "https://localhost:8080/"
        },
        "id": "KtjO4FrzbxlM",
        "outputId": "83dc6000-5be3-4178-9ba4-71253b5b5936"
      },
      "execution_count": 33,
      "outputs": [
        {
          "output_type": "execute_result",
          "data": {
            "text/plain": [
              "262144"
            ]
          },
          "metadata": {},
          "execution_count": 33
        }
      ]
    },
    {
      "cell_type": "code",
      "source": [
        "4/2"
      ],
      "metadata": {
        "colab": {
          "base_uri": "https://localhost:8080/"
        },
        "id": "dz6CB23cb5qV",
        "outputId": "4e0be5a4-b0c2-4a70-e93e-7c8e46525eea"
      },
      "execution_count": 34,
      "outputs": [
        {
          "output_type": "execute_result",
          "data": {
            "text/plain": [
              "2.0"
            ]
          },
          "metadata": {},
          "execution_count": 34
        }
      ]
    },
    {
      "cell_type": "code",
      "source": [
        "262144*2.0"
      ],
      "metadata": {
        "colab": {
          "base_uri": "https://localhost:8080/"
        },
        "id": "aXxvGGpFb8Yc",
        "outputId": "de1189ce-982a-4c59-90f5-c869e113a3c5"
      },
      "execution_count": 35,
      "outputs": [
        {
          "output_type": "execute_result",
          "data": {
            "text/plain": [
              "524288.0"
            ]
          },
          "metadata": {},
          "execution_count": 35
        }
      ]
    },
    {
      "cell_type": "code",
      "source": [
        "524288.0+4"
      ],
      "metadata": {
        "colab": {
          "base_uri": "https://localhost:8080/"
        },
        "id": "WLVHXKMZcerP",
        "outputId": "dc79354c-4a03-4c38-ec3e-638b23fde8df"
      },
      "execution_count": 36,
      "outputs": [
        {
          "output_type": "execute_result",
          "data": {
            "text/plain": [
              "524292.0"
            ]
          },
          "metadata": {},
          "execution_count": 36
        }
      ]
    },
    {
      "cell_type": "code",
      "source": [
        "524292.0-1"
      ],
      "metadata": {
        "colab": {
          "base_uri": "https://localhost:8080/"
        },
        "id": "uXE7MnMVcjvQ",
        "outputId": "d7449cc6-e709-4bf2-a78a-61ee3148d791"
      },
      "execution_count": 37,
      "outputs": [
        {
          "output_type": "execute_result",
          "data": {
            "text/plain": [
              "524291.0"
            ]
          },
          "metadata": {},
          "execution_count": 37
        }
      ]
    },
    {
      "cell_type": "markdown",
      "source": [
        "## Python Notes – Strings & Escape Sequences\n",
        "\n",
        "* Strings are immutable sequences of characters.\n",
        "* Strings can be enclosed in:\n",
        "  * Single quotes: 'Hello'\n",
        "  * Double quotes: \"Hello\"\n",
        "  * Triple quotes: '''Hello''' or \"\"\"Hello\"\"\"\n",
        "\n",
        "* Example:\n",
        "  * type('2') returns <class 'str'>\n",
        "  * type(2) returns <class 'int'>\n",
        "\n",
        "## Why Different String Quotes?\n",
        "\n",
        "* Single quote inside single quotes causes error:\n",
        "  * 'Don't do this' → Error\n",
        "  * \"Don't do this\" → Works\n",
        "\n",
        "* Double quote inside double quotes causes error:\n",
        "  * \"He said \"Hello\"\" → Error\n",
        "  * 'He said \"Hello\"' → Works\n",
        "\n",
        "* If string contains both single and double quotes:\n",
        "  * Use triple quotes: '''He said \"Don't do this\"''' → Works\n",
        "\n",
        "## Escape Characters\n",
        "\n",
        "* Backslash \\ is used to escape special characters.\n",
        "* Common escape sequences:\n",
        "  * \\' – Single quote\n",
        "    * Example: 'Don\\'t' → Don't\n",
        "  * \\\\ – Backslash\n",
        "    * Example: 'Path\\\\to\\\\file' → Path\\to\\file\n",
        "  * \\n – New line\n",
        "    * print(\"Hello\\nWorld\") → prints on two lines\n",
        "  * \\r – Carriage return\n",
        "    * Moves cursor to the beginning of the line\n",
        "  * \\t – Tab space\n",
        "    * print(\"A\\tB\") → A    B (with tab space)\n",
        "  * \\b – Backspace\n",
        "    * Removes one character before it\n",
        "\n",
        "* Avoid putting a space after escape sequences to prevent unwanted whitespace.\n",
        "* Refer to Python documentation for more escape sequences."
      ],
      "metadata": {
        "id": "Knz9jue5dtMX"
      }
    },
    {
      "cell_type": "code",
      "source": [
        "'This is a string'"
      ],
      "metadata": {
        "colab": {
          "base_uri": "https://localhost:8080/",
          "height": 35
        },
        "id": "xwJ1wp9ieLpW",
        "outputId": "47ca79bd-efee-434d-fa26-75328f587202"
      },
      "execution_count": 38,
      "outputs": [
        {
          "output_type": "execute_result",
          "data": {
            "text/plain": [
              "'This is a string'"
            ],
            "application/vnd.google.colaboratory.intrinsic+json": {
              "type": "string"
            }
          },
          "metadata": {},
          "execution_count": 38
        }
      ]
    },
    {
      "cell_type": "code",
      "source": [
        "type('This is a string')"
      ],
      "metadata": {
        "colab": {
          "base_uri": "https://localhost:8080/"
        },
        "id": "Xl3wxrtteXnn",
        "outputId": "812afcb1-cccd-4b86-8c57-50eebb071bed"
      },
      "execution_count": 39,
      "outputs": [
        {
          "output_type": "execute_result",
          "data": {
            "text/plain": [
              "str"
            ]
          },
          "metadata": {},
          "execution_count": 39
        }
      ]
    },
    {
      "cell_type": "code",
      "source": [
        "type(\"This is a string\")"
      ],
      "metadata": {
        "colab": {
          "base_uri": "https://localhost:8080/"
        },
        "id": "ufqZj-1Seaix",
        "outputId": "e6068416-35aa-4f79-8f2e-8a3760bf4d35"
      },
      "execution_count": 40,
      "outputs": [
        {
          "output_type": "execute_result",
          "data": {
            "text/plain": [
              "str"
            ]
          },
          "metadata": {},
          "execution_count": 40
        }
      ]
    },
    {
      "cell_type": "code",
      "source": [
        "type(\"\"\"This is a string\"\"\")"
      ],
      "metadata": {
        "colab": {
          "base_uri": "https://localhost:8080/"
        },
        "id": "m3b6A62pegip",
        "outputId": "9f86064f-c106-4ca9-ac3d-0850bb891abe"
      },
      "execution_count": 41,
      "outputs": [
        {
          "output_type": "execute_result",
          "data": {
            "text/plain": [
              "str"
            ]
          },
          "metadata": {},
          "execution_count": 41
        }
      ]
    },
    {
      "cell_type": "code",
      "source": [
        "type('''This is a string''')"
      ],
      "metadata": {
        "colab": {
          "base_uri": "https://localhost:8080/"
        },
        "id": "02Zj3mywekMg",
        "outputId": "ffe17ee1-78ac-4c8e-bd40-b58cc5d0cf4f"
      },
      "execution_count": 42,
      "outputs": [
        {
          "output_type": "execute_result",
          "data": {
            "text/plain": [
              "str"
            ]
          },
          "metadata": {},
          "execution_count": 42
        }
      ]
    },
    {
      "cell_type": "code",
      "source": [
        "type(3)"
      ],
      "metadata": {
        "colab": {
          "base_uri": "https://localhost:8080/"
        },
        "id": "E05uYPEveoFZ",
        "outputId": "c4a77f0e-567a-4c87-e6a4-87513a589b2c"
      },
      "execution_count": 43,
      "outputs": [
        {
          "output_type": "execute_result",
          "data": {
            "text/plain": [
              "int"
            ]
          },
          "metadata": {},
          "execution_count": 43
        }
      ]
    },
    {
      "cell_type": "code",
      "source": [
        "type('7')"
      ],
      "metadata": {
        "colab": {
          "base_uri": "https://localhost:8080/"
        },
        "id": "7E1PKTbheu9K",
        "outputId": "452c8f37-7328-46b8-fa38-3b97a8fc4f7d"
      },
      "execution_count": 44,
      "outputs": [
        {
          "output_type": "execute_result",
          "data": {
            "text/plain": [
              "str"
            ]
          },
          "metadata": {},
          "execution_count": 44
        }
      ]
    },
    {
      "cell_type": "code",
      "source": [
        "#'I don't think this will work'"
      ],
      "metadata": {
        "id": "Yg0mazpJeyrL"
      },
      "execution_count": 45,
      "outputs": []
    },
    {
      "cell_type": "code",
      "source": [
        "\"I don't think this will work. But this will work\""
      ],
      "metadata": {
        "colab": {
          "base_uri": "https://localhost:8080/",
          "height": 35
        },
        "id": "q-cUKDLBe6A1",
        "outputId": "d14c0ab4-aa88-420e-a11f-b84ced9975b0"
      },
      "execution_count": 46,
      "outputs": [
        {
          "output_type": "execute_result",
          "data": {
            "text/plain": [
              "\"I don't think this will work. But this will work\""
            ],
            "application/vnd.google.colaboratory.intrinsic+json": {
              "type": "string"
            }
          },
          "metadata": {},
          "execution_count": 46
        }
      ]
    },
    {
      "cell_type": "code",
      "source": [
        "'The student said \"It is fun to learn Python\"'"
      ],
      "metadata": {
        "colab": {
          "base_uri": "https://localhost:8080/",
          "height": 35
        },
        "id": "zBBfEkdofN6V",
        "outputId": "cb2198e2-7e94-4be5-c877-350aac48ff54"
      },
      "execution_count": 47,
      "outputs": [
        {
          "output_type": "execute_result",
          "data": {
            "text/plain": [
              "'The student said \"It is fun to learn Python\"'"
            ],
            "application/vnd.google.colaboratory.intrinsic+json": {
              "type": "string"
            }
          },
          "metadata": {},
          "execution_count": 47
        }
      ]
    },
    {
      "cell_type": "code",
      "source": [
        "'''The student said \"It's fun to learn Python\"'''"
      ],
      "metadata": {
        "colab": {
          "base_uri": "https://localhost:8080/",
          "height": 35
        },
        "id": "tw2V9YZkf6_s",
        "outputId": "3f2ec466-2eda-4a21-c6e6-5a64b7095d2b"
      },
      "execution_count": 48,
      "outputs": [
        {
          "output_type": "execute_result",
          "data": {
            "text/plain": [
              "'The student said \"It\\'s fun to learn Python\"'"
            ],
            "application/vnd.google.colaboratory.intrinsic+json": {
              "type": "string"
            }
          },
          "metadata": {},
          "execution_count": 48
        }
      ]
    },
    {
      "cell_type": "code",
      "source": [
        "'this isn\\'t what I expected'"
      ],
      "metadata": {
        "colab": {
          "base_uri": "https://localhost:8080/",
          "height": 35
        },
        "id": "UzMg5O-MgJK4",
        "outputId": "7f4c3b49-7074-457b-e432-2c9579745fc2"
      },
      "execution_count": 49,
      "outputs": [
        {
          "output_type": "execute_result",
          "data": {
            "text/plain": [
              "\"this isn't what I expected\""
            ],
            "application/vnd.google.colaboratory.intrinsic+json": {
              "type": "string"
            }
          },
          "metadata": {},
          "execution_count": 49
        }
      ]
    },
    {
      "cell_type": "code",
      "source": [
        "print('hello I would like this \\nstring in two lines.')"
      ],
      "metadata": {
        "colab": {
          "base_uri": "https://localhost:8080/"
        },
        "id": "4X1-vtG1gQEG",
        "outputId": "f23b4ac9-53fb-4401-c834-d726aaa1defa"
      },
      "execution_count": 50,
      "outputs": [
        {
          "output_type": "stream",
          "name": "stdout",
          "text": [
            "hello I would like this \n",
            "string in two lines.\n"
          ]
        }
      ]
    },
    {
      "cell_type": "code",
      "source": [
        "print('hello I would like this \\tstring in two lines.')"
      ],
      "metadata": {
        "colab": {
          "base_uri": "https://localhost:8080/"
        },
        "id": "AdMZ5iFdgt-q",
        "outputId": "e2696374-01bb-430c-8b03-2b2d031c9a55"
      },
      "execution_count": 51,
      "outputs": [
        {
          "output_type": "stream",
          "name": "stdout",
          "text": [
            "hello I would like this \tstring in two lines.\n"
          ]
        }
      ]
    },
    {
      "cell_type": "markdown",
      "source": [
        "## Python Notes – String Indexing & Slicing\n",
        "\n",
        "* Strings are sequences of characters, and each character has an index.\n",
        "* Indexing starts from 0 (left to right) and -1 (right to left).\n",
        "  * Example: `x = \"This is a string\"`\n",
        "\n",
        "## String Indexing\n",
        "\n",
        "* Use square brackets to access a character at a specific index:\n",
        "  * `x[3]` → returns `'s'` (0:T, 1:h, 2:i, 3:s)\n",
        "  * `x[-1]` → returns `'g'` (last character)\n",
        "\n",
        "## String Slicing\n",
        "\n",
        "* Syntax: `x[start : stop : step]`\n",
        "  * `start`: Starting index (inclusive)\n",
        "  * `stop`: Ending index (exclusive)\n",
        "  * `step`: Number of steps to skip (default is 1)\n",
        "\n",
        "* Examples:\n",
        "  * `x[0:4]` → `'This'` (includes index 0 to 3)\n",
        "  * `x[:4]` → `'This'` (start defaults to 0)\n",
        "  * `x[3:]` → `'s is a string'` (up to end)\n",
        "  * `x[5:7]` → `'is'`\n",
        "  * `x[::2]` → skips every other character → `'Ti sasrn'`\n",
        "  * `x[::-1]` → reverses the string → `'gnirts a si sihT'`\n",
        "\n",
        "* Indexing vs Slicing:\n",
        "  * `x[3]` returns a single character\n",
        "  * `x[3:]` returns a substring\n",
        "\n",
        "* Negative Indexing:\n",
        "  * `x[-1]` → last character\n",
        "  * `x[-2]` → second last character\n",
        "\n",
        "* Negative Step:\n",
        "  * `x[::-1]` → reverses the string"
      ],
      "metadata": {
        "id": "ZGBFPYHlhzCR"
      }
    },
    {
      "cell_type": "code",
      "source": [
        "x = 'This is a string'"
      ],
      "metadata": {
        "id": "QhPXEO4iiGmW"
      },
      "execution_count": 66,
      "outputs": []
    },
    {
      "cell_type": "code",
      "source": [
        "x"
      ],
      "metadata": {
        "colab": {
          "base_uri": "https://localhost:8080/",
          "height": 35
        },
        "id": "jp0Gy14Ai-n1",
        "outputId": "0ebe24de-f4d6-409e-aeeb-d1bc77110c94"
      },
      "execution_count": 67,
      "outputs": [
        {
          "output_type": "execute_result",
          "data": {
            "text/plain": [
              "'This is a string'"
            ],
            "application/vnd.google.colaboratory.intrinsic+json": {
              "type": "string"
            }
          },
          "metadata": {},
          "execution_count": 67
        }
      ]
    },
    {
      "cell_type": "code",
      "source": [
        "x[8]"
      ],
      "metadata": {
        "colab": {
          "base_uri": "https://localhost:8080/",
          "height": 35
        },
        "id": "sEMlLCiSi_PY",
        "outputId": "e1fd8d00-58ad-485c-e8cc-e08caf733398"
      },
      "execution_count": 68,
      "outputs": [
        {
          "output_type": "execute_result",
          "data": {
            "text/plain": [
              "'a'"
            ],
            "application/vnd.google.colaboratory.intrinsic+json": {
              "type": "string"
            }
          },
          "metadata": {},
          "execution_count": 68
        }
      ]
    },
    {
      "cell_type": "code",
      "source": [
        "x[0:4:1]"
      ],
      "metadata": {
        "colab": {
          "base_uri": "https://localhost:8080/",
          "height": 35
        },
        "id": "AbrBUmSLjXde",
        "outputId": "19fdc987-82fd-4c95-e0ef-e93a435ad10c"
      },
      "execution_count": 69,
      "outputs": [
        {
          "output_type": "execute_result",
          "data": {
            "text/plain": [
              "'This'"
            ],
            "application/vnd.google.colaboratory.intrinsic+json": {
              "type": "string"
            }
          },
          "metadata": {},
          "execution_count": 69
        }
      ]
    },
    {
      "cell_type": "code",
      "source": [
        "x[0:4]"
      ],
      "metadata": {
        "colab": {
          "base_uri": "https://localhost:8080/",
          "height": 35
        },
        "id": "MOTbFb3ej1RN",
        "outputId": "3071cf0b-aa30-44e6-9b2b-5b08a375f31b"
      },
      "execution_count": 70,
      "outputs": [
        {
          "output_type": "execute_result",
          "data": {
            "text/plain": [
              "'This'"
            ],
            "application/vnd.google.colaboratory.intrinsic+json": {
              "type": "string"
            }
          },
          "metadata": {},
          "execution_count": 70
        }
      ]
    },
    {
      "cell_type": "code",
      "source": [
        "x[:4]"
      ],
      "metadata": {
        "colab": {
          "base_uri": "https://localhost:8080/",
          "height": 35
        },
        "id": "xwemKzEUj9bi",
        "outputId": "47238d22-142e-4bb5-de48-e191188d3545"
      },
      "execution_count": 71,
      "outputs": [
        {
          "output_type": "execute_result",
          "data": {
            "text/plain": [
              "'This'"
            ],
            "application/vnd.google.colaboratory.intrinsic+json": {
              "type": "string"
            }
          },
          "metadata": {},
          "execution_count": 71
        }
      ]
    },
    {
      "cell_type": "code",
      "source": [
        "x[:4:1]"
      ],
      "metadata": {
        "colab": {
          "base_uri": "https://localhost:8080/",
          "height": 35
        },
        "id": "PitNGL0KkAPW",
        "outputId": "4abeda62-11c8-4fa7-f3ce-4ce4d9bf6d0e"
      },
      "execution_count": 72,
      "outputs": [
        {
          "output_type": "execute_result",
          "data": {
            "text/plain": [
              "'This'"
            ],
            "application/vnd.google.colaboratory.intrinsic+json": {
              "type": "string"
            }
          },
          "metadata": {},
          "execution_count": 72
        }
      ]
    },
    {
      "cell_type": "code",
      "source": [
        "x[8::]"
      ],
      "metadata": {
        "colab": {
          "base_uri": "https://localhost:8080/",
          "height": 35
        },
        "id": "9n4IJT1akCet",
        "outputId": "d1236f19-13b8-47ce-aff5-1413688d6cd6"
      },
      "execution_count": 73,
      "outputs": [
        {
          "output_type": "execute_result",
          "data": {
            "text/plain": [
              "'a string'"
            ],
            "application/vnd.google.colaboratory.intrinsic+json": {
              "type": "string"
            }
          },
          "metadata": {},
          "execution_count": 73
        }
      ]
    },
    {
      "cell_type": "code",
      "source": [
        "x[8]"
      ],
      "metadata": {
        "colab": {
          "base_uri": "https://localhost:8080/",
          "height": 35
        },
        "id": "4xZx_SR4kJvI",
        "outputId": "18d6fd5f-a12a-4077-9fa6-88b94008fb28"
      },
      "execution_count": 74,
      "outputs": [
        {
          "output_type": "execute_result",
          "data": {
            "text/plain": [
              "'a'"
            ],
            "application/vnd.google.colaboratory.intrinsic+json": {
              "type": "string"
            }
          },
          "metadata": {},
          "execution_count": 74
        }
      ]
    },
    {
      "cell_type": "code",
      "source": [
        "x"
      ],
      "metadata": {
        "colab": {
          "base_uri": "https://localhost:8080/",
          "height": 35
        },
        "id": "JFk9mP-BkMyB",
        "outputId": "f8c59d1f-8e92-4ee7-b84b-23b77fe4b176"
      },
      "execution_count": 75,
      "outputs": [
        {
          "output_type": "execute_result",
          "data": {
            "text/plain": [
              "'This is a string'"
            ],
            "application/vnd.google.colaboratory.intrinsic+json": {
              "type": "string"
            }
          },
          "metadata": {},
          "execution_count": 75
        }
      ]
    },
    {
      "cell_type": "code",
      "source": [
        "x[5:7]"
      ],
      "metadata": {
        "colab": {
          "base_uri": "https://localhost:8080/",
          "height": 35
        },
        "id": "VHuWxKc-kPGd",
        "outputId": "7527e3d9-1af6-4767-cd78-56607b43737c"
      },
      "execution_count": 76,
      "outputs": [
        {
          "output_type": "execute_result",
          "data": {
            "text/plain": [
              "'is'"
            ],
            "application/vnd.google.colaboratory.intrinsic+json": {
              "type": "string"
            }
          },
          "metadata": {},
          "execution_count": 76
        }
      ]
    },
    {
      "cell_type": "code",
      "source": [
        "x[::2]"
      ],
      "metadata": {
        "colab": {
          "base_uri": "https://localhost:8080/",
          "height": 35
        },
        "id": "g83XDmYfkVhn",
        "outputId": "b361e00d-1cbe-4562-b743-f6c33819c425"
      },
      "execution_count": 77,
      "outputs": [
        {
          "output_type": "execute_result",
          "data": {
            "text/plain": [
              "'Ti sasrn'"
            ],
            "application/vnd.google.colaboratory.intrinsic+json": {
              "type": "string"
            }
          },
          "metadata": {},
          "execution_count": 77
        }
      ]
    },
    {
      "cell_type": "code",
      "source": [
        "x[-1]"
      ],
      "metadata": {
        "colab": {
          "base_uri": "https://localhost:8080/",
          "height": 35
        },
        "id": "lDJfRbkxkicU",
        "outputId": "c5daf77e-1a29-45be-cbda-e3bb780fca5c"
      },
      "execution_count": 78,
      "outputs": [
        {
          "output_type": "execute_result",
          "data": {
            "text/plain": [
              "'g'"
            ],
            "application/vnd.google.colaboratory.intrinsic+json": {
              "type": "string"
            }
          },
          "metadata": {},
          "execution_count": 78
        }
      ]
    },
    {
      "cell_type": "code",
      "source": [
        "x[::-1] #reversed"
      ],
      "metadata": {
        "colab": {
          "base_uri": "https://localhost:8080/",
          "height": 35
        },
        "id": "rINMgnDvkkmz",
        "outputId": "1450a50d-7562-4da0-c208-428001ed8fac"
      },
      "execution_count": 79,
      "outputs": [
        {
          "output_type": "execute_result",
          "data": {
            "text/plain": [
              "'gnirts a si sihT'"
            ],
            "application/vnd.google.colaboratory.intrinsic+json": {
              "type": "string"
            }
          },
          "metadata": {},
          "execution_count": 79
        }
      ]
    },
    {
      "cell_type": "markdown",
      "source": [
        "## Python Notes – String Methods & Immutability\n",
        "\n",
        "* Strings have many built-in methods (accessed via dot notation).\n",
        "* Methods do not change the original string unless explicitly reassigned.\n",
        "\n",
        "## Common String Methods\n",
        "\n",
        "* `.upper()` – Converts string to uppercase  \n",
        "  * Example: `x.upper()`  \n",
        "  * Reassign to apply: `x = x.upper()`\n",
        "\n",
        "* `.lower()` – Converts string to lowercase  \n",
        "  * Example: `x.lower()`  \n",
        "  * Reassign to apply: `x = x.lower()`\n",
        "\n",
        "* `.find(substring, start, end)` – Returns index of first match  \n",
        "  * Returns -1 if not found  \n",
        "  * Case-sensitive  \n",
        "  * Example:\n",
        "    * `y = \"Red Flag\"`\n",
        "    * `y.find(\"Red\")` → `0`\n",
        "    * `y.find(\"red\")` → `-1`\n",
        "\n",
        "* `.replace(old, new, count)` – Replaces text  \n",
        "  * Replaces all occurrences if `count` not provided  \n",
        "  * Example:\n",
        "    * `y.replace(\"Red\", \"Green\")` → `\"Green Flag\"`\n",
        "    * `y = y.replace(\"Red\", \"Green\")` to apply change\n",
        "\n",
        "* `.split(separator)` – Splits string into a list  \n",
        "  * Default is whitespace  \n",
        "  * Example:\n",
        "    * `x = \"This is a string\"`\n",
        "    * `x.split()` → `['This', 'is', 'a', 'string']`\n",
        "    * `x.split(\",\")` → Splits by comma, if present\n",
        "\n",
        "## String Immutability\n",
        "\n",
        "* Strings are **immutable** – you cannot change individual characters.\n",
        "  * Example:\n",
        "    * `a = \"Hello\"`\n",
        "    * `a[0] = \"Y\"` → Error (not allowed)\n",
        "\n",
        "* You can **reassign** the entire string:\n",
        "  * `a = \"Goodbye\"` → Allowed\n",
        "\n",
        "* Use `help(str)` or check Python documentation for more methods."
      ],
      "metadata": {
        "id": "USbcutWzo0eq"
      }
    },
    {
      "cell_type": "code",
      "source": [
        "x.upper()"
      ],
      "metadata": {
        "colab": {
          "base_uri": "https://localhost:8080/",
          "height": 35
        },
        "id": "9hW2Ub9fo1Oz",
        "outputId": "14950886-c5c9-4957-af9e-19bcf96355a6"
      },
      "execution_count": 80,
      "outputs": [
        {
          "output_type": "execute_result",
          "data": {
            "text/plain": [
              "'THIS IS A STRING'"
            ],
            "application/vnd.google.colaboratory.intrinsic+json": {
              "type": "string"
            }
          },
          "metadata": {},
          "execution_count": 80
        }
      ]
    },
    {
      "cell_type": "code",
      "source": [
        "x"
      ],
      "metadata": {
        "colab": {
          "base_uri": "https://localhost:8080/",
          "height": 35
        },
        "id": "wISBk6qmpGGJ",
        "outputId": "f941bd72-e3be-4a8c-e1c7-52c9e03d0968"
      },
      "execution_count": 81,
      "outputs": [
        {
          "output_type": "execute_result",
          "data": {
            "text/plain": [
              "'This is a string'"
            ],
            "application/vnd.google.colaboratory.intrinsic+json": {
              "type": "string"
            }
          },
          "metadata": {},
          "execution_count": 81
        }
      ]
    },
    {
      "cell_type": "code",
      "source": [
        "x = x.upper()"
      ],
      "metadata": {
        "id": "UJ_IGM83pHFa"
      },
      "execution_count": 82,
      "outputs": []
    },
    {
      "cell_type": "code",
      "source": [
        "x"
      ],
      "metadata": {
        "colab": {
          "base_uri": "https://localhost:8080/",
          "height": 35
        },
        "id": "_R5gzXqOpLLx",
        "outputId": "e259bbaa-eef5-4d4e-c7bb-f7b21147e2d6"
      },
      "execution_count": 83,
      "outputs": [
        {
          "output_type": "execute_result",
          "data": {
            "text/plain": [
              "'THIS IS A STRING'"
            ],
            "application/vnd.google.colaboratory.intrinsic+json": {
              "type": "string"
            }
          },
          "metadata": {},
          "execution_count": 83
        }
      ]
    },
    {
      "cell_type": "code",
      "source": [
        "x.lower()"
      ],
      "metadata": {
        "colab": {
          "base_uri": "https://localhost:8080/",
          "height": 35
        },
        "id": "9faAhtTdpMLS",
        "outputId": "af78bd73-30a7-47fa-9773-7c4ed90bdc19"
      },
      "execution_count": 84,
      "outputs": [
        {
          "output_type": "execute_result",
          "data": {
            "text/plain": [
              "'this is a string'"
            ],
            "application/vnd.google.colaboratory.intrinsic+json": {
              "type": "string"
            }
          },
          "metadata": {},
          "execution_count": 84
        }
      ]
    },
    {
      "cell_type": "code",
      "source": [
        "x"
      ],
      "metadata": {
        "colab": {
          "base_uri": "https://localhost:8080/",
          "height": 35
        },
        "id": "meEkdD7RpRkd",
        "outputId": "cb2612ec-fd84-49b9-eb54-74ae1d1f2ea4"
      },
      "execution_count": 85,
      "outputs": [
        {
          "output_type": "execute_result",
          "data": {
            "text/plain": [
              "'THIS IS A STRING'"
            ],
            "application/vnd.google.colaboratory.intrinsic+json": {
              "type": "string"
            }
          },
          "metadata": {},
          "execution_count": 85
        }
      ]
    },
    {
      "cell_type": "code",
      "source": [
        "y = 'Even Odd'"
      ],
      "metadata": {
        "id": "0zodwsnWrFlz"
      },
      "execution_count": 86,
      "outputs": []
    },
    {
      "cell_type": "code",
      "source": [
        "y.find('Even')"
      ],
      "metadata": {
        "colab": {
          "base_uri": "https://localhost:8080/"
        },
        "id": "08JpXOQJrXQ-",
        "outputId": "164f9c5b-47e5-467b-fe1a-1ddf95a95426"
      },
      "execution_count": 87,
      "outputs": [
        {
          "output_type": "execute_result",
          "data": {
            "text/plain": [
              "0"
            ]
          },
          "metadata": {},
          "execution_count": 87
        }
      ]
    },
    {
      "cell_type": "code",
      "source": [
        "y.find('even')"
      ],
      "metadata": {
        "colab": {
          "base_uri": "https://localhost:8080/"
        },
        "id": "jGBDa4gKrai5",
        "outputId": "cb34c49e-1780-4b67-870e-2f77ed02f5ee"
      },
      "execution_count": 88,
      "outputs": [
        {
          "output_type": "execute_result",
          "data": {
            "text/plain": [
              "-1"
            ]
          },
          "metadata": {},
          "execution_count": 88
        }
      ]
    },
    {
      "cell_type": "code",
      "source": [
        "y"
      ],
      "metadata": {
        "colab": {
          "base_uri": "https://localhost:8080/",
          "height": 35
        },
        "id": "l--NPw7AreSD",
        "outputId": "1f64259b-2542-40be-f1e6-b066016cf5d9"
      },
      "execution_count": 89,
      "outputs": [
        {
          "output_type": "execute_result",
          "data": {
            "text/plain": [
              "'Even Odd'"
            ],
            "application/vnd.google.colaboratory.intrinsic+json": {
              "type": "string"
            }
          },
          "metadata": {},
          "execution_count": 89
        }
      ]
    },
    {
      "cell_type": "code",
      "source": [
        "y.replace('Even', 'Prime')"
      ],
      "metadata": {
        "colab": {
          "base_uri": "https://localhost:8080/",
          "height": 35
        },
        "id": "j4F8Me_7rkrY",
        "outputId": "d241cd53-f6fb-4d94-d442-70c69e6016c6"
      },
      "execution_count": 90,
      "outputs": [
        {
          "output_type": "execute_result",
          "data": {
            "text/plain": [
              "'Prime Odd'"
            ],
            "application/vnd.google.colaboratory.intrinsic+json": {
              "type": "string"
            }
          },
          "metadata": {},
          "execution_count": 90
        }
      ]
    },
    {
      "cell_type": "code",
      "source": [
        "y = y.replace('Even', 'Prime')"
      ],
      "metadata": {
        "id": "Jap0zYlBrqCa"
      },
      "execution_count": 91,
      "outputs": []
    },
    {
      "cell_type": "code",
      "source": [
        "y"
      ],
      "metadata": {
        "colab": {
          "base_uri": "https://localhost:8080/",
          "height": 35
        },
        "id": "80YIQ4bkr0ua",
        "outputId": "2ec3d951-4cdf-444c-febd-656c32878081"
      },
      "execution_count": 92,
      "outputs": [
        {
          "output_type": "execute_result",
          "data": {
            "text/plain": [
              "'Prime Odd'"
            ],
            "application/vnd.google.colaboratory.intrinsic+json": {
              "type": "string"
            }
          },
          "metadata": {},
          "execution_count": 92
        }
      ]
    },
    {
      "cell_type": "code",
      "source": [
        "x"
      ],
      "metadata": {
        "colab": {
          "base_uri": "https://localhost:8080/",
          "height": 35
        },
        "id": "dm3RTFyvr1qe",
        "outputId": "430fbcf4-b69a-45b8-8472-8c71eaaa1658"
      },
      "execution_count": 93,
      "outputs": [
        {
          "output_type": "execute_result",
          "data": {
            "text/plain": [
              "'THIS IS A STRING'"
            ],
            "application/vnd.google.colaboratory.intrinsic+json": {
              "type": "string"
            }
          },
          "metadata": {},
          "execution_count": 93
        }
      ]
    },
    {
      "cell_type": "code",
      "source": [
        "x.split()"
      ],
      "metadata": {
        "colab": {
          "base_uri": "https://localhost:8080/"
        },
        "id": "WcrS4WUasAQ3",
        "outputId": "bf4086b2-1082-4053-e2d6-80fdd53ca345"
      },
      "execution_count": 94,
      "outputs": [
        {
          "output_type": "execute_result",
          "data": {
            "text/plain": [
              "['THIS', 'IS', 'A', 'STRING']"
            ]
          },
          "metadata": {},
          "execution_count": 94
        }
      ]
    },
    {
      "cell_type": "code",
      "source": [
        "x.split(',')"
      ],
      "metadata": {
        "colab": {
          "base_uri": "https://localhost:8080/"
        },
        "id": "XQ1wWx0WsDgu",
        "outputId": "d4e1d446-2241-482c-cd7e-bff005b59b54"
      },
      "execution_count": 95,
      "outputs": [
        {
          "output_type": "execute_result",
          "data": {
            "text/plain": [
              "['THIS IS A STRING']"
            ]
          },
          "metadata": {},
          "execution_count": 95
        }
      ]
    },
    {
      "cell_type": "code",
      "source": [
        "x = 'THIS, IS A, STRING'"
      ],
      "metadata": {
        "id": "h5Ui9KFjsJmi"
      },
      "execution_count": 96,
      "outputs": []
    },
    {
      "cell_type": "code",
      "source": [
        "x.split(',')"
      ],
      "metadata": {
        "colab": {
          "base_uri": "https://localhost:8080/"
        },
        "id": "K-Kqu9EFsOy4",
        "outputId": "983d89bb-9110-4108-9620-cf0f561f2cd1"
      },
      "execution_count": 97,
      "outputs": [
        {
          "output_type": "execute_result",
          "data": {
            "text/plain": [
              "['THIS', ' IS A', ' STRING']"
            ]
          },
          "metadata": {},
          "execution_count": 97
        }
      ]
    },
    {
      "cell_type": "code",
      "source": [
        "x.split()"
      ],
      "metadata": {
        "colab": {
          "base_uri": "https://localhost:8080/"
        },
        "id": "_j95jb1asSOK",
        "outputId": "b213f408-f91a-4da7-c31c-2ab64acea9c9"
      },
      "execution_count": 98,
      "outputs": [
        {
          "output_type": "execute_result",
          "data": {
            "text/plain": [
              "['THIS,', 'IS', 'A,', 'STRING']"
            ]
          },
          "metadata": {},
          "execution_count": 98
        }
      ]
    },
    {
      "cell_type": "code",
      "source": [
        "x.split(' ')"
      ],
      "metadata": {
        "colab": {
          "base_uri": "https://localhost:8080/"
        },
        "id": "0qJSQ16YsgXG",
        "outputId": "a4cf6777-265c-4cc6-d282-24ead3c0d89d"
      },
      "execution_count": 99,
      "outputs": [
        {
          "output_type": "execute_result",
          "data": {
            "text/plain": [
              "['THIS,', 'IS', 'A,', 'STRING']"
            ]
          },
          "metadata": {},
          "execution_count": 99
        }
      ]
    },
    {
      "cell_type": "code",
      "source": [
        "a = 'Hello'"
      ],
      "metadata": {
        "id": "bNAJ0mcGslEU"
      },
      "execution_count": 100,
      "outputs": []
    },
    {
      "cell_type": "code",
      "source": [
        "a = 'Goodbye'"
      ],
      "metadata": {
        "id": "XB1dK6DWLcje"
      },
      "execution_count": 101,
      "outputs": []
    },
    {
      "cell_type": "code",
      "source": [
        "a[0]"
      ],
      "metadata": {
        "colab": {
          "base_uri": "https://localhost:8080/",
          "height": 35
        },
        "id": "td_79PshLnk_",
        "outputId": "fd1857fa-a4f7-4613-ae09-ad6582068291"
      },
      "execution_count": 102,
      "outputs": [
        {
          "output_type": "execute_result",
          "data": {
            "text/plain": [
              "'G'"
            ],
            "application/vnd.google.colaboratory.intrinsic+json": {
              "type": "string"
            }
          },
          "metadata": {},
          "execution_count": 102
        }
      ]
    },
    {
      "cell_type": "code",
      "source": [
        "#a[0] = 'P'"
      ],
      "metadata": {
        "id": "MU4Y0L2oLpl7"
      },
      "execution_count": 103,
      "outputs": []
    },
    {
      "cell_type": "markdown",
      "source": [
        "## Python Notes – String Concatenation & f-Strings\n",
        "\n",
        "### String Concatenation\n",
        "\n",
        "* Strings can be joined using the `+` operator.\n",
        "  * Example:\n",
        "    * `\"Hello\" + \" \" + \"World\"` → `\"Hello World\"`\n",
        "* Concatenating numerical values adds them:\n",
        "  * `5 + 5` → `10`\n",
        "* Concatenating strings merges them:\n",
        "  * `\"5\" + \"5\"` → `\"55\"`\n",
        "\n",
        "* Example with variables:\n",
        "  * `x = \"My name is\"`\n",
        "  * `y = \"John\"`\n",
        "  * `z = x + \" \" + y` → `\"My name is John\"`\n",
        "\n",
        "### f-Strings (String Interpolation)\n",
        "\n",
        "* f-Strings embed variable values directly into a string.\n",
        "* Syntax: prefix the string with `f`, then use `{}` to include variables.\n",
        "\n",
        "* Example:\n",
        "  * `name = \"John\"`\n",
        "  * `f\"Hi, my name is {name}\"` → `\"Hi, my name is John\"`\n",
        "\n",
        "* If `name = \"Ben\"`, the output becomes:\n",
        "  * `f\"Hi, my name is {name}\"` → `\"Hi, my name is Ben\"`\n",
        "\n",
        "* f-Strings can use:\n",
        "  * Variables multiple times → `f\"{name} is {name}\"`\n",
        "  * Multiple variables → `f\"{first} {last}\"`\n",
        "\n",
        "* f-Strings make dynamic and readable string formatting easy."
      ],
      "metadata": {
        "id": "QESdn7tLNUi2"
      }
    },
    {
      "cell_type": "code",
      "source": [
        "10+10"
      ],
      "metadata": {
        "colab": {
          "base_uri": "https://localhost:8080/"
        },
        "id": "3WfaBkwSNVZQ",
        "outputId": "92e479bb-bfab-412f-d370-36522d469373"
      },
      "execution_count": 104,
      "outputs": [
        {
          "output_type": "execute_result",
          "data": {
            "text/plain": [
              "20"
            ]
          },
          "metadata": {},
          "execution_count": 104
        }
      ]
    },
    {
      "cell_type": "code",
      "source": [
        "'This string' + ' ' + 'that string'"
      ],
      "metadata": {
        "colab": {
          "base_uri": "https://localhost:8080/",
          "height": 35
        },
        "id": "cnMEZOfuOBYA",
        "outputId": "889e3dd2-3692-4bf5-bc30-712e7746b3c8"
      },
      "execution_count": 105,
      "outputs": [
        {
          "output_type": "execute_result",
          "data": {
            "text/plain": [
              "'This string that string'"
            ],
            "application/vnd.google.colaboratory.intrinsic+json": {
              "type": "string"
            }
          },
          "metadata": {},
          "execution_count": 105
        }
      ]
    },
    {
      "cell_type": "code",
      "source": [
        "x = 'My name is'"
      ],
      "metadata": {
        "id": "goex5IgFOQsY"
      },
      "execution_count": 106,
      "outputs": []
    },
    {
      "cell_type": "code",
      "source": [
        "y = 'John'"
      ],
      "metadata": {
        "id": "oGOS5VVIOUoO"
      },
      "execution_count": 107,
      "outputs": []
    },
    {
      "cell_type": "code",
      "source": [
        "z = x + ' ' + y"
      ],
      "metadata": {
        "id": "TTnd-bipOaQG"
      },
      "execution_count": 108,
      "outputs": []
    },
    {
      "cell_type": "code",
      "source": [
        "z"
      ],
      "metadata": {
        "colab": {
          "base_uri": "https://localhost:8080/",
          "height": 35
        },
        "id": "7pPGqnLpOh7q",
        "outputId": "7934b9bb-fc32-488a-9abf-4960301d3515"
      },
      "execution_count": 109,
      "outputs": [
        {
          "output_type": "execute_result",
          "data": {
            "text/plain": [
              "'My name is John'"
            ],
            "application/vnd.google.colaboratory.intrinsic+json": {
              "type": "string"
            }
          },
          "metadata": {},
          "execution_count": 109
        }
      ]
    },
    {
      "cell_type": "code",
      "source": [
        "f'Hi, my name is {y}'"
      ],
      "metadata": {
        "colab": {
          "base_uri": "https://localhost:8080/",
          "height": 35
        },
        "id": "Fh3NEnxxOkI0",
        "outputId": "074a4132-d703-4902-d58e-23932d69d6fe"
      },
      "execution_count": 110,
      "outputs": [
        {
          "output_type": "execute_result",
          "data": {
            "text/plain": [
              "'Hi, my name is John'"
            ],
            "application/vnd.google.colaboratory.intrinsic+json": {
              "type": "string"
            }
          },
          "metadata": {},
          "execution_count": 110
        }
      ]
    },
    {
      "cell_type": "markdown",
      "source": [
        "## Python Notes – Lists and List Methods\n",
        "\n",
        "### What is a List?\n",
        "\n",
        "* Lists are mutable sequences enclosed in square brackets.\n",
        "* Can store items of same or different types.\n",
        "\n",
        "* Example:\n",
        "  * `list1 = [2, 17, 18, 19, 20]`\n",
        "  * `list2 = ['John', 'Mark', 'Luke', 'Jane']`\n",
        "  * `list3 = ['John', 17, 'Mark', 18, 'Luke', 19, 'Jane', 20]` (mixed types)\n",
        "\n",
        "### Indexing and Slicing\n",
        "\n",
        "* Indexing:\n",
        "  * `x = 'Hello'`\n",
        "  * `x[3]` → `'l'`\n",
        "  * `x[2:5]` → `'llo'`\n",
        "\n",
        "* Lists:\n",
        "  * `list1 = [2, 17, 18, 19, 20]`\n",
        "  * `list1[4]` → `20`\n",
        "  * `list1[-3]` → `18`\n",
        "  * `list1[2:5]` → `[18, 19, 20]`\n",
        "\n",
        "* Type checking:\n",
        "  * `type(list1)` → `<class 'list'>`\n",
        "  * `type(list1[4])` → `<class 'int'>`\n",
        "\n",
        "### Nested Lists (Lists Inside Lists)\n",
        "\n",
        "* `list4 = ['x', 'y', list3]`\n",
        "* `list4[1]` → `'y'`\n",
        "* `list4[2]` → the nested list `list3`\n",
        "* `list4[2][2]` → `'Mark'`\n",
        "* `list4[2][3]` → `18`\n",
        "\n",
        "* Assigning nested list to variable:\n",
        "  * `element = list4[2]`\n",
        "  * `element[3]` → `18`\n",
        "\n",
        "### Mutability\n",
        "\n",
        "* Strings are immutable:\n",
        "  * `x = 'Hello'`\n",
        "  * `x[0] = 'P'` → Error\n",
        "\n",
        "* Lists are mutable:\n",
        "  * `list1[4] = 'HEY!'`\n",
        "  * `list1` now → `[2, 17, 18, 19, 'HEY!']`\n",
        "\n",
        "### List Methods\n",
        "\n",
        "* `.append(value)` – Adds a value to the end\n",
        "  * `list1.append('HOLA!')` → `[2, 17, 18, 19, 'HEY!', 'HOLA!']`\n",
        "* `.append(list2)` – Appends `list2` as a single nested list\n",
        "  * `list1.append(list2)` → `['John', ..., 'HOLA!', ['John', 'Mark', 'Luke', 'Jane']]`\n",
        "\n",
        "* `.extend(list2)` – Adds each element of `list2` individually\n",
        "  * `list1.extend(list2)` → Adds `'John', 'Mark', 'Luke', 'Jane'` to the end\n",
        "\n",
        "* `.remove(value)` – Removes the first occurrence of value\n",
        "  * `list1.remove(19)` → removes number 19\n",
        "  * `list1.remove(['John', 'Mark', 'Luke', 'Jane'])` → removes the nested list\n",
        "\n",
        "* `.pop()` – Removes and returns last element\n",
        "  * `list1.pop()` → returns `'Jane'`\n",
        "  * `list1.pop()` again → returns `'Luke'`\n",
        "  * `type(list1.pop())` → shows type of removed item\n",
        "  * `removed_item = list1.pop()` → stores removed item in a variable\n",
        "  * `removed_item` → shows removed item\n",
        "\n",
        "* `.insert(index, value)` – Inserts value at specified index\n",
        "  * `list1.insert(2, 3000)` → inserts 3000 at index 2\n",
        "\n",
        "* Example: final state of `list1` reflects all above operations"
      ],
      "metadata": {
        "id": "D-xQL9QyPfSa"
      }
    },
    {
      "cell_type": "code",
      "source": [
        "list1 = [2,17,18,19,20]"
      ],
      "metadata": {
        "id": "X3lW5_r0zJdI"
      },
      "execution_count": 136,
      "outputs": []
    },
    {
      "cell_type": "code",
      "source": [
        "list2 = ['John', 'Mark', 'Luke', 'Jane']"
      ],
      "metadata": {
        "id": "5JN3Pbo-zLvd"
      },
      "execution_count": 137,
      "outputs": []
    },
    {
      "cell_type": "code",
      "source": [
        "list3 = ['John', 17, 'Mark', 18, 'Luke', 19, 'Jane', 20]"
      ],
      "metadata": {
        "id": "oobcftDzzhYc"
      },
      "execution_count": 138,
      "outputs": []
    },
    {
      "cell_type": "code",
      "source": [
        "x = 'Hello'"
      ],
      "metadata": {
        "id": "bJI7J_qjztHf"
      },
      "execution_count": 139,
      "outputs": []
    },
    {
      "cell_type": "code",
      "source": [
        "x[3]"
      ],
      "metadata": {
        "colab": {
          "base_uri": "https://localhost:8080/",
          "height": 35
        },
        "id": "L4S1EaI0zvRE",
        "outputId": "70da6a3b-90f5-4b44-cd1d-e8d25abc2b3d"
      },
      "execution_count": 140,
      "outputs": [
        {
          "output_type": "execute_result",
          "data": {
            "text/plain": [
              "'l'"
            ],
            "application/vnd.google.colaboratory.intrinsic+json": {
              "type": "string"
            }
          },
          "metadata": {},
          "execution_count": 140
        }
      ]
    },
    {
      "cell_type": "code",
      "source": [
        "x[2:5]"
      ],
      "metadata": {
        "colab": {
          "base_uri": "https://localhost:8080/",
          "height": 35
        },
        "id": "HKl1Az-Rz4FY",
        "outputId": "111af1dc-36f8-4b33-cbc7-38e2ae4be44f"
      },
      "execution_count": 141,
      "outputs": [
        {
          "output_type": "execute_result",
          "data": {
            "text/plain": [
              "'llo'"
            ],
            "application/vnd.google.colaboratory.intrinsic+json": {
              "type": "string"
            }
          },
          "metadata": {},
          "execution_count": 141
        }
      ]
    },
    {
      "cell_type": "code",
      "source": [
        "list1"
      ],
      "metadata": {
        "colab": {
          "base_uri": "https://localhost:8080/"
        },
        "id": "Kwzyc9BZz-FF",
        "outputId": "880a9877-3b0a-460a-8253-9e175b15efbb"
      },
      "execution_count": 142,
      "outputs": [
        {
          "output_type": "execute_result",
          "data": {
            "text/plain": [
              "[2, 17, 18, 19, 20]"
            ]
          },
          "metadata": {},
          "execution_count": 142
        }
      ]
    },
    {
      "cell_type": "code",
      "source": [
        "list1[4]"
      ],
      "metadata": {
        "colab": {
          "base_uri": "https://localhost:8080/"
        },
        "id": "jMT28ruM0A9g",
        "outputId": "90b5d1d5-61f5-4156-d92a-d5f65cc6f5bc"
      },
      "execution_count": 143,
      "outputs": [
        {
          "output_type": "execute_result",
          "data": {
            "text/plain": [
              "20"
            ]
          },
          "metadata": {},
          "execution_count": 143
        }
      ]
    },
    {
      "cell_type": "code",
      "source": [
        "list1[-3]"
      ],
      "metadata": {
        "colab": {
          "base_uri": "https://localhost:8080/"
        },
        "id": "Gg2RuLqm0Fb9",
        "outputId": "1d4d01d8-5c3a-4273-a8b8-f55e441de773"
      },
      "execution_count": 144,
      "outputs": [
        {
          "output_type": "execute_result",
          "data": {
            "text/plain": [
              "18"
            ]
          },
          "metadata": {},
          "execution_count": 144
        }
      ]
    },
    {
      "cell_type": "code",
      "source": [
        "list1[2:5]"
      ],
      "metadata": {
        "colab": {
          "base_uri": "https://localhost:8080/"
        },
        "id": "A2KVyo-N0K0W",
        "outputId": "795dd440-2745-46f9-953a-7a7b670eca0c"
      },
      "execution_count": 145,
      "outputs": [
        {
          "output_type": "execute_result",
          "data": {
            "text/plain": [
              "[18, 19, 20]"
            ]
          },
          "metadata": {},
          "execution_count": 145
        }
      ]
    },
    {
      "cell_type": "code",
      "source": [
        "type(list1)"
      ],
      "metadata": {
        "colab": {
          "base_uri": "https://localhost:8080/"
        },
        "id": "HIX2JnsS0U2T",
        "outputId": "caae0072-e07a-4986-960f-6f81c3e984b5"
      },
      "execution_count": 146,
      "outputs": [
        {
          "output_type": "execute_result",
          "data": {
            "text/plain": [
              "list"
            ]
          },
          "metadata": {},
          "execution_count": 146
        }
      ]
    },
    {
      "cell_type": "code",
      "source": [
        "type(list1[4])"
      ],
      "metadata": {
        "colab": {
          "base_uri": "https://localhost:8080/"
        },
        "id": "emHUcGM20Xtm",
        "outputId": "716d80ad-6152-4a0c-d22b-2eb216f59796"
      },
      "execution_count": 147,
      "outputs": [
        {
          "output_type": "execute_result",
          "data": {
            "text/plain": [
              "int"
            ]
          },
          "metadata": {},
          "execution_count": 147
        }
      ]
    },
    {
      "cell_type": "code",
      "source": [
        "list4 = ['x','y',list3]"
      ],
      "metadata": {
        "id": "mdFVDUPJ0bO5"
      },
      "execution_count": 148,
      "outputs": []
    },
    {
      "cell_type": "code",
      "source": [
        "list4"
      ],
      "metadata": {
        "colab": {
          "base_uri": "https://localhost:8080/"
        },
        "id": "7QWs3L8J0rWY",
        "outputId": "460bac72-a926-438d-cdc7-62579727c8d8"
      },
      "execution_count": 149,
      "outputs": [
        {
          "output_type": "execute_result",
          "data": {
            "text/plain": [
              "['x', 'y', ['John', 17, 'Mark', 18, 'Luke', 19, 'Jane', 20]]"
            ]
          },
          "metadata": {},
          "execution_count": 149
        }
      ]
    },
    {
      "cell_type": "code",
      "source": [
        "list4[1]"
      ],
      "metadata": {
        "colab": {
          "base_uri": "https://localhost:8080/",
          "height": 35
        },
        "id": "AS6pdeZx0uBO",
        "outputId": "7a6b0cac-affa-42b7-ccf0-628c238ee0ef"
      },
      "execution_count": 150,
      "outputs": [
        {
          "output_type": "execute_result",
          "data": {
            "text/plain": [
              "'y'"
            ],
            "application/vnd.google.colaboratory.intrinsic+json": {
              "type": "string"
            }
          },
          "metadata": {},
          "execution_count": 150
        }
      ]
    },
    {
      "cell_type": "code",
      "source": [
        "list4[2]"
      ],
      "metadata": {
        "colab": {
          "base_uri": "https://localhost:8080/"
        },
        "id": "jeDABHPv02f6",
        "outputId": "c204f916-e926-4c94-96cc-1d7be1da8050"
      },
      "execution_count": 151,
      "outputs": [
        {
          "output_type": "execute_result",
          "data": {
            "text/plain": [
              "['John', 17, 'Mark', 18, 'Luke', 19, 'Jane', 20]"
            ]
          },
          "metadata": {},
          "execution_count": 151
        }
      ]
    },
    {
      "cell_type": "code",
      "source": [
        "list4[2][2]"
      ],
      "metadata": {
        "colab": {
          "base_uri": "https://localhost:8080/",
          "height": 35
        },
        "id": "uJ_1aOp005UK",
        "outputId": "514a031d-d970-4e69-d31a-b34fc1112faa"
      },
      "execution_count": 152,
      "outputs": [
        {
          "output_type": "execute_result",
          "data": {
            "text/plain": [
              "'Mark'"
            ],
            "application/vnd.google.colaboratory.intrinsic+json": {
              "type": "string"
            }
          },
          "metadata": {},
          "execution_count": 152
        }
      ]
    },
    {
      "cell_type": "code",
      "source": [
        "list4[2][3]"
      ],
      "metadata": {
        "colab": {
          "base_uri": "https://localhost:8080/"
        },
        "id": "FZ78uDu10-FJ",
        "outputId": "459f90d1-f917-4d3e-b408-f2b5697e9681"
      },
      "execution_count": 153,
      "outputs": [
        {
          "output_type": "execute_result",
          "data": {
            "text/plain": [
              "18"
            ]
          },
          "metadata": {},
          "execution_count": 153
        }
      ]
    },
    {
      "cell_type": "code",
      "source": [
        "element = list4[2]"
      ],
      "metadata": {
        "id": "B-tDEBHP1FVu"
      },
      "execution_count": 154,
      "outputs": []
    },
    {
      "cell_type": "code",
      "source": [
        "element"
      ],
      "metadata": {
        "colab": {
          "base_uri": "https://localhost:8080/"
        },
        "id": "Gqfr3jkN1Qem",
        "outputId": "05d04f2e-3227-4681-d940-6808cee423b1"
      },
      "execution_count": 155,
      "outputs": [
        {
          "output_type": "execute_result",
          "data": {
            "text/plain": [
              "['John', 17, 'Mark', 18, 'Luke', 19, 'Jane', 20]"
            ]
          },
          "metadata": {},
          "execution_count": 155
        }
      ]
    },
    {
      "cell_type": "code",
      "source": [
        "element[3]"
      ],
      "metadata": {
        "colab": {
          "base_uri": "https://localhost:8080/"
        },
        "id": "mBedUrgF1TQ0",
        "outputId": "54897b99-5a9d-414a-a13a-8b40445de5ed"
      },
      "execution_count": 156,
      "outputs": [
        {
          "output_type": "execute_result",
          "data": {
            "text/plain": [
              "18"
            ]
          },
          "metadata": {},
          "execution_count": 156
        }
      ]
    },
    {
      "cell_type": "code",
      "source": [
        "x"
      ],
      "metadata": {
        "colab": {
          "base_uri": "https://localhost:8080/",
          "height": 35
        },
        "id": "EGRdnJxK1ZrB",
        "outputId": "38d5859b-d33f-45b9-977f-a753cac95c8d"
      },
      "execution_count": 157,
      "outputs": [
        {
          "output_type": "execute_result",
          "data": {
            "text/plain": [
              "'Hello'"
            ],
            "application/vnd.google.colaboratory.intrinsic+json": {
              "type": "string"
            }
          },
          "metadata": {},
          "execution_count": 157
        }
      ]
    },
    {
      "cell_type": "code",
      "source": [
        "#x[0] = 'P'"
      ],
      "metadata": {
        "id": "0aKPRVC61upx"
      },
      "execution_count": 158,
      "outputs": []
    },
    {
      "cell_type": "code",
      "source": [
        "list1"
      ],
      "metadata": {
        "colab": {
          "base_uri": "https://localhost:8080/"
        },
        "id": "pzJPn95R12m5",
        "outputId": "f684d825-299e-4528-a6ab-e64d878d12ba"
      },
      "execution_count": 159,
      "outputs": [
        {
          "output_type": "execute_result",
          "data": {
            "text/plain": [
              "[2, 17, 18, 19, 20]"
            ]
          },
          "metadata": {},
          "execution_count": 159
        }
      ]
    },
    {
      "cell_type": "code",
      "source": [
        "list1[4] = 'HEY!'"
      ],
      "metadata": {
        "id": "IqNGKwmv14Ic"
      },
      "execution_count": 160,
      "outputs": []
    },
    {
      "cell_type": "code",
      "source": [
        "list1"
      ],
      "metadata": {
        "colab": {
          "base_uri": "https://localhost:8080/"
        },
        "id": "acKhc3iK1--8",
        "outputId": "a5ec45aa-4337-406a-d1b3-2ec84ef7e1d5"
      },
      "execution_count": 161,
      "outputs": [
        {
          "output_type": "execute_result",
          "data": {
            "text/plain": [
              "[2, 17, 18, 19, 'HEY!']"
            ]
          },
          "metadata": {},
          "execution_count": 161
        }
      ]
    },
    {
      "cell_type": "code",
      "source": [
        "list1.append('HOLA!')"
      ],
      "metadata": {
        "id": "6qev4Hr92Ewf"
      },
      "execution_count": 162,
      "outputs": []
    },
    {
      "cell_type": "code",
      "source": [
        "list1"
      ],
      "metadata": {
        "colab": {
          "base_uri": "https://localhost:8080/"
        },
        "id": "M1tyCVoi2O3x",
        "outputId": "1c969038-d625-4d4b-fe66-88294833c7b0"
      },
      "execution_count": 163,
      "outputs": [
        {
          "output_type": "execute_result",
          "data": {
            "text/plain": [
              "[2, 17, 18, 19, 'HEY!', 'HOLA!']"
            ]
          },
          "metadata": {},
          "execution_count": 163
        }
      ]
    },
    {
      "cell_type": "code",
      "source": [
        "list2"
      ],
      "metadata": {
        "colab": {
          "base_uri": "https://localhost:8080/"
        },
        "id": "v8SB3uVo2Qm1",
        "outputId": "138126ef-8d1a-426e-efbb-f4a0e6500d74"
      },
      "execution_count": 164,
      "outputs": [
        {
          "output_type": "execute_result",
          "data": {
            "text/plain": [
              "['John', 'Mark', 'Luke', 'Jane']"
            ]
          },
          "metadata": {},
          "execution_count": 164
        }
      ]
    },
    {
      "cell_type": "code",
      "source": [
        "list1.append(list2)"
      ],
      "metadata": {
        "id": "49cPkB6_2Wfr"
      },
      "execution_count": 165,
      "outputs": []
    },
    {
      "cell_type": "code",
      "source": [
        "list1"
      ],
      "metadata": {
        "colab": {
          "base_uri": "https://localhost:8080/"
        },
        "id": "0ikoav4d2dFh",
        "outputId": "988d8de0-2fb3-4fd3-dab1-337e01072369"
      },
      "execution_count": 166,
      "outputs": [
        {
          "output_type": "execute_result",
          "data": {
            "text/plain": [
              "[2, 17, 18, 19, 'HEY!', 'HOLA!', ['John', 'Mark', 'Luke', 'Jane']]"
            ]
          },
          "metadata": {},
          "execution_count": 166
        }
      ]
    },
    {
      "cell_type": "code",
      "source": [
        "list2"
      ],
      "metadata": {
        "colab": {
          "base_uri": "https://localhost:8080/"
        },
        "id": "FoUkZOvu2esz",
        "outputId": "abb9d963-7389-4871-cbc2-5005298508e7"
      },
      "execution_count": 167,
      "outputs": [
        {
          "output_type": "execute_result",
          "data": {
            "text/plain": [
              "['John', 'Mark', 'Luke', 'Jane']"
            ]
          },
          "metadata": {},
          "execution_count": 167
        }
      ]
    },
    {
      "cell_type": "code",
      "source": [
        "list1.extend(list2)"
      ],
      "metadata": {
        "id": "afVOUkur2h12"
      },
      "execution_count": 168,
      "outputs": []
    },
    {
      "cell_type": "code",
      "source": [
        "list1"
      ],
      "metadata": {
        "colab": {
          "base_uri": "https://localhost:8080/"
        },
        "id": "fDOPfCDh2lZw",
        "outputId": "b5306ac7-e606-4eaa-b907-3f498771e30b"
      },
      "execution_count": 169,
      "outputs": [
        {
          "output_type": "execute_result",
          "data": {
            "text/plain": [
              "[2,\n",
              " 17,\n",
              " 18,\n",
              " 19,\n",
              " 'HEY!',\n",
              " 'HOLA!',\n",
              " ['John', 'Mark', 'Luke', 'Jane'],\n",
              " 'John',\n",
              " 'Mark',\n",
              " 'Luke',\n",
              " 'Jane']"
            ]
          },
          "metadata": {},
          "execution_count": 169
        }
      ]
    },
    {
      "cell_type": "code",
      "source": [
        "list1.remove(19)"
      ],
      "metadata": {
        "id": "vx8XtCg52rx9"
      },
      "execution_count": 170,
      "outputs": []
    },
    {
      "cell_type": "code",
      "source": [
        "list1"
      ],
      "metadata": {
        "colab": {
          "base_uri": "https://localhost:8080/"
        },
        "id": "aUfoAVoe2uze",
        "outputId": "0b1e46bd-f473-44c1-e655-e2dae2ffcc8a"
      },
      "execution_count": 171,
      "outputs": [
        {
          "output_type": "execute_result",
          "data": {
            "text/plain": [
              "[2,\n",
              " 17,\n",
              " 18,\n",
              " 'HEY!',\n",
              " 'HOLA!',\n",
              " ['John', 'Mark', 'Luke', 'Jane'],\n",
              " 'John',\n",
              " 'Mark',\n",
              " 'Luke',\n",
              " 'Jane']"
            ]
          },
          "metadata": {},
          "execution_count": 171
        }
      ]
    },
    {
      "cell_type": "code",
      "source": [
        "list1.remove(['John', 'Mark', 'Luke', 'Jane'])"
      ],
      "metadata": {
        "id": "_aPJci2U2xL9"
      },
      "execution_count": 172,
      "outputs": []
    },
    {
      "cell_type": "code",
      "source": [
        "list1"
      ],
      "metadata": {
        "colab": {
          "base_uri": "https://localhost:8080/"
        },
        "id": "OASB8NBl29rp",
        "outputId": "51639b8d-e98e-4d8e-c131-37a1e9374715"
      },
      "execution_count": 173,
      "outputs": [
        {
          "output_type": "execute_result",
          "data": {
            "text/plain": [
              "[2, 17, 18, 'HEY!', 'HOLA!', 'John', 'Mark', 'Luke', 'Jane']"
            ]
          },
          "metadata": {},
          "execution_count": 173
        }
      ]
    },
    {
      "cell_type": "code",
      "source": [
        " list1.pop()"
      ],
      "metadata": {
        "colab": {
          "base_uri": "https://localhost:8080/",
          "height": 35
        },
        "id": "SzkiWIW_2-3n",
        "outputId": "528b37ce-fd15-4777-a68f-bbcec8c4b0e4"
      },
      "execution_count": 174,
      "outputs": [
        {
          "output_type": "execute_result",
          "data": {
            "text/plain": [
              "'Jane'"
            ],
            "application/vnd.google.colaboratory.intrinsic+json": {
              "type": "string"
            }
          },
          "metadata": {},
          "execution_count": 174
        }
      ]
    },
    {
      "cell_type": "code",
      "source": [
        "list1.pop()"
      ],
      "metadata": {
        "colab": {
          "base_uri": "https://localhost:8080/",
          "height": 35
        },
        "id": "4FG0in0U3HDs",
        "outputId": "34a6689b-e905-421a-e8c0-ff48ce449c7e"
      },
      "execution_count": 175,
      "outputs": [
        {
          "output_type": "execute_result",
          "data": {
            "text/plain": [
              "'Luke'"
            ],
            "application/vnd.google.colaboratory.intrinsic+json": {
              "type": "string"
            }
          },
          "metadata": {},
          "execution_count": 175
        }
      ]
    },
    {
      "cell_type": "code",
      "source": [
        "list1"
      ],
      "metadata": {
        "colab": {
          "base_uri": "https://localhost:8080/"
        },
        "id": "6Xhk22H13JJ-",
        "outputId": "e175c8de-72b6-43ec-ad20-d7a3c39678cd"
      },
      "execution_count": 176,
      "outputs": [
        {
          "output_type": "execute_result",
          "data": {
            "text/plain": [
              "[2, 17, 18, 'HEY!', 'HOLA!', 'John', 'Mark']"
            ]
          },
          "metadata": {},
          "execution_count": 176
        }
      ]
    },
    {
      "cell_type": "code",
      "source": [
        "type(list1.remove('HOLA!'))"
      ],
      "metadata": {
        "colab": {
          "base_uri": "https://localhost:8080/"
        },
        "id": "q3FWLmB13SAH",
        "outputId": "114bcd08-eaad-4e85-aac9-0b6007fc7e17"
      },
      "execution_count": 177,
      "outputs": [
        {
          "output_type": "execute_result",
          "data": {
            "text/plain": [
              "NoneType"
            ]
          },
          "metadata": {},
          "execution_count": 177
        }
      ]
    },
    {
      "cell_type": "code",
      "source": [
        "type(list1.pop())"
      ],
      "metadata": {
        "colab": {
          "base_uri": "https://localhost:8080/"
        },
        "id": "slKu9ZGH3gU9",
        "outputId": "edf38f38-8935-4bea-8f48-21bacd8df327"
      },
      "execution_count": 178,
      "outputs": [
        {
          "output_type": "execute_result",
          "data": {
            "text/plain": [
              "str"
            ]
          },
          "metadata": {},
          "execution_count": 178
        }
      ]
    },
    {
      "cell_type": "code",
      "source": [
        "removed_item = list1.pop()"
      ],
      "metadata": {
        "id": "rlpUj65c3jlL"
      },
      "execution_count": 179,
      "outputs": []
    },
    {
      "cell_type": "code",
      "source": [
        "removed_item"
      ],
      "metadata": {
        "colab": {
          "base_uri": "https://localhost:8080/",
          "height": 35
        },
        "id": "KCwV9-3G3rK_",
        "outputId": "6f717012-f64d-4bba-d565-7dba02d44a37"
      },
      "execution_count": 180,
      "outputs": [
        {
          "output_type": "execute_result",
          "data": {
            "text/plain": [
              "'John'"
            ],
            "application/vnd.google.colaboratory.intrinsic+json": {
              "type": "string"
            }
          },
          "metadata": {},
          "execution_count": 180
        }
      ]
    },
    {
      "cell_type": "code",
      "source": [
        "list1.insert(2,3000)"
      ],
      "metadata": {
        "id": "OkjcOC9b3zbV"
      },
      "execution_count": 181,
      "outputs": []
    },
    {
      "cell_type": "code",
      "source": [
        "list1"
      ],
      "metadata": {
        "colab": {
          "base_uri": "https://localhost:8080/"
        },
        "id": "Wr4BWKy736rU",
        "outputId": "8b44a725-13a3-4ea2-9f19-2a4b4e114cdb"
      },
      "execution_count": 182,
      "outputs": [
        {
          "output_type": "execute_result",
          "data": {
            "text/plain": [
              "[2, 17, 3000, 18, 'HEY!']"
            ]
          },
          "metadata": {},
          "execution_count": 182
        }
      ]
    },
    {
      "cell_type": "markdown",
      "source": [
        "## Python Notes – Dictionaries\n",
        "\n",
        "### What is a Dictionary?\n",
        "\n",
        "* Stores data in **key-value pairs**, separated by a colon `:`\n",
        "* Enclosed in **curly braces `{}`**\n",
        "* Keys must be unique and immutable (strings, numbers, tuples)\n",
        "* Values can be any data type (strings, lists, dictionaries)\n",
        "* Dictionaries are **ordered** (since Python 3.7), **mutable**, and **do not allow duplicates**\n",
        "\n",
        "### Creating a Dictionary\n",
        "\n",
        "* `dict1 = {'brand': 'Ford', 'cost': 25000}`\n",
        "* Access a value:\n",
        "  * `dict1['brand']` → `'Ford'`\n",
        "\n",
        "### Modifying Dictionary\n",
        "\n",
        "* Update a value:\n",
        "  * `dict1['brand'] = 'Audi'`\n",
        "* Add a new key-value pair:\n",
        "  * `dict1['transmission'] = 'Manual'`\n",
        "\n",
        "### Embedded Dictionary\n",
        "\n",
        "* Add a nested dictionary:\n",
        "  * `dict1['other_attributes'] = {'color': 'Black', 'year': 2021}`\n",
        "* Access nested value:\n",
        "  * `dict1['other_attributes']['year']` → `2021`\n",
        "\n",
        "### Dictionary with List as Value\n",
        "\n",
        "* Add a list as value:\n",
        "  * `dict1['previous_owners'] = ['Mike', 'Shelley', 'Richard']`\n",
        "* Access list:\n",
        "  * `x = dict1['previous_owners']`\n",
        "  * `x[1]` → `'Shelley'`\n",
        "  * Or directly: `dict1['previous_owners'][1]` → `'Shelley'`\n",
        "\n",
        "### Dictionary Methods\n",
        "\n",
        "* `.pop(key)` – Removes key and returns its value\n",
        "  * `dict1.pop('previous_owners')`\n",
        "* `.items()` – Returns all key-value pairs as tuples\n",
        "  * `dict1.items()`\n",
        "* `.keys()` – Returns list of all keys\n",
        "  * `dict1.keys()`\n",
        "* `.values()` – Returns list of all values\n",
        "  * `dict1.values()`\n",
        "\n",
        "### Summary\n",
        "\n",
        "* Use square brackets to access, add, or update values\n",
        "* Dictionaries can store:\n",
        "  * Strings, numbers\n",
        "  * Lists (e.g., previous owners)\n",
        "  * Other dictionaries (e.g., other attributes)\n",
        "* Use built-in methods to manage or inspect contents"
      ],
      "metadata": {
        "id": "MeQa7IOvBJQC"
      }
    },
    {
      "cell_type": "code",
      "source": [
        "dict1 = {'brand': 'Ford', 'model': 'Mustang', 'year': 1964}"
      ],
      "metadata": {
        "id": "kVeYO9WeBJ6f"
      },
      "execution_count": 183,
      "outputs": []
    },
    {
      "cell_type": "code",
      "source": [
        "dict1['brand']"
      ],
      "metadata": {
        "colab": {
          "base_uri": "https://localhost:8080/",
          "height": 35
        },
        "id": "Ciwgqe9qCyS-",
        "outputId": "76a528e2-464b-4c2e-fb65-e63f47b0ba22"
      },
      "execution_count": 184,
      "outputs": [
        {
          "output_type": "execute_result",
          "data": {
            "text/plain": [
              "'Ford'"
            ],
            "application/vnd.google.colaboratory.intrinsic+json": {
              "type": "string"
            }
          },
          "metadata": {},
          "execution_count": 184
        }
      ]
    },
    {
      "cell_type": "code",
      "source": [
        "dict1['brand'] = 'BMW'"
      ],
      "metadata": {
        "id": "I-qbj8G2C2Eo"
      },
      "execution_count": 185,
      "outputs": []
    },
    {
      "cell_type": "code",
      "source": [
        "dict1['model'] = 'M8'"
      ],
      "metadata": {
        "id": "HH-uFDusDRMz"
      },
      "execution_count": 186,
      "outputs": []
    },
    {
      "cell_type": "code",
      "source": [
        "dict1"
      ],
      "metadata": {
        "colab": {
          "base_uri": "https://localhost:8080/"
        },
        "id": "jzyvTUGNDYC0",
        "outputId": "6287ddde-7e0b-4952-90f5-aeb406c9aa80"
      },
      "execution_count": 187,
      "outputs": [
        {
          "output_type": "execute_result",
          "data": {
            "text/plain": [
              "{'brand': 'BMW', 'model': 'M8', 'year': 1964}"
            ]
          },
          "metadata": {},
          "execution_count": 187
        }
      ]
    },
    {
      "cell_type": "code",
      "source": [
        "dict1['transmission'] = 'Manual'"
      ],
      "metadata": {
        "id": "ajkT2VudDZs6"
      },
      "execution_count": 188,
      "outputs": []
    },
    {
      "cell_type": "code",
      "source": [
        "dict1"
      ],
      "metadata": {
        "colab": {
          "base_uri": "https://localhost:8080/"
        },
        "id": "5T9ZkQuEDszu",
        "outputId": "0c486bd3-7b92-4757-8ad7-1bb319afbe53"
      },
      "execution_count": 189,
      "outputs": [
        {
          "output_type": "execute_result",
          "data": {
            "text/plain": [
              "{'brand': 'BMW', 'model': 'M8', 'year': 1964, 'transmission': 'Manual'}"
            ]
          },
          "metadata": {},
          "execution_count": 189
        }
      ]
    },
    {
      "cell_type": "code",
      "source": [
        "dict1['other_attributes'] = {'color': 'red', 'price': 20000}"
      ],
      "metadata": {
        "id": "yc5UZ--HDutO"
      },
      "execution_count": 190,
      "outputs": []
    },
    {
      "cell_type": "code",
      "source": [
        "dict1"
      ],
      "metadata": {
        "colab": {
          "base_uri": "https://localhost:8080/"
        },
        "id": "dDDvuXHyD4Jh",
        "outputId": "4bf45c26-1a43-4456-e0f1-61f39c0b8d78"
      },
      "execution_count": 191,
      "outputs": [
        {
          "output_type": "execute_result",
          "data": {
            "text/plain": [
              "{'brand': 'BMW',\n",
              " 'model': 'M8',\n",
              " 'year': 1964,\n",
              " 'transmission': 'Manual',\n",
              " 'other_attributes': {'color': 'red', 'price': 20000}}"
            ]
          },
          "metadata": {},
          "execution_count": 191
        }
      ]
    },
    {
      "cell_type": "code",
      "source": [
        "dict1['other_attributes']"
      ],
      "metadata": {
        "colab": {
          "base_uri": "https://localhost:8080/"
        },
        "id": "I8ESInxWEBG7",
        "outputId": "370c1075-a6e5-4de1-b19f-d90cc235a6e3"
      },
      "execution_count": 192,
      "outputs": [
        {
          "output_type": "execute_result",
          "data": {
            "text/plain": [
              "{'color': 'red', 'price': 20000}"
            ]
          },
          "metadata": {},
          "execution_count": 192
        }
      ]
    },
    {
      "cell_type": "code",
      "source": [
        "dict1['other_attributes']['color']"
      ],
      "metadata": {
        "colab": {
          "base_uri": "https://localhost:8080/",
          "height": 35
        },
        "id": "30vBfL0xED5Q",
        "outputId": "8e2fe962-15cc-4708-c9e4-1441df429d5f"
      },
      "execution_count": 193,
      "outputs": [
        {
          "output_type": "execute_result",
          "data": {
            "text/plain": [
              "'red'"
            ],
            "application/vnd.google.colaboratory.intrinsic+json": {
              "type": "string"
            }
          },
          "metadata": {},
          "execution_count": 193
        }
      ]
    },
    {
      "cell_type": "code",
      "source": [
        "dict1['previous_owners'] = ['Mike','John','Pam']"
      ],
      "metadata": {
        "id": "Z5NWedpMEKIJ"
      },
      "execution_count": 194,
      "outputs": []
    },
    {
      "cell_type": "code",
      "source": [
        "dict1['previous_owners']"
      ],
      "metadata": {
        "colab": {
          "base_uri": "https://localhost:8080/"
        },
        "id": "WEKeH-QZEfy9",
        "outputId": "7aaa7cf8-001b-46ad-bc9c-42a1203af27a"
      },
      "execution_count": 195,
      "outputs": [
        {
          "output_type": "execute_result",
          "data": {
            "text/plain": [
              "['Mike', 'John', 'Pam']"
            ]
          },
          "metadata": {},
          "execution_count": 195
        }
      ]
    },
    {
      "cell_type": "code",
      "source": [
        "x = dict1['previous_owners']"
      ],
      "metadata": {
        "id": "Z9FkPFfpEilm"
      },
      "execution_count": 196,
      "outputs": []
    },
    {
      "cell_type": "code",
      "source": [
        "x[1]"
      ],
      "metadata": {
        "colab": {
          "base_uri": "https://localhost:8080/",
          "height": 35
        },
        "id": "euL0aKdaEmDN",
        "outputId": "8de28214-a7f8-4264-97bd-e90055d94deb"
      },
      "execution_count": 197,
      "outputs": [
        {
          "output_type": "execute_result",
          "data": {
            "text/plain": [
              "'John'"
            ],
            "application/vnd.google.colaboratory.intrinsic+json": {
              "type": "string"
            }
          },
          "metadata": {},
          "execution_count": 197
        }
      ]
    },
    {
      "cell_type": "code",
      "source": [
        "dict1['previous_owners'][2]"
      ],
      "metadata": {
        "colab": {
          "base_uri": "https://localhost:8080/",
          "height": 35
        },
        "id": "eCfy9DACEnv1",
        "outputId": "5f65933f-c8ca-425a-974c-a3c7a4de7758"
      },
      "execution_count": 198,
      "outputs": [
        {
          "output_type": "execute_result",
          "data": {
            "text/plain": [
              "'Pam'"
            ],
            "application/vnd.google.colaboratory.intrinsic+json": {
              "type": "string"
            }
          },
          "metadata": {},
          "execution_count": 198
        }
      ]
    },
    {
      "cell_type": "code",
      "source": [
        "dict1.pop('previous_owners')"
      ],
      "metadata": {
        "colab": {
          "base_uri": "https://localhost:8080/"
        },
        "id": "8UyPQ657Exk5",
        "outputId": "3d1b682b-f926-46c3-d78a-1467ca563552"
      },
      "execution_count": 199,
      "outputs": [
        {
          "output_type": "execute_result",
          "data": {
            "text/plain": [
              "['Mike', 'John', 'Pam']"
            ]
          },
          "metadata": {},
          "execution_count": 199
        }
      ]
    },
    {
      "cell_type": "code",
      "source": [
        "dict1"
      ],
      "metadata": {
        "colab": {
          "base_uri": "https://localhost:8080/"
        },
        "id": "vI_MI1m3E6pa",
        "outputId": "031d0552-d85d-4f8f-d80f-af4c95573308"
      },
      "execution_count": 200,
      "outputs": [
        {
          "output_type": "execute_result",
          "data": {
            "text/plain": [
              "{'brand': 'BMW',\n",
              " 'model': 'M8',\n",
              " 'year': 1964,\n",
              " 'transmission': 'Manual',\n",
              " 'other_attributes': {'color': 'red', 'price': 20000}}"
            ]
          },
          "metadata": {},
          "execution_count": 200
        }
      ]
    },
    {
      "cell_type": "code",
      "source": [
        "dict1.items()"
      ],
      "metadata": {
        "colab": {
          "base_uri": "https://localhost:8080/"
        },
        "id": "EzjDZaLJE8i6",
        "outputId": "95cf193d-097d-42bd-97c3-55bb473b5771"
      },
      "execution_count": 201,
      "outputs": [
        {
          "output_type": "execute_result",
          "data": {
            "text/plain": [
              "dict_items([('brand', 'BMW'), ('model', 'M8'), ('year', 1964), ('transmission', 'Manual'), ('other_attributes', {'color': 'red', 'price': 20000})])"
            ]
          },
          "metadata": {},
          "execution_count": 201
        }
      ]
    },
    {
      "cell_type": "code",
      "source": [
        "dict1.keys()"
      ],
      "metadata": {
        "colab": {
          "base_uri": "https://localhost:8080/"
        },
        "id": "ARSmrdmyFMPw",
        "outputId": "da5431a9-b7f4-4eb9-e5f6-5329e664c1f6"
      },
      "execution_count": 202,
      "outputs": [
        {
          "output_type": "execute_result",
          "data": {
            "text/plain": [
              "dict_keys(['brand', 'model', 'year', 'transmission', 'other_attributes'])"
            ]
          },
          "metadata": {},
          "execution_count": 202
        }
      ]
    },
    {
      "cell_type": "code",
      "source": [
        "dict1.values()"
      ],
      "metadata": {
        "colab": {
          "base_uri": "https://localhost:8080/"
        },
        "id": "pwkqGvDAFQDz",
        "outputId": "739f8cd9-c5bc-492a-9f33-6cf5909ce9c3"
      },
      "execution_count": 203,
      "outputs": [
        {
          "output_type": "execute_result",
          "data": {
            "text/plain": [
              "dict_values(['BMW', 'M8', 1964, 'Manual', {'color': 'red', 'price': 20000}])"
            ]
          },
          "metadata": {},
          "execution_count": 203
        }
      ]
    },
    {
      "cell_type": "markdown",
      "source": [
        "## Python Notes – Tuples\n",
        "\n",
        "### What is a Tuple?\n",
        "\n",
        "* Tuples are ordered, immutable sequences of elements.\n",
        "* Enclosed in **round brackets `()`**\n",
        "* Allow duplicate values\n",
        "* Can store multiple data types (e.g., int, str, list, dict)\n",
        "\n",
        "* Example:\n",
        "  * `x = (1, \"apple\", [10, 20], {\"brand\": \"Nike\"})`\n",
        "  * `type(x)` → `<class 'tuple'>`\n",
        "\n",
        "### Tuple Indexing & Slicing\n",
        "\n",
        "* You can use indexing and slicing like lists:\n",
        "  * `x[0]` → returns first element\n",
        "\n",
        "### Tuple Immutability\n",
        "\n",
        "* Cannot change values once assigned:\n",
        "  * `x[0] = 2` → Error: `'tuple' object does not support item assignment`\n",
        "\n",
        "### Tuple Methods\n",
        "\n",
        "* `.count(value)` – Counts number of times value appears\n",
        "  * `x = (1, 1, 1, 2, 3)`\n",
        "  * `x.count(1)` → `3`\n",
        "* `.index(value)` – Returns index of first occurrence\n",
        "  * `x.index(3)` → `4`"
      ],
      "metadata": {
        "id": "dNMFkQq6Fyax"
      }
    },
    {
      "cell_type": "code",
      "source": [
        " x = (1,2,3,4,4)"
      ],
      "metadata": {
        "id": "0--TPslEFzCp"
      },
      "execution_count": 213,
      "outputs": []
    },
    {
      "cell_type": "code",
      "source": [
        "x"
      ],
      "metadata": {
        "colab": {
          "base_uri": "https://localhost:8080/"
        },
        "id": "tVqpPJDaHjOc",
        "outputId": "f95a8a7f-97b5-4fe5-f6fb-ebb31e51a910"
      },
      "execution_count": 214,
      "outputs": [
        {
          "output_type": "execute_result",
          "data": {
            "text/plain": [
              "(1, 2, 3, 4, 4)"
            ]
          },
          "metadata": {},
          "execution_count": 214
        }
      ]
    },
    {
      "cell_type": "code",
      "source": [
        "type(x)"
      ],
      "metadata": {
        "colab": {
          "base_uri": "https://localhost:8080/"
        },
        "id": "LFz8dq0qHo5L",
        "outputId": "f79604b3-f37c-4000-dbf1-52724523734e"
      },
      "execution_count": 215,
      "outputs": [
        {
          "output_type": "execute_result",
          "data": {
            "text/plain": [
              "tuple"
            ]
          },
          "metadata": {},
          "execution_count": 215
        }
      ]
    },
    {
      "cell_type": "code",
      "source": [
        "x = (1,'John', [1,2,3,4], {'key1','value1'})"
      ],
      "metadata": {
        "id": "Q8AVqPXzHtlP"
      },
      "execution_count": 216,
      "outputs": []
    },
    {
      "cell_type": "code",
      "source": [
        "x"
      ],
      "metadata": {
        "colab": {
          "base_uri": "https://localhost:8080/"
        },
        "id": "b6PDTJ83IDm7",
        "outputId": "88e37f01-418e-4a8c-b7e0-e7de86b0c0ee"
      },
      "execution_count": 217,
      "outputs": [
        {
          "output_type": "execute_result",
          "data": {
            "text/plain": [
              "(1, 'John', [1, 2, 3, 4], {'key1', 'value1'})"
            ]
          },
          "metadata": {},
          "execution_count": 217
        }
      ]
    },
    {
      "cell_type": "code",
      "source": [
        "type(x)"
      ],
      "metadata": {
        "colab": {
          "base_uri": "https://localhost:8080/"
        },
        "id": "AGeLXfEsIElQ",
        "outputId": "7847865e-da29-4d3b-a7bb-072a07dec15e"
      },
      "execution_count": 218,
      "outputs": [
        {
          "output_type": "execute_result",
          "data": {
            "text/plain": [
              "tuple"
            ]
          },
          "metadata": {},
          "execution_count": 218
        }
      ]
    },
    {
      "cell_type": "code",
      "source": [
        "x[2]"
      ],
      "metadata": {
        "colab": {
          "base_uri": "https://localhost:8080/"
        },
        "id": "boJkDlSMIGYt",
        "outputId": "e218d4ff-ec6e-4093-9ceb-b08102938dc5"
      },
      "execution_count": 219,
      "outputs": [
        {
          "output_type": "execute_result",
          "data": {
            "text/plain": [
              "[1, 2, 3, 4]"
            ]
          },
          "metadata": {},
          "execution_count": 219
        }
      ]
    },
    {
      "cell_type": "code",
      "source": [
        "#x[0] = 2"
      ],
      "metadata": {
        "id": "enq_svaSILtp"
      },
      "execution_count": 220,
      "outputs": []
    },
    {
      "cell_type": "code",
      "source": [
        "y = (1,2,1,3,2,1,4,5,4,6)"
      ],
      "metadata": {
        "id": "bjY41pYXIPnZ"
      },
      "execution_count": 221,
      "outputs": []
    },
    {
      "cell_type": "code",
      "source": [
        "y"
      ],
      "metadata": {
        "colab": {
          "base_uri": "https://localhost:8080/"
        },
        "id": "GbKxozAiIZJH",
        "outputId": "ec18e95d-84dd-4fb7-a5ce-abf0972a58b1"
      },
      "execution_count": 222,
      "outputs": [
        {
          "output_type": "execute_result",
          "data": {
            "text/plain": [
              "(1, 2, 1, 3, 2, 1, 4, 5, 4, 6)"
            ]
          },
          "metadata": {},
          "execution_count": 222
        }
      ]
    },
    {
      "cell_type": "code",
      "source": [
        "y.count(1)"
      ],
      "metadata": {
        "colab": {
          "base_uri": "https://localhost:8080/"
        },
        "id": "e6pzwfu6IaMf",
        "outputId": "2f8c17c8-5fbf-441d-ca7e-c009993a10e8"
      },
      "execution_count": 223,
      "outputs": [
        {
          "output_type": "execute_result",
          "data": {
            "text/plain": [
              "3"
            ]
          },
          "metadata": {},
          "execution_count": 223
        }
      ]
    },
    {
      "cell_type": "code",
      "source": [
        "y.index(1)"
      ],
      "metadata": {
        "colab": {
          "base_uri": "https://localhost:8080/"
        },
        "id": "jz7_sYyBIfKy",
        "outputId": "415bc8d1-d6c5-44fc-8ea5-efc163f68c56"
      },
      "execution_count": 224,
      "outputs": [
        {
          "output_type": "execute_result",
          "data": {
            "text/plain": [
              "0"
            ]
          },
          "metadata": {},
          "execution_count": 224
        }
      ]
    },
    {
      "cell_type": "code",
      "source": [
        "#y.index(4)"
      ],
      "metadata": {
        "id": "Uybx7dvjIjTm"
      },
      "execution_count": 225,
      "outputs": []
    },
    {
      "cell_type": "markdown",
      "source": [
        "## Python Notes – Sets\n",
        "\n",
        "### What is a Set?\n",
        "\n",
        "* Sets are **unordered, mutable** collections of **unique elements**\n",
        "* Enclosed in **curly braces `{}`**\n",
        "* Cannot contain duplicates\n",
        "* Do not support indexing or slicing\n",
        "\n",
        "* Example:\n",
        "  * `x = {1, 2, 3}`\n",
        "  * `type(x)` → `<class 'set'>`\n",
        "\n",
        "### Creating a Set\n",
        "\n",
        "* Non-empty: `x = {1, 2, 3}`\n",
        "* Empty: `x = set()`  \n",
        "  * Note: `{}` creates a dictionary, not a set\n",
        "\n",
        "### Set Operations\n",
        "\n",
        "* `.add(value)` – Adds value to set\n",
        "  * `x.add(5)`\n",
        "  * Adding `5` again has no effect\n",
        "\n",
        "* Converting list to set removes duplicates:\n",
        "  * `list1 = [1, 2, 2, 3]`\n",
        "  * `set1 = set(list1)` → `{1, 2, 3}`\n",
        "\n",
        "### Set Methods\n",
        "\n",
        "* `.intersection(other_set)` – Returns common elements\n",
        "  * `x = {1, 2, 3, 4}`\n",
        "  * `y = {3, 4, 5, 6}`\n",
        "  * `x.intersection(y)` → `{3, 4}`\n",
        "\n",
        "* `.pop()` – Removes and returns a random element\n",
        "\n",
        "### Notes\n",
        "\n",
        "* Lists and tuples do not support intersection\n",
        "  * Convert them to sets first: `set(list1).intersection(set(list2))`\n",
        "* Sets are useful for filtering unique values and set-based operations"
      ],
      "metadata": {
        "id": "HX9zZ3DbOcHH"
      }
    },
    {
      "cell_type": "code",
      "source": [
        " p = {1,3,2,4}"
      ],
      "metadata": {
        "id": "MlzGwMplInEu"
      },
      "execution_count": 243,
      "outputs": []
    },
    {
      "cell_type": "code",
      "source": [
        "p"
      ],
      "metadata": {
        "colab": {
          "base_uri": "https://localhost:8080/"
        },
        "id": "eR8Ca_3zKHqj",
        "outputId": "0e6d1513-2395-481e-94f6-4330b8fc46d2"
      },
      "execution_count": 244,
      "outputs": [
        {
          "output_type": "execute_result",
          "data": {
            "text/plain": [
              "{1, 2, 3, 4}"
            ]
          },
          "metadata": {},
          "execution_count": 244
        }
      ]
    },
    {
      "cell_type": "code",
      "source": [
        "type(p)"
      ],
      "metadata": {
        "colab": {
          "base_uri": "https://localhost:8080/"
        },
        "id": "SgYz05mHKSJR",
        "outputId": "478780b9-7c1b-48cf-8a9a-300cb95b2db3"
      },
      "execution_count": 245,
      "outputs": [
        {
          "output_type": "execute_result",
          "data": {
            "text/plain": [
              "set"
            ]
          },
          "metadata": {},
          "execution_count": 245
        }
      ]
    },
    {
      "cell_type": "code",
      "source": [
        "x=set()"
      ],
      "metadata": {
        "id": "VJZ3_tR7KVyL"
      },
      "execution_count": 246,
      "outputs": []
    },
    {
      "cell_type": "code",
      "source": [
        "type(x)"
      ],
      "metadata": {
        "colab": {
          "base_uri": "https://localhost:8080/"
        },
        "id": "3-DMCKaoKaCN",
        "outputId": "948c5489-89e4-4ab8-fc74-2880f56201f3"
      },
      "execution_count": 247,
      "outputs": [
        {
          "output_type": "execute_result",
          "data": {
            "text/plain": [
              "set"
            ]
          },
          "metadata": {},
          "execution_count": 247
        }
      ]
    },
    {
      "cell_type": "code",
      "source": [
        "x={}"
      ],
      "metadata": {
        "id": "FxqyeG33Kbq4"
      },
      "execution_count": 248,
      "outputs": []
    },
    {
      "cell_type": "code",
      "source": [
        "type(x)"
      ],
      "metadata": {
        "colab": {
          "base_uri": "https://localhost:8080/"
        },
        "id": "WAKpmcj0KgU2",
        "outputId": "a352ff99-c999-476b-ec00-a06393ddbf22"
      },
      "execution_count": 249,
      "outputs": [
        {
          "output_type": "execute_result",
          "data": {
            "text/plain": [
              "dict"
            ]
          },
          "metadata": {},
          "execution_count": 249
        }
      ]
    },
    {
      "cell_type": "code",
      "source": [
        "x = {2,3,'John'}"
      ],
      "metadata": {
        "id": "gwEdxTiwKiEx"
      },
      "execution_count": 250,
      "outputs": []
    },
    {
      "cell_type": "code",
      "source": [
        "x"
      ],
      "metadata": {
        "colab": {
          "base_uri": "https://localhost:8080/"
        },
        "id": "3jjWNZcfKo13",
        "outputId": "d60525db-078e-4112-e2c3-02b289062e6f"
      },
      "execution_count": 251,
      "outputs": [
        {
          "output_type": "execute_result",
          "data": {
            "text/plain": [
              "{2, 3, 'John'}"
            ]
          },
          "metadata": {},
          "execution_count": 251
        }
      ]
    },
    {
      "cell_type": "code",
      "source": [
        "type(x)"
      ],
      "metadata": {
        "colab": {
          "base_uri": "https://localhost:8080/"
        },
        "id": "W71JPMDPKriQ",
        "outputId": "008532da-7252-440d-81fe-137267ddd565"
      },
      "execution_count": 252,
      "outputs": [
        {
          "output_type": "execute_result",
          "data": {
            "text/plain": [
              "set"
            ]
          },
          "metadata": {},
          "execution_count": 252
        }
      ]
    },
    {
      "cell_type": "code",
      "source": [
        "x.add(5)"
      ],
      "metadata": {
        "id": "2NWdGwCAK8gr"
      },
      "execution_count": 253,
      "outputs": []
    },
    {
      "cell_type": "code",
      "source": [
        "x"
      ],
      "metadata": {
        "colab": {
          "base_uri": "https://localhost:8080/"
        },
        "id": "7pDxnmeWK_4_",
        "outputId": "3f4ec480-fb6f-49c3-f9e1-777e50712896"
      },
      "execution_count": 254,
      "outputs": [
        {
          "output_type": "execute_result",
          "data": {
            "text/plain": [
              "{2, 3, 5, 'John'}"
            ]
          },
          "metadata": {},
          "execution_count": 254
        }
      ]
    },
    {
      "cell_type": "code",
      "source": [
        "x.add(5)"
      ],
      "metadata": {
        "id": "Cw0k4DJsLKrv"
      },
      "execution_count": 255,
      "outputs": []
    },
    {
      "cell_type": "code",
      "source": [
        "x"
      ],
      "metadata": {
        "colab": {
          "base_uri": "https://localhost:8080/"
        },
        "id": "XTkvtJeHLRnv",
        "outputId": "8976c3b8-9d51-43c7-9a4e-0578267a3a8d"
      },
      "execution_count": 256,
      "outputs": [
        {
          "output_type": "execute_result",
          "data": {
            "text/plain": [
              "{2, 3, 5, 'John'}"
            ]
          },
          "metadata": {},
          "execution_count": 256
        }
      ]
    },
    {
      "cell_type": "code",
      "source": [
        "y = {1,2,2,3,2,4,5,5,5,5}"
      ],
      "metadata": {
        "id": "svf4cJWjLSVz"
      },
      "execution_count": 257,
      "outputs": []
    },
    {
      "cell_type": "code",
      "source": [
        "y"
      ],
      "metadata": {
        "colab": {
          "base_uri": "https://localhost:8080/"
        },
        "id": "cW1Z35xSMRfG",
        "outputId": "c1ff4581-d981-4645-9229-fc35a4801b16"
      },
      "execution_count": 258,
      "outputs": [
        {
          "output_type": "execute_result",
          "data": {
            "text/plain": [
              "{1, 2, 3, 4, 5}"
            ]
          },
          "metadata": {},
          "execution_count": 258
        }
      ]
    },
    {
      "cell_type": "code",
      "source": [
        "#y[1]"
      ],
      "metadata": {
        "id": "K22qhjf5MSg-"
      },
      "execution_count": 259,
      "outputs": []
    },
    {
      "cell_type": "code",
      "source": [
        " list1 = [1,2,3,2]"
      ],
      "metadata": {
        "id": "TLOApXZ8MV1C"
      },
      "execution_count": 260,
      "outputs": []
    },
    {
      "cell_type": "code",
      "source": [
        "set1 = set(list1)"
      ],
      "metadata": {
        "id": "tht956eiMov1"
      },
      "execution_count": 261,
      "outputs": []
    },
    {
      "cell_type": "code",
      "source": [
        "set1"
      ],
      "metadata": {
        "colab": {
          "base_uri": "https://localhost:8080/"
        },
        "id": "OSwI_OziMrrN",
        "outputId": "1d87505b-dd64-43f0-8421-ae1b43ac5d44"
      },
      "execution_count": 262,
      "outputs": [
        {
          "output_type": "execute_result",
          "data": {
            "text/plain": [
              "{1, 2, 3}"
            ]
          },
          "metadata": {},
          "execution_count": 262
        }
      ]
    },
    {
      "cell_type": "code",
      "source": [
        "x = {1,2,3,4}\n",
        "y = {3,4,5,6}"
      ],
      "metadata": {
        "id": "zAHGui64NWyq"
      },
      "execution_count": 263,
      "outputs": []
    },
    {
      "cell_type": "code",
      "source": [
        "x.intersection(y)"
      ],
      "metadata": {
        "colab": {
          "base_uri": "https://localhost:8080/"
        },
        "id": "A4sAlPOEN4DA",
        "outputId": "fac9c28b-ef49-4a57-e9fa-70524be7f891"
      },
      "execution_count": 264,
      "outputs": [
        {
          "output_type": "execute_result",
          "data": {
            "text/plain": [
              "{3, 4}"
            ]
          },
          "metadata": {},
          "execution_count": 264
        }
      ]
    },
    {
      "cell_type": "markdown",
      "source": [
        "## Python Notes – Booleans and Keywords\n",
        "\n",
        "### Boolean Data Type\n",
        "\n",
        "* Booleans have only **two possible values**: `True` or `False`\n",
        "* Case-sensitive:\n",
        "  * Must be written as `True` and `False`\n",
        "  * `true`, `false`, `TRUE`, etc. → Invalid\n",
        "\n",
        "* Example:\n",
        "  * `5 > 7` → `False` (Boolean result)\n",
        "  * `10 == 10` → `True`\n",
        "\n",
        "* Used mainly in **conditional statements**"
      ],
      "metadata": {
        "id": "dpn9BVh-OobO"
      }
    },
    {
      "cell_type": "code",
      "source": [
        "type(True)"
      ],
      "metadata": {
        "colab": {
          "base_uri": "https://localhost:8080/"
        },
        "id": "WfOJNNUhPAKs",
        "outputId": "1698016b-9ca1-461d-b8c8-8f35a3fc7445"
      },
      "execution_count": 268,
      "outputs": [
        {
          "output_type": "execute_result",
          "data": {
            "text/plain": [
              "bool"
            ]
          },
          "metadata": {},
          "execution_count": 268
        }
      ]
    },
    {
      "cell_type": "code",
      "source": [
        "type(False)"
      ],
      "metadata": {
        "colab": {
          "base_uri": "https://localhost:8080/"
        },
        "id": "HoISSK7-PCvX",
        "outputId": "7d626127-73a7-4aeb-b227-4683ba41d0b0"
      },
      "execution_count": 269,
      "outputs": [
        {
          "output_type": "execute_result",
          "data": {
            "text/plain": [
              "bool"
            ]
          },
          "metadata": {},
          "execution_count": 269
        }
      ]
    },
    {
      "cell_type": "code",
      "source": [
        "#type(true)"
      ],
      "metadata": {
        "id": "znfBOCzSPFg1"
      },
      "execution_count": 270,
      "outputs": []
    },
    {
      "cell_type": "code",
      "source": [
        "7>5"
      ],
      "metadata": {
        "colab": {
          "base_uri": "https://localhost:8080/"
        },
        "id": "NgX2hbo4PNp2",
        "outputId": "ac1d2518-d42b-47dd-b3d4-6ca06c06ec40"
      },
      "execution_count": 271,
      "outputs": [
        {
          "output_type": "execute_result",
          "data": {
            "text/plain": [
              "True"
            ]
          },
          "metadata": {},
          "execution_count": 271
        }
      ]
    },
    {
      "cell_type": "markdown",
      "source": [
        "## Python Keywords\n",
        "\n",
        "* **Keywords** are reserved words with special meaning in Python\n",
        "  * Examples: `if`, `for`, `while`, `return`, `class`, `def`\n",
        "* View all keywords:\n",
        "  * `help('keywords')`\n",
        "\n",
        "* You **cannot** use keywords as variable names\n",
        "  * Example: `if = 5` → Invalid\n",
        "\n",
        "---\n",
        "\n",
        "## Class Names Should Not Be Used as Variables\n",
        "\n",
        "* Avoid using names like `str`, `list`, `dict`, `tuple`, `set` as variable names\n",
        "  * These are class types in Python\n",
        "\n",
        "* Example:\n",
        "  * Do not write: `list = [1, 2, 3, 4]`\n",
        "  * Instead write: `list_1 = [1, 2, 3, 4]`"
      ],
      "metadata": {
        "id": "TqbTlEFXPl7K"
      }
    },
    {
      "cell_type": "markdown",
      "source": [
        "## Python Notes – Operators\n",
        "\n",
        "---\n",
        "\n",
        "### Arithmetic Operators\n",
        "\n",
        "* `+` Addition  \n",
        "* `-` Subtraction  \n",
        "* `*` Multiplication  \n",
        "* `/` Division  \n",
        "* `**` Exponentiation  \n",
        "* `%` Modulo  \n",
        "\n",
        "---\n",
        "\n",
        "### Comparison Operators\n",
        "\n",
        "* Return a **Boolean (`True` or `False`)** based on value comparison\n",
        "\n",
        "* `==` Equal to  \n",
        "  * `10 == 10` → `True`\n",
        "  * `\"10\" == 10` → `False` (different types)\n",
        "  * `\"hello\" == \"Hello\"` → `False` (case-sensitive)\n",
        "  * `[1, 2, 3] == [1, 2, 3]` → `True`\n",
        "  * `[1, 2, 3] == [3, 2, 1]` → `False` (order matters)\n",
        "\n",
        "* `!=` Not equal to  \n",
        "  * `10 != 20` → `True`\n",
        "  * `10 != 10` → `False`\n",
        "\n",
        "* `>` Greater than  \n",
        "  * `30 > 20` → `True`\n",
        "\n",
        "* `>=` Greater than or equal to  \n",
        "  * `30 >= 30` → `True`\n",
        "\n",
        "* `<` Less than  \n",
        "  * `10 < 20` → `True`\n",
        "\n",
        "* `<=` Less than or equal to  \n",
        "  * `10 <= 10` → `True`\n",
        "\n",
        "---\n",
        "\n",
        "### Assignment Operator\n",
        "\n",
        "* `=` Assigns a value to a variable  \n",
        "  * `a = 10`, `b = 20`, `a = b` → `a` becomes `20`\n",
        "\n",
        "---\n",
        "\n",
        "### Logical Operators\n",
        "\n",
        "* `and` – Returns `True` if **both** conditions are true  \n",
        "  * `3 < 4 and 5 > 2` → `True`\n",
        "  * `3 < 4 and 5 < 2` → `False`\n",
        "\n",
        "* `or` – Returns `True` if **at least one** condition is true  \n",
        "  * `3 < 4 or 5 < 2` → `True`\n",
        "  * `5 < 3 or 6 < 2` → `False`\n",
        "\n",
        "* `not` – Reverses the result  \n",
        "  * `not(3 < 4)` → `False`\n",
        "  * `not(5 < 2)` → `True`\n",
        "\n",
        "---\n",
        "\n",
        "### Identity Operators\n",
        "\n",
        "* `is` – Returns `True` if both variables **reference the same value**\n",
        "  * `a = 20`, `b = 20`, `a is b` → `True`\n",
        "\n",
        "* `is not` – Returns `True` if they **do not** reference the same value\n",
        "  * `a is not b` → `False`\n",
        "\n",
        "---\n",
        "\n",
        "### Notes\n",
        "\n",
        "* `==` checks **equality**\n",
        "* `=` assigns a value\n",
        "* Data types matter in comparisons\n",
        "* Strings and lists are compared element-wise and order-sensitive\n",
        "* Logical and identity operators are frequently used in conditions"
      ],
      "metadata": {
        "id": "MXoyY71Lf4_M"
      }
    },
    {
      "cell_type": "code",
      "source": [
        "10==10"
      ],
      "metadata": {
        "colab": {
          "base_uri": "https://localhost:8080/"
        },
        "id": "wV1zW5WEf8Kl",
        "outputId": "59103261-66a4-4ec8-f4f4-44a358c76b64"
      },
      "execution_count": 272,
      "outputs": [
        {
          "output_type": "execute_result",
          "data": {
            "text/plain": [
              "True"
            ]
          },
          "metadata": {},
          "execution_count": 272
        }
      ]
    },
    {
      "cell_type": "code",
      "source": [
        "a = 7\n",
        "b = 10"
      ],
      "metadata": {
        "id": "ILIPWhnhf-zd"
      },
      "execution_count": 273,
      "outputs": []
    },
    {
      "cell_type": "code",
      "source": [
        "a"
      ],
      "metadata": {
        "colab": {
          "base_uri": "https://localhost:8080/"
        },
        "id": "83Fk-KifgDn-",
        "outputId": "e07a669b-4ca5-451f-a8d6-27674cc663ca"
      },
      "execution_count": 274,
      "outputs": [
        {
          "output_type": "execute_result",
          "data": {
            "text/plain": [
              "7"
            ]
          },
          "metadata": {},
          "execution_count": 274
        }
      ]
    },
    {
      "cell_type": "code",
      "source": [
        "b"
      ],
      "metadata": {
        "colab": {
          "base_uri": "https://localhost:8080/"
        },
        "id": "TLZiXivkgEX6",
        "outputId": "cbc8f903-0042-4d86-d1c7-c7171f29e575"
      },
      "execution_count": 275,
      "outputs": [
        {
          "output_type": "execute_result",
          "data": {
            "text/plain": [
              "10"
            ]
          },
          "metadata": {},
          "execution_count": 275
        }
      ]
    },
    {
      "cell_type": "code",
      "source": [
        "a==b"
      ],
      "metadata": {
        "colab": {
          "base_uri": "https://localhost:8080/"
        },
        "id": "MY_VGZUugFaA",
        "outputId": "d7e45ef8-3260-4d34-c734-6e58441e8906"
      },
      "execution_count": 276,
      "outputs": [
        {
          "output_type": "execute_result",
          "data": {
            "text/plain": [
              "False"
            ]
          },
          "metadata": {},
          "execution_count": 276
        }
      ]
    },
    {
      "cell_type": "code",
      "source": [
        "a=b"
      ],
      "metadata": {
        "id": "ECu1_XH6gHNZ"
      },
      "execution_count": 277,
      "outputs": []
    },
    {
      "cell_type": "code",
      "source": [
        "a"
      ],
      "metadata": {
        "colab": {
          "base_uri": "https://localhost:8080/"
        },
        "id": "2ocUeR00gOXP",
        "outputId": "7273d9f4-e9e3-43fa-bd89-ecb3067e5e4d"
      },
      "execution_count": 278,
      "outputs": [
        {
          "output_type": "execute_result",
          "data": {
            "text/plain": [
              "10"
            ]
          },
          "metadata": {},
          "execution_count": 278
        }
      ]
    },
    {
      "cell_type": "code",
      "source": [
        "'10' == 10"
      ],
      "metadata": {
        "colab": {
          "base_uri": "https://localhost:8080/"
        },
        "id": "o_OgERXxgmpZ",
        "outputId": "b9f634be-5e86-4101-8db9-eca23d4f346f"
      },
      "execution_count": 279,
      "outputs": [
        {
          "output_type": "execute_result",
          "data": {
            "text/plain": [
              "False"
            ]
          },
          "metadata": {},
          "execution_count": 279
        }
      ]
    },
    {
      "cell_type": "code",
      "source": [
        "'Tom' == '  Tom'"
      ],
      "metadata": {
        "colab": {
          "base_uri": "https://localhost:8080/"
        },
        "id": "S9kTbaz0gqrc",
        "outputId": "d8b39cc1-9b93-492e-fc77-12fb87bdeb32"
      },
      "execution_count": 280,
      "outputs": [
        {
          "output_type": "execute_result",
          "data": {
            "text/plain": [
              "False"
            ]
          },
          "metadata": {},
          "execution_count": 280
        }
      ]
    },
    {
      "cell_type": "code",
      "source": [
        "[1,2,3] == [2,1,4]"
      ],
      "metadata": {
        "colab": {
          "base_uri": "https://localhost:8080/"
        },
        "id": "dq2Z4BkQgy8i",
        "outputId": "d4aa6d1b-a4f9-48ec-fa12-de9ab15e1e73"
      },
      "execution_count": 281,
      "outputs": [
        {
          "output_type": "execute_result",
          "data": {
            "text/plain": [
              "False"
            ]
          },
          "metadata": {},
          "execution_count": 281
        }
      ]
    },
    {
      "cell_type": "code",
      "source": [
        "10!=20"
      ],
      "metadata": {
        "colab": {
          "base_uri": "https://localhost:8080/"
        },
        "id": "UgCfailtg3gk",
        "outputId": "6292aab1-f7ab-4e04-8560-7d37124df0c5"
      },
      "execution_count": 282,
      "outputs": [
        {
          "output_type": "execute_result",
          "data": {
            "text/plain": [
              "True"
            ]
          },
          "metadata": {},
          "execution_count": 282
        }
      ]
    },
    {
      "cell_type": "code",
      "source": [
        "10!=10"
      ],
      "metadata": {
        "colab": {
          "base_uri": "https://localhost:8080/"
        },
        "id": "cVqPHsU4g7l3",
        "outputId": "031f334e-90f4-405f-f8d8-e9e590c040ff"
      },
      "execution_count": 283,
      "outputs": [
        {
          "output_type": "execute_result",
          "data": {
            "text/plain": [
              "False"
            ]
          },
          "metadata": {},
          "execution_count": 283
        }
      ]
    },
    {
      "cell_type": "code",
      "source": [
        "10 < 20"
      ],
      "metadata": {
        "colab": {
          "base_uri": "https://localhost:8080/"
        },
        "id": "BB6hLyJag9mC",
        "outputId": "56852959-22d6-413a-a648-97c947a41301"
      },
      "execution_count": 284,
      "outputs": [
        {
          "output_type": "execute_result",
          "data": {
            "text/plain": [
              "True"
            ]
          },
          "metadata": {},
          "execution_count": 284
        }
      ]
    },
    {
      "cell_type": "code",
      "source": [
        "30 > 40"
      ],
      "metadata": {
        "colab": {
          "base_uri": "https://localhost:8080/"
        },
        "id": "ZSIwkcmuhCbi",
        "outputId": "ca3c24a9-874d-43e9-d24a-23eab666e01d"
      },
      "execution_count": 285,
      "outputs": [
        {
          "output_type": "execute_result",
          "data": {
            "text/plain": [
              "False"
            ]
          },
          "metadata": {},
          "execution_count": 285
        }
      ]
    },
    {
      "cell_type": "code",
      "source": [
        "30>=30"
      ],
      "metadata": {
        "colab": {
          "base_uri": "https://localhost:8080/"
        },
        "id": "GBwy7Yj3hE6D",
        "outputId": "e229f6b3-c1b8-4f5c-ddba-75d4544297fb"
      },
      "execution_count": 286,
      "outputs": [
        {
          "output_type": "execute_result",
          "data": {
            "text/plain": [
              "True"
            ]
          },
          "metadata": {},
          "execution_count": 286
        }
      ]
    },
    {
      "cell_type": "code",
      "source": [
        "2>3"
      ],
      "metadata": {
        "colab": {
          "base_uri": "https://localhost:8080/"
        },
        "id": "m_tLtt7FhHQ7",
        "outputId": "8d64431f-0046-40bc-f02f-9eecc2a6189d"
      },
      "execution_count": 287,
      "outputs": [
        {
          "output_type": "execute_result",
          "data": {
            "text/plain": [
              "False"
            ]
          },
          "metadata": {},
          "execution_count": 287
        }
      ]
    },
    {
      "cell_type": "code",
      "source": [
        "100>200"
      ],
      "metadata": {
        "colab": {
          "base_uri": "https://localhost:8080/"
        },
        "id": "flzzHs5QhL2r",
        "outputId": "86082c6f-4ee1-438b-8ccb-8a547018b590"
      },
      "execution_count": 288,
      "outputs": [
        {
          "output_type": "execute_result",
          "data": {
            "text/plain": [
              "False"
            ]
          },
          "metadata": {},
          "execution_count": 288
        }
      ]
    },
    {
      "cell_type": "code",
      "source": [
        "2>3 and 100>200"
      ],
      "metadata": {
        "colab": {
          "base_uri": "https://localhost:8080/"
        },
        "id": "ZKk82EYYhOUs",
        "outputId": "ab8c1c5a-aac2-49a2-9e4a-f18e57d87fee"
      },
      "execution_count": 289,
      "outputs": [
        {
          "output_type": "execute_result",
          "data": {
            "text/plain": [
              "False"
            ]
          },
          "metadata": {},
          "execution_count": 289
        }
      ]
    },
    {
      "cell_type": "code",
      "source": [
        "5>3 and 50>5"
      ],
      "metadata": {
        "colab": {
          "base_uri": "https://localhost:8080/"
        },
        "id": "Xyk3wvqkhS6r",
        "outputId": "2c68ac00-b928-43df-8217-4149e43c96c1"
      },
      "execution_count": 290,
      "outputs": [
        {
          "output_type": "execute_result",
          "data": {
            "text/plain": [
              "True"
            ]
          },
          "metadata": {},
          "execution_count": 290
        }
      ]
    },
    {
      "cell_type": "code",
      "source": [
        "3>2 and 2==2 and 5<50"
      ],
      "metadata": {
        "colab": {
          "base_uri": "https://localhost:8080/"
        },
        "id": "5Ix4ZfoehXmA",
        "outputId": "5f0db902-32e4-430e-98b5-7afde4754894"
      },
      "execution_count": 291,
      "outputs": [
        {
          "output_type": "execute_result",
          "data": {
            "text/plain": [
              "True"
            ]
          },
          "metadata": {},
          "execution_count": 291
        }
      ]
    },
    {
      "cell_type": "code",
      "source": [
        "2<4"
      ],
      "metadata": {
        "colab": {
          "base_uri": "https://localhost:8080/"
        },
        "id": "DWdEKiANhmK9",
        "outputId": "00e8da6b-5e8b-4318-c564-c32753749146"
      },
      "execution_count": 292,
      "outputs": [
        {
          "output_type": "execute_result",
          "data": {
            "text/plain": [
              "True"
            ]
          },
          "metadata": {},
          "execution_count": 292
        }
      ]
    },
    {
      "cell_type": "code",
      "source": [
        "4<2"
      ],
      "metadata": {
        "colab": {
          "base_uri": "https://localhost:8080/"
        },
        "id": "1RMfPeNChrbp",
        "outputId": "e2c49c60-bc91-4fda-acbc-b544d969cdbd"
      },
      "execution_count": 293,
      "outputs": [
        {
          "output_type": "execute_result",
          "data": {
            "text/plain": [
              "False"
            ]
          },
          "metadata": {},
          "execution_count": 293
        }
      ]
    },
    {
      "cell_type": "code",
      "source": [
        "2<4 or 4<2"
      ],
      "metadata": {
        "colab": {
          "base_uri": "https://localhost:8080/"
        },
        "id": "bAgAKxZkhvQL",
        "outputId": "142d48f8-df15-4b67-c1c5-8010f585631d"
      },
      "execution_count": 294,
      "outputs": [
        {
          "output_type": "execute_result",
          "data": {
            "text/plain": [
              "True"
            ]
          },
          "metadata": {},
          "execution_count": 294
        }
      ]
    },
    {
      "cell_type": "code",
      "source": [
        "7<10"
      ],
      "metadata": {
        "colab": {
          "base_uri": "https://localhost:8080/"
        },
        "id": "OVz5S8D2hyV-",
        "outputId": "f16a2e11-83e5-49df-e417-19e7f440a200"
      },
      "execution_count": 295,
      "outputs": [
        {
          "output_type": "execute_result",
          "data": {
            "text/plain": [
              "True"
            ]
          },
          "metadata": {},
          "execution_count": 295
        }
      ]
    },
    {
      "cell_type": "code",
      "source": [
        "not 7<10"
      ],
      "metadata": {
        "colab": {
          "base_uri": "https://localhost:8080/"
        },
        "id": "jU8kxEOMh_fo",
        "outputId": "888500f8-c3d2-4b34-8103-7483befa7448"
      },
      "execution_count": 296,
      "outputs": [
        {
          "output_type": "execute_result",
          "data": {
            "text/plain": [
              "False"
            ]
          },
          "metadata": {},
          "execution_count": 296
        }
      ]
    },
    {
      "cell_type": "code",
      "source": [
        "a = 10\n",
        "b = 10"
      ],
      "metadata": {
        "id": "dhsR24L_iCJG"
      },
      "execution_count": 297,
      "outputs": []
    },
    {
      "cell_type": "code",
      "source": [
        "a is b"
      ],
      "metadata": {
        "colab": {
          "base_uri": "https://localhost:8080/"
        },
        "id": "dKknmBLdiJBm",
        "outputId": "cd4a258f-4f9e-4a8f-b8c0-38bc97734e3e"
      },
      "execution_count": 298,
      "outputs": [
        {
          "output_type": "execute_result",
          "data": {
            "text/plain": [
              "True"
            ]
          },
          "metadata": {},
          "execution_count": 298
        }
      ]
    },
    {
      "cell_type": "code",
      "source": [
        "a is not b"
      ],
      "metadata": {
        "colab": {
          "base_uri": "https://localhost:8080/"
        },
        "id": "s05WtevWiLDp",
        "outputId": "708e0128-030b-41dc-d352-85ba6e90f5f1"
      },
      "execution_count": 299,
      "outputs": [
        {
          "output_type": "execute_result",
          "data": {
            "text/plain": [
              "False"
            ]
          },
          "metadata": {},
          "execution_count": 299
        }
      ]
    },
    {
      "cell_type": "markdown",
      "source": [
        "## Python Notes – if, elif, else Statements\n",
        "\n",
        "* Used to control the flow of code based on conditions\n",
        "* Conditions must return a Boolean value (`True` or `False`)\n",
        "\n",
        "### if Statement\n",
        "\n",
        "* Runs a block of code only if the condition is `True`\n",
        "* Syntax:\n",
        "  * `if condition:`\n",
        "    * (Indented code runs if condition is true)\n",
        "\n",
        "* Example:\n",
        "  * `if 4 > 3:`  \n",
        "    * `print(\"Condition is True\")`\n",
        "\n",
        "* Only indented lines after `if` will run if condition is true\n",
        "\n",
        "### else Statement\n",
        "\n",
        "* Runs a block of code if the `if` condition is `False`\n",
        "* Example:\n",
        "  * `x = 300`\n",
        "  * `if x < 200:`  \n",
        "    * `print(\"x is less than 200\")`  \n",
        "  * `else:`  \n",
        "    * `print(\"x is not less than 200\")`\n",
        "\n",
        "### elif Statement (else if)\n",
        "\n",
        "* Used for checking multiple conditions\n",
        "* Only the first condition that evaluates to `True` is executed\n",
        "* Example:\n",
        "  * `x = 5`\n",
        "  * `if x < 3:`  \n",
        "    * `print(\"x < 3\")`\n",
        "  * `elif x < 10:`  \n",
        "    * `print(\"x < 10\")`\n",
        "  * `else:`  \n",
        "    * `print(\"x >= 10\")`\n",
        "\n",
        "### Difference: Multiple if vs if-elif-else\n",
        "\n",
        "* Multiple `if` blocks → All `True` conditions are executed\n",
        "* `if`-`elif`-`else` → Only the first `True` condition block is executed\n",
        "\n",
        "### Assignment Inside if\n",
        "\n",
        "* Example:\n",
        "  * `x = 10`\n",
        "  * `if x >= 10:`  \n",
        "    * `x = x * 100`\n",
        "  * `print(x)` → `1000`\n",
        "\n",
        "### Nested if Statements\n",
        "\n",
        "* if, elif, or else blocks can contain other if blocks\n",
        "* Example:\n",
        "  * `x = 40`\n",
        "  * `if x < 11:`  \n",
        "    * `if x >= 5:`  \n",
        "      * `print(\"x is < 11 and >= 5\")`\n",
        "    * `else:`  \n",
        "      * `print(\"x is < 5\")`\n",
        "  * `elif x > 11:`  \n",
        "    * `if x > 50:`  \n",
        "      * `print(\"x is > 50\")`\n",
        "    * `else:`  \n",
        "      * `print(\"x is > 11 and <= 50\")`\n",
        "\n",
        "* Output depends on value of `x`\n",
        "\n",
        "### Summary\n",
        "\n",
        "* `if` – checks a condition\n",
        "* `elif` – checks next condition if previous `if` was false\n",
        "* `else` – default block if none of the above conditions are true\n",
        "* Use indentation properly to define blocks"
      ],
      "metadata": {
        "id": "O1K_FhVPlSE1"
      }
    },
    {
      "cell_type": "code",
      "source": [
        "if 5<2:\n",
        "  print('the condition is true')"
      ],
      "metadata": {
        "id": "YHWE2Ji1lPBe"
      },
      "execution_count": 300,
      "outputs": []
    },
    {
      "cell_type": "code",
      "source": [
        "if 5>2:\n",
        "  print('the condition is true')"
      ],
      "metadata": {
        "colab": {
          "base_uri": "https://localhost:8080/"
        },
        "id": "XIos6bNnlul1",
        "outputId": "06a97e3b-d05b-452b-fc57-a76142bdcdf4"
      },
      "execution_count": 301,
      "outputs": [
        {
          "output_type": "stream",
          "name": "stdout",
          "text": [
            "the condition is true\n"
          ]
        }
      ]
    },
    {
      "cell_type": "code",
      "source": [
        "if 5<2:\n",
        "  print('the condition is true')\n",
        "print('this statement will always print')"
      ],
      "metadata": {
        "colab": {
          "base_uri": "https://localhost:8080/"
        },
        "id": "JNQbCnhMlw36",
        "outputId": "d9e0d9da-ec4c-4792-80bb-45204b8ab99d"
      },
      "execution_count": 302,
      "outputs": [
        {
          "output_type": "stream",
          "name": "stdout",
          "text": [
            "this statement will always print\n"
          ]
        }
      ]
    },
    {
      "cell_type": "code",
      "source": [
        "x = 50"
      ],
      "metadata": {
        "id": "9ZLh9GPkl8GB"
      },
      "execution_count": 303,
      "outputs": []
    },
    {
      "cell_type": "code",
      "source": [
        "if x<55:\n",
        "  print(f'120% of the value of x is {x*1.2}')"
      ],
      "metadata": {
        "colab": {
          "base_uri": "https://localhost:8080/"
        },
        "id": "jCVazMEimBuQ",
        "outputId": "830bdf66-f713-4099-b443-ba2c73067a5d"
      },
      "execution_count": 304,
      "outputs": [
        {
          "output_type": "stream",
          "name": "stdout",
          "text": [
            "120% of the value of x is 60.0\n"
          ]
        }
      ]
    },
    {
      "cell_type": "code",
      "source": [
        "if x>55:\n",
        "  print(f'120% of the value of x is {x*1.2}')"
      ],
      "metadata": {
        "id": "tRq9r1uimcZG"
      },
      "execution_count": 305,
      "outputs": []
    },
    {
      "cell_type": "code",
      "source": [
        "x = 100"
      ],
      "metadata": {
        "id": "L7CIqdxDmlIK"
      },
      "execution_count": 306,
      "outputs": []
    },
    {
      "cell_type": "code",
      "source": [
        "if x < 200:\n",
        "  print('x is less than 200')\n",
        "else:\n",
        "  print('x is not less 200')"
      ],
      "metadata": {
        "colab": {
          "base_uri": "https://localhost:8080/"
        },
        "id": "_4DwWGXsmuvm",
        "outputId": "902e22d0-7bcc-4271-8ef4-e43bca7f5bb9"
      },
      "execution_count": 307,
      "outputs": [
        {
          "output_type": "stream",
          "name": "stdout",
          "text": [
            "x is less than 200\n"
          ]
        }
      ]
    },
    {
      "cell_type": "code",
      "source": [
        "x = 200"
      ],
      "metadata": {
        "id": "fEzF9JNwm7Fj"
      },
      "execution_count": 308,
      "outputs": []
    },
    {
      "cell_type": "code",
      "source": [
        "if x > 250:\n",
        "  print('x is less than 200')\n",
        "else:\n",
        "  print('x is not less 200')"
      ],
      "metadata": {
        "colab": {
          "base_uri": "https://localhost:8080/"
        },
        "id": "wFplWgCbm-GP",
        "outputId": "93407c3c-05a5-4a73-bd11-43fe5a398c46"
      },
      "execution_count": 309,
      "outputs": [
        {
          "output_type": "stream",
          "name": "stdout",
          "text": [
            "x is not less 200\n"
          ]
        }
      ]
    },
    {
      "cell_type": "code",
      "source": [
        "if 5<50:\n",
        "  print('The if statement is True')\n",
        "elif 5<50:\n",
        "  print('The elif statement is True')\n",
        "elif 5<50:\n",
        "  print('The second elif statement is True')"
      ],
      "metadata": {
        "colab": {
          "base_uri": "https://localhost:8080/"
        },
        "id": "_tYb9bJcn2lo",
        "outputId": "fa45199f-b9c0-4fa6-b736-784eba34b058"
      },
      "execution_count": 310,
      "outputs": [
        {
          "output_type": "stream",
          "name": "stdout",
          "text": [
            "The if statement is True\n"
          ]
        }
      ]
    },
    {
      "cell_type": "code",
      "source": [
        "if 5>50:\n",
        "  print('The if statement is True')\n",
        "elif 5>50:\n",
        "  print('The elif statement is True')\n",
        "elif 5<50:\n",
        "  print('The second elif statement is True')"
      ],
      "metadata": {
        "colab": {
          "base_uri": "https://localhost:8080/"
        },
        "id": "dVazHInpn6sO",
        "outputId": "a80180d8-f01b-4334-9a4f-75025d9a3279"
      },
      "execution_count": 311,
      "outputs": [
        {
          "output_type": "stream",
          "name": "stdout",
          "text": [
            "The second elif statement is True\n"
          ]
        }
      ]
    },
    {
      "cell_type": "code",
      "source": [
        "if 5>50:\n",
        "  print('The if statement is True')\n",
        "elif 5>50:\n",
        "  print('The elif statement is True')\n",
        "elif 5>50:\n",
        "  print('The second elif statement is True')\n",
        "else:\n",
        "  print('All condition are False')"
      ],
      "metadata": {
        "colab": {
          "base_uri": "https://localhost:8080/"
        },
        "id": "MAJ8ve0_oDPT",
        "outputId": "f71d3522-559b-460d-b0f5-70bfd4e4b3cb"
      },
      "execution_count": 312,
      "outputs": [
        {
          "output_type": "stream",
          "name": "stdout",
          "text": [
            "All condition are False\n"
          ]
        }
      ]
    },
    {
      "cell_type": "code",
      "source": [
        "if 5<50:\n",
        "  print('The if statement is True')\n",
        "if 5<50:\n",
        "  print('The second if statement is True')\n",
        "if 5<50:\n",
        "  print('The third if statement is True')"
      ],
      "metadata": {
        "colab": {
          "base_uri": "https://localhost:8080/"
        },
        "id": "wk2bAcE7pS7F",
        "outputId": "1af6f0a1-88fb-4ca9-ddf2-491fe0d1c2d5"
      },
      "execution_count": 313,
      "outputs": [
        {
          "output_type": "stream",
          "name": "stdout",
          "text": [
            "The if statement is True\n",
            "The second if statement is True\n",
            "The third if statement is True\n"
          ]
        }
      ]
    },
    {
      "cell_type": "code",
      "source": [
        "x = 10"
      ],
      "metadata": {
        "id": "uyQ582yepb0w"
      },
      "execution_count": 314,
      "outputs": []
    },
    {
      "cell_type": "code",
      "source": [
        "if x>=10:\n",
        "  x = x*100"
      ],
      "metadata": {
        "id": "jPgZI5pXphta"
      },
      "execution_count": 315,
      "outputs": []
    },
    {
      "cell_type": "code",
      "source": [
        "x"
      ],
      "metadata": {
        "colab": {
          "base_uri": "https://localhost:8080/"
        },
        "id": "wcaBaqnhprNB",
        "outputId": "9445cbf8-9d1b-4b1c-c2d4-05ea1bb4a57a"
      },
      "execution_count": 316,
      "outputs": [
        {
          "output_type": "execute_result",
          "data": {
            "text/plain": [
              "1000"
            ]
          },
          "metadata": {},
          "execution_count": 316
        }
      ]
    },
    {
      "cell_type": "code",
      "source": [
        "x = 50"
      ],
      "metadata": {
        "id": "3istudPVpsi_"
      },
      "execution_count": 317,
      "outputs": []
    },
    {
      "cell_type": "code",
      "source": [
        "if x<11:\n",
        "  if x>=5:\n",
        "    print('x is less than 11 and greater than or equal to 5')\n",
        "  else:\n",
        "    print('x is less than 5')\n",
        "elif x>11:\n",
        "  if x>50:\n",
        "    print('x is greater than 50')\n",
        "  elif x<=50:\n",
        "    print('x is greater than 11 but less than or equal to 50')"
      ],
      "metadata": {
        "colab": {
          "base_uri": "https://localhost:8080/"
        },
        "id": "fdKz0Z3Opxaj",
        "outputId": "c845beed-615f-461c-8ee5-151f28e63084"
      },
      "execution_count": 318,
      "outputs": [
        {
          "output_type": "stream",
          "name": "stdout",
          "text": [
            "x is greater than 11 but less than or equal to 50\n"
          ]
        }
      ]
    },
    {
      "cell_type": "markdown",
      "source": [
        "## Python Notes – for Loops and Iterables\n",
        "\n",
        "* An **iterable** is an object that can return its elements one by one\n",
        "* Examples: list, tuple, set, string, dictionary\n",
        "\n",
        "### for Loop Basics\n",
        "\n",
        "* Syntax:\n",
        "  * `for variable in iterable:`\n",
        "    * (indented block runs once for each element)\n",
        "\n",
        "* Example:\n",
        "  * `list1 = [1, 2, 3, 4, 5]`\n",
        "  * `for element in list1:`  \n",
        "    * `print(element)`\n",
        "\n",
        "* You can use any variable name like `x`, `item`, etc.\n",
        "\n",
        "* You can reference:\n",
        "  * a list directly → `for x in [1,2,3]:`\n",
        "  * or a list variable → `for x in list1:`\n",
        "\n",
        "* The block runs **once per element**\n",
        "\n",
        "### for Loop Without Using the Loop Variable\n",
        "\n",
        "* If you just want repetition:\n",
        "  * `for x in list1:`  \n",
        "    * `print(\"Hello World\")` → runs 5 times\n",
        "\n",
        "### Using a for Loop as a Counter\n",
        "\n",
        "* Example:\n",
        "  * `num = 0`\n",
        "  * `for x in list1:`  \n",
        "    * `print(num)`  \n",
        "    * `num += 1`  \n",
        "  * Prints `0` to `4`\n",
        "\n",
        "* If you increment before print:\n",
        "  * `num += 1` before `print(num)` → prints `1` to `5`\n",
        "\n",
        "* Shortcut:\n",
        "  * `num += 1` is the same as `num = num + 1`\n",
        "\n",
        "### Indentation Matters\n",
        "\n",
        "* Indented code → runs **inside** loop\n",
        "* Unindented code → runs **after** loop ends\n",
        "\n",
        "### Looping Through Nested Lists\n",
        "\n",
        "* Example:\n",
        "  * `list2 = [[1, 2], [3, 4], [5, 6]]`\n",
        "  * `for x in list2:`  \n",
        "    * `print(x)` → prints each sublist\n",
        "\n",
        "* Access specific index:\n",
        "  * `print(x[0])` → prints first element in each sublist\n",
        "\n",
        "* Nested loop:\n",
        "  * `for x in list2:`  \n",
        "    * `for y in x:`  \n",
        "      * `print(y)`\n",
        "\n",
        "* Unpacking:\n",
        "  * `for a, b in list2:`  \n",
        "    * `print(a)`  \n",
        "    * `print(b)`\n",
        "\n",
        "* This works only if all sublists have **same length**\n",
        "\n",
        "### Looping Through Tuples and Mixed Structures\n",
        "\n",
        "* Works like lists:\n",
        "  * `tuple1 = [(1, 2), (3, 4), (5, 6)]`\n",
        "  * `for x, y in tuple1:` → works\n",
        "\n",
        "* Also works for:\n",
        "  * list of tuples\n",
        "  * tuple of lists\n",
        "  * list with embedded sets (same structure)\n",
        "\n",
        "### Looping Through Sets\n",
        "\n",
        "* Example:\n",
        "  * `set1 = {1, 2, 3}`\n",
        "  * `for x in set1:` → prints each element\n",
        "* Sets are unordered → output order may vary\n",
        "\n",
        "### Looping Through Strings\n",
        "\n",
        "* Each character is an element:\n",
        "  * `str1 = \"Hello World\"`\n",
        "  * `for ch in str1:`  \n",
        "    * `print(ch)`\n",
        "\n",
        "### Looping Through Dictionaries\n",
        "\n",
        "* Only keys are returned by default:\n",
        "  * `dict1 = {\"a\": 1, \"b\": 2}`\n",
        "  * `for k in dict1:`  \n",
        "    * `print(k)`\n",
        "\n",
        "* To access both key and value:\n",
        "  * `for k, v in dict1.items():`  \n",
        "    * `print(k)`  \n",
        "    * `print(v)`\n",
        "\n",
        "### Loop with if Statement Inside\n",
        "\n",
        "* Use `if` inside loop to filter:\n",
        "  * `list3 = [\"TV\", \"Couch\", \"Table\", \"Lamp\"]`\n",
        "  * `for x in list3:`  \n",
        "    * `if x != \"TV\":`  \n",
        "      * `print(x)`\n",
        "\n",
        "* Skips `\"TV\"` and prints rest\n",
        "\n",
        "### Summary\n",
        "\n",
        "* `for` loops are used to iterate over each element of an iterable\n",
        "* You can unpack nested iterables directly in loop\n",
        "* Use `if` inside loops for filtering\n",
        "* Indentation controls what runs inside the loop"
      ],
      "metadata": {
        "id": "wZClXMFirZoY"
      }
    },
    {
      "cell_type": "code",
      "source": [
        "list1 = [1,2,3,4,5,6]"
      ],
      "metadata": {
        "id": "0vdUrREXrayP"
      },
      "execution_count": 384,
      "outputs": []
    },
    {
      "cell_type": "code",
      "source": [
        "for element in list1:\n",
        "  print(element)"
      ],
      "metadata": {
        "colab": {
          "base_uri": "https://localhost:8080/"
        },
        "id": "DlbJnU7EtVnb",
        "outputId": "eeb2003f-c971-4700-a039-00d838976b58"
      },
      "execution_count": 385,
      "outputs": [
        {
          "output_type": "stream",
          "name": "stdout",
          "text": [
            "1\n",
            "2\n",
            "3\n",
            "4\n",
            "5\n",
            "6\n"
          ]
        }
      ]
    },
    {
      "cell_type": "code",
      "source": [
        "for x in list1:\n",
        "  print(x)"
      ],
      "metadata": {
        "colab": {
          "base_uri": "https://localhost:8080/"
        },
        "id": "_muT9uhCtaKy",
        "outputId": "6a18a586-4475-40a9-889e-05d933ebde0e"
      },
      "execution_count": 386,
      "outputs": [
        {
          "output_type": "stream",
          "name": "stdout",
          "text": [
            "1\n",
            "2\n",
            "3\n",
            "4\n",
            "5\n",
            "6\n"
          ]
        }
      ]
    },
    {
      "cell_type": "code",
      "source": [
        "for x in list1:\n",
        "  print('hello world')"
      ],
      "metadata": {
        "colab": {
          "base_uri": "https://localhost:8080/"
        },
        "id": "eCFAlDlkthQf",
        "outputId": "f7749d5d-dc26-4ac4-c12a-fba482e3b9f9"
      },
      "execution_count": 387,
      "outputs": [
        {
          "output_type": "stream",
          "name": "stdout",
          "text": [
            "hello world\n",
            "hello world\n",
            "hello world\n",
            "hello world\n",
            "hello world\n",
            "hello world\n"
          ]
        }
      ]
    },
    {
      "cell_type": "code",
      "source": [
        "for x in list1:\n",
        "  print(x*2)"
      ],
      "metadata": {
        "colab": {
          "base_uri": "https://localhost:8080/"
        },
        "id": "xh8y3cOLtnN0",
        "outputId": "ebca78bf-f7cc-4420-b65b-5153e9bc43d7"
      },
      "execution_count": 388,
      "outputs": [
        {
          "output_type": "stream",
          "name": "stdout",
          "text": [
            "2\n",
            "4\n",
            "6\n",
            "8\n",
            "10\n",
            "12\n"
          ]
        }
      ]
    },
    {
      "cell_type": "code",
      "source": [
        "for x in [1,2,3,4,5]:\n",
        "  print(x)"
      ],
      "metadata": {
        "colab": {
          "base_uri": "https://localhost:8080/"
        },
        "id": "dNqBWpwdtuVc",
        "outputId": "aa2d79bb-0a8a-4d0a-b8d1-b96f7c8b21b0"
      },
      "execution_count": 389,
      "outputs": [
        {
          "output_type": "stream",
          "name": "stdout",
          "text": [
            "1\n",
            "2\n",
            "3\n",
            "4\n",
            "5\n"
          ]
        }
      ]
    },
    {
      "cell_type": "code",
      "source": [
        "num=0\n",
        "list1"
      ],
      "metadata": {
        "colab": {
          "base_uri": "https://localhost:8080/"
        },
        "id": "hal3Bd9Bt-jb",
        "outputId": "4753a28e-7c78-4ab3-8085-b0ef08d7c7c2"
      },
      "execution_count": 390,
      "outputs": [
        {
          "output_type": "execute_result",
          "data": {
            "text/plain": [
              "[1, 2, 3, 4, 5, 6]"
            ]
          },
          "metadata": {},
          "execution_count": 390
        }
      ]
    },
    {
      "cell_type": "code",
      "source": [
        "for x in list1:\n",
        "  num+=1\n",
        "  print(num)"
      ],
      "metadata": {
        "colab": {
          "base_uri": "https://localhost:8080/"
        },
        "id": "69OTeH6EuC1o",
        "outputId": "f953b8a1-bab1-48f6-ec9b-f5988712c228"
      },
      "execution_count": 391,
      "outputs": [
        {
          "output_type": "stream",
          "name": "stdout",
          "text": [
            "1\n",
            "2\n",
            "3\n",
            "4\n",
            "5\n",
            "6\n"
          ]
        }
      ]
    },
    {
      "cell_type": "code",
      "source": [
        "for x in list1:\n",
        "  num+=1\n",
        "print(num)"
      ],
      "metadata": {
        "colab": {
          "base_uri": "https://localhost:8080/"
        },
        "id": "SdmMfUQGu9ul",
        "outputId": "2d415a47-9ce8-4cc0-dcd0-8a6e1ef52526"
      },
      "execution_count": 392,
      "outputs": [
        {
          "output_type": "stream",
          "name": "stdout",
          "text": [
            "12\n"
          ]
        }
      ]
    },
    {
      "cell_type": "code",
      "source": [
        "num2=0\n",
        "list1"
      ],
      "metadata": {
        "colab": {
          "base_uri": "https://localhost:8080/"
        },
        "id": "_qINJI0Uupio",
        "outputId": "e85d5612-2ac9-4e9b-b3ab-1da5aded1068"
      },
      "execution_count": 393,
      "outputs": [
        {
          "output_type": "execute_result",
          "data": {
            "text/plain": [
              "[1, 2, 3, 4, 5, 6]"
            ]
          },
          "metadata": {},
          "execution_count": 393
        }
      ]
    },
    {
      "cell_type": "code",
      "source": [
        "for x in list1:\n",
        "  print(num2)\n",
        "  num2=num2+1"
      ],
      "metadata": {
        "colab": {
          "base_uri": "https://localhost:8080/"
        },
        "id": "VMlONaq5udEG",
        "outputId": "cfd914ef-e2a0-4807-8eea-39671f835adc"
      },
      "execution_count": 394,
      "outputs": [
        {
          "output_type": "stream",
          "name": "stdout",
          "text": [
            "0\n",
            "1\n",
            "2\n",
            "3\n",
            "4\n",
            "5\n"
          ]
        }
      ]
    },
    {
      "cell_type": "code",
      "source": [
        "list2 = [[1,2],[3,4],[5,6]]"
      ],
      "metadata": {
        "id": "hyTuoZ8duY3o"
      },
      "execution_count": 395,
      "outputs": []
    },
    {
      "cell_type": "code",
      "source": [
        "for x in list2:\n",
        "  print(x)"
      ],
      "metadata": {
        "colab": {
          "base_uri": "https://localhost:8080/"
        },
        "id": "vbiGz-PVvXRZ",
        "outputId": "e13f29e8-df74-4f91-f2d9-5ff762c2dbfd"
      },
      "execution_count": 396,
      "outputs": [
        {
          "output_type": "stream",
          "name": "stdout",
          "text": [
            "[1, 2]\n",
            "[3, 4]\n",
            "[5, 6]\n"
          ]
        }
      ]
    },
    {
      "cell_type": "code",
      "source": [
        "for x in list2:\n",
        "  print(x[0])"
      ],
      "metadata": {
        "colab": {
          "base_uri": "https://localhost:8080/"
        },
        "id": "KUyOQBK9vfzh",
        "outputId": "bc033999-b4c1-4a24-c6a2-a3941babcdf9"
      },
      "execution_count": 397,
      "outputs": [
        {
          "output_type": "stream",
          "name": "stdout",
          "text": [
            "1\n",
            "3\n",
            "5\n"
          ]
        }
      ]
    },
    {
      "cell_type": "code",
      "source": [
        "for x in list2:\n",
        "  print(x[1])"
      ],
      "metadata": {
        "colab": {
          "base_uri": "https://localhost:8080/"
        },
        "id": "ZN_TFWlhvkV8",
        "outputId": "38690afe-9295-4efd-96ff-e2d349742e4a"
      },
      "execution_count": 398,
      "outputs": [
        {
          "output_type": "stream",
          "name": "stdout",
          "text": [
            "2\n",
            "4\n",
            "6\n"
          ]
        }
      ]
    },
    {
      "cell_type": "code",
      "source": [
        "for x in list2:\n",
        "  print(x[0])\n",
        "  print(x[1])"
      ],
      "metadata": {
        "colab": {
          "base_uri": "https://localhost:8080/"
        },
        "id": "x4G87NLyv0-Y",
        "outputId": "a27c193d-7df9-4d2f-a5b7-a6afbebcdc40"
      },
      "execution_count": 399,
      "outputs": [
        {
          "output_type": "stream",
          "name": "stdout",
          "text": [
            "1\n",
            "2\n",
            "3\n",
            "4\n",
            "5\n",
            "6\n"
          ]
        }
      ]
    },
    {
      "cell_type": "code",
      "source": [
        "list2"
      ],
      "metadata": {
        "colab": {
          "base_uri": "https://localhost:8080/"
        },
        "id": "W7uvH1c-wCay",
        "outputId": "17ac0366-baaa-4466-a0df-e16b87fc9b2d"
      },
      "execution_count": 400,
      "outputs": [
        {
          "output_type": "execute_result",
          "data": {
            "text/plain": [
              "[[1, 2], [3, 4], [5, 6]]"
            ]
          },
          "metadata": {},
          "execution_count": 400
        }
      ]
    },
    {
      "cell_type": "code",
      "source": [
        "for x in list2:\n",
        "  for y in x:\n",
        "    print(y)"
      ],
      "metadata": {
        "colab": {
          "base_uri": "https://localhost:8080/"
        },
        "id": "6zG9AastwEo2",
        "outputId": "a3f6fa61-8dab-4ee2-fcd3-2f1977fcd573"
      },
      "execution_count": 401,
      "outputs": [
        {
          "output_type": "stream",
          "name": "stdout",
          "text": [
            "1\n",
            "2\n",
            "3\n",
            "4\n",
            "5\n",
            "6\n"
          ]
        }
      ]
    },
    {
      "cell_type": "code",
      "source": [
        "for x in list2:\n",
        "  print(x)"
      ],
      "metadata": {
        "colab": {
          "base_uri": "https://localhost:8080/"
        },
        "id": "04kiIrAKwS-t",
        "outputId": "715ba710-aaac-4b29-ca75-60e1ec613ae6"
      },
      "execution_count": 402,
      "outputs": [
        {
          "output_type": "stream",
          "name": "stdout",
          "text": [
            "[1, 2]\n",
            "[3, 4]\n",
            "[5, 6]\n"
          ]
        }
      ]
    },
    {
      "cell_type": "code",
      "source": [
        " for [a,b] in list2: # for a,b in list2:\n",
        "  print(a)\n",
        "  print(b)"
      ],
      "metadata": {
        "colab": {
          "base_uri": "https://localhost:8080/"
        },
        "id": "VMi6Q1Oyw87i",
        "outputId": "e63c5418-e576-4466-9fc2-dae3f726e2ad"
      },
      "execution_count": 403,
      "outputs": [
        {
          "output_type": "stream",
          "name": "stdout",
          "text": [
            "1\n",
            "2\n",
            "3\n",
            "4\n",
            "5\n",
            "6\n"
          ]
        }
      ]
    },
    {
      "cell_type": "code",
      "source": [
        " list3 = [[1,2],[3,4,5],[6,7]]"
      ],
      "metadata": {
        "id": "uyMjdRAbxMnq"
      },
      "execution_count": 404,
      "outputs": []
    },
    {
      "cell_type": "code",
      "source": [
        "\"\"\"for a,b in list3:\n",
        "  print(a)\"\"\""
      ],
      "metadata": {
        "colab": {
          "base_uri": "https://localhost:8080/",
          "height": 35
        },
        "id": "tYAwCTDFxpyf",
        "outputId": "6502f366-b9a0-4747-a4f2-7eb709cdf517"
      },
      "execution_count": 405,
      "outputs": [
        {
          "output_type": "execute_result",
          "data": {
            "text/plain": [
              "'for a,b in list3:\\n  print(a)'"
            ],
            "application/vnd.google.colaboratory.intrinsic+json": {
              "type": "string"
            }
          },
          "metadata": {},
          "execution_count": 405
        }
      ]
    },
    {
      "cell_type": "code",
      "source": [
        "for x in list3:\n",
        "  for y in x:\n",
        "    print(y)"
      ],
      "metadata": {
        "colab": {
          "base_uri": "https://localhost:8080/"
        },
        "id": "mvGYt6Qaxwsz",
        "outputId": "0658e9d1-9cf9-4f1b-a212-401f2ead1939"
      },
      "execution_count": 406,
      "outputs": [
        {
          "output_type": "stream",
          "name": "stdout",
          "text": [
            "1\n",
            "2\n",
            "3\n",
            "4\n",
            "5\n",
            "6\n",
            "7\n"
          ]
        }
      ]
    },
    {
      "cell_type": "code",
      "source": [
        "tup1 = (1,2,3,4,5)"
      ],
      "metadata": {
        "id": "85oM-GhqyHHV"
      },
      "execution_count": 407,
      "outputs": []
    },
    {
      "cell_type": "code",
      "source": [
        "for x in tup1:\n",
        "  print(x)"
      ],
      "metadata": {
        "colab": {
          "base_uri": "https://localhost:8080/"
        },
        "id": "nqgZzu-DyJ-g",
        "outputId": "4cc46f34-668e-4d99-d1ee-c16e5bee1107"
      },
      "execution_count": 408,
      "outputs": [
        {
          "output_type": "stream",
          "name": "stdout",
          "text": [
            "1\n",
            "2\n",
            "3\n",
            "4\n",
            "5\n"
          ]
        }
      ]
    },
    {
      "cell_type": "code",
      "source": [
        "tup2 =((1,2),(3,4),(5,6))"
      ],
      "metadata": {
        "id": "J1iBrk9myNYJ"
      },
      "execution_count": 409,
      "outputs": []
    },
    {
      "cell_type": "code",
      "source": [
        "for a,b in tup2:\n",
        "  print(a)\n",
        "  print(b)"
      ],
      "metadata": {
        "colab": {
          "base_uri": "https://localhost:8080/"
        },
        "id": "p6L_fLZbysrc",
        "outputId": "ed7d9c13-d98e-4d28-bd48-a1ccac6e5887"
      },
      "execution_count": 410,
      "outputs": [
        {
          "output_type": "stream",
          "name": "stdout",
          "text": [
            "1\n",
            "2\n",
            "3\n",
            "4\n",
            "5\n",
            "6\n"
          ]
        }
      ]
    },
    {
      "cell_type": "code",
      "source": [
        "list4 = [(1,2),(3,4),(5,6)]"
      ],
      "metadata": {
        "id": "_iO4kXSryzlM"
      },
      "execution_count": 411,
      "outputs": []
    },
    {
      "cell_type": "code",
      "source": [
        "for a,b in list4:\n",
        "  print(a)\n",
        "  print(b)"
      ],
      "metadata": {
        "colab": {
          "base_uri": "https://localhost:8080/"
        },
        "id": "f6g5TxQxzBb_",
        "outputId": "c4dcdd95-a06b-46c7-d5f5-f350d426407e"
      },
      "execution_count": 412,
      "outputs": [
        {
          "output_type": "stream",
          "name": "stdout",
          "text": [
            "1\n",
            "2\n",
            "3\n",
            "4\n",
            "5\n",
            "6\n"
          ]
        }
      ]
    },
    {
      "cell_type": "code",
      "source": [
        "list5 = [(1,2),[3,4],{5,6}]"
      ],
      "metadata": {
        "id": "DWTAtnjszHUd"
      },
      "execution_count": 413,
      "outputs": []
    },
    {
      "cell_type": "code",
      "source": [
        "for a,b in list5:\n",
        "  print(a)\n",
        "  print(b)"
      ],
      "metadata": {
        "colab": {
          "base_uri": "https://localhost:8080/"
        },
        "id": "-lwGDrbczP3j",
        "outputId": "963cacb1-6745-44df-9afe-974a99168bd4"
      },
      "execution_count": 414,
      "outputs": [
        {
          "output_type": "stream",
          "name": "stdout",
          "text": [
            "1\n",
            "2\n",
            "3\n",
            "4\n",
            "5\n",
            "6\n"
          ]
        }
      ]
    },
    {
      "cell_type": "code",
      "source": [
        "set1 = {\"tv\",\"sofa\",\"desk\",\"lamp\"}"
      ],
      "metadata": {
        "id": "JoVjkFoJzWhI"
      },
      "execution_count": 415,
      "outputs": []
    },
    {
      "cell_type": "code",
      "source": [
        "for x in set1:\n",
        "  print(x)"
      ],
      "metadata": {
        "colab": {
          "base_uri": "https://localhost:8080/"
        },
        "id": "-0L22z-jzme0",
        "outputId": "242c04dc-5b0d-4f0d-9f4c-a92f02e874eb"
      },
      "execution_count": 416,
      "outputs": [
        {
          "output_type": "stream",
          "name": "stdout",
          "text": [
            "sofa\n",
            "lamp\n",
            "desk\n",
            "tv\n"
          ]
        }
      ]
    },
    {
      "cell_type": "code",
      "source": [
        "str1 = 'Hello World'"
      ],
      "metadata": {
        "id": "8Remb1t3z1JV"
      },
      "execution_count": 417,
      "outputs": []
    },
    {
      "cell_type": "code",
      "source": [
        "for char in str1:\n",
        "  print(char)"
      ],
      "metadata": {
        "colab": {
          "base_uri": "https://localhost:8080/"
        },
        "id": "QbtVziQnz6D7",
        "outputId": "acc01629-9309-45ea-dbe6-38ccff904d10"
      },
      "execution_count": 418,
      "outputs": [
        {
          "output_type": "stream",
          "name": "stdout",
          "text": [
            "H\n",
            "e\n",
            "l\n",
            "l\n",
            "o\n",
            " \n",
            "W\n",
            "o\n",
            "r\n",
            "l\n",
            "d\n"
          ]
        }
      ]
    },
    {
      "cell_type": "code",
      "source": [
        "dict1 = {'key1':'value1','key2':'value2'}"
      ],
      "metadata": {
        "id": "rzRbfnicz9ic"
      },
      "execution_count": 419,
      "outputs": []
    },
    {
      "cell_type": "code",
      "source": [
        "for x in dict1:\n",
        "  print(x)"
      ],
      "metadata": {
        "colab": {
          "base_uri": "https://localhost:8080/"
        },
        "id": "ZLl0YBSx0GoS",
        "outputId": "3211ffd1-5103-43dd-dc8e-1929fd58a805"
      },
      "execution_count": 420,
      "outputs": [
        {
          "output_type": "stream",
          "name": "stdout",
          "text": [
            "key1\n",
            "key2\n"
          ]
        }
      ]
    },
    {
      "cell_type": "code",
      "source": [
        "\"\"\"for k:v in dict1:\n",
        "  print(k)\n",
        "  print(v)\"\"\""
      ],
      "metadata": {
        "colab": {
          "base_uri": "https://localhost:8080/",
          "height": 35
        },
        "id": "X0hJtoqp0M5w",
        "outputId": "47f90ebc-3e8d-4cd3-d74e-abce2846d264"
      },
      "execution_count": 421,
      "outputs": [
        {
          "output_type": "execute_result",
          "data": {
            "text/plain": [
              "'for k:v in dict1:\\n  print(k)\\n  print(v)'"
            ],
            "application/vnd.google.colaboratory.intrinsic+json": {
              "type": "string"
            }
          },
          "metadata": {},
          "execution_count": 421
        }
      ]
    },
    {
      "cell_type": "code",
      "source": [
        "dict1.items()"
      ],
      "metadata": {
        "colab": {
          "base_uri": "https://localhost:8080/"
        },
        "id": "6fIrmhtO0VdJ",
        "outputId": "576fec53-4199-465b-ea41-dcad31c1d488"
      },
      "execution_count": 422,
      "outputs": [
        {
          "output_type": "execute_result",
          "data": {
            "text/plain": [
              "dict_items([('key1', 'value1'), ('key2', 'value2')])"
            ]
          },
          "metadata": {},
          "execution_count": 422
        }
      ]
    },
    {
      "cell_type": "code",
      "source": [
        "for k,v in dict1.items():\n",
        "  print(k)\n",
        "  print(v)"
      ],
      "metadata": {
        "colab": {
          "base_uri": "https://localhost:8080/"
        },
        "id": "bAKo4CZy0hba",
        "outputId": "df72aaf8-e2ae-47f3-8875-805142061b67"
      },
      "execution_count": 423,
      "outputs": [
        {
          "output_type": "stream",
          "name": "stdout",
          "text": [
            "key1\n",
            "value1\n",
            "key2\n",
            "value2\n"
          ]
        }
      ]
    },
    {
      "cell_type": "code",
      "source": [
        "furniture = ['desk','lamp','tv','sofa']"
      ],
      "metadata": {
        "id": "Ek2WgdDm0n_U"
      },
      "execution_count": 424,
      "outputs": []
    },
    {
      "cell_type": "code",
      "source": [
        "for x in furniture:\n",
        "  if x != 'tv':\n",
        "    print(x)"
      ],
      "metadata": {
        "colab": {
          "base_uri": "https://localhost:8080/"
        },
        "id": "XGv96e0G1C_l",
        "outputId": "d75b515c-6555-43f0-97cd-6783ecc12424"
      },
      "execution_count": 425,
      "outputs": [
        {
          "output_type": "stream",
          "name": "stdout",
          "text": [
            "desk\n",
            "lamp\n",
            "sofa\n"
          ]
        }
      ]
    },
    {
      "cell_type": "markdown",
      "source": [
        "## Python Notes – while Loops\n",
        "\n",
        "* A `while` loop runs a block of code **as long as the condition is True**\n",
        "* Syntax:\n",
        "  * `while condition:`  \n",
        "    * (indented block)\n",
        "\n",
        "### Example\n",
        "\n",
        "* `a = 0`\n",
        "* `while a < 5:`  \n",
        "  * `print(\"A is less than 5\")`  \n",
        "  * `a += 1`\n",
        "\n",
        "* Output:\n",
        "  * Prints the message 5 times, then stops when `a` becomes 5\n",
        "\n",
        "### Using f-string to Print Value\n",
        "\n",
        "* Example:\n",
        "  * `a = 0`\n",
        "  * `while a < 5:`  \n",
        "    * `a += 1`  \n",
        "    * `print(f\"A is now {a}\")`\n",
        "\n",
        "* Output:\n",
        "  * A is now 1  \n",
        "  * A is now 2  \n",
        "  * A is now 3  \n",
        "  * A is now 4  \n",
        "  * A is now 5\n",
        "\n",
        "### Infinite Loop\n",
        "\n",
        "* If the condition is always `True`, the loop will run forever\n",
        "\n",
        "* Example:\n",
        "  * `while True:`  \n",
        "    * `print(\"Looping...\")` → Infinite loop\n",
        "\n",
        "* Another example:\n",
        "  * `a = 0`\n",
        "  * `while a < 5:`  \n",
        "    * `print(a)`  \n",
        "    * *(missing `a += 1`)* → Infinite loop\n",
        "\n",
        "* To stop an infinite loop, use:\n",
        "  * Stop/interrupt execution (in Colab, click the stop button)\n",
        "\n",
        "### Summary\n",
        "\n",
        "* `while` loops repeat code **while** the condition is `True`\n",
        "* Always ensure the loop has a way to **end**, or it will run forever\n",
        "* Use `a += 1` or another logic to make the condition eventually `False`"
      ],
      "metadata": {
        "id": "xRkoIkaW1qQC"
      }
    },
    {
      "cell_type": "code",
      "source": [
        "a=0\n",
        "while a < 5:\n",
        "  print('a is less than 5')\n",
        "  a+=1"
      ],
      "metadata": {
        "colab": {
          "base_uri": "https://localhost:8080/"
        },
        "id": "mlRfZLF1iBhi",
        "outputId": "9b7894e1-c0f1-4a46-cc88-205898c14325"
      },
      "execution_count": 426,
      "outputs": [
        {
          "output_type": "stream",
          "name": "stdout",
          "text": [
            "a is less than 5\n",
            "a is less than 5\n",
            "a is less than 5\n",
            "a is less than 5\n",
            "a is less than 5\n"
          ]
        }
      ]
    },
    {
      "cell_type": "code",
      "source": [
        "a=0\n",
        "while a<5:\n",
        "  a+=1\n",
        "  print(f'the value of a is {a}')"
      ],
      "metadata": {
        "colab": {
          "base_uri": "https://localhost:8080/"
        },
        "id": "eKxEHXA-iC2U",
        "outputId": "1cc93c84-6c9e-4d4f-e4f9-20cbfff9edd9"
      },
      "execution_count": 427,
      "outputs": [
        {
          "output_type": "stream",
          "name": "stdout",
          "text": [
            "the value of a is 1\n",
            "the value of a is 2\n",
            "the value of a is 3\n",
            "the value of a is 4\n",
            "the value of a is 5\n"
          ]
        }
      ]
    },
    {
      "cell_type": "markdown",
      "source": [
        "## Python Notes – break, continue, pass\n",
        "\n",
        "### 1. pass\n",
        "\n",
        "* `pass` does **nothing**, but acts as a **placeholder**\n",
        "* Used to avoid syntax errors when a block is empty\n",
        "* Useful when you're still working on logic and want to come back later\n",
        "\n",
        "* Example:\n",
        "  * `if num == 2:`  \n",
        "    * `pass`  \n",
        "  * `else:`  \n",
        "    * `print(num)`\n",
        "\n",
        "* Also works inside loops:\n",
        "  * Skips doing anything, just holds the place for code\n",
        "\n",
        "---\n",
        "\n",
        "### 2. break\n",
        "\n",
        "* `break` **exits** the loop immediately when executed\n",
        "* Used to stop the loop before it finishes iterating\n",
        "\n",
        "* Example:\n",
        "  * `numbers = list(range(11))`  \n",
        "  * `for x in numbers:`  \n",
        "    * `if x == 5:`  \n",
        "      * `break`  \n",
        "    * `print(x)`\n",
        "\n",
        "* Output: `0 1 2 3 4`  \n",
        "  * When `x == 5`, loop exits, no further iterations\n",
        "\n",
        "---\n",
        "\n",
        "### 3. continue\n",
        "\n",
        "* `continue` **skips the current iteration** and moves to the next one\n",
        "* Does not stop the loop completely\n",
        "\n",
        "* Example:\n",
        "  * `numbers = list(range(11))`  \n",
        "  * `for x in numbers:`  \n",
        "    * `if x == 5:`  \n",
        "      * `continue`  \n",
        "    * `print(x)`\n",
        "\n",
        "* Output: `0 1 2 3 4 6 7 8 9 10`  \n",
        "  * Skips printing `5`, continues with the rest\n",
        "\n",
        "---\n",
        "\n",
        "### Summary\n",
        "\n",
        "* `pass` → placeholder, does nothing but prevents syntax error  \n",
        "* `break` → stops the loop entirely  \n",
        "* `continue` → skips current iteration, moves to next  "
      ],
      "metadata": {
        "id": "hxVSQ4pWlaZW"
      }
    },
    {
      "cell_type": "code",
      "source": [
        "num = 2"
      ],
      "metadata": {
        "id": "QUYburvtjjtL"
      },
      "execution_count": 428,
      "outputs": []
    },
    {
      "cell_type": "code",
      "source": [
        "if num == 2:\n",
        "  pass\n",
        "else:\n",
        "  print(number)"
      ],
      "metadata": {
        "id": "t7pZSTDsjvHW"
      },
      "execution_count": 429,
      "outputs": []
    },
    {
      "cell_type": "code",
      "source": [
        "num = [0,1,2,3,4,5,6,7,8,9,10]"
      ],
      "metadata": {
        "id": "eiODEX8Zj4Qb"
      },
      "execution_count": 430,
      "outputs": []
    },
    {
      "cell_type": "code",
      "source": [
        "for x in num:\n",
        "  if x == 5:\n",
        "    pass\n",
        "  else:\n",
        "    print(x)"
      ],
      "metadata": {
        "colab": {
          "base_uri": "https://localhost:8080/"
        },
        "id": "xkfvabXmj8me",
        "outputId": "12c6489b-e60a-4cf7-a276-cbdc2fc83703"
      },
      "execution_count": 431,
      "outputs": [
        {
          "output_type": "stream",
          "name": "stdout",
          "text": [
            "0\n",
            "1\n",
            "2\n",
            "3\n",
            "4\n",
            "6\n",
            "7\n",
            "8\n",
            "9\n",
            "10\n"
          ]
        }
      ]
    },
    {
      "cell_type": "code",
      "source": [
        "num = [0,1,2,3,4,5,6,7,8,9,10]\n",
        "for x in num:\n",
        "  if x == 5:\n",
        "    break\n",
        "  print(x)"
      ],
      "metadata": {
        "colab": {
          "base_uri": "https://localhost:8080/"
        },
        "id": "NZ3MuTbikGe2",
        "outputId": "cfc32872-54de-4c92-88b7-d5699c6debd7"
      },
      "execution_count": 432,
      "outputs": [
        {
          "output_type": "stream",
          "name": "stdout",
          "text": [
            "0\n",
            "1\n",
            "2\n",
            "3\n",
            "4\n"
          ]
        }
      ]
    },
    {
      "cell_type": "code",
      "source": [
        "num = [0,1,2,3,4,5,6,7,8,9,10]\n",
        "for x in num:\n",
        "  if x==5:\n",
        "    continue\n",
        "  print(x)"
      ],
      "metadata": {
        "colab": {
          "base_uri": "https://localhost:8080/"
        },
        "id": "STwfQ1-vkuUx",
        "outputId": "83a3a4e7-14c3-4118-d160-00dcddba8043"
      },
      "execution_count": 433,
      "outputs": [
        {
          "output_type": "stream",
          "name": "stdout",
          "text": [
            "0\n",
            "1\n",
            "2\n",
            "3\n",
            "4\n",
            "6\n",
            "7\n",
            "8\n",
            "9\n",
            "10\n"
          ]
        }
      ]
    },
    {
      "cell_type": "markdown",
      "source": [
        "## Python Notes – List Comprehension\n",
        "\n",
        "### Goal\n",
        "\n",
        "* Convert a string into a list of characters\n",
        "* Example: `\"Hello World\"` → `['H', 'e', 'l', 'l', 'o', ' ', 'W', 'o', 'r', 'l', 'd']`\n",
        "\n",
        "### Traditional Approach\n",
        "\n",
        "* `hw_text = \"Hello World\"`\n",
        "* `hw_list = []`\n",
        "* `for char in hw_text:`  \n",
        "    * `hw_list.append(char)`\n",
        "* `print(hw_list)`\n",
        "\n",
        "---\n",
        "\n",
        "### List Comprehension\n",
        "\n",
        "* Shorter syntax to create lists from iterables\n",
        "* Syntax: `[expression for item in iterable]`\n",
        "* Example:\n",
        "  * `hw_list = [char for char in hw_text]`\n",
        "\n",
        "---\n",
        "\n",
        "### Modifying Each Element\n",
        "\n",
        "* Uppercase:\n",
        "  * `[char.upper() for char in hw_text]`\n",
        "\n",
        "* Duplicate each character:\n",
        "  * `[char + char for char in hw_text]`\n",
        "\n",
        "---\n",
        "\n",
        "### Equivalent Traditional Code\n",
        "\n",
        "* `hw_list = []`\n",
        "* `for char in hw_text:`  \n",
        "    * `hw_list.append(char + char)`\n",
        "\n",
        "---\n",
        "\n",
        "### Notes\n",
        "\n",
        "* List comprehension is just a **shorter version** of a `for` loop with `.append()`\n",
        "* No performance gain – use whichever is easier to read\n",
        "* List comprehensions can include conditions, but can get hard to read\n",
        "* Example with condition (not recommended if too complex):\n",
        "  * `[char for char in hw_text if char != ' ']`\n",
        "\n",
        "---\n",
        "\n",
        "### Summary\n",
        "\n",
        "* Use list comprehension to quickly build lists from iterable data\n",
        "* Enclose in square brackets `[]`\n",
        "* Read as: \"append this for each item in that\""
      ],
      "metadata": {
        "id": "a59R5QdJlkbF"
      }
    },
    {
      "cell_type": "code",
      "source": [
        "hw_text = 'hello world'\n",
        "hw_list = []"
      ],
      "metadata": {
        "id": "F3hUWni9k5LL"
      },
      "execution_count": 434,
      "outputs": []
    },
    {
      "cell_type": "code",
      "source": [
        "for character in hw_text:\n",
        "  hw_list.append(character)"
      ],
      "metadata": {
        "id": "ScpGpM-Clsw1"
      },
      "execution_count": 435,
      "outputs": []
    },
    {
      "cell_type": "code",
      "source": [
        "hw_list"
      ],
      "metadata": {
        "colab": {
          "base_uri": "https://localhost:8080/"
        },
        "id": "qp_Q79k9m89w",
        "outputId": "9f5c324d-eae8-49a0-d33e-89f34fcc01ba"
      },
      "execution_count": 436,
      "outputs": [
        {
          "output_type": "execute_result",
          "data": {
            "text/plain": [
              "['h', 'e', 'l', 'l', 'o', ' ', 'w', 'o', 'r', 'l', 'd']"
            ]
          },
          "metadata": {},
          "execution_count": 436
        }
      ]
    },
    {
      "cell_type": "code",
      "source": [
        "hw_list = [character for character in hw_text]"
      ],
      "metadata": {
        "id": "d0zIwubKm-aX"
      },
      "execution_count": 437,
      "outputs": []
    },
    {
      "cell_type": "code",
      "source": [
        "hw_list"
      ],
      "metadata": {
        "colab": {
          "base_uri": "https://localhost:8080/"
        },
        "id": "tc_LsLyPnMBv",
        "outputId": "03dcaaaa-0e25-4736-eb1a-e12313f89e12"
      },
      "execution_count": 438,
      "outputs": [
        {
          "output_type": "execute_result",
          "data": {
            "text/plain": [
              "['h', 'e', 'l', 'l', 'o', ' ', 'w', 'o', 'r', 'l', 'd']"
            ]
          },
          "metadata": {},
          "execution_count": 438
        }
      ]
    },
    {
      "cell_type": "code",
      "source": [
        "hw_list = [character.upper() for character in hw_text]"
      ],
      "metadata": {
        "id": "IuRnqi8hnNQq"
      },
      "execution_count": 439,
      "outputs": []
    },
    {
      "cell_type": "code",
      "source": [
        "hw_list"
      ],
      "metadata": {
        "colab": {
          "base_uri": "https://localhost:8080/"
        },
        "id": "uguCRBmbnaYf",
        "outputId": "0613f4a5-bf5a-41e1-fac8-9b8cea9ab427"
      },
      "execution_count": 440,
      "outputs": [
        {
          "output_type": "execute_result",
          "data": {
            "text/plain": [
              "['H', 'E', 'L', 'L', 'O', ' ', 'W', 'O', 'R', 'L', 'D']"
            ]
          },
          "metadata": {},
          "execution_count": 440
        }
      ]
    },
    {
      "cell_type": "code",
      "source": [
        "hw_list = [character+character for character in hw_text]"
      ],
      "metadata": {
        "id": "ce8kOT07nbig"
      },
      "execution_count": 441,
      "outputs": []
    },
    {
      "cell_type": "code",
      "source": [
        "hw_list"
      ],
      "metadata": {
        "colab": {
          "base_uri": "https://localhost:8080/"
        },
        "id": "aD9MMxT3nvIc",
        "outputId": "aa055053-e457-4f63-d525-0bedfb29d0ab"
      },
      "execution_count": 442,
      "outputs": [
        {
          "output_type": "execute_result",
          "data": {
            "text/plain": [
              "['hh', 'ee', 'll', 'll', 'oo', '  ', 'ww', 'oo', 'rr', 'll', 'dd']"
            ]
          },
          "metadata": {},
          "execution_count": 442
        }
      ]
    },
    {
      "cell_type": "code",
      "source": [
        "hw_list = []"
      ],
      "metadata": {
        "id": "Vw84RiVdnyZ8"
      },
      "execution_count": 443,
      "outputs": []
    },
    {
      "cell_type": "code",
      "source": [
        "for character in hw_text:\n",
        "  hw_list.append(character+character)"
      ],
      "metadata": {
        "id": "DlgGGulen1G3"
      },
      "execution_count": 444,
      "outputs": []
    },
    {
      "cell_type": "code",
      "source": [
        "hw_list"
      ],
      "metadata": {
        "colab": {
          "base_uri": "https://localhost:8080/"
        },
        "id": "KKPPvvpbn8_k",
        "outputId": "743eaba5-fcf2-48fb-d364-e1809500c987"
      },
      "execution_count": 445,
      "outputs": [
        {
          "output_type": "execute_result",
          "data": {
            "text/plain": [
              "['hh', 'ee', 'll', 'll', 'oo', '  ', 'ww', 'oo', 'rr', 'll', 'dd']"
            ]
          },
          "metadata": {},
          "execution_count": 445
        }
      ]
    },
    {
      "cell_type": "markdown",
      "source": [
        "## Python Notes – in and not in Operators\n",
        "\n",
        "### Purpose\n",
        "\n",
        "* `in` → returns `True` if the element exists in the object\n",
        "* `not in` → returns `True` if the element does **not** exist in the object\n",
        "\n",
        "---\n",
        "\n",
        "### Usage with Lists\n",
        "\n",
        "* `list1 = [1, 2, 3, 4, 5]`\n",
        "* `4 in list1` → `True`\n",
        "* `6 in list1` → `False`\n",
        "* `6 not in list1` → `True`\n",
        "\n",
        "---\n",
        "\n",
        "### Usage with Tuples\n",
        "\n",
        "* `tuple1 = (1, 2, 3)`\n",
        "* `1 in tuple1` → `True`\n",
        "* `4 not in tuple1` → `True`\n",
        "\n",
        "---\n",
        "\n",
        "### Usage with Sets\n",
        "\n",
        "* `set1 = {1, 2, 3}`\n",
        "* `2 in set1` → `True`\n",
        "* `5 not in set1` → `True`\n",
        "\n",
        "---\n",
        "\n",
        "### Usage with Strings\n",
        "\n",
        "* `str1 = \"Hello\"`\n",
        "* `'H' in str1` → `True`\n",
        "* `'h' in str1` → `False` (case-sensitive)\n",
        "* `'lo' in str1` → `True` (substring check)\n",
        "* `'z' not in str1` → `True`\n",
        "\n",
        "---\n",
        "\n",
        "### Usage with Dictionaries\n",
        "\n",
        "* `dict1 = {\"key1\": \"value1\", \"key2\": \"value2\"}`\n",
        "\n",
        "* `key1 in dict1` → `True` (checks only **keys** by default)\n",
        "* `value1 in dict1` → `False`\n",
        "* `\"value1\" in dict1.values()` → `True`\n",
        "\n",
        "---\n",
        "\n",
        "### Summary\n",
        "\n",
        "* `in` → check presence  \n",
        "* `not in` → check absence  \n",
        "* Works with list, tuple, set, string, and dictionary  \n",
        "* For dictionaries, use `.values()` to check in values"
      ],
      "metadata": {
        "id": "SqXHgzJlo3ve"
      }
    },
    {
      "cell_type": "code",
      "source": [
        "list1 = [1,2,3,4,5]"
      ],
      "metadata": {
        "id": "uBsscWHJpNuM"
      },
      "execution_count": 446,
      "outputs": []
    },
    {
      "cell_type": "code",
      "source": [
        "5 in list1"
      ],
      "metadata": {
        "colab": {
          "base_uri": "https://localhost:8080/"
        },
        "id": "u4-5_oWUpQ2w",
        "outputId": "d932c954-005d-4ed2-a51a-1f89716013b0"
      },
      "execution_count": 447,
      "outputs": [
        {
          "output_type": "execute_result",
          "data": {
            "text/plain": [
              "True"
            ]
          },
          "metadata": {},
          "execution_count": 447
        }
      ]
    },
    {
      "cell_type": "code",
      "source": [
        "7 in list1"
      ],
      "metadata": {
        "colab": {
          "base_uri": "https://localhost:8080/"
        },
        "id": "iRidpuoZpS8i",
        "outputId": "dd1c950a-e25c-4680-c939-24cb5895b7d1"
      },
      "execution_count": 448,
      "outputs": [
        {
          "output_type": "execute_result",
          "data": {
            "text/plain": [
              "False"
            ]
          },
          "metadata": {},
          "execution_count": 448
        }
      ]
    },
    {
      "cell_type": "code",
      "source": [
        "tup1 = (1,2,3,4,5)\n",
        "set1 = {1,2,3,4,5}"
      ],
      "metadata": {
        "id": "9RgW_TK6pUtb"
      },
      "execution_count": 449,
      "outputs": []
    },
    {
      "cell_type": "code",
      "source": [
        "2 in tup1"
      ],
      "metadata": {
        "colab": {
          "base_uri": "https://localhost:8080/"
        },
        "id": "TdGoswUSpsEc",
        "outputId": "ac650b81-7ab9-441f-a821-08e530d3a20a"
      },
      "execution_count": 450,
      "outputs": [
        {
          "output_type": "execute_result",
          "data": {
            "text/plain": [
              "True"
            ]
          },
          "metadata": {},
          "execution_count": 450
        }
      ]
    },
    {
      "cell_type": "code",
      "source": [
        "4 in set1"
      ],
      "metadata": {
        "colab": {
          "base_uri": "https://localhost:8080/"
        },
        "id": "AlqJf8nept0E",
        "outputId": "3361754a-85e2-4b2b-cbf8-c09a142b700a"
      },
      "execution_count": 451,
      "outputs": [
        {
          "output_type": "execute_result",
          "data": {
            "text/plain": [
              "True"
            ]
          },
          "metadata": {},
          "execution_count": 451
        }
      ]
    },
    {
      "cell_type": "code",
      "source": [
        "5 not in set1"
      ],
      "metadata": {
        "colab": {
          "base_uri": "https://localhost:8080/"
        },
        "id": "EmIhWli5pvpD",
        "outputId": "bf06afe2-759b-468a-ee1e-516db49ae150"
      },
      "execution_count": 452,
      "outputs": [
        {
          "output_type": "execute_result",
          "data": {
            "text/plain": [
              "False"
            ]
          },
          "metadata": {},
          "execution_count": 452
        }
      ]
    },
    {
      "cell_type": "code",
      "source": [
        "str1 = \"Hello\""
      ],
      "metadata": {
        "id": "9p5WW1whpyjk"
      },
      "execution_count": 453,
      "outputs": []
    },
    {
      "cell_type": "code",
      "source": [
        "'H' in str1"
      ],
      "metadata": {
        "colab": {
          "base_uri": "https://localhost:8080/"
        },
        "id": "x9LxQ6TDp3v9",
        "outputId": "fedf87d3-5d10-4790-fa43-48a2bdff62b0"
      },
      "execution_count": 454,
      "outputs": [
        {
          "output_type": "execute_result",
          "data": {
            "text/plain": [
              "True"
            ]
          },
          "metadata": {},
          "execution_count": 454
        }
      ]
    },
    {
      "cell_type": "code",
      "source": [
        "'h' in str1"
      ],
      "metadata": {
        "colab": {
          "base_uri": "https://localhost:8080/"
        },
        "id": "XDO4GaS5qHjY",
        "outputId": "d66a88cf-e8d1-41d0-a804-912ea4a67288"
      },
      "execution_count": 455,
      "outputs": [
        {
          "output_type": "execute_result",
          "data": {
            "text/plain": [
              "False"
            ]
          },
          "metadata": {},
          "execution_count": 455
        }
      ]
    },
    {
      "cell_type": "code",
      "source": [
        "'Hel' in str1"
      ],
      "metadata": {
        "colab": {
          "base_uri": "https://localhost:8080/"
        },
        "id": "o7hve-xuqMAd",
        "outputId": "5045f96b-98b2-45b9-c5df-5906b0371908"
      },
      "execution_count": 456,
      "outputs": [
        {
          "output_type": "execute_result",
          "data": {
            "text/plain": [
              "True"
            ]
          },
          "metadata": {},
          "execution_count": 456
        }
      ]
    },
    {
      "cell_type": "code",
      "source": [
        "dict1 = {'key1':'value1','key2':'value2'}"
      ],
      "metadata": {
        "id": "BttIdV1nqOvf"
      },
      "execution_count": 457,
      "outputs": []
    },
    {
      "cell_type": "code",
      "source": [
        "'key1' in dict1"
      ],
      "metadata": {
        "colab": {
          "base_uri": "https://localhost:8080/"
        },
        "id": "FciPb-UvqTVC",
        "outputId": "b9e137ab-de7c-403a-847c-92204f65d581"
      },
      "execution_count": 458,
      "outputs": [
        {
          "output_type": "execute_result",
          "data": {
            "text/plain": [
              "True"
            ]
          },
          "metadata": {},
          "execution_count": 458
        }
      ]
    },
    {
      "cell_type": "code",
      "source": [
        "'value1' in dict1"
      ],
      "metadata": {
        "colab": {
          "base_uri": "https://localhost:8080/"
        },
        "id": "UVOLR1ZqqX2S",
        "outputId": "1251c252-8bd6-467c-f226-37786b33f033"
      },
      "execution_count": 459,
      "outputs": [
        {
          "output_type": "execute_result",
          "data": {
            "text/plain": [
              "False"
            ]
          },
          "metadata": {},
          "execution_count": 459
        }
      ]
    },
    {
      "cell_type": "code",
      "source": [
        "dict1.items()"
      ],
      "metadata": {
        "colab": {
          "base_uri": "https://localhost:8080/"
        },
        "id": "ch-XK-etqog7",
        "outputId": "9faac91c-4afc-4c83-f089-0c6a00ff2c33"
      },
      "execution_count": 460,
      "outputs": [
        {
          "output_type": "execute_result",
          "data": {
            "text/plain": [
              "dict_items([('key1', 'value1'), ('key2', 'value2')])"
            ]
          },
          "metadata": {},
          "execution_count": 460
        }
      ]
    },
    {
      "cell_type": "code",
      "source": [
        "'value1' in dict1.items()"
      ],
      "metadata": {
        "colab": {
          "base_uri": "https://localhost:8080/"
        },
        "id": "uvYlzBatqfQZ",
        "outputId": "cc9f08f4-2f29-45bc-b97b-daa166febf3f"
      },
      "execution_count": 461,
      "outputs": [
        {
          "output_type": "execute_result",
          "data": {
            "text/plain": [
              "False"
            ]
          },
          "metadata": {},
          "execution_count": 461
        }
      ]
    },
    {
      "cell_type": "code",
      "source": [
        "dict1.values()"
      ],
      "metadata": {
        "colab": {
          "base_uri": "https://localhost:8080/"
        },
        "id": "qOYAdghwqj1M",
        "outputId": "533a2939-ffb6-4ac8-cbe4-fb776325e7ca"
      },
      "execution_count": 462,
      "outputs": [
        {
          "output_type": "execute_result",
          "data": {
            "text/plain": [
              "dict_values(['value1', 'value2'])"
            ]
          },
          "metadata": {},
          "execution_count": 462
        }
      ]
    },
    {
      "cell_type": "code",
      "source": [
        "'value1' in dict1.values()"
      ],
      "metadata": {
        "colab": {
          "base_uri": "https://localhost:8080/"
        },
        "id": "5nO9ESSbqujG",
        "outputId": "98a5037d-329e-40ed-c39c-c085c7300436"
      },
      "execution_count": 463,
      "outputs": [
        {
          "output_type": "execute_result",
          "data": {
            "text/plain": [
              "True"
            ]
          },
          "metadata": {},
          "execution_count": 463
        }
      ]
    },
    {
      "cell_type": "markdown",
      "source": [
        "## Python Notes – Built-in Functions\n",
        "\n",
        "### Function vs Method\n",
        "\n",
        "* **Function**: works on multiple data types (e.g., `print()`, `len()`)\n",
        "* **Method**: tied to specific data types, used with dot notation (e.g., `str.upper()`)\n",
        "\n",
        "---\n",
        "\n",
        "### Common Built-in Functions\n",
        "\n",
        "* `print(obj)` → prints object (string, list, dict, etc.)\n",
        "* `type(obj)` → returns data type of object\n",
        "* `help(obj)` → returns documentation for object\n",
        "\n",
        "---\n",
        "\n",
        "### Math Functions\n",
        "\n",
        "* `pow(base, exp)` → returns base raised to exp  \n",
        "  * `pow(2, 3)` → `8`\n",
        "* `sum(iterable)` → adds all numeric values\n",
        "* `max(iterable)` → returns largest value\n",
        "* `min(iterable)` → returns smallest value\n",
        "\n",
        "---\n",
        "\n",
        "### len(), round()\n",
        "\n",
        "* `len(obj)` → number of elements in iterable  \n",
        "  * `len([1,2,3])` → `3`  \n",
        "  * `len(\"Hello\")` → `5`\n",
        "\n",
        "* `round(number, digits)` → rounds to decimal places  \n",
        "  * `round(100/3, 2)` → `33.33`\n",
        "\n",
        "---\n",
        "\n",
        "### range()\n",
        "\n",
        "* `range(start, stop, step)` → returns a sequence  \n",
        "  * `list(range(0, 11, 2))` → `[0, 2, 4, 6, 8, 10]`\n",
        "* Can be looped over using `for` loop\n",
        "\n",
        "---\n",
        "\n",
        "### sorted()\n",
        "\n",
        "* `sorted(iterable)` → returns a sorted list  \n",
        "  * `sorted(\"hello\")` → `['e', 'h', 'l', 'l', 'o']`\n",
        "  * `sorted([3, 1, 2])` → `[1, 2, 3]`\n",
        "\n",
        "---\n",
        "\n",
        "### input()\n",
        "\n",
        "* `input()` → takes user input as a string  \n",
        "* Convert input type:\n",
        "  * `int(input())` → converts to integer\n",
        "  * `float(input())` → converts to float\n",
        "\n",
        "---\n",
        "\n",
        "### Type Conversion\n",
        "\n",
        "* `list(obj)` → converts to list\n",
        "* `tuple(obj)` → converts to tuple\n",
        "* `set(obj)` → converts to set\n",
        "* `str(obj)` → converts to string\n",
        "\n",
        "---\n",
        "\n",
        "### zip()\n",
        "\n",
        "* `zip(obj1, obj2, ...)` → combines elements by index  \n",
        "* Returns zip object, convert to list/tuple/set\n",
        "* Example:\n",
        "  * `zip([1,2], [3,4])` → `[(1,3), (2,4)]`\n",
        "  * Stops at the shortest object length\n",
        "\n",
        "---\n",
        "\n",
        "### enumerate()\n",
        "\n",
        "* `enumerate(iterable)` → pairs index with item\n",
        "* Convert to list/tuple/set/dict:\n",
        "  * `list(enumerate(['a','b']))` → `[(0, 'a'), (1, 'b')]`\n",
        "  * `dict(enumerate('cat'))` → `{0: 'c', 1: 'a', 2: 't'}`\n",
        "\n",
        "---\n",
        "\n",
        "### Summary\n",
        "\n",
        "* Functions like `print`, `type`, `sum`, `len`, `input`, `zip`, `enumerate` help with common tasks\n",
        "* Useful for working with all data types\n",
        "* Refer to Python docs or use `help()` for more details"
      ],
      "metadata": {
        "id": "twaBz6kRtwlX"
      }
    },
    {
      "cell_type": "code",
      "source": [
        "print(\"Hey!\")"
      ],
      "metadata": {
        "colab": {
          "base_uri": "https://localhost:8080/"
        },
        "id": "N43EBH4utxCh",
        "outputId": "acf34e79-749d-44b0-cf08-09b6bc0519ef"
      },
      "execution_count": 464,
      "outputs": [
        {
          "output_type": "stream",
          "name": "stdout",
          "text": [
            "Hey!\n"
          ]
        }
      ]
    },
    {
      "cell_type": "code",
      "source": [
        "print([1,2,3,4])"
      ],
      "metadata": {
        "colab": {
          "base_uri": "https://localhost:8080/"
        },
        "id": "alSPyrWPuRDu",
        "outputId": "4a968c87-6fc2-4425-d981-dbe6bac314e2"
      },
      "execution_count": 465,
      "outputs": [
        {
          "output_type": "stream",
          "name": "stdout",
          "text": [
            "[1, 2, 3, 4]\n"
          ]
        }
      ]
    },
    {
      "cell_type": "code",
      "source": [
        "print({'brand': 'Ford','model': 'Mustang','year': 1964})"
      ],
      "metadata": {
        "colab": {
          "base_uri": "https://localhost:8080/"
        },
        "id": "7VRbrUd0uTQl",
        "outputId": "0cf9e129-76d2-4187-932f-a67761f748d6"
      },
      "execution_count": 466,
      "outputs": [
        {
          "output_type": "stream",
          "name": "stdout",
          "text": [
            "{'brand': 'Ford', 'model': 'Mustang', 'year': 1964}\n"
          ]
        }
      ]
    },
    {
      "cell_type": "code",
      "source": [
        "type('Hey!')"
      ],
      "metadata": {
        "colab": {
          "base_uri": "https://localhost:8080/"
        },
        "id": "yre6fQO-ua5-",
        "outputId": "48af47df-b3d1-4f66-85be-42a4c141f8d8"
      },
      "execution_count": 467,
      "outputs": [
        {
          "output_type": "execute_result",
          "data": {
            "text/plain": [
              "str"
            ]
          },
          "metadata": {},
          "execution_count": 467
        }
      ]
    },
    {
      "cell_type": "code",
      "source": [
        "type([4,5,6])"
      ],
      "metadata": {
        "colab": {
          "base_uri": "https://localhost:8080/"
        },
        "id": "58UCQlBQuewl",
        "outputId": "68c86b1b-20a1-4a05-a7f7-48f2abb56a0e"
      },
      "execution_count": 468,
      "outputs": [
        {
          "output_type": "execute_result",
          "data": {
            "text/plain": [
              "list"
            ]
          },
          "metadata": {},
          "execution_count": 468
        }
      ]
    },
    {
      "cell_type": "code",
      "source": [
        "type({1,3,5,6})"
      ],
      "metadata": {
        "colab": {
          "base_uri": "https://localhost:8080/"
        },
        "id": "m70gJbAOuhdN",
        "outputId": "040773a0-d149-4a4a-a0cc-83da2d204b96"
      },
      "execution_count": 469,
      "outputs": [
        {
          "output_type": "execute_result",
          "data": {
            "text/plain": [
              "set"
            ]
          },
          "metadata": {},
          "execution_count": 469
        }
      ]
    },
    {
      "cell_type": "code",
      "source": [
        "#help('numpy')"
      ],
      "metadata": {
        "id": "4LkdGfwPukAW"
      },
      "execution_count": 470,
      "outputs": []
    },
    {
      "cell_type": "code",
      "source": [
        "pow(3,4)"
      ],
      "metadata": {
        "colab": {
          "base_uri": "https://localhost:8080/"
        },
        "id": "UKgPEjn7vHrL",
        "outputId": "1d7e6310-1c9f-44b7-a33e-59af792d6257"
      },
      "execution_count": 471,
      "outputs": [
        {
          "output_type": "execute_result",
          "data": {
            "text/plain": [
              "81"
            ]
          },
          "metadata": {},
          "execution_count": 471
        }
      ]
    },
    {
      "cell_type": "code",
      "source": [
        "list_num = [4,5,6,9]\n",
        "set_num = [4,5,6,9]\n",
        "tup_num = {4,5,6,9}"
      ],
      "metadata": {
        "id": "KmACJ7Isvqfy"
      },
      "execution_count": 472,
      "outputs": []
    },
    {
      "cell_type": "code",
      "source": [
        "sum(list_num)"
      ],
      "metadata": {
        "colab": {
          "base_uri": "https://localhost:8080/"
        },
        "id": "NCIbETXJv_KG",
        "outputId": "ef3382c3-5d84-4b4c-ef38-736dec6811e7"
      },
      "execution_count": 473,
      "outputs": [
        {
          "output_type": "execute_result",
          "data": {
            "text/plain": [
              "24"
            ]
          },
          "metadata": {},
          "execution_count": 473
        }
      ]
    },
    {
      "cell_type": "code",
      "source": [
        "sum(set_num)"
      ],
      "metadata": {
        "colab": {
          "base_uri": "https://localhost:8080/"
        },
        "id": "l_SmyqyowBav",
        "outputId": "2f9fecf0-9812-4db7-f140-5395a94bf9f8"
      },
      "execution_count": 474,
      "outputs": [
        {
          "output_type": "execute_result",
          "data": {
            "text/plain": [
              "24"
            ]
          },
          "metadata": {},
          "execution_count": 474
        }
      ]
    },
    {
      "cell_type": "code",
      "source": [
        "sum(tup_num)"
      ],
      "metadata": {
        "colab": {
          "base_uri": "https://localhost:8080/"
        },
        "id": "B7e_hu3gwDMZ",
        "outputId": "f748f0c1-d726-415c-96cd-a3b36a2403d2"
      },
      "execution_count": 475,
      "outputs": [
        {
          "output_type": "execute_result",
          "data": {
            "text/plain": [
              "24"
            ]
          },
          "metadata": {},
          "execution_count": 475
        }
      ]
    },
    {
      "cell_type": "code",
      "source": [
        "max(list_num)"
      ],
      "metadata": {
        "colab": {
          "base_uri": "https://localhost:8080/"
        },
        "id": "giijxRDawE9N",
        "outputId": "d5a0aaaa-2e32-4f8b-8737-2944503882f6"
      },
      "execution_count": 476,
      "outputs": [
        {
          "output_type": "execute_result",
          "data": {
            "text/plain": [
              "9"
            ]
          },
          "metadata": {},
          "execution_count": 476
        }
      ]
    },
    {
      "cell_type": "code",
      "source": [
        "min(tup_num)"
      ],
      "metadata": {
        "colab": {
          "base_uri": "https://localhost:8080/"
        },
        "id": "Pj0LcGYKwVLh",
        "outputId": "547da414-2d76-4548-88cc-23ad88e4deaf"
      },
      "execution_count": 477,
      "outputs": [
        {
          "output_type": "execute_result",
          "data": {
            "text/plain": [
              "4"
            ]
          },
          "metadata": {},
          "execution_count": 477
        }
      ]
    },
    {
      "cell_type": "code",
      "source": [
        "max('helloz')"
      ],
      "metadata": {
        "colab": {
          "base_uri": "https://localhost:8080/",
          "height": 35
        },
        "id": "lErr6byNwW6j",
        "outputId": "d1075869-75b4-4e18-81af-530c9b66a6ce"
      },
      "execution_count": 478,
      "outputs": [
        {
          "output_type": "execute_result",
          "data": {
            "text/plain": [
              "'z'"
            ],
            "application/vnd.google.colaboratory.intrinsic+json": {
              "type": "string"
            }
          },
          "metadata": {},
          "execution_count": 478
        }
      ]
    },
    {
      "cell_type": "code",
      "source": [
        "min('helloz')"
      ],
      "metadata": {
        "colab": {
          "base_uri": "https://localhost:8080/",
          "height": 35
        },
        "id": "mDMCGSYAwaL9",
        "outputId": "3b935279-2d82-490f-ede3-4a8459f67b5a"
      },
      "execution_count": 479,
      "outputs": [
        {
          "output_type": "execute_result",
          "data": {
            "text/plain": [
              "'e'"
            ],
            "application/vnd.google.colaboratory.intrinsic+json": {
              "type": "string"
            }
          },
          "metadata": {},
          "execution_count": 479
        }
      ]
    },
    {
      "cell_type": "code",
      "source": [
        "min(['a','b','o'])"
      ],
      "metadata": {
        "colab": {
          "base_uri": "https://localhost:8080/",
          "height": 35
        },
        "id": "kXAZv-1Cwdtt",
        "outputId": "fd2dd5a5-f07e-4695-cac2-f3c28548245a"
      },
      "execution_count": 480,
      "outputs": [
        {
          "output_type": "execute_result",
          "data": {
            "text/plain": [
              "'a'"
            ],
            "application/vnd.google.colaboratory.intrinsic+json": {
              "type": "string"
            }
          },
          "metadata": {},
          "execution_count": 480
        }
      ]
    },
    {
      "cell_type": "code",
      "source": [
        "max(['a','b','o'])"
      ],
      "metadata": {
        "colab": {
          "base_uri": "https://localhost:8080/",
          "height": 35
        },
        "id": "CSxxflEgwi7z",
        "outputId": "6f2ab6cd-2cb1-45b0-9d14-1ce7d9521e91"
      },
      "execution_count": 481,
      "outputs": [
        {
          "output_type": "execute_result",
          "data": {
            "text/plain": [
              "'o'"
            ],
            "application/vnd.google.colaboratory.intrinsic+json": {
              "type": "string"
            }
          },
          "metadata": {},
          "execution_count": 481
        }
      ]
    },
    {
      "cell_type": "code",
      "source": [
        "len(list_num)"
      ],
      "metadata": {
        "colab": {
          "base_uri": "https://localhost:8080/"
        },
        "id": "5NOKajKgwly3",
        "outputId": "f7bea26e-3d69-412f-e250-19e5b6486eb3"
      },
      "execution_count": 482,
      "outputs": [
        {
          "output_type": "execute_result",
          "data": {
            "text/plain": [
              "4"
            ]
          },
          "metadata": {},
          "execution_count": 482
        }
      ]
    },
    {
      "cell_type": "code",
      "source": [
        "len('hello world')"
      ],
      "metadata": {
        "colab": {
          "base_uri": "https://localhost:8080/"
        },
        "id": "ZA7OYaiPwo_1",
        "outputId": "5ec220ea-57be-4a4b-bf98-28168a7007c7"
      },
      "execution_count": 483,
      "outputs": [
        {
          "output_type": "execute_result",
          "data": {
            "text/plain": [
              "11"
            ]
          },
          "metadata": {},
          "execution_count": 483
        }
      ]
    },
    {
      "cell_type": "code",
      "source": [
        "x = 100/3"
      ],
      "metadata": {
        "id": "S047PTkDwscz"
      },
      "execution_count": 484,
      "outputs": []
    },
    {
      "cell_type": "code",
      "source": [
        "x"
      ],
      "metadata": {
        "colab": {
          "base_uri": "https://localhost:8080/"
        },
        "id": "mhgy0GyjwuRC",
        "outputId": "71b9b454-a87a-458a-bc52-560c9a07cd6b"
      },
      "execution_count": 485,
      "outputs": [
        {
          "output_type": "execute_result",
          "data": {
            "text/plain": [
              "33.333333333333336"
            ]
          },
          "metadata": {},
          "execution_count": 485
        }
      ]
    },
    {
      "cell_type": "code",
      "source": [
        "round(x)"
      ],
      "metadata": {
        "colab": {
          "base_uri": "https://localhost:8080/"
        },
        "id": "PmnWy_lexn6b",
        "outputId": "19e27931-4605-4e26-ff79-422deee5f708"
      },
      "execution_count": 486,
      "outputs": [
        {
          "output_type": "execute_result",
          "data": {
            "text/plain": [
              "33"
            ]
          },
          "metadata": {},
          "execution_count": 486
        }
      ]
    },
    {
      "cell_type": "code",
      "source": [
        "round(x,2)"
      ],
      "metadata": {
        "colab": {
          "base_uri": "https://localhost:8080/"
        },
        "id": "zfYPj4LsxqlA",
        "outputId": "0780e11c-9f82-49e0-9ed7-e37ca7307f07"
      },
      "execution_count": 487,
      "outputs": [
        {
          "output_type": "execute_result",
          "data": {
            "text/plain": [
              "33.33"
            ]
          },
          "metadata": {},
          "execution_count": 487
        }
      ]
    },
    {
      "cell_type": "code",
      "source": [
        "range(4,20,2)"
      ],
      "metadata": {
        "colab": {
          "base_uri": "https://localhost:8080/"
        },
        "id": "9KqZi8JaxsqM",
        "outputId": "0fa5e0ed-536b-40c9-b835-e332e9152e81"
      },
      "execution_count": 488,
      "outputs": [
        {
          "output_type": "execute_result",
          "data": {
            "text/plain": [
              "range(4, 20, 2)"
            ]
          },
          "metadata": {},
          "execution_count": 488
        }
      ]
    },
    {
      "cell_type": "code",
      "source": [
        "x = range(4,20,2)"
      ],
      "metadata": {
        "id": "F4qbMulvxw-W"
      },
      "execution_count": 489,
      "outputs": []
    },
    {
      "cell_type": "code",
      "source": [
        "x"
      ],
      "metadata": {
        "colab": {
          "base_uri": "https://localhost:8080/"
        },
        "id": "PJGLBnjGx56F",
        "outputId": "f5b345a9-0197-438e-cf25-24f6ee0ceaaa"
      },
      "execution_count": 490,
      "outputs": [
        {
          "output_type": "execute_result",
          "data": {
            "text/plain": [
              "range(4, 20, 2)"
            ]
          },
          "metadata": {},
          "execution_count": 490
        }
      ]
    },
    {
      "cell_type": "code",
      "source": [
        "tuple(x)"
      ],
      "metadata": {
        "colab": {
          "base_uri": "https://localhost:8080/"
        },
        "id": "3P8ZZ-xsx6Vn",
        "outputId": "9601f1ad-503a-495b-880a-6d881060c48a"
      },
      "execution_count": 491,
      "outputs": [
        {
          "output_type": "execute_result",
          "data": {
            "text/plain": [
              "(4, 6, 8, 10, 12, 14, 16, 18)"
            ]
          },
          "metadata": {},
          "execution_count": 491
        }
      ]
    },
    {
      "cell_type": "code",
      "source": [
        "list(x)"
      ],
      "metadata": {
        "colab": {
          "base_uri": "https://localhost:8080/"
        },
        "id": "aad1hk8Jx95v",
        "outputId": "75fb62a7-b837-4447-9ca0-545bb42908ab"
      },
      "execution_count": 492,
      "outputs": [
        {
          "output_type": "execute_result",
          "data": {
            "text/plain": [
              "[4, 6, 8, 10, 12, 14, 16, 18]"
            ]
          },
          "metadata": {},
          "execution_count": 492
        }
      ]
    },
    {
      "cell_type": "code",
      "source": [
        "for num in x:\n",
        "  print(num)"
      ],
      "metadata": {
        "colab": {
          "base_uri": "https://localhost:8080/"
        },
        "id": "zKGMwahayHgS",
        "outputId": "cd0e5d1b-4ce8-4b98-9b8e-b86acd856158"
      },
      "execution_count": 493,
      "outputs": [
        {
          "output_type": "stream",
          "name": "stdout",
          "text": [
            "4\n",
            "6\n",
            "8\n",
            "10\n",
            "12\n",
            "14\n",
            "16\n",
            "18\n"
          ]
        }
      ]
    },
    {
      "cell_type": "code",
      "source": [
        "sorted('hello')"
      ],
      "metadata": {
        "colab": {
          "base_uri": "https://localhost:8080/"
        },
        "id": "DaLDuPwxyNNz",
        "outputId": "ecda541d-1fb3-46d2-e57c-f85c5acf7e7e"
      },
      "execution_count": 494,
      "outputs": [
        {
          "output_type": "execute_result",
          "data": {
            "text/plain": [
              "['e', 'h', 'l', 'l', 'o']"
            ]
          },
          "metadata": {},
          "execution_count": 494
        }
      ]
    },
    {
      "cell_type": "code",
      "source": [
        "sorted([1,2,5,6,3,9,2,7])"
      ],
      "metadata": {
        "colab": {
          "base_uri": "https://localhost:8080/"
        },
        "id": "iuMBbLS1ySTa",
        "outputId": "82319298-40c4-4ad0-8e5a-46022d00d0ee"
      },
      "execution_count": 495,
      "outputs": [
        {
          "output_type": "execute_result",
          "data": {
            "text/plain": [
              "[1, 2, 2, 3, 5, 6, 7, 9]"
            ]
          },
          "metadata": {},
          "execution_count": 495
        }
      ]
    },
    {
      "cell_type": "code",
      "source": [
        "input()"
      ],
      "metadata": {
        "colab": {
          "base_uri": "https://localhost:8080/",
          "height": 53
        },
        "id": "8i1q3xf9yY56",
        "outputId": "280c3c9e-a4e0-45b6-e031-e628f4b5eed5"
      },
      "execution_count": 496,
      "outputs": [
        {
          "name": "stdout",
          "output_type": "stream",
          "text": [
            "Hey!\n"
          ]
        },
        {
          "output_type": "execute_result",
          "data": {
            "text/plain": [
              "'Hey!'"
            ],
            "application/vnd.google.colaboratory.intrinsic+json": {
              "type": "string"
            }
          },
          "metadata": {},
          "execution_count": 496
        }
      ]
    },
    {
      "cell_type": "code",
      "source": [
        "x = input()"
      ],
      "metadata": {
        "colab": {
          "base_uri": "https://localhost:8080/"
        },
        "id": "xjCehdP7yn3u",
        "outputId": "d140befc-4a77-494c-a037-7f4cab378368"
      },
      "execution_count": 497,
      "outputs": [
        {
          "name": "stdout",
          "output_type": "stream",
          "text": [
            "2456\n"
          ]
        }
      ]
    },
    {
      "cell_type": "code",
      "source": [
        "x"
      ],
      "metadata": {
        "colab": {
          "base_uri": "https://localhost:8080/",
          "height": 35
        },
        "id": "DasMmwWqytpM",
        "outputId": "91ed9004-1d8e-490b-fd29-86be85433c55"
      },
      "execution_count": 498,
      "outputs": [
        {
          "output_type": "execute_result",
          "data": {
            "text/plain": [
              "'2456'"
            ],
            "application/vnd.google.colaboratory.intrinsic+json": {
              "type": "string"
            }
          },
          "metadata": {},
          "execution_count": 498
        }
      ]
    },
    {
      "cell_type": "code",
      "source": [
        "num = input()"
      ],
      "metadata": {
        "colab": {
          "base_uri": "https://localhost:8080/"
        },
        "id": "Jkvsp1MWywnA",
        "outputId": "0c8b84d2-a2ba-4471-b6bb-05c4ffbe7fee"
      },
      "execution_count": 499,
      "outputs": [
        {
          "name": "stdout",
          "output_type": "stream",
          "text": [
            "27823662\n"
          ]
        }
      ]
    },
    {
      "cell_type": "code",
      "source": [
        "num"
      ],
      "metadata": {
        "colab": {
          "base_uri": "https://localhost:8080/",
          "height": 35
        },
        "id": "0rUE_THlyz_Y",
        "outputId": "bce8cdb2-a63d-4f61-f882-accf8047245a"
      },
      "execution_count": 500,
      "outputs": [
        {
          "output_type": "execute_result",
          "data": {
            "text/plain": [
              "'27823662'"
            ],
            "application/vnd.google.colaboratory.intrinsic+json": {
              "type": "string"
            }
          },
          "metadata": {},
          "execution_count": 500
        }
      ]
    },
    {
      "cell_type": "code",
      "source": [
        "x = int(input())"
      ],
      "metadata": {
        "colab": {
          "base_uri": "https://localhost:8080/"
        },
        "id": "b4Qwx434y22G",
        "outputId": "a9cc6007-962e-479d-ef3a-e34d9fe11757"
      },
      "execution_count": 501,
      "outputs": [
        {
          "name": "stdout",
          "output_type": "stream",
          "text": [
            "27266\n"
          ]
        }
      ]
    },
    {
      "cell_type": "code",
      "source": [
        "x"
      ],
      "metadata": {
        "colab": {
          "base_uri": "https://localhost:8080/"
        },
        "id": "Q-kxgOfvzJHi",
        "outputId": "4d3a16f3-86b5-4f29-ac3e-88a7b6da5524"
      },
      "execution_count": 502,
      "outputs": [
        {
          "output_type": "execute_result",
          "data": {
            "text/plain": [
              "27266"
            ]
          },
          "metadata": {},
          "execution_count": 502
        }
      ]
    },
    {
      "cell_type": "code",
      "source": [
        "type(x)"
      ],
      "metadata": {
        "colab": {
          "base_uri": "https://localhost:8080/"
        },
        "id": "Y5v3AmI5zLh6",
        "outputId": "6ed05788-5d23-4dab-95bf-c2d6db740088"
      },
      "execution_count": 503,
      "outputs": [
        {
          "output_type": "execute_result",
          "data": {
            "text/plain": [
              "int"
            ]
          },
          "metadata": {},
          "execution_count": 503
        }
      ]
    },
    {
      "cell_type": "code",
      "source": [
        "x = float(x)"
      ],
      "metadata": {
        "id": "xz_67P9pzN73"
      },
      "execution_count": 504,
      "outputs": []
    },
    {
      "cell_type": "code",
      "source": [
        "x"
      ],
      "metadata": {
        "colab": {
          "base_uri": "https://localhost:8080/"
        },
        "id": "ygho5V7jzQUg",
        "outputId": "f9af3cf1-9761-467a-969a-530e933c12b5"
      },
      "execution_count": 505,
      "outputs": [
        {
          "output_type": "execute_result",
          "data": {
            "text/plain": [
              "27266.0"
            ]
          },
          "metadata": {},
          "execution_count": 505
        }
      ]
    },
    {
      "cell_type": "code",
      "source": [
        "type(x)"
      ],
      "metadata": {
        "colab": {
          "base_uri": "https://localhost:8080/"
        },
        "id": "a3mnsvqPzRSA",
        "outputId": "25960dd7-9fb3-4f24-d6bd-943e1f0befea"
      },
      "execution_count": 506,
      "outputs": [
        {
          "output_type": "execute_result",
          "data": {
            "text/plain": [
              "float"
            ]
          },
          "metadata": {},
          "execution_count": 506
        }
      ]
    },
    {
      "cell_type": "code",
      "source": [
        "list1 = [12,3,5]"
      ],
      "metadata": {
        "id": "VZgfFfuCzSm6"
      },
      "execution_count": 507,
      "outputs": []
    },
    {
      "cell_type": "code",
      "source": [
        "list1"
      ],
      "metadata": {
        "colab": {
          "base_uri": "https://localhost:8080/"
        },
        "id": "y7FCMo-LziCA",
        "outputId": "d132618d-2789-40da-c57c-2b97ec827e67"
      },
      "execution_count": 508,
      "outputs": [
        {
          "output_type": "execute_result",
          "data": {
            "text/plain": [
              "[12, 3, 5]"
            ]
          },
          "metadata": {},
          "execution_count": 508
        }
      ]
    },
    {
      "cell_type": "code",
      "source": [
        "tuple(list1)"
      ],
      "metadata": {
        "colab": {
          "base_uri": "https://localhost:8080/"
        },
        "id": "qVEMqvcuzj7W",
        "outputId": "bda2fdb0-ebd9-411d-af66-70aecc899aa7"
      },
      "execution_count": 509,
      "outputs": [
        {
          "output_type": "execute_result",
          "data": {
            "text/plain": [
              "(12, 3, 5)"
            ]
          },
          "metadata": {},
          "execution_count": 509
        }
      ]
    },
    {
      "cell_type": "code",
      "source": [
        "set(list1)"
      ],
      "metadata": {
        "colab": {
          "base_uri": "https://localhost:8080/"
        },
        "id": "f4FVG1rlzlYC",
        "outputId": "18aa7f11-2f25-4cf6-949a-8ce86a74a883"
      },
      "execution_count": 510,
      "outputs": [
        {
          "output_type": "execute_result",
          "data": {
            "text/plain": [
              "{3, 5, 12}"
            ]
          },
          "metadata": {},
          "execution_count": 510
        }
      ]
    },
    {
      "cell_type": "code",
      "source": [
        "str(list1)"
      ],
      "metadata": {
        "colab": {
          "base_uri": "https://localhost:8080/",
          "height": 35
        },
        "id": "bZpQe8nDzm2Y",
        "outputId": "d5b15861-e20a-44d7-a9fd-e62658838306"
      },
      "execution_count": 511,
      "outputs": [
        {
          "output_type": "execute_result",
          "data": {
            "text/plain": [
              "'[12, 3, 5]'"
            ],
            "application/vnd.google.colaboratory.intrinsic+json": {
              "type": "string"
            }
          },
          "metadata": {},
          "execution_count": 511
        }
      ]
    },
    {
      "cell_type": "code",
      "source": [
        "list1 = [('a',1), ('b',2)]"
      ],
      "metadata": {
        "id": "NiY4Z5kTzoll"
      },
      "execution_count": 512,
      "outputs": []
    },
    {
      "cell_type": "code",
      "source": [
        "result = dict(list1)"
      ],
      "metadata": {
        "id": "51exG7HEzw1Y"
      },
      "execution_count": 513,
      "outputs": []
    },
    {
      "cell_type": "code",
      "source": [
        "result"
      ],
      "metadata": {
        "colab": {
          "base_uri": "https://localhost:8080/"
        },
        "id": "TaqqVkev0Rcc",
        "outputId": "010e920d-4879-444f-9a92-5bcec60495ca"
      },
      "execution_count": 514,
      "outputs": [
        {
          "output_type": "execute_result",
          "data": {
            "text/plain": [
              "{'a': 1, 'b': 2}"
            ]
          },
          "metadata": {},
          "execution_count": 514
        }
      ]
    },
    {
      "cell_type": "code",
      "source": [
        "dict(**result)"
      ],
      "metadata": {
        "colab": {
          "base_uri": "https://localhost:8080/"
        },
        "id": "J5XpQJun0ZxB",
        "outputId": "8295211d-7147-452f-de85-637cda1cc682"
      },
      "execution_count": 515,
      "outputs": [
        {
          "output_type": "execute_result",
          "data": {
            "text/plain": [
              "{'a': 1, 'b': 2}"
            ]
          },
          "metadata": {},
          "execution_count": 515
        }
      ]
    },
    {
      "cell_type": "code",
      "source": [
        "dict1 = {'a':1}"
      ],
      "metadata": {
        "id": "wa28Ejg80dib"
      },
      "execution_count": 516,
      "outputs": []
    },
    {
      "cell_type": "code",
      "source": [
        "dict2 = {'b':2}"
      ],
      "metadata": {
        "id": "dQqXQuOS0tHb"
      },
      "execution_count": 517,
      "outputs": []
    },
    {
      "cell_type": "code",
      "source": [
        "result2 = dict(**dict1,**dict2)"
      ],
      "metadata": {
        "id": "utE-zjgx0wSZ"
      },
      "execution_count": 518,
      "outputs": []
    },
    {
      "cell_type": "code",
      "source": [
        "result2"
      ],
      "metadata": {
        "colab": {
          "base_uri": "https://localhost:8080/"
        },
        "id": "M0HrwQLS01N3",
        "outputId": "221d443e-d21f-40ea-b64e-cc983d549cbb"
      },
      "execution_count": 519,
      "outputs": [
        {
          "output_type": "execute_result",
          "data": {
            "text/plain": [
              "{'a': 1, 'b': 2}"
            ]
          },
          "metadata": {},
          "execution_count": 519
        }
      ]
    },
    {
      "cell_type": "code",
      "source": [
        "result3 = dict(dict1)"
      ],
      "metadata": {
        "id": "997nrQIJ02L2"
      },
      "execution_count": 520,
      "outputs": []
    },
    {
      "cell_type": "code",
      "source": [
        "result3"
      ],
      "metadata": {
        "colab": {
          "base_uri": "https://localhost:8080/"
        },
        "id": "UHFngGkv1gPF",
        "outputId": "e973fa42-1590-45a5-c782-49793af27888"
      },
      "execution_count": 521,
      "outputs": [
        {
          "output_type": "execute_result",
          "data": {
            "text/plain": [
              "{'a': 1}"
            ]
          },
          "metadata": {},
          "execution_count": 521
        }
      ]
    },
    {
      "cell_type": "code",
      "source": [
        "result3.update(dict2)"
      ],
      "metadata": {
        "id": "PZXku8kB1h0Z"
      },
      "execution_count": 522,
      "outputs": []
    },
    {
      "cell_type": "code",
      "source": [
        "result3"
      ],
      "metadata": {
        "colab": {
          "base_uri": "https://localhost:8080/"
        },
        "id": "s6kYlCcO1k52",
        "outputId": "9459b7de-84d8-4c12-ac36-a19428c0313e"
      },
      "execution_count": 523,
      "outputs": [
        {
          "output_type": "execute_result",
          "data": {
            "text/plain": [
              "{'a': 1, 'b': 2}"
            ]
          },
          "metadata": {},
          "execution_count": 523
        }
      ]
    },
    {
      "cell_type": "code",
      "source": [
        "list1 = [1,2,3,4,5,6]\n",
        "tup1 = (1,2,3,4,5)\n",
        "str1 = 'hello'"
      ],
      "metadata": {
        "id": "6r_PpsvV1mp6"
      },
      "execution_count": 524,
      "outputs": []
    },
    {
      "cell_type": "code",
      "source": [
        "x = zip(list1,tup1,str1)"
      ],
      "metadata": {
        "id": "cMybw9_C2O5A"
      },
      "execution_count": 525,
      "outputs": []
    },
    {
      "cell_type": "code",
      "source": [
        "x"
      ],
      "metadata": {
        "colab": {
          "base_uri": "https://localhost:8080/"
        },
        "id": "pjEoLVtL2a_O",
        "outputId": "e0196d88-ce77-4560-91ed-2eee99640569"
      },
      "execution_count": 526,
      "outputs": [
        {
          "output_type": "execute_result",
          "data": {
            "text/plain": [
              "<zip at 0x7bcde857f800>"
            ]
          },
          "metadata": {},
          "execution_count": 526
        }
      ]
    },
    {
      "cell_type": "code",
      "source": [
        "print(x)"
      ],
      "metadata": {
        "colab": {
          "base_uri": "https://localhost:8080/"
        },
        "id": "kX2SHNx-2bhs",
        "outputId": "b000d4a6-bbf3-433a-9c4f-edf6f25aede7"
      },
      "execution_count": 527,
      "outputs": [
        {
          "output_type": "stream",
          "name": "stdout",
          "text": [
            "<zip object at 0x7bcde857f800>\n"
          ]
        }
      ]
    },
    {
      "cell_type": "code",
      "source": [
        "list(x)"
      ],
      "metadata": {
        "colab": {
          "base_uri": "https://localhost:8080/"
        },
        "id": "bJY97AmJ2dLh",
        "outputId": "4c89eca9-9aff-4bcc-ea3d-e435ba5ab89c"
      },
      "execution_count": 528,
      "outputs": [
        {
          "output_type": "execute_result",
          "data": {
            "text/plain": [
              "[(1, 1, 'h'), (2, 2, 'e'), (3, 3, 'l'), (4, 4, 'l'), (5, 5, 'o')]"
            ]
          },
          "metadata": {},
          "execution_count": 528
        }
      ]
    },
    {
      "cell_type": "code",
      "source": [
        "set(x)"
      ],
      "metadata": {
        "colab": {
          "base_uri": "https://localhost:8080/"
        },
        "id": "1EPfXKy42f9J",
        "outputId": "91895dfa-def2-47d4-c8a2-90b781c51657"
      },
      "execution_count": 529,
      "outputs": [
        {
          "output_type": "execute_result",
          "data": {
            "text/plain": [
              "set()"
            ]
          },
          "metadata": {},
          "execution_count": 529
        }
      ]
    },
    {
      "cell_type": "code",
      "source": [
        "tuple(x)"
      ],
      "metadata": {
        "colab": {
          "base_uri": "https://localhost:8080/"
        },
        "id": "RuUgrfXS2g6s",
        "outputId": "ccabe7f6-7e58-48fb-f10e-37b3edab47c2"
      },
      "execution_count": 530,
      "outputs": [
        {
          "output_type": "execute_result",
          "data": {
            "text/plain": [
              "()"
            ]
          },
          "metadata": {},
          "execution_count": 530
        }
      ]
    },
    {
      "cell_type": "code",
      "source": [
        "list1 = [1,2,3,3,'Hey!']\n",
        "str1 = 'hello'"
      ],
      "metadata": {
        "id": "O_JkAgJr2iHG"
      },
      "execution_count": 531,
      "outputs": []
    },
    {
      "cell_type": "code",
      "source": [
        "list(enumerate(list1))"
      ],
      "metadata": {
        "colab": {
          "base_uri": "https://localhost:8080/"
        },
        "id": "EPzGcuBL2jqI",
        "outputId": "82f96cf4-6280-47d5-898d-a5462b688bdc"
      },
      "execution_count": 532,
      "outputs": [
        {
          "output_type": "execute_result",
          "data": {
            "text/plain": [
              "[(0, 1), (1, 2), (2, 3), (3, 3), (4, 'Hey!')]"
            ]
          },
          "metadata": {},
          "execution_count": 532
        }
      ]
    },
    {
      "cell_type": "code",
      "source": [
        "list(enumerate(str1))"
      ],
      "metadata": {
        "colab": {
          "base_uri": "https://localhost:8080/"
        },
        "id": "fPCEdZkG3b3X",
        "outputId": "f6493cc2-1c18-4697-c8f0-055b9a6c05fb"
      },
      "execution_count": 533,
      "outputs": [
        {
          "output_type": "execute_result",
          "data": {
            "text/plain": [
              "[(0, 'h'), (1, 'e'), (2, 'l'), (3, 'l'), (4, 'o')]"
            ]
          },
          "metadata": {},
          "execution_count": 533
        }
      ]
    },
    {
      "cell_type": "code",
      "source": [
        "dict(enumerate(str1))"
      ],
      "metadata": {
        "colab": {
          "base_uri": "https://localhost:8080/"
        },
        "id": "StMPb0s23h-_",
        "outputId": "ade32b74-8766-41db-cf1c-666e4286d247"
      },
      "execution_count": 534,
      "outputs": [
        {
          "output_type": "execute_result",
          "data": {
            "text/plain": [
              "{0: 'h', 1: 'e', 2: 'l', 3: 'l', 4: 'o'}"
            ]
          },
          "metadata": {},
          "execution_count": 534
        }
      ]
    },
    {
      "cell_type": "code",
      "source": [
        "dict(enumerate(list1))"
      ],
      "metadata": {
        "colab": {
          "base_uri": "https://localhost:8080/"
        },
        "id": "mJhsWj5r3kuY",
        "outputId": "97473a01-2174-4e34-c513-9284cdcaa3b9"
      },
      "execution_count": 535,
      "outputs": [
        {
          "output_type": "execute_result",
          "data": {
            "text/plain": [
              "{0: 1, 1: 2, 2: 3, 3: 3, 4: 'Hey!'}"
            ]
          },
          "metadata": {},
          "execution_count": 535
        }
      ]
    },
    {
      "cell_type": "code",
      "source": [
        "tuple(enumerate(list1))"
      ],
      "metadata": {
        "colab": {
          "base_uri": "https://localhost:8080/"
        },
        "id": "bc1aeQQ23owH",
        "outputId": "d0e34b0b-ae5e-4063-ae40-82b67e736c4d"
      },
      "execution_count": 536,
      "outputs": [
        {
          "output_type": "execute_result",
          "data": {
            "text/plain": [
              "((0, 1), (1, 2), (2, 3), (3, 3), (4, 'Hey!'))"
            ]
          },
          "metadata": {},
          "execution_count": 536
        }
      ]
    },
    {
      "cell_type": "code",
      "source": [
        "(set(enumerate(list1)))"
      ],
      "metadata": {
        "colab": {
          "base_uri": "https://localhost:8080/"
        },
        "id": "M5OM8jaA3sYW",
        "outputId": "d2d44383-e395-417a-ae40-fb81634686b6"
      },
      "execution_count": 537,
      "outputs": [
        {
          "output_type": "execute_result",
          "data": {
            "text/plain": [
              "{(0, 1), (1, 2), (2, 3), (3, 3), (4, 'Hey!')}"
            ]
          },
          "metadata": {},
          "execution_count": 537
        }
      ]
    },
    {
      "cell_type": "markdown",
      "source": [
        "## Python Notes – Defining Your Own Functions\n",
        "\n",
        "### Defining a Function\n",
        "\n",
        "* Use `def` keyword followed by function name in **snake_case**\n",
        "* Syntax:\n",
        "  * `def function_name():`\n",
        "      * `# indented block of code`\n",
        "* Use parentheses even if no arguments are passed\n",
        "\n",
        "---\n",
        "\n",
        "### Example – Simple Function\n",
        "\n",
        "* `def welcome_message():`  \n",
        "    * `print(\"Welcome\")`\n",
        "\n",
        "* Call it using:  \n",
        "  * `welcome_message()`\n",
        "\n",
        "---\n",
        "\n",
        "### Adding Arguments\n",
        "\n",
        "* `def welcome_message(x):`  \n",
        "    * `print(f\"Welcome {x}\")`\n",
        "\n",
        "* `welcome_message(\"John\")` → `Welcome John`\n",
        "\n",
        "---\n",
        "\n",
        "### Multiple Arguments\n",
        "\n",
        "* `def welcome_message(x, y, z):`  \n",
        "    * `print(f\"Welcome {x}, {y}, and {z}\")`\n",
        "\n",
        "* `welcome_message(\"John\", \"Isha\", \"Manit\")`\n",
        "\n",
        "---\n",
        "\n",
        "### Default Argument Values\n",
        "\n",
        "* `def welcome_message(x=\"Name1\", y=\"Name2\", z=\"Name3\"):`  \n",
        "    * `print(f\"Welcome {x}, {y}, and {z}\")`\n",
        "\n",
        "* Call with:\n",
        "  * `welcome_message()` → uses all defaults  \n",
        "  * `welcome_message(\"John\")` → only replaces x  \n",
        "  * `welcome_message(z=\"John\")` → replaces z, keeps defaults for x and y\n",
        "\n",
        "---\n",
        "\n",
        "### print vs return\n",
        "\n",
        "* `print()` → displays output, but does **not return** a value\n",
        "* `return` → sends output back to the caller, can be stored in variables\n",
        "\n",
        "* Example:\n",
        "  * `def say_hello():`  \n",
        "      * `print(\"Hello\")`\n",
        "\n",
        "  * `def give_hello():`  \n",
        "      * `return \"Hello\"`\n",
        "\n",
        "* Calling:\n",
        "  * `say_hello()` → prints but can't assign\n",
        "  * `x = give_hello()` → stores `\"Hello\"` in `x`\n",
        "\n",
        "---\n",
        "\n",
        "### Summary\n",
        "\n",
        "* `def` is used to define functions  \n",
        "* Arguments allow flexibility; use defaults to avoid errors  \n",
        "* Use `return` to output results from a function  \n",
        "* Use `print` to just display text  "
      ],
      "metadata": {
        "id": "aWqaWYLB4yqv"
      }
    },
    {
      "cell_type": "code",
      "source": [
        "def greet():\n",
        "  print('welcome')"
      ],
      "metadata": {
        "id": "2SZXWgjW3vgq"
      },
      "execution_count": 538,
      "outputs": []
    },
    {
      "cell_type": "code",
      "source": [
        "greet()"
      ],
      "metadata": {
        "colab": {
          "base_uri": "https://localhost:8080/"
        },
        "id": "DVqA66PWtuU-",
        "outputId": "41dadaea-3566-479b-90e7-404f59d7cba6"
      },
      "execution_count": 539,
      "outputs": [
        {
          "output_type": "stream",
          "name": "stdout",
          "text": [
            "welcome\n"
          ]
        }
      ]
    },
    {
      "cell_type": "code",
      "source": [
        "def greet(name):\n",
        "  print(f'welcome {name}')"
      ],
      "metadata": {
        "id": "P0PbX2v6twkl"
      },
      "execution_count": 540,
      "outputs": []
    },
    {
      "cell_type": "code",
      "source": [
        "greet('John')"
      ],
      "metadata": {
        "colab": {
          "base_uri": "https://localhost:8080/"
        },
        "id": "0awL1gLVt_pL",
        "outputId": "0df4056d-b857-4d3c-e98f-9625f69d906a"
      },
      "execution_count": 541,
      "outputs": [
        {
          "output_type": "stream",
          "name": "stdout",
          "text": [
            "welcome John\n"
          ]
        }
      ]
    },
    {
      "cell_type": "code",
      "source": [
        "#greet()"
      ],
      "metadata": {
        "id": "ApKjS_LHuCBx"
      },
      "execution_count": 542,
      "outputs": []
    },
    {
      "cell_type": "code",
      "source": [
        "def greet(x,y,z):\n",
        "  print(f'welcome {x}, {y} and {z}.')"
      ],
      "metadata": {
        "id": "IKXPNBKauDrC"
      },
      "execution_count": 543,
      "outputs": []
    },
    {
      "cell_type": "code",
      "source": [
        "greet('Mark','Peter','Sam')"
      ],
      "metadata": {
        "colab": {
          "base_uri": "https://localhost:8080/"
        },
        "id": "PFC3ZvnlubyG",
        "outputId": "e9e67980-0bd4-44a3-e35c-9120fed49db8"
      },
      "execution_count": 544,
      "outputs": [
        {
          "output_type": "stream",
          "name": "stdout",
          "text": [
            "welcome Mark, Peter and Sam.\n"
          ]
        }
      ]
    },
    {
      "cell_type": "code",
      "source": [
        "def greet(x= 'name1', y = 'name2', z = 'name3'):\n",
        "  print(f'welcome {x}, {y} and {z}.')"
      ],
      "metadata": {
        "id": "D0WRXi95uiLT"
      },
      "execution_count": 545,
      "outputs": []
    },
    {
      "cell_type": "code",
      "source": [
        "greet('Mark')"
      ],
      "metadata": {
        "colab": {
          "base_uri": "https://localhost:8080/"
        },
        "id": "9brlv_VzvWWK",
        "outputId": "ef12c676-6441-4d71-997a-d6ea2bf8eb9c"
      },
      "execution_count": 546,
      "outputs": [
        {
          "output_type": "stream",
          "name": "stdout",
          "text": [
            "welcome Mark, name2 and name3.\n"
          ]
        }
      ]
    },
    {
      "cell_type": "code",
      "source": [
        "greet(z='John')"
      ],
      "metadata": {
        "colab": {
          "base_uri": "https://localhost:8080/"
        },
        "id": "o8HsdMSKvX1w",
        "outputId": "43250a66-dc98-47dd-bb89-86afa4a9f1f2"
      },
      "execution_count": 547,
      "outputs": [
        {
          "output_type": "stream",
          "name": "stdout",
          "text": [
            "welcome name1, name2 and John.\n"
          ]
        }
      ]
    },
    {
      "cell_type": "code",
      "source": [
        "def print_text():\n",
        "  print('hello this text has been printed.')"
      ],
      "metadata": {
        "id": "zERHKMFJvfv_"
      },
      "execution_count": 548,
      "outputs": []
    },
    {
      "cell_type": "code",
      "source": [
        "def return_text():\n",
        "  return 'hello this text has been returned.'"
      ],
      "metadata": {
        "id": "5E5WEEdbvtVZ"
      },
      "execution_count": 549,
      "outputs": []
    },
    {
      "cell_type": "code",
      "source": [
        "print_text()"
      ],
      "metadata": {
        "colab": {
          "base_uri": "https://localhost:8080/"
        },
        "id": "JlLQ6An4v5ei",
        "outputId": "2a5b2530-387e-40bc-832b-72c792ff2668"
      },
      "execution_count": 550,
      "outputs": [
        {
          "output_type": "stream",
          "name": "stdout",
          "text": [
            "hello this text has been printed.\n"
          ]
        }
      ]
    },
    {
      "cell_type": "code",
      "source": [
        "return_text()"
      ],
      "metadata": {
        "colab": {
          "base_uri": "https://localhost:8080/",
          "height": 35
        },
        "id": "YHOX1QlXv83P",
        "outputId": "c47095a9-92f5-4ead-de74-8d889ad6f43e"
      },
      "execution_count": 551,
      "outputs": [
        {
          "output_type": "execute_result",
          "data": {
            "text/plain": [
              "'hello this text has been returned.'"
            ],
            "application/vnd.google.colaboratory.intrinsic+json": {
              "type": "string"
            }
          },
          "metadata": {},
          "execution_count": 551
        }
      ]
    },
    {
      "cell_type": "code",
      "source": [
        "x = print_text()"
      ],
      "metadata": {
        "colab": {
          "base_uri": "https://localhost:8080/"
        },
        "id": "0mRLIjFsv-mh",
        "outputId": "ed328183-06d2-4f95-af7e-7095d1dff188"
      },
      "execution_count": 552,
      "outputs": [
        {
          "output_type": "stream",
          "name": "stdout",
          "text": [
            "hello this text has been printed.\n"
          ]
        }
      ]
    },
    {
      "cell_type": "code",
      "source": [
        "x"
      ],
      "metadata": {
        "id": "q8-hhyChwBCS"
      },
      "execution_count": 553,
      "outputs": []
    },
    {
      "cell_type": "code",
      "source": [
        "type(x)"
      ],
      "metadata": {
        "colab": {
          "base_uri": "https://localhost:8080/"
        },
        "id": "qlnF19GWwMTw",
        "outputId": "131bf23e-fe48-4f6e-fb5c-a8ca10a82f9e"
      },
      "execution_count": 554,
      "outputs": [
        {
          "output_type": "execute_result",
          "data": {
            "text/plain": [
              "NoneType"
            ]
          },
          "metadata": {},
          "execution_count": 554
        }
      ]
    },
    {
      "cell_type": "code",
      "source": [
        "x = return_text()"
      ],
      "metadata": {
        "id": "Fov4FrCfwNaj"
      },
      "execution_count": 555,
      "outputs": []
    },
    {
      "cell_type": "code",
      "source": [
        "x"
      ],
      "metadata": {
        "colab": {
          "base_uri": "https://localhost:8080/",
          "height": 35
        },
        "id": "Z80D_BBUwP5t",
        "outputId": "0df98a66-0b03-40f6-abdd-2836fa80e49f"
      },
      "execution_count": 556,
      "outputs": [
        {
          "output_type": "execute_result",
          "data": {
            "text/plain": [
              "'hello this text has been returned.'"
            ],
            "application/vnd.google.colaboratory.intrinsic+json": {
              "type": "string"
            }
          },
          "metadata": {},
          "execution_count": 556
        }
      ]
    },
    {
      "cell_type": "markdown",
      "source": [
        "## Python Notes – Function Examples\n",
        "\n",
        "### * Create a function to calculate average of a list, set, or tuple\n",
        "\n",
        "* `def average(x):`\n",
        "    * `return sum(x) / len(x)`\n",
        "\n",
        "* Works on lists, sets, and tuples with numeric values  \n",
        "* Example:  \n",
        "  * `average([10, 20, 30])` → 20.0\n",
        "\n",
        "---\n",
        "\n",
        "### * Add type-checking to the average function\n",
        "\n",
        "* `def average(x):`\n",
        "    * `if type(x) in [list, set, tuple]:`\n",
        "        * `return sum(x) / len(x)`\n",
        "    * `else:`\n",
        "        * `print(\"Only list, set, or tuple allowed\")`\n",
        "\n",
        "---\n",
        "\n",
        "### * Function to create a range-based list using user input\n",
        "\n",
        "* `def create_ranged_list():`\n",
        "    * `x = int(input(\"Enter start: \"))`\n",
        "    * `y = int(input(\"Enter stop: \"))`\n",
        "    * `z = int(input(\"Enter step: \"))`\n",
        "    * `return list(range(x, y, z))`\n",
        "\n",
        "* Example call:\n",
        "  * `create_ranged_list()`  \n",
        "  * User enters: 1, 10, 2  \n",
        "  * Output: `[1, 3, 5, 7, 9]`\n",
        "\n",
        "---\n",
        "\n",
        "### * Function to check if any number in a list is greater than 10\n",
        "\n",
        "* `def greater_than_10(x):`\n",
        "    * `for element in x:`\n",
        "        * `if element > 10:`\n",
        "            * `return True`\n",
        "    * `return False`\n",
        "\n",
        "* Example:\n",
        "  * `greater_than_10([3, 5, 11])` → `True`  \n",
        "  * `greater_than_10([1, 2, 3])` → `False`\n",
        "\n",
        "---\n",
        "\n",
        "### * Note on `return` inside loops\n",
        "\n",
        "* `return` exits the function immediately  \n",
        "* So `return False` should come **after** the loop, not inside `else`\n",
        "\n",
        "---\n",
        "\n",
        "### * Summary\n",
        "\n",
        "* Functions can perform checks, accept input, and return values  \n",
        "* Use `return` instead of `print` for reusable outputs  \n",
        "* Always handle invalid inputs gracefully (type-check, try-except, etc.)"
      ],
      "metadata": {
        "id": "24Qw_x1_wxjy"
      }
    },
    {
      "cell_type": "code",
      "source": [
        "  list1 = [4,6,7,9,10]"
      ],
      "metadata": {
        "id": "iUsmYgsbwRlR"
      },
      "execution_count": 557,
      "outputs": []
    },
    {
      "cell_type": "code",
      "source": [
        "sum(list1)/len(list1)"
      ],
      "metadata": {
        "colab": {
          "base_uri": "https://localhost:8080/"
        },
        "id": "a5bFhFEqyCPI",
        "outputId": "7f362f8d-a3c5-4cab-8b84-03e454ac7806"
      },
      "execution_count": 558,
      "outputs": [
        {
          "output_type": "execute_result",
          "data": {
            "text/plain": [
              "7.2"
            ]
          },
          "metadata": {},
          "execution_count": 558
        }
      ]
    },
    {
      "cell_type": "code",
      "source": [
        "def avg(x):\n",
        "  return sum(x)/len(x)"
      ],
      "metadata": {
        "id": "BX1auUZByHUU"
      },
      "execution_count": 559,
      "outputs": []
    },
    {
      "cell_type": "code",
      "source": [
        "avg(list1)"
      ],
      "metadata": {
        "colab": {
          "base_uri": "https://localhost:8080/"
        },
        "id": "10yLTG4pyQj_",
        "outputId": "56ba9cf4-0c9c-4992-dafc-1b84c4da2a7c"
      },
      "execution_count": 560,
      "outputs": [
        {
          "output_type": "execute_result",
          "data": {
            "text/plain": [
              "7.2"
            ]
          },
          "metadata": {},
          "execution_count": 560
        }
      ]
    },
    {
      "cell_type": "code",
      "source": [
        "#avg('hello')"
      ],
      "metadata": {
        "id": "1zuLYBwpySS9"
      },
      "execution_count": 561,
      "outputs": []
    },
    {
      "cell_type": "code",
      "source": [
        "def avg(x):\n",
        "  if type(x) in [tuple,set,list]:\n",
        "    return sum(x)/len(x)\n",
        "  else:\n",
        "    print('please pass in a tuple, set or list.')"
      ],
      "metadata": {
        "id": "gEObT4wRyXxu"
      },
      "execution_count": 562,
      "outputs": []
    },
    {
      "cell_type": "code",
      "source": [
        "avg('hello')"
      ],
      "metadata": {
        "colab": {
          "base_uri": "https://localhost:8080/"
        },
        "id": "VK5haI9Jy0HT",
        "outputId": "c88b819c-f977-41e4-9ab9-ecd3c9bcfba7"
      },
      "execution_count": 563,
      "outputs": [
        {
          "output_type": "stream",
          "name": "stdout",
          "text": [
            "please pass in a tuple, set or list.\n"
          ]
        }
      ]
    },
    {
      "cell_type": "code",
      "source": [
        "avg(list1)"
      ],
      "metadata": {
        "colab": {
          "base_uri": "https://localhost:8080/"
        },
        "id": "UBHcn1P6y2iI",
        "outputId": "2906968b-c06c-4641-cbc7-263beea7fb79"
      },
      "execution_count": 564,
      "outputs": [
        {
          "output_type": "execute_result",
          "data": {
            "text/plain": [
              "7.2"
            ]
          },
          "metadata": {},
          "execution_count": 564
        }
      ]
    },
    {
      "cell_type": "code",
      "source": [
        "list(range(0,15))"
      ],
      "metadata": {
        "colab": {
          "base_uri": "https://localhost:8080/"
        },
        "id": "NbPdxRguy7AR",
        "outputId": "ee08855a-5e2e-4aa0-81d2-d88b9f5caf29"
      },
      "execution_count": 565,
      "outputs": [
        {
          "output_type": "execute_result",
          "data": {
            "text/plain": [
              "[0, 1, 2, 3, 4, 5, 6, 7, 8, 9, 10, 11, 12, 13, 14]"
            ]
          },
          "metadata": {},
          "execution_count": 565
        }
      ]
    },
    {
      "cell_type": "code",
      "source": [
        "def ranged_list():\n",
        "  x = int(input('please select a start number:'))\n",
        "  y = int(input('please select a stop number:'))\n",
        "  z = int(input('please select a step number:'))\n",
        "  return list(range(x,y,z))"
      ],
      "metadata": {
        "id": "xXN6wjmUzpy_"
      },
      "execution_count": 566,
      "outputs": []
    },
    {
      "cell_type": "code",
      "source": [
        "ranged_list()"
      ],
      "metadata": {
        "colab": {
          "base_uri": "https://localhost:8080/"
        },
        "id": "trhPQLlu0Hvt",
        "outputId": "769e656f-3f8c-4fda-e771-6a0508c0c8cc"
      },
      "execution_count": 567,
      "outputs": [
        {
          "name": "stdout",
          "output_type": "stream",
          "text": [
            "please select a start number:4\n",
            "please select a stop number:50\n",
            "please select a step number:6\n"
          ]
        },
        {
          "output_type": "execute_result",
          "data": {
            "text/plain": [
              "[4, 10, 16, 22, 28, 34, 40, 46]"
            ]
          },
          "metadata": {},
          "execution_count": 567
        }
      ]
    },
    {
      "cell_type": "code",
      "source": [
        "#ranged_list()"
      ],
      "metadata": {
        "id": "c8QnQmvu0K-Y"
      },
      "execution_count": 568,
      "outputs": []
    },
    {
      "cell_type": "code",
      "source": [
        "def greater_than(x):\n",
        "  for element in x:\n",
        "    if element > 20:\n",
        "      return True\n",
        "    else:\n",
        "      pass\n",
        "  return False"
      ],
      "metadata": {
        "id": "LsGInLmA0U8c"
      },
      "execution_count": 569,
      "outputs": []
    },
    {
      "cell_type": "code",
      "source": [
        "greater_than([1,5,7,8,30])"
      ],
      "metadata": {
        "colab": {
          "base_uri": "https://localhost:8080/"
        },
        "id": "2YvGvVhw1GLH",
        "outputId": "5d6c84dd-c151-475e-9547-4b6505b1d08f"
      },
      "execution_count": 570,
      "outputs": [
        {
          "output_type": "execute_result",
          "data": {
            "text/plain": [
              "True"
            ]
          },
          "metadata": {},
          "execution_count": 570
        }
      ]
    },
    {
      "cell_type": "code",
      "source": [
        "greater_than(list1)"
      ],
      "metadata": {
        "colab": {
          "base_uri": "https://localhost:8080/"
        },
        "id": "upedcLjM1RZh",
        "outputId": "abbbc7da-65ed-416b-c08b-fb61946c1422"
      },
      "execution_count": 571,
      "outputs": [
        {
          "output_type": "execute_result",
          "data": {
            "text/plain": [
              "False"
            ]
          },
          "metadata": {},
          "execution_count": 571
        }
      ]
    },
    {
      "cell_type": "markdown",
      "source": [
        "## Python Notes – Flexible Function Arguments (`*args`, `**kwargs`)\n",
        "\n",
        "---\n",
        "\n",
        "### * Fixed Number of Arguments\n",
        "\n",
        "* `def sum_function(x, y):`\n",
        "    * `return x + y`\n",
        "\n",
        "* Works when you pass exactly 2 values  \n",
        "* Example:\n",
        "  * `sum_function(3, 4)` → `7`\n",
        "  * `sum_function(3)` → Error  \n",
        "  * `sum_function(3, 4, 5)` → Error\n",
        "\n",
        "---\n",
        "\n",
        "### * Use Default Values to Allow Flexibility\n",
        "\n",
        "* `def sum_function(x=0, y=0, z=0):`\n",
        "    * `return x + y + z`\n",
        "\n",
        "* Works with up to 3 arguments  \n",
        "* Example:\n",
        "  * `sum_function(5, 10)` → `15`\n",
        "  * `sum_function()` → `0`\n",
        "\n",
        "---\n",
        "\n",
        "### * Using `*args` to Accept Unlimited Positional Arguments\n",
        "\n",
        "* `def sum_function(*args):`\n",
        "    * `x = 0`\n",
        "    * `for num in args:`\n",
        "        * `x += num`\n",
        "    * `return x`\n",
        "\n",
        "* Accepts any number of arguments  \n",
        "* Example:\n",
        "  * `sum_function(1, 2, 3)` → `6`\n",
        "  * `sum_function(10, 20, 30, 40)` → `100`\n",
        "\n",
        "---\n",
        "\n",
        "### * Explanation of `*args`\n",
        "\n",
        "* `*args` packs all positional arguments into a tuple  \n",
        "* You can use loops to process them  \n",
        "* Example:\n",
        "  * `def check_args(*args):`\n",
        "    * `print(args)`  \n",
        "    * `print(type(args))`  \n",
        "  * Output: `(1, 2, 3)`, `<class 'tuple'>`\n",
        "\n",
        "* Note: Variable name can be anything, but `args` is the convention\n",
        "\n",
        "---\n",
        "\n",
        "### * Refactor: Sum Function Using `*args`\n",
        "\n",
        "* `def sum_function(*args):`\n",
        "    * `total = 0`\n",
        "    * `for num in args:`\n",
        "        * `total += num`\n",
        "    * `return total`\n",
        "\n",
        "* Shorthand inside loop:\n",
        "  * `total += num` is same as `total = total + num`\n",
        "\n",
        "---\n",
        "\n",
        "### * Using `**kwargs` to Accept Unlimited Keyword Arguments\n",
        "\n",
        "* `def person_info(**kwargs):`\n",
        "    * `if 'food' in kwargs:`\n",
        "        * `return f\"My name is {kwargs['name']} and I love {kwargs['food']}.\"`\n",
        "    * `else:`\n",
        "        * `return f\"My name is {kwargs['name']} and I have no favorite food.\"`\n",
        "\n",
        "* Example:\n",
        "  * `person_info(name=\"John\", food=\"Pizza\")` → `\"My name is John and I love Pizza.\"`\n",
        "  * `person_info(name=\"Alice\", sport=\"Cricket\")` → `\"My name is Alice and I have no favorite food.\"`\n",
        "\n",
        "---\n",
        "\n",
        "### * Explanation of `**kwargs`\n",
        "\n",
        "* `**kwargs` packs keyword arguments into a dictionary  \n",
        "* Each key-value pair can be accessed like: `kwargs['key']`  \n",
        "* `if 'key' in kwargs:` checks existence  \n",
        "* Example:\n",
        "  * `def check_kwargs(**kwargs):`\n",
        "    * `print(kwargs)`  \n",
        "    * `print(type(kwargs))`  \n",
        "  * Output: `{'a': 1, 'b': 2}`, `<class 'dict'>`\n",
        "\n",
        "---\n",
        "\n",
        "### * Combine `*args` and `**kwargs` in One Function\n",
        "\n",
        "* `def example_combined(*args, **kwargs):`\n",
        "    * `print(\"ARGS:\", args)`\n",
        "    * `print(\"KWARGS:\", kwargs)`\n",
        "\n",
        "* Example:\n",
        "  * `example_combined(1, 2, name=\"John\", food=\"Sushi\")`  \n",
        "    → ARGS: `(1, 2)`  \n",
        "    → KWARGS: `{'name': 'John', 'food': 'Sushi'}`\n",
        "\n",
        "* Order: `*args` must come before `**kwargs`\n",
        "\n",
        "---\n",
        "\n",
        "### * Invalid Order Will Cause Error\n",
        "\n",
        "* `def wrong_order(**kwargs, *args):` → Not allowed  \n",
        "* `*args` must always come before `**kwargs`\n",
        "\n",
        "---\n",
        "\n",
        "### * Summary\n",
        "\n",
        "* `*args` lets you accept any number of positional arguments as a tuple  \n",
        "* `**kwargs` lets you accept any number of keyword arguments as a dictionary  \n",
        "* You can loop over `args`, and check keys in `kwargs`  \n",
        "* Always define `*args` before `**kwargs`  \n",
        "* Useful when the number of inputs is dynamic or optional"
      ],
      "metadata": {
        "id": "l5HDERD31bA-"
      }
    },
    {
      "cell_type": "code",
      "source": [
        "def sum_func(x,y):\n",
        "  return x+y"
      ],
      "metadata": {
        "id": "RGZwpDxu1TnT"
      },
      "execution_count": 572,
      "outputs": []
    },
    {
      "cell_type": "code",
      "source": [
        "sum_func(3,4)"
      ],
      "metadata": {
        "colab": {
          "base_uri": "https://localhost:8080/"
        },
        "id": "V25JNfLHHPzV",
        "outputId": "c4c3181f-39a1-49ee-8e70-5febac2792ff"
      },
      "execution_count": 573,
      "outputs": [
        {
          "output_type": "execute_result",
          "data": {
            "text/plain": [
              "7"
            ]
          },
          "metadata": {},
          "execution_count": 573
        }
      ]
    },
    {
      "cell_type": "code",
      "source": [
        "#sum_func(2)"
      ],
      "metadata": {
        "id": "D3UcxvkGHrzY"
      },
      "execution_count": 574,
      "outputs": []
    },
    {
      "cell_type": "code",
      "source": [
        "#sum_func(1,2,3,4)"
      ],
      "metadata": {
        "id": "NUCWWvgeHuFn"
      },
      "execution_count": 575,
      "outputs": []
    },
    {
      "cell_type": "code",
      "source": [
        "def sum_func(x=0,y=0,z=0):\n",
        "  return x+y+z"
      ],
      "metadata": {
        "id": "-TvDAqTfH3FZ"
      },
      "execution_count": 576,
      "outputs": []
    },
    {
      "cell_type": "code",
      "source": [
        " sum_func(1,2,3)"
      ],
      "metadata": {
        "colab": {
          "base_uri": "https://localhost:8080/"
        },
        "id": "bnnVmrmzJLes",
        "outputId": "c9c6c457-8310-4791-e8ab-22ab1a5bff4a"
      },
      "execution_count": 577,
      "outputs": [
        {
          "output_type": "execute_result",
          "data": {
            "text/plain": [
              "6"
            ]
          },
          "metadata": {},
          "execution_count": 577
        }
      ]
    },
    {
      "cell_type": "code",
      "source": [
        "sum_func()"
      ],
      "metadata": {
        "colab": {
          "base_uri": "https://localhost:8080/"
        },
        "id": "kL6hStDlKxbM",
        "outputId": "ee49f5a8-98d8-48f1-f0ba-ded4ea6dcede"
      },
      "execution_count": 578,
      "outputs": [
        {
          "output_type": "execute_result",
          "data": {
            "text/plain": [
              "0"
            ]
          },
          "metadata": {},
          "execution_count": 578
        }
      ]
    },
    {
      "cell_type": "code",
      "source": [
        "#sum_func(1,2,33,4)"
      ],
      "metadata": {
        "id": "Wbm5U_kHK4X9"
      },
      "execution_count": 579,
      "outputs": []
    },
    {
      "cell_type": "code",
      "source": [
        "def my_func(*args):\n",
        "  print(type(args))\n",
        "  return args"
      ],
      "metadata": {
        "id": "kR_rzAAUK8q2"
      },
      "execution_count": 580,
      "outputs": []
    },
    {
      "cell_type": "code",
      "source": [
        "my_func(1,2,3)"
      ],
      "metadata": {
        "colab": {
          "base_uri": "https://localhost:8080/"
        },
        "id": "EA6HDT8wRZ-N",
        "outputId": "25773e57-54b8-4f44-b05a-0c07b9834989"
      },
      "execution_count": 581,
      "outputs": [
        {
          "output_type": "stream",
          "name": "stdout",
          "text": [
            "<class 'tuple'>\n"
          ]
        },
        {
          "output_type": "execute_result",
          "data": {
            "text/plain": [
              "(1, 2, 3)"
            ]
          },
          "metadata": {},
          "execution_count": 581
        }
      ]
    },
    {
      "cell_type": "code",
      "source": [
        "my_func(1,2,3,4,5,6,7)"
      ],
      "metadata": {
        "colab": {
          "base_uri": "https://localhost:8080/"
        },
        "id": "DqtH8csWRky8",
        "outputId": "048bc2fc-9b41-4331-a1a2-120488db35e1"
      },
      "execution_count": 582,
      "outputs": [
        {
          "output_type": "stream",
          "name": "stdout",
          "text": [
            "<class 'tuple'>\n"
          ]
        },
        {
          "output_type": "execute_result",
          "data": {
            "text/plain": [
              "(1, 2, 3, 4, 5, 6, 7)"
            ]
          },
          "metadata": {},
          "execution_count": 582
        }
      ]
    },
    {
      "cell_type": "code",
      "source": [
        "def sum_func(*args):\n",
        "  x = 0\n",
        "  for num in args:\n",
        "    x += num\n",
        "  return x"
      ],
      "metadata": {
        "id": "lPvmhw2NRynG"
      },
      "execution_count": 583,
      "outputs": []
    },
    {
      "cell_type": "code",
      "source": [
        "sum_func(1,2,3,4,5,5,6,8)"
      ],
      "metadata": {
        "colab": {
          "base_uri": "https://localhost:8080/"
        },
        "id": "0FN_1SFaTWd9",
        "outputId": "8d36b2af-2237-4e1e-bdf2-c5902c9d7258"
      },
      "execution_count": 584,
      "outputs": [
        {
          "output_type": "execute_result",
          "data": {
            "text/plain": [
              "34"
            ]
          },
          "metadata": {},
          "execution_count": 584
        }
      ]
    },
    {
      "cell_type": "code",
      "source": [
        "sum_func(12,3,4,5,5,6,6,88,9,9)"
      ],
      "metadata": {
        "colab": {
          "base_uri": "https://localhost:8080/"
        },
        "id": "5cUfjXQ0ThBt",
        "outputId": "ea96c57d-2329-417a-c8d6-39c5fe158b8c"
      },
      "execution_count": 585,
      "outputs": [
        {
          "output_type": "execute_result",
          "data": {
            "text/plain": [
              "147"
            ]
          },
          "metadata": {},
          "execution_count": 585
        }
      ]
    },
    {
      "cell_type": "code",
      "source": [
        "def keyword_func(**kwargs):\n",
        "  print(type(kwargs))\n",
        "  return kwargs"
      ],
      "metadata": {
        "id": "UJwLBCjgTnI_"
      },
      "execution_count": 586,
      "outputs": []
    },
    {
      "cell_type": "code",
      "source": [
        "keyword_func(name='John',age=25)"
      ],
      "metadata": {
        "colab": {
          "base_uri": "https://localhost:8080/"
        },
        "id": "QagZ5qLrWw-1",
        "outputId": "0e0a3e63-b8bc-4a38-9163-cd5b26c3e801"
      },
      "execution_count": 587,
      "outputs": [
        {
          "output_type": "stream",
          "name": "stdout",
          "text": [
            "<class 'dict'>\n"
          ]
        },
        {
          "output_type": "execute_result",
          "data": {
            "text/plain": [
              "{'name': 'John', 'age': 25}"
            ]
          },
          "metadata": {},
          "execution_count": 587
        }
      ]
    },
    {
      "cell_type": "code",
      "source": [
        "def keyword_func(**kwargs):\n",
        "  if 'name' in kwargs:\n",
        "    return f\"My name is {kwargs['name']}\"\n",
        "  else:\n",
        "    return 'no name found'"
      ],
      "metadata": {
        "id": "_F5TeL9UXC70"
      },
      "execution_count": 588,
      "outputs": []
    },
    {
      "cell_type": "code",
      "source": [
        "keyword_func()"
      ],
      "metadata": {
        "colab": {
          "base_uri": "https://localhost:8080/",
          "height": 35
        },
        "id": "8MtAfM6yYsoS",
        "outputId": "7c27aab4-ae2e-4e04-92b0-8538785084e8"
      },
      "execution_count": 589,
      "outputs": [
        {
          "output_type": "execute_result",
          "data": {
            "text/plain": [
              "'no name found'"
            ],
            "application/vnd.google.colaboratory.intrinsic+json": {
              "type": "string"
            }
          },
          "metadata": {},
          "execution_count": 589
        }
      ]
    },
    {
      "cell_type": "code",
      "source": [
        "keyword_func(name='John')"
      ],
      "metadata": {
        "colab": {
          "base_uri": "https://localhost:8080/",
          "height": 35
        },
        "id": "jz1MJSaCYuxu",
        "outputId": "320ff719-4de6-44dc-e0eb-3cdafb936a87"
      },
      "execution_count": 590,
      "outputs": [
        {
          "output_type": "execute_result",
          "data": {
            "text/plain": [
              "'My name is John'"
            ],
            "application/vnd.google.colaboratory.intrinsic+json": {
              "type": "string"
            }
          },
          "metadata": {},
          "execution_count": 590
        }
      ]
    },
    {
      "cell_type": "code",
      "source": [
        "def keyword_func(**kwargs):\n",
        "  if 'food' in kwargs:\n",
        "    return f\"My name is {kwargs['name']} and my fav food is {kwargs['food']}\"\n",
        "  else:\n",
        "    return f\"My name is {kwargs['name']} and I have no fav food\""
      ],
      "metadata": {
        "id": "8YcMG1IQZDvm"
      },
      "execution_count": 591,
      "outputs": []
    },
    {
      "cell_type": "code",
      "source": [
        "keyword_func(name='John')"
      ],
      "metadata": {
        "colab": {
          "base_uri": "https://localhost:8080/",
          "height": 35
        },
        "id": "aUVlf9zoaItc",
        "outputId": "5ad72823-46b8-4cd1-a079-be52e42a0af9"
      },
      "execution_count": 592,
      "outputs": [
        {
          "output_type": "execute_result",
          "data": {
            "text/plain": [
              "'My name is John and I have no fav food'"
            ],
            "application/vnd.google.colaboratory.intrinsic+json": {
              "type": "string"
            }
          },
          "metadata": {},
          "execution_count": 592
        }
      ]
    },
    {
      "cell_type": "code",
      "source": [
        "keyword_func(name='John',food='pizza')"
      ],
      "metadata": {
        "colab": {
          "base_uri": "https://localhost:8080/",
          "height": 35
        },
        "id": "LSYiVHmuaTXj",
        "outputId": "ee304fcc-a1e2-473d-e142-8041b9787128"
      },
      "execution_count": 593,
      "outputs": [
        {
          "output_type": "execute_result",
          "data": {
            "text/plain": [
              "'My name is John and my fav food is pizza'"
            ],
            "application/vnd.google.colaboratory.intrinsic+json": {
              "type": "string"
            }
          },
          "metadata": {},
          "execution_count": 593
        }
      ]
    },
    {
      "cell_type": "code",
      "source": [
        "def args_kwargs(*args,**kwargs):\n",
        "  print(args)\n",
        "  print(kwargs)"
      ],
      "metadata": {
        "id": "jIW55RKBajTi"
      },
      "execution_count": 594,
      "outputs": []
    },
    {
      "cell_type": "code",
      "source": [
        "args_kwargs(1,2,3,4,5,6,7,\"Hey!\",2,name='John',age=25)"
      ],
      "metadata": {
        "colab": {
          "base_uri": "https://localhost:8080/"
        },
        "id": "TzY-tCGKtrVe",
        "outputId": "9d877d86-b48e-4508-edde-014c1ed3e3d5"
      },
      "execution_count": 595,
      "outputs": [
        {
          "output_type": "stream",
          "name": "stdout",
          "text": [
            "(1, 2, 3, 4, 5, 6, 7, 'Hey!', 2)\n",
            "{'name': 'John', 'age': 25}\n"
          ]
        }
      ]
    },
    {
      "cell_type": "markdown",
      "source": [
        "## Python Notes – `map()` and `filter()` Functions\n",
        "\n",
        "---\n",
        "\n",
        "### * `map()` Function\n",
        "\n",
        "* Used to apply a function to **each element** of an iterable (e.g. list, tuple).\n",
        "* Syntax: `map(function, iterable)`\n",
        "* Returns a `map` object – convert it using `list()` to see results.\n",
        "* The function passed should **not** include parentheses.\n",
        "\n",
        "#### Example:\n",
        "```python\n",
        "countries = ['India', 'Japan', 'Brazil']\n",
        "result = map(len, countries)\n",
        "print(list(result))  # [5, 5, 6]\n",
        "```\n",
        "\n",
        "---\n",
        "\n",
        "### * Using `map()` with custom function\n",
        "\n",
        "* You can define your own function and pass it to `map()`.\n",
        "\n",
        "#### Example:\n",
        "```python\n",
        "def name_with_length(x):\n",
        "    return f\"{x}: {len(x)}\"\n",
        "\n",
        "countries = ['India', 'Japan', 'Brazil']\n",
        "result = map(name_with_length, countries)\n",
        "print(list(result))  # ['India: 5', 'Japan: 5', 'Brazil: 6']\n",
        "```\n",
        "\n",
        "---\n",
        "\n",
        "### * `filter()` Function\n",
        "\n",
        "* Used to filter elements in an iterable **based on a condition**.\n",
        "* Syntax: `filter(function, iterable)`\n",
        "* Returns only the elements where the function returns `True`.\n",
        "\n",
        "#### Example:\n",
        "```python\n",
        "def is_string(x):\n",
        "    return type(x) == str\n",
        "\n",
        "data = ['India', 'Japan', 99, 'Brazil']\n",
        "filtered = filter(is_string, data)\n",
        "print(list(filtered))  # ['India', 'Japan', 'Brazil']\n",
        "```\n",
        "\n",
        "---\n",
        "\n",
        "### * Key Differences\n",
        "\n",
        "* `map()` transforms each element using the function.\n",
        "* `filter()` selects only those elements where the function returns `True`.\n",
        "\n",
        "---\n",
        "\n",
        "### * Summary\n",
        "\n",
        "* Use `map()` to apply a transformation to all elements.\n",
        "* Use `filter()` to keep elements that meet a condition.\n",
        "* Both return iterable objects, so wrap with `list()` to view results."
      ],
      "metadata": {
        "id": "Pu-puMkjz4cB"
      }
    },
    {
      "cell_type": "code",
      "source": [
        " countries_list = ['India', 'Germany', 'Ireland', 'Italy', 'United Arab Emirates']"
      ],
      "metadata": {
        "id": "te9R2RGDz5Af"
      },
      "execution_count": 596,
      "outputs": []
    },
    {
      "cell_type": "code",
      "source": [
        "for x in countries_list:\n",
        "  print(x)"
      ],
      "metadata": {
        "colab": {
          "base_uri": "https://localhost:8080/"
        },
        "id": "-5GhNjC20ojH",
        "outputId": "6478f1bf-ad5c-46f6-dbda-ea6aefbc16fc"
      },
      "execution_count": 597,
      "outputs": [
        {
          "output_type": "stream",
          "name": "stdout",
          "text": [
            "India\n",
            "Germany\n",
            "Ireland\n",
            "Italy\n",
            "United Arab Emirates\n"
          ]
        }
      ]
    },
    {
      "cell_type": "code",
      "source": [
        "for x in countries_list:\n",
        "  print(len(x))"
      ],
      "metadata": {
        "colab": {
          "base_uri": "https://localhost:8080/"
        },
        "id": "rXpjfXMa0vFw",
        "outputId": "3f6db913-3d34-4f40-dbcd-e2837a61c906"
      },
      "execution_count": 598,
      "outputs": [
        {
          "output_type": "stream",
          "name": "stdout",
          "text": [
            "5\n",
            "7\n",
            "7\n",
            "5\n",
            "20\n"
          ]
        }
      ]
    },
    {
      "cell_type": "code",
      "source": [
        "list(map(len,countries_list))"
      ],
      "metadata": {
        "colab": {
          "base_uri": "https://localhost:8080/"
        },
        "id": "Ett8ELRR02Me",
        "outputId": "4623a20a-4db2-45ca-c888-921ff6898315"
      },
      "execution_count": 599,
      "outputs": [
        {
          "output_type": "execute_result",
          "data": {
            "text/plain": [
              "[5, 7, 7, 5, 20]"
            ]
          },
          "metadata": {},
          "execution_count": 599
        }
      ]
    },
    {
      "cell_type": "code",
      "source": [
        "def return_len(x):\n",
        "  return f'{x}: {len(x)}'"
      ],
      "metadata": {
        "id": "o7WjV_6l1Fiu"
      },
      "execution_count": 600,
      "outputs": []
    },
    {
      "cell_type": "code",
      "source": [
        "return_len('Hello')"
      ],
      "metadata": {
        "colab": {
          "base_uri": "https://localhost:8080/",
          "height": 35
        },
        "id": "c-f6h-mf1hjo",
        "outputId": "0d0bd558-9ca4-4c30-f1d0-9f38ee437c22"
      },
      "execution_count": 601,
      "outputs": [
        {
          "output_type": "execute_result",
          "data": {
            "text/plain": [
              "'Hello: 5'"
            ],
            "application/vnd.google.colaboratory.intrinsic+json": {
              "type": "string"
            }
          },
          "metadata": {},
          "execution_count": 601
        }
      ]
    },
    {
      "cell_type": "code",
      "source": [
        "list(map(return_len,countries_list))"
      ],
      "metadata": {
        "colab": {
          "base_uri": "https://localhost:8080/"
        },
        "id": "Dcv1KIxo1nAy",
        "outputId": "ed19d7a3-477c-426a-c81a-451a97246310"
      },
      "execution_count": 602,
      "outputs": [
        {
          "output_type": "execute_result",
          "data": {
            "text/plain": [
              "['India: 5',\n",
              " 'Germany: 7',\n",
              " 'Ireland: 7',\n",
              " 'Italy: 5',\n",
              " 'United Arab Emirates: 20']"
            ]
          },
          "metadata": {},
          "execution_count": 602
        }
      ]
    },
    {
      "cell_type": "code",
      "source": [
        "countries_list2 = ['India', 'Germany', 'Ireland', 'Italy', 'United Arab Emirates',100]"
      ],
      "metadata": {
        "id": "rmEGgx-f3YXF"
      },
      "execution_count": 603,
      "outputs": []
    },
    {
      "cell_type": "code",
      "source": [
        "def is_string(x):\n",
        "  return type(x)==str"
      ],
      "metadata": {
        "id": "8BMjJ1fj4Aur"
      },
      "execution_count": 604,
      "outputs": []
    },
    {
      "cell_type": "code",
      "source": [
        "is_string(50)"
      ],
      "metadata": {
        "colab": {
          "base_uri": "https://localhost:8080/"
        },
        "id": "_4NDAgHu4rJg",
        "outputId": "ccfc6682-f195-46ed-f370-003e155085e7"
      },
      "execution_count": 605,
      "outputs": [
        {
          "output_type": "execute_result",
          "data": {
            "text/plain": [
              "False"
            ]
          },
          "metadata": {},
          "execution_count": 605
        }
      ]
    },
    {
      "cell_type": "code",
      "source": [
        "is_string('Hey!')"
      ],
      "metadata": {
        "colab": {
          "base_uri": "https://localhost:8080/"
        },
        "id": "ZypGJP7-4vcK",
        "outputId": "eec50245-826c-45bb-e72a-95da5ed139f6"
      },
      "execution_count": 606,
      "outputs": [
        {
          "output_type": "execute_result",
          "data": {
            "text/plain": [
              "True"
            ]
          },
          "metadata": {},
          "execution_count": 606
        }
      ]
    },
    {
      "cell_type": "code",
      "source": [
        "list(filter(is_string,countries_list2))"
      ],
      "metadata": {
        "colab": {
          "base_uri": "https://localhost:8080/"
        },
        "id": "05-ry0yz4ycp",
        "outputId": "630be2bc-a6d6-40f9-ff97-05d39d1cc475"
      },
      "execution_count": 607,
      "outputs": [
        {
          "output_type": "execute_result",
          "data": {
            "text/plain": [
              "['India', 'Germany', 'Ireland', 'Italy', 'United Arab Emirates']"
            ]
          },
          "metadata": {},
          "execution_count": 607
        }
      ]
    },
    {
      "cell_type": "code",
      "source": [
        "list(map(is_string,countries_list2))"
      ],
      "metadata": {
        "colab": {
          "base_uri": "https://localhost:8080/"
        },
        "id": "RqrvZcSx448M",
        "outputId": "b58641db-ffa1-4f29-b6b9-c7daae5159a1"
      },
      "execution_count": 608,
      "outputs": [
        {
          "output_type": "execute_result",
          "data": {
            "text/plain": [
              "[True, True, True, True, True, False]"
            ]
          },
          "metadata": {},
          "execution_count": 608
        }
      ]
    },
    {
      "cell_type": "markdown",
      "source": [
        "## Python Notes – Lambda Functions\n",
        "\n",
        "---\n",
        "\n",
        "### * What is a Lambda Function?\n",
        "\n",
        "* A lambda function is an **anonymous one-liner function**.\n",
        "* Syntax: `lambda arguments: expression`\n",
        "* No need to use the `def` keyword or `return` – return is **implicit**.\n",
        "* Useful for short, simple operations.\n",
        "\n",
        "---\n",
        "\n",
        "### * Basic Example\n",
        "\n",
        "```python\n",
        "multiply = lambda x, y: x * y\n",
        "print(multiply(3, 4))  # Output: 12\n",
        "```\n",
        "\n",
        "---\n",
        "\n",
        "### * Using Lambda with `filter()`\n",
        "\n",
        "```python\n",
        "data = ['India', 'Japan', 99, 'Brazil']\n",
        "filtered = filter(lambda x: type(x) == str, data)\n",
        "print(list(filtered))  # ['India', 'Japan', 'Brazil']\n",
        "```\n",
        "\n",
        "---\n",
        "\n",
        "### * Using Lambda with `map()`\n",
        "\n",
        "```python\n",
        "nums = [1, 2, 3, 4]\n",
        "doubled = map(lambda x: x * 2, nums)\n",
        "print(list(doubled))  # [2, 4, 6, 8]\n",
        "```\n",
        "\n",
        "---\n",
        "\n",
        "### * When Not to Use Lambda\n",
        "\n",
        "* Lambda is limited to **single-line expressions only**.\n",
        "* Use regular `def` functions when:\n",
        "  * Logic is complex or spans multiple lines\n",
        "  * You want to reuse the function\n",
        "  * You need clarity or debugging\n",
        "\n",
        "Example of logic **not suitable** for lambda:\n",
        "```python\n",
        "def custom_func(x):\n",
        "    if x > 3:\n",
        "        return x * 2\n",
        "    else:\n",
        "        return x\n",
        "```\n",
        "\n",
        "---\n",
        "\n",
        "### * Summary\n",
        "\n",
        "* Use `lambda` for quick, simple logic, especially with functions like `map()`, `filter()`, and `sorted()`.\n",
        "* Avoid using lambda for multi-line or complex logic."
      ],
      "metadata": {
        "id": "uyEui4fe69cg"
      }
    },
    {
      "cell_type": "code",
      "source": [
        "list1 = ['Mexico','Brazil','India',88]"
      ],
      "metadata": {
        "id": "uaiIKA9O695L"
      },
      "execution_count": 609,
      "outputs": []
    },
    {
      "cell_type": "code",
      "source": [
        "def is_str(x):\n",
        "  return type(x)==str"
      ],
      "metadata": {
        "id": "PBZBijKF7bUg"
      },
      "execution_count": 610,
      "outputs": []
    },
    {
      "cell_type": "code",
      "source": [
        "list(filter(is_str,list1))"
      ],
      "metadata": {
        "colab": {
          "base_uri": "https://localhost:8080/"
        },
        "id": "-Q3OspP17goK",
        "outputId": "b8f39e2d-5344-4c19-d749-865e65a63fae"
      },
      "execution_count": 611,
      "outputs": [
        {
          "output_type": "execute_result",
          "data": {
            "text/plain": [
              "['Mexico', 'Brazil', 'India']"
            ]
          },
          "metadata": {},
          "execution_count": 611
        }
      ]
    },
    {
      "cell_type": "code",
      "source": [
        "lambda x: type(x)==str"
      ],
      "metadata": {
        "colab": {
          "base_uri": "https://localhost:8080/"
        },
        "id": "E8QkskyY7kXe",
        "outputId": "677780bd-d549-4450-c561-0f8e495df76b"
      },
      "execution_count": 612,
      "outputs": [
        {
          "output_type": "execute_result",
          "data": {
            "text/plain": [
              "<function __main__.<lambda>(x)>"
            ]
          },
          "metadata": {},
          "execution_count": 612
        }
      ]
    },
    {
      "cell_type": "code",
      "source": [
        "list(filter(lambda x: type(x)==str,list1))"
      ],
      "metadata": {
        "colab": {
          "base_uri": "https://localhost:8080/"
        },
        "id": "oHPduKLC7oCF",
        "outputId": "072d3747-649e-43c2-c7e0-8e6ed88aed8f"
      },
      "execution_count": 613,
      "outputs": [
        {
          "output_type": "execute_result",
          "data": {
            "text/plain": [
              "['Mexico', 'Brazil', 'India']"
            ]
          },
          "metadata": {},
          "execution_count": 613
        }
      ]
    },
    {
      "cell_type": "code",
      "source": [
        "list2 = [1,2,3,4,5,6,7]"
      ],
      "metadata": {
        "id": "yS514fiy7yCH"
      },
      "execution_count": 614,
      "outputs": []
    },
    {
      "cell_type": "code",
      "source": [
        "def func_mul(x):\n",
        "  return x*2"
      ],
      "metadata": {
        "id": "WQZ-5YMe78mJ"
      },
      "execution_count": 615,
      "outputs": []
    },
    {
      "cell_type": "code",
      "source": [
        "list(map(func_mul,list2))"
      ],
      "metadata": {
        "colab": {
          "base_uri": "https://localhost:8080/"
        },
        "id": "hrthXE7s8DCj",
        "outputId": "768a1824-fd5c-443d-f84c-cc6e095423c0"
      },
      "execution_count": 616,
      "outputs": [
        {
          "output_type": "execute_result",
          "data": {
            "text/plain": [
              "[2, 4, 6, 8, 10, 12, 14]"
            ]
          },
          "metadata": {},
          "execution_count": 616
        }
      ]
    },
    {
      "cell_type": "code",
      "source": [
        "list(map(lambda x: x*2,list2))"
      ],
      "metadata": {
        "colab": {
          "base_uri": "https://localhost:8080/"
        },
        "id": "O2t87T2V8Fx3",
        "outputId": "33e5817e-900a-4946-f0ef-af73a95e3f04"
      },
      "execution_count": 617,
      "outputs": [
        {
          "output_type": "execute_result",
          "data": {
            "text/plain": [
              "[2, 4, 6, 8, 10, 12, 14]"
            ]
          },
          "metadata": {},
          "execution_count": 617
        }
      ]
    },
    {
      "cell_type": "code",
      "source": [
        "def if_mul(x):\n",
        "  if x>4:\n",
        "    return x*2\n",
        "  else:\n",
        "    return x"
      ],
      "metadata": {
        "id": "Ie66xAHR8X7H"
      },
      "execution_count": 618,
      "outputs": []
    },
    {
      "cell_type": "code",
      "source": [
        "list(map(if_mul,list2))"
      ],
      "metadata": {
        "colab": {
          "base_uri": "https://localhost:8080/"
        },
        "id": "QJvwRlsS8zxT",
        "outputId": "9083ad15-43f2-4b6c-fb95-1ba1e114de4e"
      },
      "execution_count": 619,
      "outputs": [
        {
          "output_type": "execute_result",
          "data": {
            "text/plain": [
              "[1, 2, 3, 4, 10, 12, 14]"
            ]
          },
          "metadata": {},
          "execution_count": 619
        }
      ]
    },
    {
      "cell_type": "markdown",
      "source": [
        "## Python Notes – Error Handling (try-except-else-finally)\n",
        "\n",
        "---\n",
        "\n",
        "### * Basic Try-Except\n",
        "\n",
        "* Use `try` to test a block of code for errors.\n",
        "* Use `except` to handle the error if it occurs.\n",
        "\n",
        "```python\n",
        "try:\n",
        "    result = 100 / 0\n",
        "except:\n",
        "    print(\"Something went wrong\")\n",
        "```\n",
        "\n",
        "---\n",
        "\n",
        "### * Catch Specific Exceptions\n",
        "\n",
        "* You can specify which exception to catch.\n",
        "\n",
        "```python\n",
        "try:\n",
        "    result = 100 / 0\n",
        "except ZeroDivisionError:\n",
        "    print(\"You cannot divide by zero\")\n",
        "```\n",
        "\n",
        "---\n",
        "\n",
        "### * Multiple Except Blocks\n",
        "\n",
        "* Handle different types of exceptions separately.\n",
        "\n",
        "```python\n",
        "try:\n",
        "    result = 100 / 'a'\n",
        "except ZeroDivisionError:\n",
        "    print(\"You cannot divide by zero\")\n",
        "except TypeError:\n",
        "    print(\"Incompatible types\")\n",
        "```\n",
        "\n",
        "---\n",
        "\n",
        "### * Using Else\n",
        "\n",
        "* Runs only if the `try` block **does not raise an error**.\n",
        "\n",
        "```python\n",
        "try:\n",
        "    result = 100 / 2\n",
        "except ZeroDivisionError:\n",
        "    print(\"Division error\")\n",
        "else:\n",
        "    print(\"Everything went well\")\n",
        "```\n",
        "\n",
        "---\n",
        "\n",
        "### * Using Finally\n",
        "\n",
        "* Runs **no matter what** (error or no error).\n",
        "\n",
        "```python\n",
        "try:\n",
        "    result = 100 / 0\n",
        "except ZeroDivisionError:\n",
        "    print(\"Division by zero\")\n",
        "finally:\n",
        "    print(\"This will always print\")\n",
        "```\n",
        "\n",
        "---\n",
        "\n",
        "### * Summary\n",
        "\n",
        "* `try`: Wrap risky code\n",
        "* `except`: Handle exceptions\n",
        "* `else`: Runs if no exceptions occur\n",
        "* `finally`: Always runs (used for cleanup tasks)"
      ],
      "metadata": {
        "id": "sAmHnEjd93Qe"
      }
    },
    {
      "cell_type": "code",
      "source": [
        "print(100/10)"
      ],
      "metadata": {
        "colab": {
          "base_uri": "https://localhost:8080/"
        },
        "id": "bq0cWD3892yx",
        "outputId": "ad62acc3-1563-4a10-b96c-127e7b55139e"
      },
      "execution_count": 620,
      "outputs": [
        {
          "output_type": "stream",
          "name": "stdout",
          "text": [
            "10.0\n"
          ]
        }
      ]
    },
    {
      "cell_type": "code",
      "source": [
        "#print(100/0)"
      ],
      "metadata": {
        "id": "0rGPFlnP-DmB"
      },
      "execution_count": 621,
      "outputs": []
    },
    {
      "cell_type": "code",
      "source": [
        "try:\n",
        "  print(100/0)\n",
        "except:\n",
        "  print('you cant divide by zero')"
      ],
      "metadata": {
        "colab": {
          "base_uri": "https://localhost:8080/"
        },
        "id": "koFw4ARb-FCY",
        "outputId": "627afd5e-867b-4ce0-feba-2c39cc626ce7"
      },
      "execution_count": 622,
      "outputs": [
        {
          "output_type": "stream",
          "name": "stdout",
          "text": [
            "you cant divide by zero\n"
          ]
        }
      ]
    },
    {
      "cell_type": "code",
      "source": [
        "try:\n",
        "  print(100/0)\n",
        "except ZeroDivisionError:\n",
        "  print('you cant divide by zero')\n",
        "else:\n",
        "  print('no error')\n"
      ],
      "metadata": {
        "colab": {
          "base_uri": "https://localhost:8080/"
        },
        "id": "SMgMiG9h-Jme",
        "outputId": "48d403f9-dd87-4745-e672-0b63b7938299"
      },
      "execution_count": 623,
      "outputs": [
        {
          "output_type": "stream",
          "name": "stdout",
          "text": [
            "you cant divide by zero\n"
          ]
        }
      ]
    },
    {
      "cell_type": "code",
      "source": [
        "try:\n",
        "  print(100/3)\n",
        "except ZeroDivisionError:\n",
        "  print('you cant divide by zero')\n",
        "else:\n",
        "  print('no error')\n"
      ],
      "metadata": {
        "colab": {
          "base_uri": "https://localhost:8080/"
        },
        "id": "QTaf6jhw-cmc",
        "outputId": "2c2c9d8d-4198-4c6e-a277-f68e1ea94883"
      },
      "execution_count": 624,
      "outputs": [
        {
          "output_type": "stream",
          "name": "stdout",
          "text": [
            "33.333333333333336\n",
            "no error\n"
          ]
        }
      ]
    },
    {
      "cell_type": "code",
      "source": [
        "try:\n",
        "  print(100/3)\n",
        "except ZeroDivisionError:\n",
        "  print('you cant divide by zero')\n",
        "else:\n",
        "  print('no error')\n",
        "finally:\n",
        "  print('This will always print')"
      ],
      "metadata": {
        "colab": {
          "base_uri": "https://localhost:8080/"
        },
        "id": "cpGYwL9T-naZ",
        "outputId": "458c7f4c-cd04-41ab-a00b-a9b4e0dac301"
      },
      "execution_count": 625,
      "outputs": [
        {
          "output_type": "stream",
          "name": "stdout",
          "text": [
            "33.333333333333336\n",
            "no error\n",
            "This will always print\n"
          ]
        }
      ]
    },
    {
      "cell_type": "code",
      "source": [
        "try:\n",
        "  print(100/'hello')\n",
        "except ZeroDivisionError:\n",
        "  print('you cant divide by zero')\n",
        "except TypeError:\n",
        "  print('incompatible type')\n",
        "else:\n",
        "  print('no error')\n",
        "finally:\n",
        "  print('This will always print')"
      ],
      "metadata": {
        "colab": {
          "base_uri": "https://localhost:8080/"
        },
        "id": "4gIeq_-C-yQs",
        "outputId": "a74f612d-84c2-4ee8-cfa0-7cb989acdc6f"
      },
      "execution_count": 626,
      "outputs": [
        {
          "output_type": "stream",
          "name": "stdout",
          "text": [
            "incompatible type\n",
            "This will always print\n"
          ]
        }
      ]
    }
  ]
}